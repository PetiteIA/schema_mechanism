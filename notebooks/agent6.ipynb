{
 "cells": [
  {
   "cell_type": "markdown",
   "id": "23f34084-d4b8-4160-89ad-a927a0919615",
   "metadata": {},
   "source": [
    "[![Open In Colab](https://colab.research.google.com/assets/colab-badge.svg)](https://colab.research.google.com/github/PetiteIA/schema_mechanism/blob/master/notebooks/agent6.ipynb)"
   ]
  },
  {
   "cell_type": "markdown",
   "id": "0bec58b3-e210-4a78-9610-f6615254de29",
   "metadata": {},
   "source": [
    "# THE AGENT WHO CHANGED HIS MIND"
   ]
  },
  {
   "cell_type": "markdown",
   "id": "fe2ef995-42ce-44ba-9f3b-8bfa808b08fe",
   "metadata": {},
   "source": [
    "# Learning objectives"
   ]
  },
  {
   "cell_type": "markdown",
   "id": "de14a47d-ca87-4080-8f84-afcd2bc83170",
   "metadata": {},
   "source": [
    "Upon completing this lab, you will be able to implement a developmental agent that reinforces simple behaviors."
   ]
  },
  {
   "cell_type": "markdown",
   "id": "64a16db8-1bd6-4e82-9cf6-2b37d996ffe8",
   "metadata": {},
   "source": [
    "## Define the necessary classes"
   ]
  },
  {
   "cell_type": "markdown",
   "id": "44155c4a-d038-40b3-be33-e8cf77c5f976",
   "metadata": {},
   "source": [
    "Let's use the same interaction class as Agent4"
   ]
  },
  {
   "cell_type": "code",
   "execution_count": 216,
   "id": "e96c3637-4161-49aa-9f1d-0d3342de92d4",
   "metadata": {},
   "outputs": [],
   "source": [
    "class Interaction:\n",
    "    \"\"\"An interaction is a tuple (action, outcome) with a valence\"\"\"\n",
    "    def __init__(self, action, outcome, valence):\n",
    "        self.action = action\n",
    "        self.outcome = outcome\n",
    "        self.valence = valence\n",
    "\n",
    "    def key(self):\n",
    "        \"\"\" The key to find this interaction in the dictinary is the string '<action><outcome>'. \"\"\"\n",
    "        return f\"{self.action}{self.outcome}\"\n",
    "\n",
    "    def __str__(self):\n",
    "        \"\"\" Print interaction in the form '<action><outcome:<valence>' for debug.\"\"\"\n",
    "        return f\"{self.action}{self.outcome}:{self.valence}\"\n",
    "\n",
    "    def __eq__(self, other):\n",
    "        \"\"\" Interactions are equal if they have the same key \"\"\"\n",
    "        return self.key() == other.key()"
   ]
  },
  {
   "cell_type": "markdown",
   "id": "4d78b979-3758-4f67-af60-107764f8f062",
   "metadata": {},
   "source": [
    "Let's use the same CompositeInteraction class as Agent5"
   ]
  },
  {
   "cell_type": "code",
   "execution_count": 217,
   "id": "ef3243d6-1de3-418e-9236-8af0287131da",
   "metadata": {},
   "outputs": [],
   "source": [
    "class CompositeInteraction:\n",
    "    \"\"\"A composite interaction is a tuple (pre_interaction, post_interaction) and a weight\"\"\"\n",
    "    def __init__(self, pre_interaction, post_interaction):\n",
    "        self.pre_interaction = pre_interaction\n",
    "        self.post_interaction = post_interaction\n",
    "        self.weight = 1\n",
    "        self.isActivated = False\n",
    "\n",
    "    def get_valence(self):\n",
    "        \"\"\"Return the valence of the pre_interaction plus the valence of the post_interaction\"\"\"\n",
    "        return self.pre_interaction.get_valence() + self.post_interaction.get_valence()\n",
    "\n",
    "    def reinforce(self):\n",
    "        \"\"\"Increment the composite interaction's weight\"\"\"\n",
    "        self.weight += 1\n",
    "\n",
    "    def key(self):\n",
    "        \"\"\" The key to find this interaction in the dictionary is the string '<pre_interaction><post_interaction>'. \"\"\"\n",
    "        return f\"({self.pre_interaction.key()},{self.post_interaction.key()})\"\n",
    "\n",
    "    def __str__(self):\n",
    "        \"\"\" Print the interaction in the Newick tree format (pre_interaction, post_interaction: valence) \"\"\"\n",
    "        return f\"({self.pre_interaction}, {self.post_interaction}: {self.weight})\"\n",
    "\n",
    "    def __hash__(self):\n",
    "        \"\"\" The hash is necessary to use interactions as keys in a dictionary \"\"\"\n",
    "        return self.key()\n",
    "\n",
    "    def __eq__(self, other):\n",
    "        \"\"\" Interactions are equal if they have the same pre and post interactions \"\"\"\n",
    "        if isinstance(other, self.__class__):\n",
    "            return (self.pre_interaction == other.pre_interaction) and (self.post_interaction == other.post_interaction)\n",
    "        else:\n",
    "            return False"
   ]
  },
  {
   "cell_type": "markdown",
   "id": "152512a3-ef97-473a-91a7-9a36fe70ba33",
   "metadata": {},
   "source": [
    "## Define the Agent class"
   ]
  },
  {
   "cell_type": "markdown",
   "id": "5d0b81c3-5671-4ec6-bb7d-9db4f99c7c0b",
   "metadata": {},
   "source": [
    "Let's install the libraray Pandas \n",
    "\n",
    "Agent 6 uses it to compute the selection of the next intended interaction. "
   ]
  },
  {
   "cell_type": "code",
   "execution_count": 218,
   "id": "44a7e5da-0188-4924-92f4-3ecbfc2fce5f",
   "metadata": {},
   "outputs": [
    {
     "name": "stdout",
     "output_type": "stream",
     "text": [
      "Requirement already satisfied: pandas in c:\\users\\ogeorgeon\\appdata\\local\\programs\\python\\python39\\lib\\site-packages (2.2.2)\n",
      "Requirement already satisfied: numpy>=1.22.4 in c:\\users\\ogeorgeon\\appdata\\local\\programs\\python\\python39\\lib\\site-packages (from pandas) (1.26.4)\n",
      "Requirement already satisfied: python-dateutil>=2.8.2 in c:\\users\\ogeorgeon\\appdata\\local\\programs\\python\\python39\\lib\\site-packages (from pandas) (2.8.2)\n",
      "Requirement already satisfied: pytz>=2020.1 in c:\\users\\ogeorgeon\\appdata\\local\\programs\\python\\python39\\lib\\site-packages (from pandas) (2024.1)\n",
      "Requirement already satisfied: tzdata>=2022.7 in c:\\users\\ogeorgeon\\appdata\\local\\programs\\python\\python39\\lib\\site-packages (from pandas) (2024.1)\n",
      "Requirement already satisfied: six>=1.5 in c:\\users\\ogeorgeon\\appdata\\local\\programs\\python\\python39\\lib\\site-packages (from python-dateutil>=2.8.2->pandas) (1.16.0)\n"
     ]
    },
    {
     "name": "stderr",
     "output_type": "stream",
     "text": [
      "\n",
      "[notice] A new release of pip is available: 24.1.2 -> 24.2\n",
      "[notice] To update, run: python.exe -m pip install --upgrade pip\n"
     ]
    }
   ],
   "source": [
    "!pip install pandas"
   ]
  },
  {
   "cell_type": "markdown",
   "id": "d0d65a49-9e8a-4834-b064-d9fff651abdc",
   "metadata": {},
   "source": [
    "Now we create the Agent6 class"
   ]
  },
  {
   "cell_type": "code",
   "execution_count": 219,
   "id": "3f0bf369-48ef-48d7-a92b-3c7ef8dc1daf",
   "metadata": {},
   "outputs": [],
   "source": [
    "import pandas as pd\n",
    "\n",
    "class Agent6:\n",
    "    def __init__(self, _interactions):\n",
    "        \"\"\" Initialize our agent \"\"\"\n",
    "        self._interactions = {interaction.key(): interaction for interaction in _interactions}\n",
    "        self._composite_interactions = {}\n",
    "        self._intended_interaction = self._interactions[\"00\"]\n",
    "        self._last_interaction = None\n",
    "        self._previous_interaction = None\n",
    "        pd.set_option('display.max_columns', 8)\n",
    "        default_interactions = [interaction for interaction in _interactions if interaction.outcome == 0]\n",
    "        data = {'post_action': [i.action for i in default_interactions],\n",
    "                'weight': [0] * len(default_interactions),\n",
    "                'proclivity': [0] * len(default_interactions),\n",
    "                'post_interaction': [i.key() for i in default_interactions]}\n",
    "        self.default_df = pd.DataFrame(data)\n",
    "        self.df = self.default_df.copy()\n",
    "\n",
    "    def action(self, _outcome):\n",
    "        \"\"\"Implement the agent's policy\"\"\"\n",
    "        # tracing the previous cycle\n",
    "        self._previous_interaction = self._last_interaction\n",
    "        self._last_interaction = self._interactions[f\"{self._intended_interaction.action}{_outcome}\"]\n",
    "        print(f\"Action: {self._intended_interaction.action}, Prediction: {self._intended_interaction.outcome}, \"\n",
    "              f\"Outcome: {_outcome}, Prediction_correct: {self._intended_interaction.outcome == _outcome}, \"\n",
    "              f\"Valence: {self._last_interaction.valence}\")\n",
    "\n",
    "        # Recording previous composite interaction\n",
    "        if self._previous_interaction is not None:\n",
    "            composite_interaction = CompositeInteraction(self._previous_interaction, self._last_interaction)\n",
    "            if composite_interaction.key() not in self._composite_interactions:\n",
    "                self._composite_interactions[composite_interaction.key()] = composite_interaction\n",
    "                print(f\"Learning {composite_interaction}\")\n",
    "            else:\n",
    "                self._composite_interactions[composite_interaction.key()].reinforce()\n",
    "                print(f\"Reinforcing {self._composite_interactions[composite_interaction.key()]}\")\n",
    "\n",
    "        activated_keys = \\\n",
    "            [ci.key() for ci in self._composite_interactions.values() if ci.pre_interaction == self._last_interaction]\n",
    "\n",
    "        data = {'composite': activated_keys,\n",
    "                'weight': [self._composite_interactions[k].weight for k in activated_keys],\n",
    "                'post_valence': [self._composite_interactions[k].post_interaction.valence for k in activated_keys],\n",
    "                'post_action': [self._composite_interactions[k].post_interaction.action for k in activated_keys],\n",
    "                'post_interaction': [self._composite_interactions[k].post_interaction.key() for k in activated_keys]\n",
    "                }\n",
    "        df = pd.DataFrame(data)\n",
    "\n",
    "        # Add the actions by default\n",
    "        df = pd.concat([self.default_df, df], ignore_index=True)\n",
    "\n",
    "        # Compute the proclivity for each action\n",
    "        df['proclivity'] = df['weight'] * df['post_valence']\n",
    "        grouped_df = df.groupby('post_action').agg({'proclivity': 'sum'}).reset_index()\n",
    "        df = df.merge(grouped_df, on='post_action', suffixes=('', '_sum'))\n",
    "\n",
    "        # Find the most probable outcome for each action\n",
    "        max_weight_df = df.loc[df.groupby('post_action')['weight'].idxmax(), ['post_action', 'post_interaction']].reset_index(drop=True)\n",
    "        max_weight_df.columns = ['post_action', 'intended']\n",
    "        df = df.merge(max_weight_df, on='post_action')\n",
    "\n",
    "        df = df.drop(['post_interaction'], axis=1)\n",
    "        # df = df.rename(columns={'proclivity_sum': 'proclivity'})\n",
    "        # print(df)\n",
    "        # print(df[['composite', 'weight', 'post_valence', 'post_action', 'proclivity', 'intended']])\n",
    "\n",
    "        # Find the first row that has the highest proclivity\n",
    "        max_index = df['proclivity_sum'].idxmax()\n",
    "        intended_interaction = df.loc[max_index, ['intended']].values[0]\n",
    "        self._intended_interaction = self._interactions[intended_interaction]\n",
    "        print(\"Intended\", self._intended_interaction)\n",
    "\n",
    "        self.df = df.copy()\n",
    "        \n",
    "        return self._intended_interaction.action\n"
   ]
  },
  {
   "cell_type": "markdown",
   "id": "3019f138-a218-44b2-964a-8095fbe891a7",
   "metadata": {},
   "source": [
    "# PRELIMINARY EXERCISE"
   ]
  },
  {
   "cell_type": "markdown",
   "id": "2c7f2924-f597-4d34-bc96-3602dc4460b7",
   "metadata": {},
   "source": [
    "Let's test this agent in Environment3"
   ]
  },
  {
   "cell_type": "code",
   "execution_count": 220,
   "id": "5bf9a4ba-2703-49e9-a63f-b72c08b8663c",
   "metadata": {},
   "outputs": [],
   "source": [
    "class Environment3:\n",
    "    \"\"\" Environment 3 yields outcome 1 only when the agent alternates actions 0 and 1 \"\"\"\n",
    "    def __init__(self):\n",
    "        \"\"\" Initializing Environment3 \"\"\"\n",
    "        self.previous_action = 0\n",
    "\n",
    "    def outcome(self, _action):\n",
    "        if _action == self.previous_action:\n",
    "            _outcome = 0\n",
    "        else:\n",
    "            _outcome = 1\n",
    "        self.previous_action = _action\n",
    "        return _outcome"
   ]
  },
  {
   "cell_type": "markdown",
   "id": "869ce510-9438-47d1-ac88-ab79c063d592",
   "metadata": {},
   "source": [
    "Initialize the simulation"
   ]
  },
  {
   "cell_type": "code",
   "execution_count": 221,
   "id": "6f6d76df-89e4-4ab3-a327-afa813a27325",
   "metadata": {},
   "outputs": [],
   "source": [
    "# Instanciate a new agent\n",
    "interactions = [\n",
    "    Interaction(0,0,-1),\n",
    "    Interaction(0,1,1),\n",
    "    Interaction(1,0,-1),\n",
    "    Interaction(1,1,1),\n",
    "    Interaction(2,0,-1),\n",
    "    Interaction(2,1,1)\n",
    "]\n",
    "a = Agent6(interactions)\n",
    "e = Environment3()\n",
    "\n",
    "# Run the interaction loop\n",
    "step = 0\n",
    "outcome = 0"
   ]
  },
  {
   "cell_type": "markdown",
   "id": "6fdf97eb-7aca-4157-ba8e-3e97f2b85ae1",
   "metadata": {},
   "source": [
    "Run the simulation step by step to see the action selection table. Use `Ctrl+Enter` to run the cell and stay on the same cell."
   ]
  },
  {
   "cell_type": "code",
   "execution_count": 222,
   "id": "5b044b4d-162e-4491-929c-a73eb584dcd1",
   "metadata": {},
   "outputs": [
    {
     "name": "stdout",
     "output_type": "stream",
     "text": [
      "Step 0\n",
      "Action: 0, Prediction: 0, Outcome: 0, Prediction_correct: True, Valence: -1\n",
      "Intended 00:-1\n"
     ]
    },
    {
     "data": {
      "text/html": [
       "<div>\n",
       "<style scoped>\n",
       "    .dataframe tbody tr th:only-of-type {\n",
       "        vertical-align: middle;\n",
       "    }\n",
       "\n",
       "    .dataframe tbody tr th {\n",
       "        vertical-align: top;\n",
       "    }\n",
       "\n",
       "    .dataframe thead th {\n",
       "        text-align: right;\n",
       "    }\n",
       "</style>\n",
       "<table border=\"1\" class=\"dataframe\">\n",
       "  <thead>\n",
       "    <tr style=\"text-align: right;\">\n",
       "      <th></th>\n",
       "      <th>composite</th>\n",
       "      <th>weight</th>\n",
       "      <th>post_valence</th>\n",
       "      <th>post_action</th>\n",
       "      <th>proclivity</th>\n",
       "      <th>proclivity_sum</th>\n",
       "      <th>intended</th>\n",
       "    </tr>\n",
       "  </thead>\n",
       "  <tbody>\n",
       "    <tr>\n",
       "      <th>0</th>\n",
       "      <td>NaN</td>\n",
       "      <td>0.0</td>\n",
       "      <td>NaN</td>\n",
       "      <td>0.0</td>\n",
       "      <td>NaN</td>\n",
       "      <td>0.0</td>\n",
       "      <td>00</td>\n",
       "    </tr>\n",
       "    <tr>\n",
       "      <th>1</th>\n",
       "      <td>NaN</td>\n",
       "      <td>0.0</td>\n",
       "      <td>NaN</td>\n",
       "      <td>1.0</td>\n",
       "      <td>NaN</td>\n",
       "      <td>0.0</td>\n",
       "      <td>10</td>\n",
       "    </tr>\n",
       "    <tr>\n",
       "      <th>2</th>\n",
       "      <td>NaN</td>\n",
       "      <td>0.0</td>\n",
       "      <td>NaN</td>\n",
       "      <td>2.0</td>\n",
       "      <td>NaN</td>\n",
       "      <td>0.0</td>\n",
       "      <td>20</td>\n",
       "    </tr>\n",
       "  </tbody>\n",
       "</table>\n",
       "</div>"
      ],
      "text/plain": [
       "   composite  weight  post_valence  post_action  proclivity  proclivity_sum  \\\n",
       "0        NaN     0.0           NaN          0.0         NaN             0.0   \n",
       "1        NaN     0.0           NaN          1.0         NaN             0.0   \n",
       "2        NaN     0.0           NaN          2.0         NaN             0.0   \n",
       "\n",
       "  intended  \n",
       "0       00  \n",
       "1       10  \n",
       "2       20  "
      ]
     },
     "execution_count": 222,
     "metadata": {},
     "output_type": "execute_result"
    }
   ],
   "source": [
    "print(f\"Step {step}\")\n",
    "step += 1\n",
    "action = a.action(outcome)\n",
    "outcome = e.outcome(action)\n",
    "a.df[['composite', 'weight', 'post_valence', 'post_action', 'proclivity', 'proclivity_sum', 'intended']]"
   ]
  },
  {
   "cell_type": "markdown",
   "id": "f9daa278-434e-43ce-8520-8fabef69cd83",
   "metadata": {},
   "source": [
    "Observe the interaction selecting table above. \n",
    "\n",
    "Each activated composite interaction proposes its post_action with proclity equals to the composite interaction's weight multiplied by the post interactions' valence. \n",
    "\n",
    "The proclivities are summed for each action. The action that has the hiest sum proclivity is selected."
   ]
  },
  {
   "cell_type": "markdown",
   "id": "0d50d96e-4f12-4531-a122-9d13d8bd8639",
   "metadata": {},
   "source": [
    "# ASSIGNMENT"
   ]
  },
  {
   "cell_type": "markdown",
   "id": "199faee9-a546-4d86-8e09-484bf2212523",
   "metadata": {},
   "source": [
    "Implement Agent6 that learns higher levels of composite interactions."
   ]
  },
  {
   "cell_type": "markdown",
   "id": "d2e95995-8077-46ed-a03d-e318623cb82b",
   "metadata": {},
   "source": [
    "![Agent5](img/Agent6.png)"
   ]
  },
  {
   "cell_type": "markdown",
   "id": "742aecbc-5e94-4cc6-bf5d-1b6c12bde814",
   "metadata": {},
   "source": [
    "Figure 1: The agent records and reinforce composite interactions as tuples $(i_{t-2}, i_{t-1}: weight)$. The last enacted interaction $i_{t-1}$ activates previously-learned composite interactions that propose the action of their post interaction."
   ]
  },
  {
   "cell_type": "markdown",
   "id": "73a7fa66-bc71-44bf-85ff-716842a24aad",
   "metadata": {},
   "source": [
    "## Test Agent6 in the turtle environment"
   ]
  },
  {
   "cell_type": "code",
   "execution_count": 223,
   "id": "991de95f-e2d4-4638-a7f8-55de36eb3617",
   "metadata": {},
   "outputs": [
    {
     "name": "stdout",
     "output_type": "stream",
     "text": [
      "Requirement already satisfied: ColabTurtle in c:\\users\\ogeorgeon\\appdata\\local\\programs\\python\\python39\\lib\\site-packages (2.1.0)\n"
     ]
    },
    {
     "name": "stderr",
     "output_type": "stream",
     "text": [
      "\n",
      "[notice] A new release of pip is available: 24.1.2 -> 24.2\n",
      "[notice] To update, run: python.exe -m pip install --upgrade pip\n"
     ]
    }
   ],
   "source": [
    "# @title Install the turtle environment\n",
    "!pip3 install ColabTurtle\n",
    "from ColabTurtle.Turtle import *"
   ]
  },
  {
   "cell_type": "code",
   "execution_count": 224,
   "id": "f35913a4-4426-4e50-ba74-6790e579fb80",
   "metadata": {},
   "outputs": [],
   "source": [
    "# @title Initialize the turtle environment\n",
    "\n",
    "BORDER_WIDTH = 20\n",
    "\n",
    "class ColabTurtleEnvironment:\n",
    "\n",
    "    def __init__(self):\n",
    "        \"\"\" Creating the Turtle window \"\"\"\n",
    "        bgcolor(\"lightGray\")\n",
    "        penup()\n",
    "        goto(window_width() / 2, window_height()/2)\n",
    "        face(0)\n",
    "        pendown()\n",
    "        color(\"green\")\n",
    "\n",
    "    def outcome(self, action):\n",
    "        \"\"\" Enacting an action and returning the outcome \"\"\"\n",
    "        _outcome = 0\n",
    "        for i in range(10):\n",
    "            # _outcome = 0\n",
    "            if action == 0:\n",
    "                # move forward\n",
    "                forward(10)\n",
    "            elif action == 1:\n",
    "                # rotate left\n",
    "                left(4)\n",
    "                forward(2)\n",
    "            elif action == 2:\n",
    "                # rotate right\n",
    "                right(4)\n",
    "                forward(2)\n",
    "\n",
    "            # Bump on screen edge and return outcome 1\n",
    "            if xcor() < BORDER_WIDTH:\n",
    "                goto(BORDER_WIDTH, ycor())\n",
    "                _outcome = 1\n",
    "            if xcor() > window_width() - BORDER_WIDTH:\n",
    "                goto(window_width() - BORDER_WIDTH, ycor())\n",
    "                _outcome = 1\n",
    "            if ycor() < BORDER_WIDTH:\n",
    "                goto(xcor(), BORDER_WIDTH)\n",
    "                _outcome = 1\n",
    "            if ycor() > window_height() - BORDER_WIDTH:\n",
    "                goto(xcor(), window_height() -BORDER_WIDTH)\n",
    "                _outcome = 1\n",
    "\n",
    "            # Change color\n",
    "            if _outcome == 0:\n",
    "                color(\"green\")\n",
    "            else:\n",
    "                # Finit l'interaction\n",
    "                color(\"red\")\n",
    "                # if action == 0:\n",
    "                #     break\n",
    "                if action == 1:\n",
    "                    for j in range(10):\n",
    "                        left(4)\n",
    "                elif action == 2:\n",
    "                    for j in range(10):\n",
    "                        right(4)\n",
    "                break\n",
    "\n",
    "        return _outcome"
   ]
  },
  {
   "cell_type": "code",
   "execution_count": 227,
   "id": "5fb4b183-a761-47c8-a3a5-957467dd5675",
   "metadata": {},
   "outputs": [
    {
     "data": {
      "text/html": [
       "\n",
       "      <svg width=\"800\" height=\"500\">\n",
       "        <rect width=\"100%\" height=\"100%\" fill=\"lightgray\"/>\n",
       "        <line x1=\"400.0\" y1=\"250.0\" x2=\"410.0\" y2=\"250.0\" stroke-linecap=\"round\" style=\"stroke:green;stroke-width:4\"/><line x1=\"410.0\" y1=\"250.0\" x2=\"420.0\" y2=\"250.0\" stroke-linecap=\"round\" style=\"stroke:green;stroke-width:4\"/><line x1=\"420.0\" y1=\"250.0\" x2=\"430.0\" y2=\"250.0\" stroke-linecap=\"round\" style=\"stroke:green;stroke-width:4\"/><line x1=\"430.0\" y1=\"250.0\" x2=\"440.0\" y2=\"250.0\" stroke-linecap=\"round\" style=\"stroke:green;stroke-width:4\"/><line x1=\"440.0\" y1=\"250.0\" x2=\"450.0\" y2=\"250.0\" stroke-linecap=\"round\" style=\"stroke:green;stroke-width:4\"/><line x1=\"450.0\" y1=\"250.0\" x2=\"460.0\" y2=\"250.0\" stroke-linecap=\"round\" style=\"stroke:green;stroke-width:4\"/><line x1=\"460.0\" y1=\"250.0\" x2=\"470.0\" y2=\"250.0\" stroke-linecap=\"round\" style=\"stroke:green;stroke-width:4\"/><line x1=\"470.0\" y1=\"250.0\" x2=\"480.0\" y2=\"250.0\" stroke-linecap=\"round\" style=\"stroke:green;stroke-width:4\"/><line x1=\"480.0\" y1=\"250.0\" x2=\"490.0\" y2=\"250.0\" stroke-linecap=\"round\" style=\"stroke:green;stroke-width:4\"/><line x1=\"490.0\" y1=\"250.0\" x2=\"500.0\" y2=\"250.0\" stroke-linecap=\"round\" style=\"stroke:green;stroke-width:4\"/><line x1=\"500.0\" y1=\"250.0\" x2=\"510.0\" y2=\"250.0\" stroke-linecap=\"round\" style=\"stroke:green;stroke-width:4\"/><line x1=\"510.0\" y1=\"250.0\" x2=\"520.0\" y2=\"250.0\" stroke-linecap=\"round\" style=\"stroke:green;stroke-width:4\"/><line x1=\"520.0\" y1=\"250.0\" x2=\"530.0\" y2=\"250.0\" stroke-linecap=\"round\" style=\"stroke:green;stroke-width:4\"/><line x1=\"530.0\" y1=\"250.0\" x2=\"540.0\" y2=\"250.0\" stroke-linecap=\"round\" style=\"stroke:green;stroke-width:4\"/><line x1=\"540.0\" y1=\"250.0\" x2=\"550.0\" y2=\"250.0\" stroke-linecap=\"round\" style=\"stroke:green;stroke-width:4\"/><line x1=\"550.0\" y1=\"250.0\" x2=\"560.0\" y2=\"250.0\" stroke-linecap=\"round\" style=\"stroke:green;stroke-width:4\"/><line x1=\"560.0\" y1=\"250.0\" x2=\"570.0\" y2=\"250.0\" stroke-linecap=\"round\" style=\"stroke:green;stroke-width:4\"/><line x1=\"570.0\" y1=\"250.0\" x2=\"580.0\" y2=\"250.0\" stroke-linecap=\"round\" style=\"stroke:green;stroke-width:4\"/><line x1=\"580.0\" y1=\"250.0\" x2=\"590.0\" y2=\"250.0\" stroke-linecap=\"round\" style=\"stroke:green;stroke-width:4\"/><line x1=\"590.0\" y1=\"250.0\" x2=\"600.0\" y2=\"250.0\" stroke-linecap=\"round\" style=\"stroke:green;stroke-width:4\"/><line x1=\"600.0\" y1=\"250.0\" x2=\"610.0\" y2=\"250.0\" stroke-linecap=\"round\" style=\"stroke:green;stroke-width:4\"/><line x1=\"610.0\" y1=\"250.0\" x2=\"620.0\" y2=\"250.0\" stroke-linecap=\"round\" style=\"stroke:green;stroke-width:4\"/><line x1=\"620.0\" y1=\"250.0\" x2=\"630.0\" y2=\"250.0\" stroke-linecap=\"round\" style=\"stroke:green;stroke-width:4\"/><line x1=\"630.0\" y1=\"250.0\" x2=\"640.0\" y2=\"250.0\" stroke-linecap=\"round\" style=\"stroke:green;stroke-width:4\"/><line x1=\"640.0\" y1=\"250.0\" x2=\"650.0\" y2=\"250.0\" stroke-linecap=\"round\" style=\"stroke:green;stroke-width:4\"/><line x1=\"650.0\" y1=\"250.0\" x2=\"660.0\" y2=\"250.0\" stroke-linecap=\"round\" style=\"stroke:green;stroke-width:4\"/><line x1=\"660.0\" y1=\"250.0\" x2=\"670.0\" y2=\"250.0\" stroke-linecap=\"round\" style=\"stroke:green;stroke-width:4\"/><line x1=\"670.0\" y1=\"250.0\" x2=\"680.0\" y2=\"250.0\" stroke-linecap=\"round\" style=\"stroke:green;stroke-width:4\"/><line x1=\"680.0\" y1=\"250.0\" x2=\"690.0\" y2=\"250.0\" stroke-linecap=\"round\" style=\"stroke:green;stroke-width:4\"/><line x1=\"690.0\" y1=\"250.0\" x2=\"700.0\" y2=\"250.0\" stroke-linecap=\"round\" style=\"stroke:green;stroke-width:4\"/><line x1=\"700.0\" y1=\"250.0\" x2=\"710.0\" y2=\"250.0\" stroke-linecap=\"round\" style=\"stroke:green;stroke-width:4\"/><line x1=\"710.0\" y1=\"250.0\" x2=\"720.0\" y2=\"250.0\" stroke-linecap=\"round\" style=\"stroke:green;stroke-width:4\"/><line x1=\"720.0\" y1=\"250.0\" x2=\"730.0\" y2=\"250.0\" stroke-linecap=\"round\" style=\"stroke:green;stroke-width:4\"/><line x1=\"730.0\" y1=\"250.0\" x2=\"740.0\" y2=\"250.0\" stroke-linecap=\"round\" style=\"stroke:green;stroke-width:4\"/><line x1=\"740.0\" y1=\"250.0\" x2=\"750.0\" y2=\"250.0\" stroke-linecap=\"round\" style=\"stroke:green;stroke-width:4\"/><line x1=\"750.0\" y1=\"250.0\" x2=\"760.0\" y2=\"250.0\" stroke-linecap=\"round\" style=\"stroke:green;stroke-width:4\"/><line x1=\"760.0\" y1=\"250.0\" x2=\"770.0\" y2=\"250.0\" stroke-linecap=\"round\" style=\"stroke:green;stroke-width:4\"/><line x1=\"770.0\" y1=\"250.0\" x2=\"780.0\" y2=\"250.0\" stroke-linecap=\"round\" style=\"stroke:green;stroke-width:4\"/><line x1=\"780.0\" y1=\"250.0\" x2=\"790.0\" y2=\"250.0\" stroke-linecap=\"round\" style=\"stroke:green;stroke-width:4\"/><line x1=\"790.0\" y1=\"250.0\" x2=\"780\" y2=\"250.0\" stroke-linecap=\"round\" style=\"stroke:green;stroke-width:4\"/><line x1=\"780\" y1=\"250.0\" x2=\"790.0\" y2=\"250.0\" stroke-linecap=\"round\" style=\"stroke:red;stroke-width:4\"/><line x1=\"790.0\" y1=\"250.0\" x2=\"780\" y2=\"250.0\" stroke-linecap=\"round\" style=\"stroke:red;stroke-width:4\"/><line x1=\"780\" y1=\"250.0\" x2=\"781.995\" y2=\"249.86\" stroke-linecap=\"round\" style=\"stroke:red;stroke-width:4\"/><line x1=\"781.995\" y1=\"249.86\" x2=\"780\" y2=\"249.86\" stroke-linecap=\"round\" style=\"stroke:red;stroke-width:4\"/><line x1=\"780\" y1=\"249.86\" x2=\"787.193\" y2=\"242.913\" stroke-linecap=\"round\" style=\"stroke:red;stroke-width:4\"/><line x1=\"787.193\" y1=\"242.913\" x2=\"780\" y2=\"242.913\" stroke-linecap=\"round\" style=\"stroke:red;stroke-width:4\"/><line x1=\"780\" y1=\"242.913\" x2=\"781.532\" y2=\"241.627\" stroke-linecap=\"round\" style=\"stroke:red;stroke-width:4\"/><line x1=\"781.532\" y1=\"241.627\" x2=\"780\" y2=\"241.627\" stroke-linecap=\"round\" style=\"stroke:red;stroke-width:4\"/><line x1=\"780\" y1=\"241.627\" x2=\"790.0\" y2=\"241.627\" stroke-linecap=\"round\" style=\"stroke:red;stroke-width:4\"/><line x1=\"790.0\" y1=\"241.627\" x2=\"780\" y2=\"241.627\" stroke-linecap=\"round\" style=\"stroke:red;stroke-width:4\"/><line x1=\"780\" y1=\"241.627\" x2=\"781.995\" y2=\"241.487\" stroke-linecap=\"round\" style=\"stroke:red;stroke-width:4\"/><line x1=\"781.995\" y1=\"241.487\" x2=\"780\" y2=\"241.487\" stroke-linecap=\"round\" style=\"stroke:red;stroke-width:4\"/><line x1=\"780\" y1=\"241.487\" x2=\"781.338\" y2=\"240.001\" stroke-linecap=\"round\" style=\"stroke:red;stroke-width:4\"/><line x1=\"781.338\" y1=\"240.001\" x2=\"780\" y2=\"240.001\" stroke-linecap=\"round\" style=\"stroke:red;stroke-width:4\"/><line x1=\"780\" y1=\"240.001\" x2=\"780.209\" y2=\"238.012\" stroke-linecap=\"round\" style=\"stroke:red;stroke-width:4\"/><line x1=\"780.209\" y1=\"238.012\" x2=\"780\" y2=\"238.012\" stroke-linecap=\"round\" style=\"stroke:red;stroke-width:4\"/><line x1=\"780\" y1=\"238.012\" x2=\"781.338\" y2=\"236.526\" stroke-linecap=\"round\" style=\"stroke:red;stroke-width:4\"/><line x1=\"781.338\" y1=\"236.526\" x2=\"780\" y2=\"236.526\" stroke-linecap=\"round\" style=\"stroke:red;stroke-width:4\"/><line x1=\"780\" y1=\"236.526\" x2=\"779.93\" y2=\"234.527\" stroke-linecap=\"round\" style=\"stroke:red;stroke-width:4\"/><line x1=\"779.93\" y1=\"234.527\" x2=\"779.721\" y2=\"232.538\" stroke-linecap=\"round\" style=\"stroke:green;stroke-width:4\"/><line x1=\"779.721\" y1=\"232.538\" x2=\"779.374\" y2=\"230.568\" stroke-linecap=\"round\" style=\"stroke:green;stroke-width:4\"/><line x1=\"779.374\" y1=\"230.568\" x2=\"778.89\" y2=\"228.627\" stroke-linecap=\"round\" style=\"stroke:green;stroke-width:4\"/><line x1=\"778.89\" y1=\"228.627\" x2=\"778.272\" y2=\"226.725\" stroke-linecap=\"round\" style=\"stroke:green;stroke-width:4\"/><line x1=\"778.272\" y1=\"226.725\" x2=\"777.523\" y2=\"224.871\" stroke-linecap=\"round\" style=\"stroke:green;stroke-width:4\"/><line x1=\"777.523\" y1=\"224.871\" x2=\"776.646\" y2=\"223.073\" stroke-linecap=\"round\" style=\"stroke:green;stroke-width:4\"/><line x1=\"776.646\" y1=\"223.073\" x2=\"775.646\" y2=\"221.341\" stroke-linecap=\"round\" style=\"stroke:green;stroke-width:4\"/><line x1=\"775.646\" y1=\"221.341\" x2=\"774.528\" y2=\"219.683\" stroke-linecap=\"round\" style=\"stroke:green;stroke-width:4\"/><line x1=\"774.528\" y1=\"219.683\" x2=\"773.297\" y2=\"218.107\" stroke-linecap=\"round\" style=\"stroke:green;stroke-width:4\"/><line x1=\"773.297\" y1=\"218.107\" x2=\"767.14\" y2=\"210.227\" stroke-linecap=\"round\" style=\"stroke:green;stroke-width:4\"/><line x1=\"767.14\" y1=\"210.227\" x2=\"760.983\" y2=\"202.347\" stroke-linecap=\"round\" style=\"stroke:green;stroke-width:4\"/><line x1=\"760.983\" y1=\"202.347\" x2=\"754.826\" y2=\"194.467\" stroke-linecap=\"round\" style=\"stroke:green;stroke-width:4\"/><line x1=\"754.826\" y1=\"194.467\" x2=\"748.669\" y2=\"186.587\" stroke-linecap=\"round\" style=\"stroke:green;stroke-width:4\"/><line x1=\"748.669\" y1=\"186.587\" x2=\"742.512\" y2=\"178.707\" stroke-linecap=\"round\" style=\"stroke:green;stroke-width:4\"/><line x1=\"742.512\" y1=\"178.707\" x2=\"736.355\" y2=\"170.827\" stroke-linecap=\"round\" style=\"stroke:green;stroke-width:4\"/><line x1=\"736.355\" y1=\"170.827\" x2=\"730.198\" y2=\"162.947\" stroke-linecap=\"round\" style=\"stroke:green;stroke-width:4\"/><line x1=\"730.198\" y1=\"162.947\" x2=\"724.041\" y2=\"155.067\" stroke-linecap=\"round\" style=\"stroke:green;stroke-width:4\"/><line x1=\"724.041\" y1=\"155.067\" x2=\"717.884\" y2=\"147.187\" stroke-linecap=\"round\" style=\"stroke:green;stroke-width:4\"/><line x1=\"717.884\" y1=\"147.187\" x2=\"711.727\" y2=\"139.307\" stroke-linecap=\"round\" style=\"stroke:green;stroke-width:4\"/><line x1=\"711.727\" y1=\"139.307\" x2=\"705.57\" y2=\"131.427\" stroke-linecap=\"round\" style=\"stroke:green;stroke-width:4\"/><line x1=\"705.57\" y1=\"131.427\" x2=\"699.413\" y2=\"123.547\" stroke-linecap=\"round\" style=\"stroke:green;stroke-width:4\"/><line x1=\"699.413\" y1=\"123.547\" x2=\"693.256\" y2=\"115.667\" stroke-linecap=\"round\" style=\"stroke:green;stroke-width:4\"/><line x1=\"693.256\" y1=\"115.667\" x2=\"687.099\" y2=\"107.787\" stroke-linecap=\"round\" style=\"stroke:green;stroke-width:4\"/><line x1=\"687.099\" y1=\"107.787\" x2=\"680.942\" y2=\"99.907\" stroke-linecap=\"round\" style=\"stroke:green;stroke-width:4\"/><line x1=\"680.942\" y1=\"99.907\" x2=\"674.785\" y2=\"92.027\" stroke-linecap=\"round\" style=\"stroke:green;stroke-width:4\"/><line x1=\"674.785\" y1=\"92.027\" x2=\"668.628\" y2=\"84.147\" stroke-linecap=\"round\" style=\"stroke:green;stroke-width:4\"/><line x1=\"668.628\" y1=\"84.147\" x2=\"662.471\" y2=\"76.267\" stroke-linecap=\"round\" style=\"stroke:green;stroke-width:4\"/><line x1=\"662.471\" y1=\"76.267\" x2=\"656.314\" y2=\"68.387\" stroke-linecap=\"round\" style=\"stroke:green;stroke-width:4\"/><line x1=\"656.314\" y1=\"68.387\" x2=\"650.157\" y2=\"60.507\" stroke-linecap=\"round\" style=\"stroke:green;stroke-width:4\"/><line x1=\"650.157\" y1=\"60.507\" x2=\"644.0\" y2=\"52.627\" stroke-linecap=\"round\" style=\"stroke:green;stroke-width:4\"/><line x1=\"644.0\" y1=\"52.627\" x2=\"637.843\" y2=\"44.747\" stroke-linecap=\"round\" style=\"stroke:green;stroke-width:4\"/><line x1=\"637.843\" y1=\"44.747\" x2=\"631.686\" y2=\"36.867\" stroke-linecap=\"round\" style=\"stroke:green;stroke-width:4\"/><line x1=\"631.686\" y1=\"36.867\" x2=\"625.529\" y2=\"28.987\" stroke-linecap=\"round\" style=\"stroke:green;stroke-width:4\"/><line x1=\"625.529\" y1=\"28.987\" x2=\"619.372\" y2=\"21.107\" stroke-linecap=\"round\" style=\"stroke:green;stroke-width:4\"/><line x1=\"619.372\" y1=\"21.107\" x2=\"613.215\" y2=\"13.227\" stroke-linecap=\"round\" style=\"stroke:green;stroke-width:4\"/><line x1=\"613.215\" y1=\"13.227\" x2=\"613.215\" y2=\"20\" stroke-linecap=\"round\" style=\"stroke:green;stroke-width:4\"/><line x1=\"613.215\" y1=\"20\" x2=\"611.877\" y2=\"18.514\" stroke-linecap=\"round\" style=\"stroke:red;stroke-width:4\"/><line x1=\"611.877\" y1=\"18.514\" x2=\"611.877\" y2=\"20\" stroke-linecap=\"round\" style=\"stroke:red;stroke-width:4\"/><line x1=\"611.877\" y1=\"20\" x2=\"609.882\" y2=\"19.86\" stroke-linecap=\"round\" style=\"stroke:red;stroke-width:4\"/><line x1=\"609.882\" y1=\"19.86\" x2=\"609.882\" y2=\"20\" stroke-linecap=\"round\" style=\"stroke:red;stroke-width:4\"/><line x1=\"609.882\" y1=\"20\" x2=\"608.186\" y2=\"21.06\" stroke-linecap=\"round\" style=\"stroke:red;stroke-width:4\"/><line x1=\"608.186\" y1=\"21.06\" x2=\"606.42\" y2=\"21.999\" stroke-linecap=\"round\" style=\"stroke:green;stroke-width:4\"/><line x1=\"606.42\" y1=\"21.999\" x2=\"604.593\" y2=\"22.812\" stroke-linecap=\"round\" style=\"stroke:green;stroke-width:4\"/><line x1=\"604.593\" y1=\"22.812\" x2=\"602.714\" y2=\"23.496\" stroke-linecap=\"round\" style=\"stroke:green;stroke-width:4\"/><line x1=\"602.714\" y1=\"23.496\" x2=\"600.791\" y2=\"24.047\" stroke-linecap=\"round\" style=\"stroke:green;stroke-width:4\"/><line x1=\"600.791\" y1=\"24.047\" x2=\"598.835\" y2=\"24.463\" stroke-linecap=\"round\" style=\"stroke:green;stroke-width:4\"/><line x1=\"598.835\" y1=\"24.463\" x2=\"596.854\" y2=\"24.741\" stroke-linecap=\"round\" style=\"stroke:green;stroke-width:4\"/><line x1=\"596.854\" y1=\"24.741\" x2=\"594.859\" y2=\"24.881\" stroke-linecap=\"round\" style=\"stroke:green;stroke-width:4\"/><line x1=\"594.859\" y1=\"24.881\" x2=\"592.859\" y2=\"24.881\" stroke-linecap=\"round\" style=\"stroke:green;stroke-width:4\"/><line x1=\"592.859\" y1=\"24.881\" x2=\"590.864\" y2=\"24.741\" stroke-linecap=\"round\" style=\"stroke:green;stroke-width:4\"/><line x1=\"590.864\" y1=\"24.741\" x2=\"580.888\" y2=\"24.043\" stroke-linecap=\"round\" style=\"stroke:green;stroke-width:4\"/><line x1=\"580.888\" y1=\"24.043\" x2=\"570.912\" y2=\"23.345\" stroke-linecap=\"round\" style=\"stroke:green;stroke-width:4\"/><line x1=\"570.912\" y1=\"23.345\" x2=\"560.936\" y2=\"22.647\" stroke-linecap=\"round\" style=\"stroke:green;stroke-width:4\"/><line x1=\"560.936\" y1=\"22.647\" x2=\"550.96\" y2=\"21.949\" stroke-linecap=\"round\" style=\"stroke:green;stroke-width:4\"/><line x1=\"550.96\" y1=\"21.949\" x2=\"540.984\" y2=\"21.251\" stroke-linecap=\"round\" style=\"stroke:green;stroke-width:4\"/><line x1=\"540.984\" y1=\"21.251\" x2=\"531.008\" y2=\"20.553\" stroke-linecap=\"round\" style=\"stroke:green;stroke-width:4\"/><line x1=\"531.008\" y1=\"20.553\" x2=\"521.032\" y2=\"19.855\" stroke-linecap=\"round\" style=\"stroke:green;stroke-width:4\"/><line x1=\"521.032\" y1=\"19.855\" x2=\"521.032\" y2=\"20\" stroke-linecap=\"round\" style=\"stroke:green;stroke-width:4\"/><line x1=\"521.032\" y1=\"20\" x2=\"519.051\" y2=\"19.722\" stroke-linecap=\"round\" style=\"stroke:red;stroke-width:4\"/><line x1=\"519.051\" y1=\"19.722\" x2=\"519.051\" y2=\"20\" stroke-linecap=\"round\" style=\"stroke:red;stroke-width:4\"/><line x1=\"519.051\" y1=\"20\" x2=\"517.82\" y2=\"18.424\" stroke-linecap=\"round\" style=\"stroke:red;stroke-width:4\"/><line x1=\"517.82\" y1=\"18.424\" x2=\"517.82\" y2=\"20\" stroke-linecap=\"round\" style=\"stroke:red;stroke-width:4\"/><line x1=\"517.82\" y1=\"20\" x2=\"517.75\" y2=\"18.001\" stroke-linecap=\"round\" style=\"stroke:red;stroke-width:4\"/><line x1=\"517.75\" y1=\"18.001\" x2=\"517.75\" y2=\"20\" stroke-linecap=\"round\" style=\"stroke:red;stroke-width:4\"/><line x1=\"517.75\" y1=\"20\" x2=\"511.059\" y2=\"12.569\" stroke-linecap=\"round\" style=\"stroke:red;stroke-width:4\"/><line x1=\"511.059\" y1=\"12.569\" x2=\"511.059\" y2=\"20\" stroke-linecap=\"round\" style=\"stroke:red;stroke-width:4\"/><line x1=\"511.059\" y1=\"20\" x2=\"504.368\" y2=\"12.569\" stroke-linecap=\"round\" style=\"stroke:red;stroke-width:4\"/><line x1=\"504.368\" y1=\"12.569\" x2=\"504.368\" y2=\"20\" stroke-linecap=\"round\" style=\"stroke:red;stroke-width:4\"/><line x1=\"504.368\" y1=\"20\" x2=\"502.929\" y2=\"18.611\" stroke-linecap=\"round\" style=\"stroke:red;stroke-width:4\"/><line x1=\"502.929\" y1=\"18.611\" x2=\"502.929\" y2=\"20\" stroke-linecap=\"round\" style=\"stroke:red;stroke-width:4\"/><line x1=\"502.929\" y1=\"20\" x2=\"500.929\" y2=\"20.0\" stroke-linecap=\"round\" style=\"stroke:red;stroke-width:4\"/><line x1=\"500.929\" y1=\"20.0\" x2=\"498.934\" y2=\"20.14\" stroke-linecap=\"round\" style=\"stroke:green;stroke-width:4\"/><line x1=\"498.934\" y1=\"20.14\" x2=\"496.953\" y2=\"20.418\" stroke-linecap=\"round\" style=\"stroke:green;stroke-width:4\"/><line x1=\"496.953\" y1=\"20.418\" x2=\"494.997\" y2=\"20.834\" stroke-linecap=\"round\" style=\"stroke:green;stroke-width:4\"/><line x1=\"494.997\" y1=\"20.834\" x2=\"493.074\" y2=\"21.385\" stroke-linecap=\"round\" style=\"stroke:green;stroke-width:4\"/><line x1=\"493.074\" y1=\"21.385\" x2=\"491.195\" y2=\"22.069\" stroke-linecap=\"round\" style=\"stroke:green;stroke-width:4\"/><line x1=\"491.195\" y1=\"22.069\" x2=\"489.368\" y2=\"22.882\" stroke-linecap=\"round\" style=\"stroke:green;stroke-width:4\"/><line x1=\"489.368\" y1=\"22.882\" x2=\"487.602\" y2=\"23.821\" stroke-linecap=\"round\" style=\"stroke:green;stroke-width:4\"/><line x1=\"487.602\" y1=\"23.821\" x2=\"485.906\" y2=\"24.881\" stroke-linecap=\"round\" style=\"stroke:green;stroke-width:4\"/><line x1=\"485.906\" y1=\"24.881\" x2=\"484.288\" y2=\"26.057\" stroke-linecap=\"round\" style=\"stroke:green;stroke-width:4\"/><line x1=\"484.288\" y1=\"26.057\" x2=\"476.198\" y2=\"31.935\" stroke-linecap=\"round\" style=\"stroke:green;stroke-width:4\"/><line x1=\"476.198\" y1=\"31.935\" x2=\"468.108\" y2=\"37.813\" stroke-linecap=\"round\" style=\"stroke:green;stroke-width:4\"/><line x1=\"468.108\" y1=\"37.813\" x2=\"460.018\" y2=\"43.691\" stroke-linecap=\"round\" style=\"stroke:green;stroke-width:4\"/><line x1=\"460.018\" y1=\"43.691\" x2=\"451.928\" y2=\"49.569\" stroke-linecap=\"round\" style=\"stroke:green;stroke-width:4\"/><line x1=\"451.928\" y1=\"49.569\" x2=\"443.838\" y2=\"55.447\" stroke-linecap=\"round\" style=\"stroke:green;stroke-width:4\"/><line x1=\"443.838\" y1=\"55.447\" x2=\"435.748\" y2=\"61.325\" stroke-linecap=\"round\" style=\"stroke:green;stroke-width:4\"/><line x1=\"435.748\" y1=\"61.325\" x2=\"427.658\" y2=\"67.203\" stroke-linecap=\"round\" style=\"stroke:green;stroke-width:4\"/><line x1=\"427.658\" y1=\"67.203\" x2=\"419.568\" y2=\"73.081\" stroke-linecap=\"round\" style=\"stroke:green;stroke-width:4\"/><line x1=\"419.568\" y1=\"73.081\" x2=\"411.478\" y2=\"78.959\" stroke-linecap=\"round\" style=\"stroke:green;stroke-width:4\"/><line x1=\"411.478\" y1=\"78.959\" x2=\"403.388\" y2=\"84.837\" stroke-linecap=\"round\" style=\"stroke:green;stroke-width:4\"/><line x1=\"403.388\" y1=\"84.837\" x2=\"395.298\" y2=\"90.715\" stroke-linecap=\"round\" style=\"stroke:green;stroke-width:4\"/><line x1=\"395.298\" y1=\"90.715\" x2=\"387.208\" y2=\"96.593\" stroke-linecap=\"round\" style=\"stroke:green;stroke-width:4\"/><line x1=\"387.208\" y1=\"96.593\" x2=\"379.118\" y2=\"102.471\" stroke-linecap=\"round\" style=\"stroke:green;stroke-width:4\"/><line x1=\"379.118\" y1=\"102.471\" x2=\"371.028\" y2=\"108.349\" stroke-linecap=\"round\" style=\"stroke:green;stroke-width:4\"/><line x1=\"371.028\" y1=\"108.349\" x2=\"362.938\" y2=\"114.227\" stroke-linecap=\"round\" style=\"stroke:green;stroke-width:4\"/><line x1=\"362.938\" y1=\"114.227\" x2=\"354.848\" y2=\"120.105\" stroke-linecap=\"round\" style=\"stroke:green;stroke-width:4\"/><line x1=\"354.848\" y1=\"120.105\" x2=\"346.758\" y2=\"125.983\" stroke-linecap=\"round\" style=\"stroke:green;stroke-width:4\"/><line x1=\"346.758\" y1=\"125.983\" x2=\"338.668\" y2=\"131.861\" stroke-linecap=\"round\" style=\"stroke:green;stroke-width:4\"/><line x1=\"338.668\" y1=\"131.861\" x2=\"330.578\" y2=\"137.739\" stroke-linecap=\"round\" style=\"stroke:green;stroke-width:4\"/><line x1=\"330.578\" y1=\"137.739\" x2=\"322.488\" y2=\"143.617\" stroke-linecap=\"round\" style=\"stroke:green;stroke-width:4\"/><line x1=\"322.488\" y1=\"143.617\" x2=\"314.398\" y2=\"149.495\" stroke-linecap=\"round\" style=\"stroke:green;stroke-width:4\"/><line x1=\"314.398\" y1=\"149.495\" x2=\"306.308\" y2=\"155.373\" stroke-linecap=\"round\" style=\"stroke:green;stroke-width:4\"/><line x1=\"306.308\" y1=\"155.373\" x2=\"298.218\" y2=\"161.251\" stroke-linecap=\"round\" style=\"stroke:green;stroke-width:4\"/><line x1=\"298.218\" y1=\"161.251\" x2=\"290.128\" y2=\"167.129\" stroke-linecap=\"round\" style=\"stroke:green;stroke-width:4\"/><line x1=\"290.128\" y1=\"167.129\" x2=\"282.038\" y2=\"173.007\" stroke-linecap=\"round\" style=\"stroke:green;stroke-width:4\"/><line x1=\"282.038\" y1=\"173.007\" x2=\"273.948\" y2=\"178.885\" stroke-linecap=\"round\" style=\"stroke:green;stroke-width:4\"/><line x1=\"273.948\" y1=\"178.885\" x2=\"265.858\" y2=\"184.763\" stroke-linecap=\"round\" style=\"stroke:green;stroke-width:4\"/><line x1=\"265.858\" y1=\"184.763\" x2=\"257.768\" y2=\"190.641\" stroke-linecap=\"round\" style=\"stroke:green;stroke-width:4\"/><line x1=\"257.768\" y1=\"190.641\" x2=\"249.678\" y2=\"196.519\" stroke-linecap=\"round\" style=\"stroke:green;stroke-width:4\"/><line x1=\"249.678\" y1=\"196.519\" x2=\"241.588\" y2=\"202.397\" stroke-linecap=\"round\" style=\"stroke:green;stroke-width:4\"/><line x1=\"241.588\" y1=\"202.397\" x2=\"233.498\" y2=\"208.275\" stroke-linecap=\"round\" style=\"stroke:green;stroke-width:4\"/><line x1=\"233.498\" y1=\"208.275\" x2=\"225.408\" y2=\"214.153\" stroke-linecap=\"round\" style=\"stroke:green;stroke-width:4\"/><line x1=\"225.408\" y1=\"214.153\" x2=\"217.318\" y2=\"220.031\" stroke-linecap=\"round\" style=\"stroke:green;stroke-width:4\"/><line x1=\"217.318\" y1=\"220.031\" x2=\"209.228\" y2=\"225.909\" stroke-linecap=\"round\" style=\"stroke:green;stroke-width:4\"/><line x1=\"209.228\" y1=\"225.909\" x2=\"201.138\" y2=\"231.787\" stroke-linecap=\"round\" style=\"stroke:green;stroke-width:4\"/><line x1=\"201.138\" y1=\"231.787\" x2=\"193.048\" y2=\"237.665\" stroke-linecap=\"round\" style=\"stroke:green;stroke-width:4\"/><line x1=\"193.048\" y1=\"237.665\" x2=\"184.958\" y2=\"243.543\" stroke-linecap=\"round\" style=\"stroke:green;stroke-width:4\"/><line x1=\"184.958\" y1=\"243.543\" x2=\"176.868\" y2=\"249.421\" stroke-linecap=\"round\" style=\"stroke:green;stroke-width:4\"/><line x1=\"176.868\" y1=\"249.421\" x2=\"168.778\" y2=\"255.299\" stroke-linecap=\"round\" style=\"stroke:green;stroke-width:4\"/><line x1=\"168.778\" y1=\"255.299\" x2=\"160.688\" y2=\"261.177\" stroke-linecap=\"round\" style=\"stroke:green;stroke-width:4\"/><line x1=\"160.688\" y1=\"261.177\" x2=\"152.598\" y2=\"267.055\" stroke-linecap=\"round\" style=\"stroke:green;stroke-width:4\"/><line x1=\"152.598\" y1=\"267.055\" x2=\"144.508\" y2=\"272.933\" stroke-linecap=\"round\" style=\"stroke:green;stroke-width:4\"/><line x1=\"144.508\" y1=\"272.933\" x2=\"136.418\" y2=\"278.811\" stroke-linecap=\"round\" style=\"stroke:green;stroke-width:4\"/><line x1=\"136.418\" y1=\"278.811\" x2=\"128.328\" y2=\"284.689\" stroke-linecap=\"round\" style=\"stroke:green;stroke-width:4\"/><line x1=\"128.328\" y1=\"284.689\" x2=\"120.238\" y2=\"290.567\" stroke-linecap=\"round\" style=\"stroke:green;stroke-width:4\"/><line x1=\"120.238\" y1=\"290.567\" x2=\"112.148\" y2=\"296.445\" stroke-linecap=\"round\" style=\"stroke:green;stroke-width:4\"/><line x1=\"112.148\" y1=\"296.445\" x2=\"104.058\" y2=\"302.323\" stroke-linecap=\"round\" style=\"stroke:green;stroke-width:4\"/><line x1=\"104.058\" y1=\"302.323\" x2=\"95.968\" y2=\"308.201\" stroke-linecap=\"round\" style=\"stroke:green;stroke-width:4\"/><line x1=\"95.968\" y1=\"308.201\" x2=\"87.878\" y2=\"314.079\" stroke-linecap=\"round\" style=\"stroke:green;stroke-width:4\"/><line x1=\"87.878\" y1=\"314.079\" x2=\"79.788\" y2=\"319.957\" stroke-linecap=\"round\" style=\"stroke:green;stroke-width:4\"/><line x1=\"79.788\" y1=\"319.957\" x2=\"71.698\" y2=\"325.835\" stroke-linecap=\"round\" style=\"stroke:green;stroke-width:4\"/><line x1=\"71.698\" y1=\"325.835\" x2=\"63.608\" y2=\"331.713\" stroke-linecap=\"round\" style=\"stroke:green;stroke-width:4\"/><line x1=\"63.608\" y1=\"331.713\" x2=\"55.518\" y2=\"337.591\" stroke-linecap=\"round\" style=\"stroke:green;stroke-width:4\"/><line x1=\"55.518\" y1=\"337.591\" x2=\"47.428\" y2=\"343.469\" stroke-linecap=\"round\" style=\"stroke:green;stroke-width:4\"/><line x1=\"47.428\" y1=\"343.469\" x2=\"39.338\" y2=\"349.347\" stroke-linecap=\"round\" style=\"stroke:green;stroke-width:4\"/><line x1=\"39.338\" y1=\"349.347\" x2=\"31.248\" y2=\"355.225\" stroke-linecap=\"round\" style=\"stroke:green;stroke-width:4\"/><line x1=\"31.248\" y1=\"355.225\" x2=\"23.158\" y2=\"361.103\" stroke-linecap=\"round\" style=\"stroke:green;stroke-width:4\"/><line x1=\"23.158\" y1=\"361.103\" x2=\"15.068\" y2=\"366.981\" stroke-linecap=\"round\" style=\"stroke:green;stroke-width:4\"/><line x1=\"15.068\" y1=\"366.981\" x2=\"20\" y2=\"366.981\" stroke-linecap=\"round\" style=\"stroke:green;stroke-width:4\"/><line x1=\"20\" y1=\"366.981\" x2=\"18.468\" y2=\"368.267\" stroke-linecap=\"round\" style=\"stroke:red;stroke-width:4\"/><line x1=\"18.468\" y1=\"368.267\" x2=\"20\" y2=\"368.267\" stroke-linecap=\"round\" style=\"stroke:red;stroke-width:4\"/><line x1=\"20\" y1=\"368.267\" x2=\"19.791\" y2=\"370.256\" stroke-linecap=\"round\" style=\"stroke:red;stroke-width:4\"/><line x1=\"19.791\" y1=\"370.256\" x2=\"20\" y2=\"370.256\" stroke-linecap=\"round\" style=\"stroke:red;stroke-width:4\"/><line x1=\"20\" y1=\"370.256\" x2=\"21.0\" y2=\"371.988\" stroke-linecap=\"round\" style=\"stroke:red;stroke-width:4\"/><line x1=\"21.0\" y1=\"371.988\" x2=\"21.877\" y2=\"373.786\" stroke-linecap=\"round\" style=\"stroke:green;stroke-width:4\"/><line x1=\"21.877\" y1=\"373.786\" x2=\"22.626\" y2=\"375.64\" stroke-linecap=\"round\" style=\"stroke:green;stroke-width:4\"/><line x1=\"22.626\" y1=\"375.64\" x2=\"23.244\" y2=\"377.542\" stroke-linecap=\"round\" style=\"stroke:green;stroke-width:4\"/><line x1=\"23.244\" y1=\"377.542\" x2=\"23.728\" y2=\"379.483\" stroke-linecap=\"round\" style=\"stroke:green;stroke-width:4\"/><line x1=\"23.728\" y1=\"379.483\" x2=\"24.075\" y2=\"381.453\" stroke-linecap=\"round\" style=\"stroke:green;stroke-width:4\"/><line x1=\"24.075\" y1=\"381.453\" x2=\"24.284\" y2=\"383.442\" stroke-linecap=\"round\" style=\"stroke:green;stroke-width:4\"/><line x1=\"24.284\" y1=\"383.442\" x2=\"24.354\" y2=\"385.441\" stroke-linecap=\"round\" style=\"stroke:green;stroke-width:4\"/><line x1=\"24.354\" y1=\"385.441\" x2=\"24.284\" y2=\"387.44\" stroke-linecap=\"round\" style=\"stroke:green;stroke-width:4\"/><line x1=\"24.284\" y1=\"387.44\" x2=\"24.075\" y2=\"389.429\" stroke-linecap=\"round\" style=\"stroke:green;stroke-width:4\"/><line x1=\"24.075\" y1=\"389.429\" x2=\"24.005\" y2=\"391.428\" stroke-linecap=\"round\" style=\"stroke:green;stroke-width:4\"/><line x1=\"24.005\" y1=\"391.428\" x2=\"24.075\" y2=\"393.427\" stroke-linecap=\"round\" style=\"stroke:green;stroke-width:4\"/><line x1=\"24.075\" y1=\"393.427\" x2=\"24.284\" y2=\"395.416\" stroke-linecap=\"round\" style=\"stroke:green;stroke-width:4\"/><line x1=\"24.284\" y1=\"395.416\" x2=\"24.631\" y2=\"397.386\" stroke-linecap=\"round\" style=\"stroke:green;stroke-width:4\"/><line x1=\"24.631\" y1=\"397.386\" x2=\"25.115\" y2=\"399.327\" stroke-linecap=\"round\" style=\"stroke:green;stroke-width:4\"/><line x1=\"25.115\" y1=\"399.327\" x2=\"25.733\" y2=\"401.229\" stroke-linecap=\"round\" style=\"stroke:green;stroke-width:4\"/><line x1=\"25.733\" y1=\"401.229\" x2=\"26.482\" y2=\"403.083\" stroke-linecap=\"round\" style=\"stroke:green;stroke-width:4\"/><line x1=\"26.482\" y1=\"403.083\" x2=\"27.359\" y2=\"404.881\" stroke-linecap=\"round\" style=\"stroke:green;stroke-width:4\"/><line x1=\"27.359\" y1=\"404.881\" x2=\"28.359\" y2=\"406.613\" stroke-linecap=\"round\" style=\"stroke:green;stroke-width:4\"/><line x1=\"28.359\" y1=\"406.613\" x2=\"29.477\" y2=\"408.271\" stroke-linecap=\"round\" style=\"stroke:green;stroke-width:4\"/><line x1=\"29.477\" y1=\"408.271\" x2=\"35.069\" y2=\"416.561\" stroke-linecap=\"round\" style=\"stroke:green;stroke-width:4\"/><line x1=\"35.069\" y1=\"416.561\" x2=\"40.661\" y2=\"424.851\" stroke-linecap=\"round\" style=\"stroke:green;stroke-width:4\"/><line x1=\"40.661\" y1=\"424.851\" x2=\"46.253\" y2=\"433.141\" stroke-linecap=\"round\" style=\"stroke:green;stroke-width:4\"/><line x1=\"46.253\" y1=\"433.141\" x2=\"51.845\" y2=\"441.431\" stroke-linecap=\"round\" style=\"stroke:green;stroke-width:4\"/><line x1=\"51.845\" y1=\"441.431\" x2=\"57.437\" y2=\"449.721\" stroke-linecap=\"round\" style=\"stroke:green;stroke-width:4\"/><line x1=\"57.437\" y1=\"449.721\" x2=\"63.029\" y2=\"458.011\" stroke-linecap=\"round\" style=\"stroke:green;stroke-width:4\"/><line x1=\"63.029\" y1=\"458.011\" x2=\"68.621\" y2=\"466.301\" stroke-linecap=\"round\" style=\"stroke:green;stroke-width:4\"/><line x1=\"68.621\" y1=\"466.301\" x2=\"74.213\" y2=\"474.591\" stroke-linecap=\"round\" style=\"stroke:green;stroke-width:4\"/><line x1=\"74.213\" y1=\"474.591\" x2=\"79.805\" y2=\"482.881\" stroke-linecap=\"round\" style=\"stroke:green;stroke-width:4\"/><line x1=\"79.805\" y1=\"482.881\" x2=\"79.805\" y2=\"480\" stroke-linecap=\"round\" style=\"stroke:green;stroke-width:4\"/><line x1=\"79.805\" y1=\"480\" x2=\"80.805\" y2=\"481.732\" stroke-linecap=\"round\" style=\"stroke:red;stroke-width:4\"/><line x1=\"80.805\" y1=\"481.732\" x2=\"80.805\" y2=\"480\" stroke-linecap=\"round\" style=\"stroke:red;stroke-width:4\"/><line x1=\"80.805\" y1=\"480\" x2=\"80.596\" y2=\"481.989\" stroke-linecap=\"round\" style=\"stroke:red;stroke-width:4\"/><line x1=\"80.596\" y1=\"481.989\" x2=\"80.596\" y2=\"480\" stroke-linecap=\"round\" style=\"stroke:red;stroke-width:4\"/><line x1=\"80.596\" y1=\"480\" x2=\"81.827\" y2=\"481.576\" stroke-linecap=\"round\" style=\"stroke:red;stroke-width:4\"/><line x1=\"81.827\" y1=\"481.576\" x2=\"81.827\" y2=\"480\" stroke-linecap=\"round\" style=\"stroke:red;stroke-width:4\"/><line x1=\"81.827\" y1=\"480\" x2=\"91.608\" y2=\"482.079\" stroke-linecap=\"round\" style=\"stroke:red;stroke-width:4\"/><line x1=\"91.608\" y1=\"482.079\" x2=\"91.608\" y2=\"480\" stroke-linecap=\"round\" style=\"stroke:red;stroke-width:4\"/><line x1=\"91.608\" y1=\"480\" x2=\"93.589\" y2=\"480.278\" stroke-linecap=\"round\" style=\"stroke:red;stroke-width:4\"/><line x1=\"93.589\" y1=\"480.278\" x2=\"93.589\" y2=\"480\" stroke-linecap=\"round\" style=\"stroke:red;stroke-width:4\"/><line x1=\"93.589\" y1=\"480\" x2=\"95.207\" y2=\"478.824\" stroke-linecap=\"round\" style=\"stroke:red;stroke-width:4\"/><line x1=\"95.207\" y1=\"478.824\" x2=\"96.739\" y2=\"477.538\" stroke-linecap=\"round\" style=\"stroke:green;stroke-width:4\"/><line x1=\"96.739\" y1=\"477.538\" x2=\"98.178\" y2=\"476.149\" stroke-linecap=\"round\" style=\"stroke:green;stroke-width:4\"/><line x1=\"98.178\" y1=\"476.149\" x2=\"99.516\" y2=\"474.663\" stroke-linecap=\"round\" style=\"stroke:green;stroke-width:4\"/><line x1=\"99.516\" y1=\"474.663\" x2=\"100.747\" y2=\"473.087\" stroke-linecap=\"round\" style=\"stroke:green;stroke-width:4\"/><line x1=\"100.747\" y1=\"473.087\" x2=\"101.865\" y2=\"471.429\" stroke-linecap=\"round\" style=\"stroke:green;stroke-width:4\"/><line x1=\"101.865\" y1=\"471.429\" x2=\"102.865\" y2=\"469.697\" stroke-linecap=\"round\" style=\"stroke:green;stroke-width:4\"/><line x1=\"102.865\" y1=\"469.697\" x2=\"103.742\" y2=\"467.899\" stroke-linecap=\"round\" style=\"stroke:green;stroke-width:4\"/><line x1=\"103.742\" y1=\"467.899\" x2=\"104.491\" y2=\"466.045\" stroke-linecap=\"round\" style=\"stroke:green;stroke-width:4\"/><line x1=\"104.491\" y1=\"466.045\" x2=\"105.109\" y2=\"464.143\" stroke-linecap=\"round\" style=\"stroke:green;stroke-width:4\"/><line x1=\"105.109\" y1=\"464.143\" x2=\"108.199\" y2=\"454.632\" stroke-linecap=\"round\" style=\"stroke:green;stroke-width:4\"/><line x1=\"108.199\" y1=\"454.632\" x2=\"111.289\" y2=\"445.121\" stroke-linecap=\"round\" style=\"stroke:green;stroke-width:4\"/><line x1=\"111.289\" y1=\"445.121\" x2=\"114.379\" y2=\"435.61\" stroke-linecap=\"round\" style=\"stroke:green;stroke-width:4\"/><line x1=\"114.379\" y1=\"435.61\" x2=\"117.469\" y2=\"426.099\" stroke-linecap=\"round\" style=\"stroke:green;stroke-width:4\"/><line x1=\"117.469\" y1=\"426.099\" x2=\"120.559\" y2=\"416.588\" stroke-linecap=\"round\" style=\"stroke:green;stroke-width:4\"/><line x1=\"120.559\" y1=\"416.588\" x2=\"123.649\" y2=\"407.077\" stroke-linecap=\"round\" style=\"stroke:green;stroke-width:4\"/><line x1=\"123.649\" y1=\"407.077\" x2=\"126.739\" y2=\"397.566\" stroke-linecap=\"round\" style=\"stroke:green;stroke-width:4\"/><line x1=\"126.739\" y1=\"397.566\" x2=\"129.829\" y2=\"388.055\" stroke-linecap=\"round\" style=\"stroke:green;stroke-width:4\"/><line x1=\"129.829\" y1=\"388.055\" x2=\"132.919\" y2=\"378.544\" stroke-linecap=\"round\" style=\"stroke:green;stroke-width:4\"/><line x1=\"132.919\" y1=\"378.544\" x2=\"136.009\" y2=\"369.033\" stroke-linecap=\"round\" style=\"stroke:green;stroke-width:4\"/><line x1=\"136.009\" y1=\"369.033\" x2=\"139.099\" y2=\"359.522\" stroke-linecap=\"round\" style=\"stroke:green;stroke-width:4\"/><line x1=\"139.099\" y1=\"359.522\" x2=\"142.189\" y2=\"350.011\" stroke-linecap=\"round\" style=\"stroke:green;stroke-width:4\"/><line x1=\"142.189\" y1=\"350.011\" x2=\"145.279\" y2=\"340.5\" stroke-linecap=\"round\" style=\"stroke:green;stroke-width:4\"/><line x1=\"145.279\" y1=\"340.5\" x2=\"148.369\" y2=\"330.989\" stroke-linecap=\"round\" style=\"stroke:green;stroke-width:4\"/><line x1=\"148.369\" y1=\"330.989\" x2=\"151.459\" y2=\"321.478\" stroke-linecap=\"round\" style=\"stroke:green;stroke-width:4\"/><line x1=\"151.459\" y1=\"321.478\" x2=\"154.549\" y2=\"311.967\" stroke-linecap=\"round\" style=\"stroke:green;stroke-width:4\"/><line x1=\"154.549\" y1=\"311.967\" x2=\"157.639\" y2=\"302.456\" stroke-linecap=\"round\" style=\"stroke:green;stroke-width:4\"/><line x1=\"157.639\" y1=\"302.456\" x2=\"160.729\" y2=\"292.945\" stroke-linecap=\"round\" style=\"stroke:green;stroke-width:4\"/><line x1=\"160.729\" y1=\"292.945\" x2=\"163.819\" y2=\"283.434\" stroke-linecap=\"round\" style=\"stroke:green;stroke-width:4\"/><line x1=\"163.819\" y1=\"283.434\" x2=\"166.909\" y2=\"273.923\" stroke-linecap=\"round\" style=\"stroke:green;stroke-width:4\"/><line x1=\"166.909\" y1=\"273.923\" x2=\"169.999\" y2=\"264.412\" stroke-linecap=\"round\" style=\"stroke:green;stroke-width:4\"/><line x1=\"169.999\" y1=\"264.412\" x2=\"173.089\" y2=\"254.901\" stroke-linecap=\"round\" style=\"stroke:green;stroke-width:4\"/><line x1=\"173.089\" y1=\"254.901\" x2=\"176.179\" y2=\"245.39\" stroke-linecap=\"round\" style=\"stroke:green;stroke-width:4\"/><line x1=\"176.179\" y1=\"245.39\" x2=\"179.269\" y2=\"235.879\" stroke-linecap=\"round\" style=\"stroke:green;stroke-width:4\"/><line x1=\"179.269\" y1=\"235.879\" x2=\"182.359\" y2=\"226.368\" stroke-linecap=\"round\" style=\"stroke:green;stroke-width:4\"/><line x1=\"182.359\" y1=\"226.368\" x2=\"185.449\" y2=\"216.857\" stroke-linecap=\"round\" style=\"stroke:green;stroke-width:4\"/><line x1=\"185.449\" y1=\"216.857\" x2=\"188.539\" y2=\"207.346\" stroke-linecap=\"round\" style=\"stroke:green;stroke-width:4\"/><line x1=\"188.539\" y1=\"207.346\" x2=\"191.629\" y2=\"197.835\" stroke-linecap=\"round\" style=\"stroke:green;stroke-width:4\"/><line x1=\"191.629\" y1=\"197.835\" x2=\"194.719\" y2=\"188.324\" stroke-linecap=\"round\" style=\"stroke:green;stroke-width:4\"/><line x1=\"194.719\" y1=\"188.324\" x2=\"197.809\" y2=\"178.813\" stroke-linecap=\"round\" style=\"stroke:green;stroke-width:4\"/><line x1=\"197.809\" y1=\"178.813\" x2=\"200.899\" y2=\"169.302\" stroke-linecap=\"round\" style=\"stroke:green;stroke-width:4\"/><line x1=\"200.899\" y1=\"169.302\" x2=\"203.989\" y2=\"159.791\" stroke-linecap=\"round\" style=\"stroke:green;stroke-width:4\"/><line x1=\"203.989\" y1=\"159.791\" x2=\"207.079\" y2=\"150.28\" stroke-linecap=\"round\" style=\"stroke:green;stroke-width:4\"/><line x1=\"207.079\" y1=\"150.28\" x2=\"210.169\" y2=\"140.769\" stroke-linecap=\"round\" style=\"stroke:green;stroke-width:4\"/><line x1=\"210.169\" y1=\"140.769\" x2=\"213.259\" y2=\"131.258\" stroke-linecap=\"round\" style=\"stroke:green;stroke-width:4\"/><line x1=\"213.259\" y1=\"131.258\" x2=\"216.349\" y2=\"121.747\" stroke-linecap=\"round\" style=\"stroke:green;stroke-width:4\"/><line x1=\"216.349\" y1=\"121.747\" x2=\"219.439\" y2=\"112.236\" stroke-linecap=\"round\" style=\"stroke:green;stroke-width:4\"/><line x1=\"219.439\" y1=\"112.236\" x2=\"222.529\" y2=\"102.725\" stroke-linecap=\"round\" style=\"stroke:green;stroke-width:4\"/><line x1=\"222.529\" y1=\"102.725\" x2=\"225.619\" y2=\"93.214\" stroke-linecap=\"round\" style=\"stroke:green;stroke-width:4\"/><line x1=\"225.619\" y1=\"93.214\" x2=\"228.709\" y2=\"83.703\" stroke-linecap=\"round\" style=\"stroke:green;stroke-width:4\"/><line x1=\"228.709\" y1=\"83.703\" x2=\"231.799\" y2=\"74.192\" stroke-linecap=\"round\" style=\"stroke:green;stroke-width:4\"/><line x1=\"231.799\" y1=\"74.192\" x2=\"234.889\" y2=\"64.681\" stroke-linecap=\"round\" style=\"stroke:green;stroke-width:4\"/><line x1=\"234.889\" y1=\"64.681\" x2=\"237.979\" y2=\"55.17\" stroke-linecap=\"round\" style=\"stroke:green;stroke-width:4\"/><line x1=\"237.979\" y1=\"55.17\" x2=\"241.069\" y2=\"45.659\" stroke-linecap=\"round\" style=\"stroke:green;stroke-width:4\"/><line x1=\"241.069\" y1=\"45.659\" x2=\"244.159\" y2=\"36.148\" stroke-linecap=\"round\" style=\"stroke:green;stroke-width:4\"/><line x1=\"244.159\" y1=\"36.148\" x2=\"247.249\" y2=\"26.637\" stroke-linecap=\"round\" style=\"stroke:green;stroke-width:4\"/><line x1=\"247.249\" y1=\"26.637\" x2=\"250.339\" y2=\"17.126\" stroke-linecap=\"round\" style=\"stroke:green;stroke-width:4\"/><line x1=\"250.339\" y1=\"17.126\" x2=\"250.339\" y2=\"20\" stroke-linecap=\"round\" style=\"stroke:green;stroke-width:4\"/>\n",
       "        <g visibility=visible transform=\"rotate(378,250.339,20) translate(232.339, 2)\">\n",
       "<path style=\" stroke:none;fill-rule:evenodd;fill:red;fill-opacity:1;\" d=\"M 18.214844 0.632812 C 16.109375 1.800781 15.011719 4.074219 15.074219 7.132812 L 15.085938 7.652344 L 14.785156 7.496094 C 13.476562 6.824219 11.957031 6.671875 10.40625 7.066406 C 8.46875 7.550781 6.515625 9.15625 4.394531 11.992188 C 3.0625 13.777344 2.679688 14.636719 3.042969 15.027344 L 3.15625 15.152344 L 3.519531 15.152344 C 4.238281 15.152344 4.828125 14.886719 8.1875 13.039062 C 9.386719 12.378906 10.371094 11.839844 10.378906 11.839844 C 10.386719 11.839844 10.355469 11.929688 10.304688 12.035156 C 9.832031 13.09375 9.257812 14.820312 8.96875 16.078125 C 7.914062 20.652344 8.617188 24.53125 11.070312 27.660156 C 11.351562 28.015625 11.363281 27.914062 10.972656 28.382812 C 8.925781 30.84375 7.945312 33.28125 8.238281 35.1875 C 8.289062 35.527344 8.28125 35.523438 8.917969 35.523438 C 10.941406 35.523438 13.074219 34.207031 15.136719 31.6875 C 15.359375 31.417969 15.328125 31.425781 15.5625 31.574219 C 16.292969 32.042969 18.023438 32.964844 18.175781 32.964844 C 18.335938 32.964844 19.941406 32.210938 20.828125 31.71875 C 20.996094 31.625 21.136719 31.554688 21.136719 31.558594 C 21.203125 31.664062 21.898438 32.414062 22.222656 32.730469 C 23.835938 34.300781 25.5625 35.132812 27.582031 35.300781 C 27.90625 35.328125 27.9375 35.308594 28.007812 34.984375 C 28.382812 33.242188 27.625 30.925781 25.863281 28.425781 L 25.542969 27.96875 L 25.699219 27.785156 C 28.945312 23.960938 29.132812 18.699219 26.257812 11.96875 L 26.207031 11.84375 L 27.945312 12.703125 C 31.53125 14.476562 32.316406 14.800781 33.03125 14.800781 C 33.976562 14.800781 33.78125 13.9375 32.472656 12.292969 C 28.519531 7.355469 25.394531 5.925781 21.921875 7.472656 L 21.558594 7.636719 L 21.578125 7.542969 C 21.699219 6.992188 21.761719 5.742188 21.699219 5.164062 C 21.496094 3.296875 20.664062 1.964844 19.003906 0.855469 C 18.480469 0.503906 18.457031 0.5 18.214844 0.632812\"/>\n",
       "</g>\n",
       "      </svg>\n",
       "    "
      ],
      "text/plain": [
       "<IPython.core.display.HTML object>"
      ]
     },
     "metadata": {},
     "output_type": "display_data"
    },
    {
     "name": "stdout",
     "output_type": "stream",
     "text": [
      "Action: 0, Prediction: 0, Outcome: 0, Prediction_correct: True, Valence: 3\n",
      "Intended 00:3\n",
      "Action: 0, Prediction: 0, Outcome: 0, Prediction_correct: True, Valence: 3\n",
      "Learning (00:3, 00:3: 1)\n",
      "Intended 00:3\n",
      "Action: 0, Prediction: 0, Outcome: 0, Prediction_correct: True, Valence: 3\n",
      "Reinforcing (00:3, 00:3: 2)\n",
      "Intended 00:3\n",
      "Action: 0, Prediction: 0, Outcome: 0, Prediction_correct: True, Valence: 3\n",
      "Reinforcing (00:3, 00:3: 3)\n",
      "Intended 00:3\n",
      "Action: 0, Prediction: 0, Outcome: 1, Prediction_correct: False, Valence: -3\n",
      "Learning (00:3, 01:-3: 1)\n",
      "Intended 00:3\n",
      "Action: 0, Prediction: 0, Outcome: 1, Prediction_correct: False, Valence: -3\n",
      "Learning (01:-3, 01:-3: 1)\n",
      "Intended 10:-1\n",
      "Action: 1, Prediction: 0, Outcome: 1, Prediction_correct: False, Valence: -1\n",
      "Learning (01:-3, 11:-1: 1)\n",
      "Intended 00:3\n",
      "Action: 0, Prediction: 0, Outcome: 1, Prediction_correct: False, Valence: -3\n",
      "Learning (11:-1, 01:-3: 1)\n",
      "Intended 20:-2\n",
      "Action: 2, Prediction: 0, Outcome: 1, Prediction_correct: False, Valence: -2\n",
      "Learning (01:-3, 21:-2: 1)\n",
      "Intended 00:3\n",
      "Action: 0, Prediction: 0, Outcome: 1, Prediction_correct: False, Valence: -3\n",
      "Learning (21:-2, 01:-3: 1)\n",
      "Intended 11:-1\n",
      "Action: 1, Prediction: 1, Outcome: 1, Prediction_correct: True, Valence: -1\n",
      "Reinforcing (01:-3, 11:-1: 2)\n",
      "Intended 10:-1\n",
      "Action: 1, Prediction: 0, Outcome: 1, Prediction_correct: False, Valence: -1\n",
      "Learning (11:-1, 11:-1: 1)\n",
      "Intended 20:-2\n",
      "Action: 2, Prediction: 0, Outcome: 1, Prediction_correct: False, Valence: -2\n",
      "Learning (11:-1, 21:-2: 1)\n",
      "Intended 10:-1\n",
      "Action: 1, Prediction: 0, Outcome: 1, Prediction_correct: False, Valence: -1\n",
      "Learning (21:-2, 11:-1: 1)\n",
      "Intended 11:-1\n",
      "Action: 1, Prediction: 1, Outcome: 0, Prediction_correct: False, Valence: -1\n",
      "Learning (11:-1, 10:-1: 1)\n",
      "Intended 00:3\n",
      "Action: 0, Prediction: 0, Outcome: 0, Prediction_correct: True, Valence: 3\n",
      "Learning (10:-1, 00:3: 1)\n",
      "Intended 00:3\n",
      "Action: 0, Prediction: 0, Outcome: 0, Prediction_correct: True, Valence: 3\n",
      "Reinforcing (00:3, 00:3: 4)\n",
      "Intended 00:3\n",
      "Action: 0, Prediction: 0, Outcome: 1, Prediction_correct: False, Valence: -3\n",
      "Reinforcing (00:3, 01:-3: 2)\n",
      "Intended 11:-1\n",
      "Action: 1, Prediction: 1, Outcome: 1, Prediction_correct: True, Valence: -1\n",
      "Reinforcing (01:-3, 11:-1: 3)\n",
      "Intended 11:-1\n",
      "Action: 1, Prediction: 1, Outcome: 1, Prediction_correct: True, Valence: -1\n",
      "Reinforcing (11:-1, 11:-1: 2)\n",
      "Intended 21:-2\n",
      "Action: 2, Prediction: 1, Outcome: 0, Prediction_correct: False, Valence: -2\n",
      "Learning (11:-1, 20:-2: 1)\n",
      "Intended 00:3\n",
      "Action: 0, Prediction: 0, Outcome: 1, Prediction_correct: False, Valence: -3\n",
      "Learning (20:-2, 01:-3: 1)\n",
      "Intended 21:-2\n",
      "Action: 2, Prediction: 1, Outcome: 1, Prediction_correct: True, Valence: -2\n",
      "Reinforcing (01:-3, 21:-2: 2)\n",
      "Intended 20:-2\n",
      "Action: 2, Prediction: 0, Outcome: 1, Prediction_correct: False, Valence: -2\n",
      "Learning (21:-2, 21:-2: 1)\n",
      "Intended 11:-1\n",
      "Action: 1, Prediction: 1, Outcome: 1, Prediction_correct: True, Valence: -1\n",
      "Reinforcing (21:-2, 11:-1: 2)\n",
      "Intended 01:-3\n",
      "Action: 0, Prediction: 1, Outcome: 1, Prediction_correct: True, Valence: -3\n",
      "Reinforcing (11:-1, 01:-3: 2)\n",
      "Intended 01:-3\n",
      "Action: 0, Prediction: 1, Outcome: 1, Prediction_correct: True, Valence: -3\n",
      "Reinforcing (01:-3, 01:-3: 2)\n",
      "Intended 11:-1\n",
      "Action: 1, Prediction: 1, Outcome: 1, Prediction_correct: True, Valence: -1\n",
      "Reinforcing (01:-3, 11:-1: 4)\n",
      "Intended 11:-1\n",
      "Action: 1, Prediction: 1, Outcome: 0, Prediction_correct: False, Valence: -1\n",
      "Reinforcing (11:-1, 10:-1: 2)\n",
      "Intended 00:3\n",
      "Action: 0, Prediction: 0, Outcome: 0, Prediction_correct: True, Valence: 3\n",
      "Reinforcing (10:-1, 00:3: 2)\n",
      "Intended 00:3\n",
      "Action: 0, Prediction: 0, Outcome: 0, Prediction_correct: True, Valence: 3\n",
      "Reinforcing (00:3, 00:3: 5)\n",
      "Intended 00:3\n",
      "Action: 0, Prediction: 0, Outcome: 0, Prediction_correct: True, Valence: 3\n",
      "Reinforcing (00:3, 00:3: 6)\n",
      "Intended 00:3\n",
      "Action: 0, Prediction: 0, Outcome: 0, Prediction_correct: True, Valence: 3\n",
      "Reinforcing (00:3, 00:3: 7)\n",
      "Intended 00:3\n",
      "Action: 0, Prediction: 0, Outcome: 0, Prediction_correct: True, Valence: 3\n",
      "Reinforcing (00:3, 00:3: 8)\n",
      "Intended 00:3\n",
      "Action: 0, Prediction: 0, Outcome: 1, Prediction_correct: False, Valence: -3\n",
      "Reinforcing (00:3, 01:-3: 3)\n",
      "Intended 11:-1\n",
      "Action: 1, Prediction: 1, Outcome: 1, Prediction_correct: True, Valence: -1\n",
      "Reinforcing (01:-3, 11:-1: 5)\n",
      "Intended 11:-1\n",
      "Action: 1, Prediction: 1, Outcome: 1, Prediction_correct: True, Valence: -1\n",
      "Reinforcing (11:-1, 11:-1: 3)\n",
      "Intended 21:-2\n",
      "Action: 2, Prediction: 1, Outcome: 0, Prediction_correct: False, Valence: -2\n",
      "Reinforcing (11:-1, 20:-2: 2)\n",
      "Intended 10:-1\n",
      "Action: 1, Prediction: 0, Outcome: 0, Prediction_correct: True, Valence: -1\n",
      "Learning (20:-2, 10:-1: 1)\n",
      "Intended 00:3\n",
      "Action: 0, Prediction: 0, Outcome: 1, Prediction_correct: False, Valence: -3\n",
      "Learning (10:-1, 01:-3: 1)\n",
      "Intended 21:-2\n",
      "Action: 2, Prediction: 1, Outcome: 1, Prediction_correct: True, Valence: -2\n",
      "Reinforcing (01:-3, 21:-2: 3)\n",
      "Intended 11:-1\n",
      "Action: 1, Prediction: 1, Outcome: 1, Prediction_correct: True, Valence: -1\n",
      "Reinforcing (21:-2, 11:-1: 3)\n",
      "Intended 11:-1\n",
      "Action: 1, Prediction: 1, Outcome: 1, Prediction_correct: True, Valence: -1\n",
      "Reinforcing (11:-1, 11:-1: 4)\n",
      "Intended 01:-3\n",
      "Action: 0, Prediction: 1, Outcome: 1, Prediction_correct: True, Valence: -3\n",
      "Reinforcing (11:-1, 01:-3: 3)\n",
      "Intended 11:-1\n",
      "Action: 1, Prediction: 1, Outcome: 1, Prediction_correct: True, Valence: -1\n",
      "Reinforcing (01:-3, 11:-1: 6)\n",
      "Intended 11:-1\n",
      "Action: 1, Prediction: 1, Outcome: 0, Prediction_correct: False, Valence: -1\n",
      "Reinforcing (11:-1, 10:-1: 3)\n",
      "Intended 00:3\n",
      "Action: 0, Prediction: 0, Outcome: 0, Prediction_correct: True, Valence: 3\n",
      "Reinforcing (10:-1, 00:3: 3)\n",
      "Intended 00:3\n",
      "Action: 0, Prediction: 0, Outcome: 0, Prediction_correct: True, Valence: 3\n",
      "Reinforcing (00:3, 00:3: 9)\n",
      "Intended 00:3\n",
      "Action: 0, Prediction: 0, Outcome: 0, Prediction_correct: True, Valence: 3\n",
      "Reinforcing (00:3, 00:3: 10)\n",
      "Intended 00:3\n",
      "Action: 0, Prediction: 0, Outcome: 0, Prediction_correct: True, Valence: 3\n",
      "Reinforcing (00:3, 00:3: 11)\n",
      "Intended 00:3\n"
     ]
    }
   ],
   "source": [
    "# @title Run the turtle environment\n",
    "initializeTurtle()\n",
    "\n",
    "# Parameterize the rendering\n",
    "bgcolor(\"lightGray\")\n",
    "penup()\n",
    "goto(window_width() / 2, window_height()/2)\n",
    "face(0)\n",
    "pendown()\n",
    "color(\"green\")\n",
    "speed(10)\n",
    "\n",
    "# Some valences to avoid bumping into walls\n",
    "interactions = [\n",
    "    Interaction(0,0,3),\n",
    "    Interaction(0,1,-3),\n",
    "    Interaction(1,0,-1),\n",
    "    Interaction(1,1,-1),\n",
    "    Interaction(2,0,-2),\n",
    "    Interaction(2,1,-2)\n",
    "]\n",
    "\n",
    "a = Agent6(interactions)\n",
    "e = ColabTurtleEnvironment()\n",
    "\n",
    "outcome = 0\n",
    "for i in range(50):\n",
    "    action = a.action(outcome)\n",
    "    outcome = e.outcome(action)"
   ]
  },
  {
   "cell_type": "markdown",
   "id": "ac15a134-34a6-4039-9b43-f8fd76d93b5e",
   "metadata": {},
   "source": [
    "## Report "
   ]
  },
  {
   "cell_type": "markdown",
   "id": "2e661c15-c1ed-4512-a1d9-0fbdb8f91879",
   "metadata": {},
   "source": [
    "Explain what you programmed and what results you observed. Export this document as PDF including your code, the traces you obtained, and your explanations below (no more than a few paragraphs):"
   ]
  },
  {
   "cell_type": "code",
   "execution_count": null,
   "id": "2bbc0899-eee2-404a-baf6-47741067e7d9",
   "metadata": {},
   "outputs": [],
   "source": []
  }
 ],
 "metadata": {
  "kernelspec": {
   "display_name": "Python 3 (ipykernel)",
   "language": "python",
   "name": "python3"
  },
  "language_info": {
   "codemirror_mode": {
    "name": "ipython",
    "version": 3
   },
   "file_extension": ".py",
   "mimetype": "text/x-python",
   "name": "python",
   "nbconvert_exporter": "python",
   "pygments_lexer": "ipython3",
   "version": "3.9.5"
  }
 },
 "nbformat": 4,
 "nbformat_minor": 5
}
