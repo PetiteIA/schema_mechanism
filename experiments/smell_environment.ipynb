{
 "cells": [
  {
   "cell_type": "markdown",
   "id": "31363466-4c37-4eeb-8d5e-f55433eb5c6c",
   "metadata": {},
   "source": [
    "[![Open In Colab](https://colab.research.google.com/assets/colab-badge.svg)](https://colab.research.google.com/github/PetiteIA/schema_mechanism/blob/master/experiments/smell_environment.ipynb)"
   ]
  },
  {
   "cell_type": "markdown",
   "id": "821e96b8-9b03-444c-9cfc-988d3ed2d761",
   "metadata": {},
   "source": [
    "# THE SMELL ENVIRONMENT"
   ]
  },
  {
   "cell_type": "code",
   "execution_count": 1,
   "id": "192dfc92-c235-4750-b7f4-6f32c4aae2f1",
   "metadata": {},
   "outputs": [],
   "source": [
    "# Import necessary libraries\n",
    "import numpy as np\n",
    "import matplotlib.pyplot as plt\n",
    "from matplotlib.colors import ListedColormap, BoundaryNorm\n",
    "from ipywidgets import Button, HBox,VBox, Output\n",
    "from IPython.display import display"
   ]
  },
  {
   "cell_type": "markdown",
   "id": "99fb3ef1-0307-43d9-b6b8-84e19d3806c1",
   "metadata": {},
   "source": [
    "## Define the actions"
   ]
  },
  {
   "cell_type": "code",
   "execution_count": 2,
   "id": "35a0544b-e249-457e-9b30-3cf5e2a7e891",
   "metadata": {},
   "outputs": [],
   "source": [
    "FORWARD = 0\n",
    "TURN_LEFT = 1\n",
    "TURN_RIGHT = 2\n",
    "FEEL_FRONT = 3\n",
    "FEEL_LEFT = 4\n",
    "FEEL_RIGHT = 5"
   ]
  },
  {
   "cell_type": "markdown",
   "id": "cbe0b807-25a3-4536-9f90-40de2f737adf",
   "metadata": {},
   "source": [
    "## Define the feedbacks"
   ]
  },
  {
   "cell_type": "code",
   "execution_count": 44,
   "id": "c17bb9f6-9738-42b0-904d-bc2d1a3cbb34",
   "metadata": {},
   "outputs": [],
   "source": [
    "STABLE = 0\n",
    "BUMP = 1\n",
    "INCREASE_LEFT = 2\n",
    "INCREASE_RIGHT = 3\n",
    "INCREASE_FRONT = 4\n",
    "DECREASE = 5\n",
    "EAT = 6"
   ]
  },
  {
   "cell_type": "markdown",
   "id": "0b8fab38-bcd9-4175-ba11-7429554dc11b",
   "metadata": {},
   "source": [
    "## Define the environment "
   ]
  },
  {
   "cell_type": "markdown",
   "id": "87b86b10-06e3-4b6a-a84b-76c91a234013",
   "metadata": {},
   "source": [
    "Choose the palette with the help of https://coolors.co/palettes/trending"
   ]
  },
  {
   "cell_type": "code",
   "execution_count": 4,
   "id": "30d009d0-01ee-47b3-843e-bf00ae3e8402",
   "metadata": {},
   "outputs": [],
   "source": [
    "agent_color = \"#1976D2\"\n",
    "colors = [\"#D6D6D6\",   '#5C946E',  '#FAE2DB',        '#535865',      \"#F93943\", \"#E365C1\"]"
   ]
  },
  {
   "cell_type": "code",
   "execution_count": 5,
   "id": "69ef56ec-5304-46c1-9e0f-d30bb6265f3b",
   "metadata": {},
   "outputs": [],
   "source": [
    "save_dir = \"sav\"\n",
    "\n",
    "# Directions\n",
    "LEFT = 0\n",
    "DOWN = 1\n",
    "RIGHT = 2\n",
    "UP = 3\n",
    "# Display codes\n",
    "FEELING_EMPTY = 2\n",
    "FEELING_WALL = 3\n",
    "BUMPING = 4\n",
    "TARGET = 5"
   ]
  },
  {
   "cell_type": "code",
   "execution_count": 45,
   "id": "9a595631-06d6-43f2-abbb-f16c869403eb",
   "metadata": {},
   "outputs": [],
   "source": [
    "class SmallLoop():\n",
    "    def __init__(self, position, direction):\n",
    "        self.grid = np.array([\n",
    "            [1, 1, 1, 1, 1, 1], \n",
    "            [1, 0, 0, 0, 0, 1],\n",
    "            [1, 0, 0, 5, 0, 1],\n",
    "            [1, 0, 0, 0, 0, 1],\n",
    "            [1, 0, 0, 0, 0, 1],\n",
    "            [1, 1, 1, 1, 1, 1]\n",
    "        ])\n",
    "        self.maze = self.grid.copy()\n",
    "        self.position = np.array(position)  # Using NumPy array of shape (2)\n",
    "        self.direction = direction\n",
    "        self.cmap = ListedColormap(colors)\n",
    "        self.norm = BoundaryNorm([-0.5, 0.5, 1.5, 2.5, 3.5, 4.5, 5.5], self.cmap.N)\n",
    "        self.marker_size = 400\n",
    "        self.marker_map = {LEFT: '<', DOWN: 'v', RIGHT: '>', UP: '^'}\n",
    "        self.marker_color = agent_color\n",
    "        self.directions = np.array([\n",
    "            [0, -1],  # Left\n",
    "            [1, 0],   # Down\n",
    "            [0, 1],   # Right\n",
    "            [-1, 0]   # Up\n",
    "        ])\n",
    "        self.previous_smell = 0\n",
    "        self.smell_feedback = np.array([\n",
    "            [STABLE,   INCREASE_LEFT, INCREASE_RIGHT, INCREASE_FRONT], \n",
    "            [DECREASE, STABLE,        STABLE,         INCREASE_FRONT], \n",
    "            [DECREASE, STABLE,        STABLE,         INCREASE_FRONT], \n",
    "            [DECREASE, DECREASE,      DECREASE,       INCREASE_FRONT] \n",
    "        ])\n",
    "        \n",
    "\n",
    "    def smell(self):\n",
    "        \"\"\"Return the smell feedback: 1: smell left, 2: smell right, 3: smell front\"\"\"\n",
    "        smell_up_left = np.any(self.grid[:self.position[0]+1, :self.position[1]+1] == TARGET) \n",
    "        smell_up_right = np.any(self.grid[:self.position[0]+1, self.position[1]:] == TARGET) \n",
    "        smell_down_left = np.any(self.grid[self.position[0]:, :self.position[1]+1] == TARGET) \n",
    "        smell_down_right = np.any(self.grid[self.position[0]:, self.position[1]:] == TARGET) \n",
    "        print(f\"Smell up-left:{smell_up_left}, up-right:{smell_up_right}, down-left:{smell_down_left}, down-right:{smell_down_right}\")\n",
    "        smell_left = {LEFT: smell_down_left, DOWN: smell_down_right, RIGHT: smell_up_right, UP: smell_up_left}[self.direction]\n",
    "        smell_right = {LEFT: smell_up_left, DOWN: smell_down_left, RIGHT: smell_down_right, UP: smell_up_right}[self.direction]\n",
    "        smell = smell_left + 2 * smell_right \n",
    "        result = self.smell_feedback[self.previous_smell, smell]\n",
    "        self.previous_smell = smell\n",
    "        return result\n",
    "    \n",
    "    def outcome(self, action):\n",
    "        \"\"\"Update the grid. Return the outcome of the action.\"\"\"\n",
    "        result = STABLE\n",
    "\n",
    "        if action == FORWARD:  \n",
    "            target_position = self.position + self.directions[self.direction]\n",
    "            if self.grid[tuple(target_position)] in [0, TARGET]:  # Don't bump in targets\n",
    "                self.position[:] = target_position\n",
    "            else:\n",
    "                result = BUMP\n",
    "                self.maze[tuple(target_position)] = BUMPING\n",
    "        \n",
    "        elif action == TURN_RIGHT:\n",
    "            self.direction = {LEFT: UP, DOWN: LEFT, RIGHT: DOWN, UP: RIGHT}[self.direction]\n",
    "        \n",
    "        elif action == TURN_LEFT:\n",
    "            self.direction = {LEFT: DOWN, DOWN: RIGHT, RIGHT: UP, UP: LEFT}[self.direction]\n",
    "        \n",
    "        elif action == FEEL_FRONT:\n",
    "            feeling_position = self.position + self.directions[self.direction]\n",
    "            if self.grid[tuple(feeling_position)] == 0:\n",
    "                self.maze[tuple(feeling_position)] = FEELING_EMPTY\n",
    "            else:\n",
    "                result = BUMP\n",
    "                self.maze[tuple(feeling_position)] = FEELING_WALL\n",
    "        \n",
    "        elif action == FEEL_LEFT:\n",
    "            feeling_position = self.position + self.directions[(self.direction + 1) % 4]\n",
    "            if self.grid[tuple(feeling_position)] == 0:\n",
    "                self.maze[tuple(feeling_position)] = FEELING_EMPTY\n",
    "            else:\n",
    "                result = BUMP\n",
    "                self.maze[tuple(feeling_position)] = FEELING_WALL\n",
    "        \n",
    "        elif action == FEEL_RIGHT:\n",
    "            feeling_position = self.position + self.directions[self.direction - 1]\n",
    "            if self.grid[tuple(feeling_position)] == 0:\n",
    "                self.maze[tuple(feeling_position)] = FEELING_EMPTY\n",
    "            else:\n",
    "                result = BUMP\n",
    "                self.maze[tuple(feeling_position)] = FEELING_WALL\n",
    "\n",
    "        # Smell\n",
    "        smell_feedback = self.smell()\n",
    "        if self.grid[self.position[0], self.position[1]] == TARGET:\n",
    "            self.grid[self.position[0], self.position[1]] = 0\n",
    "            self.maze[self.position[0], self.position[1]] = 0\n",
    "            result = EAT\n",
    "        # If not bump then smell_feeback\n",
    "        if not result:\n",
    "            result = smell_feedback\n",
    "        \n",
    "        print(f\"Line: {self.position[0]}, Column: {self.position[1]}, direction: {self.direction}\")\n",
    "        return result  \n",
    "    \n",
    "    def display(self):\n",
    "        \"\"\"Display the grid in the notebook\"\"\"\n",
    "        out.clear_output(wait=True)\n",
    "        with out:\n",
    "            fig, ax = plt.subplots()\n",
    "            ax.imshow(self.maze, cmap=self.cmap, norm=self.norm)\n",
    "            plt.scatter(self.position[1], self.position[0], s=self.marker_size, marker=self.marker_map[self.direction], c=self.marker_color)\n",
    "            plt.show()\n",
    "    \n",
    "    def save(self, step):\n",
    "        \"\"\"Save the display as a PNG file\"\"\"\n",
    "        fig, ax = plt.subplots()\n",
    "        ax.set_xticks([])\n",
    "        ax.set_yticks([])\n",
    "        ax.axis('off')\n",
    "        ax.imshow(self.maze, cmap=self.cmap, norm=self.norm)\n",
    "        plt.scatter(self.position[1], self.position[0], s=self.marker_size, marker=self.marker_map[self.direction], c=self.marker_color)\n",
    "        ax.text(4.5, 0, f\"{step:>3}\", fontsize=12, color='White')\n",
    "        plt.savefig(f\"{save_dir}/{step:03}.png\", bbox_inches='tight', pad_inches=0, transparent=True)\n",
    "        plt.close(fig)\n",
    "    \n",
    "    def clear(self, clear):\n",
    "        \"\"\"Clear the grid display\"\"\"\n",
    "        if clear:\n",
    "            self.maze[:, :] = self.grid\n"
   ]
  },
  {
   "cell_type": "markdown",
   "id": "3711e90f-35d5-4357-9315-a8db5663a003",
   "metadata": {},
   "source": [
    "## Display the environment"
   ]
  },
  {
   "cell_type": "code",
   "execution_count": 46,
   "id": "c6babdbd-17a1-4c18-b3af-2211442a208d",
   "metadata": {},
   "outputs": [],
   "source": [
    "small_loop = SmallLoop([1, 1], 0)"
   ]
  },
  {
   "cell_type": "markdown",
   "id": "a623fba6-f665-4102-862f-3374a0534e85",
   "metadata": {},
   "source": [
    "Create the control buttons"
   ]
  },
  {
   "cell_type": "code",
   "execution_count": 47,
   "id": "d7e285c4-7934-40df-8d74-1459ec1a77b1",
   "metadata": {},
   "outputs": [],
   "source": [
    "def forward(change):\n",
    "    small_loop.outcome(FORWARD)\n",
    "    small_loop.display()\n",
    "    small_loop.clear(True)\n",
    "\n",
    "def turn_left(change):\n",
    "    small_loop.outcome(TURN_LEFT)\n",
    "    small_loop.display()\n",
    "    small_loop.clear(True)\n",
    "\n",
    "def turn_right(change):\n",
    "    small_loop.outcome(TURN_RIGHT)\n",
    "    small_loop.display()\n",
    "    small_loop.clear(True)\n",
    "\n",
    "def feel_left(change):\n",
    "    small_loop.outcome(FEEL_LEFT)\n",
    "    small_loop.display()\n",
    "    small_loop.clear(True)\n",
    "\n",
    "def feel_right(change):\n",
    "    small_loop.outcome(FEEL_RIGHT)\n",
    "    small_loop.display()\n",
    "    small_loop.clear(True)\n",
    "\n",
    "def feel_front(change):\n",
    "    small_loop.outcome(FEEL_FRONT)\n",
    "    small_loop.display()\n",
    "    small_loop.clear(True)\n",
    "\n",
    "def save(change):\n",
    "    small_loop.save(0)\n",
    "\n",
    "def target(change):\n",
    "    small_loop.grid[TARGET_L, TARGET_C] = TARGET\n",
    "    small_loop.maze[TARGET_L, TARGET_C] = TARGET\n",
    "    small_loop.display()\n",
    "    small_loop.clear(True)\n",
    "    \n",
    "\n",
    "# Create the buttons\n",
    "forward_button = Button(description=\"Forward\")\n",
    "left_button = Button(description=\"Turn left\")\n",
    "right_button = Button(description=\"Turn right\")\n",
    "feel_left_button = Button(description=\"Feel left\")\n",
    "feel_front_button = Button(description=\"Feel Front\")\n",
    "feel_right_button = Button(description=\"Feel right\")\n",
    "print_button = Button(description=\"Print\")\n",
    "target_button = Button(description=\"target\")\n",
    "\n",
    "# Bind button clicks to functions\n",
    "forward_button.on_click(forward)\n",
    "left_button.on_click(turn_left)\n",
    "right_button.on_click(turn_right)\n",
    "feel_left_button.on_click(feel_left)\n",
    "feel_right_button.on_click(feel_right)\n",
    "feel_front_button.on_click(feel_front)\n",
    "print_button.on_click(save)\n",
    "target_button.on_click(target)\n",
    "\n",
    "# Create the control bar\n",
    "buttons = HBox([forward_button, left_button, right_button, feel_front_button, feel_left_button, feel_right_button, target_button, print_button])"
   ]
  },
  {
   "cell_type": "code",
   "execution_count": 48,
   "id": "4c193106-db4c-444b-a076-3cf114535f3e",
   "metadata": {},
   "outputs": [],
   "source": [
    "TARGET_L = 3\n",
    "TARGET_C = 2"
   ]
  },
  {
   "cell_type": "code",
   "execution_count": 49,
   "id": "9607ce48-e6f6-47b7-a93c-aa1660abba83",
   "metadata": {},
   "outputs": [
    {
     "data": {
      "application/vnd.jupyter.widget-view+json": {
       "model_id": "0d38902156ce413ab5865d048ba403b9",
       "version_major": 2,
       "version_minor": 0
      },
      "text/plain": [
       "Output()"
      ]
     },
     "metadata": {},
     "output_type": "display_data"
    },
    {
     "data": {
      "application/vnd.jupyter.widget-view+json": {
       "model_id": "a901a9ee78cc4f1ea1fc55a254ac78d5",
       "version_major": 2,
       "version_minor": 0
      },
      "text/plain": [
       "HBox(children=(Button(description='Forward', style=ButtonStyle()), Button(description='Turn left', style=Butto…"
      ]
     },
     "metadata": {},
     "output_type": "display_data"
    }
   ],
   "source": [
    "out = Output()\n",
    "small_loop.display()\n",
    "display(out)\n",
    "display(buttons)"
   ]
  },
  {
   "cell_type": "markdown",
   "id": "7953bc26-6557-48f0-9d22-7483878d807f",
   "metadata": {},
   "source": [
    "## Enact actions"
   ]
  },
  {
   "cell_type": "markdown",
   "id": "2482d236-4f74-4875-9389-01c836bef1d8",
   "metadata": {},
   "source": [
    "Use `Ctrl+Enter` to run the cell below and stay on it."
   ]
  },
  {
   "cell_type": "code",
   "execution_count": 56,
   "id": "1bc8bc91-b0c8-412a-98eb-059149e0d0e3",
   "metadata": {},
   "outputs": [
    {
     "name": "stdout",
     "output_type": "stream",
     "text": [
      "Smell up-left:False, up-right:False, down-left:False, down-right:True\n",
      "Line: 1, Column: 1, direction: 0\n",
      "outcome: 1\n"
     ]
    }
   ],
   "source": [
    "result = small_loop.outcome(FORWARD) # 0\n",
    "small_loop.display()\n",
    "print(f\"outcome: {result}\") "
   ]
  },
  {
   "cell_type": "code",
   "execution_count": 57,
   "id": "e0c09757-0b96-45ac-b6ce-7d7d47c371ee",
   "metadata": {},
   "outputs": [
    {
     "name": "stdout",
     "output_type": "stream",
     "text": [
      "Smell up-left:False, up-right:False, down-left:False, down-right:True\n",
      "Line: 1, Column: 1, direction: 1\n",
      "outcome: 2\n"
     ]
    }
   ],
   "source": [
    "result = small_loop.outcome(TURN_LEFT) # 1\n",
    "small_loop.display()\n",
    "print(f\"outcome: {result}\") "
   ]
  },
  {
   "cell_type": "code",
   "execution_count": 52,
   "id": "58fde84c-0e37-40e9-ae4a-ef815d92871a",
   "metadata": {},
   "outputs": [
    {
     "name": "stdout",
     "output_type": "stream",
     "text": [
      "Smell up-left:False, up-right:False, down-left:False, down-right:True\n",
      "Line: 1, Column: 1, direction: 0\n",
      "outcome: 5\n"
     ]
    }
   ],
   "source": [
    "result = small_loop.outcome(TURN_RIGHT) # 2\n",
    "small_loop.display()\n",
    "print(f\"outcome: {result}\") "
   ]
  },
  {
   "cell_type": "code",
   "execution_count": 53,
   "id": "b6294cb4-5849-4eb2-a607-4ba28e34a2b2",
   "metadata": {},
   "outputs": [
    {
     "name": "stdout",
     "output_type": "stream",
     "text": [
      "Smell up-left:False, up-right:False, down-left:False, down-right:True\n",
      "Line: 1, Column: 1, direction: 0\n",
      "outcome: 1\n"
     ]
    }
   ],
   "source": [
    "result = small_loop.outcome(FEEL_FRONT) # 3\n",
    "small_loop.display()\n",
    "print(f\"outcome: {result}\") "
   ]
  },
  {
   "cell_type": "code",
   "execution_count": 54,
   "id": "ebdf71d6-61b4-4c27-94d4-cf564c027bf2",
   "metadata": {},
   "outputs": [
    {
     "name": "stdout",
     "output_type": "stream",
     "text": [
      "Smell up-left:False, up-right:False, down-left:False, down-right:True\n",
      "Line: 1, Column: 1, direction: 0\n",
      "outcome: 0\n"
     ]
    }
   ],
   "source": [
    "result = small_loop.outcome(FEEL_LEFT) # 4\n",
    "small_loop.display()\n",
    "print(f\"outcome: {result}\") "
   ]
  },
  {
   "cell_type": "code",
   "execution_count": 53,
   "id": "16267320-baa3-4b33-a083-f51086ad2444",
   "metadata": {},
   "outputs": [
    {
     "name": "stdout",
     "output_type": "stream",
     "text": [
      "Line: 1, Column: 1, direction: 0\n",
      "outcome: 1\n"
     ]
    }
   ],
   "source": [
    "result = small_loop.outcome(FEEL_RIGHT) # 5\n",
    "small_loop.display()\n",
    "print(f\"outcome: {result}\") "
   ]
  },
  {
   "cell_type": "code",
   "execution_count": null,
   "id": "4b48a969-4ff2-4dac-a042-ef7c88180744",
   "metadata": {},
   "outputs": [],
   "source": []
  }
 ],
 "metadata": {
  "kernelspec": {
   "display_name": "Python 3 (ipykernel)",
   "language": "python",
   "name": "python3"
  },
  "language_info": {
   "codemirror_mode": {
    "name": "ipython",
    "version": 3
   },
   "file_extension": ".py",
   "mimetype": "text/x-python",
   "name": "python",
   "nbconvert_exporter": "python",
   "pygments_lexer": "ipython3",
   "version": "3.9.5"
  }
 },
 "nbformat": 4,
 "nbformat_minor": 5
}
