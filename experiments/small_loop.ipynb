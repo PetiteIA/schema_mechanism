{
 "cells": [
  {
   "cell_type": "markdown",
   "id": "31363466-4c37-4eeb-8d5e-f55433eb5c6c",
   "metadata": {},
   "source": [
    "[![Open In Colab](https://colab.research.google.com/assets/colab-badge.svg)](https://colab.research.google.com/github/PetiteIA/schema_mechanism/blob/master/experiments/small_loop.ipynb)"
   ]
  },
  {
   "cell_type": "markdown",
   "id": "821e96b8-9b03-444c-9cfc-988d3ed2d761",
   "metadata": {},
   "source": [
    "# THE SMALL LOOP ENVIRONMENT"
   ]
  },
  {
   "cell_type": "code",
   "execution_count": 1,
   "id": "192dfc92-c235-4750-b7f4-6f32c4aae2f1",
   "metadata": {},
   "outputs": [],
   "source": [
    "# Import necessary libraries\n",
    "import numpy as np\n",
    "import matplotlib.pyplot as plt\n",
    "from matplotlib.colors import ListedColormap, BoundaryNorm\n",
    "from ipywidgets import Button, HBox,VBox, Output\n",
    "from IPython.display import display"
   ]
  },
  {
   "cell_type": "markdown",
   "id": "99fb3ef1-0307-43d9-b6b8-84e19d3806c1",
   "metadata": {},
   "source": [
    "## Define the actions"
   ]
  },
  {
   "cell_type": "code",
   "execution_count": 2,
   "id": "35a0544b-e249-457e-9b30-3cf5e2a7e891",
   "metadata": {},
   "outputs": [],
   "source": [
    "FORWARD = 0\n",
    "TURN_LEFT = 1\n",
    "TURN_RIGHT = 2\n",
    "FEEL_FRONT = 3\n",
    "FEEL_LEFT = 4\n",
    "FEEL_RIGHT = 5"
   ]
  },
  {
   "cell_type": "markdown",
   "id": "0b8fab38-bcd9-4175-ba11-7429554dc11b",
   "metadata": {},
   "source": [
    "## Define the environment "
   ]
  },
  {
   "cell_type": "code",
   "execution_count": 371,
   "id": "30d009d0-01ee-47b3-843e-bf00ae3e8402",
   "metadata": {},
   "outputs": [],
   "source": [
    "colors = ['white', 'green', 'yellow', 'yellow', 'red']\n",
    "colors = [\"#BE9CC7\", '#9F8DC3', '#E3BAD5', '#5C5792', \"red\"]\n",
    "agent_color = \"#211A44\"\n",
    "colors = [\"#eec9c9\", '#e8b6b6', '#f0f1f3', '#8b94a3', \"red\"]\n",
    "agent_color = \"#727c8f\"\n",
    "colors = [\"#cccccc\", '#a5a5a5', '#f2f2f2', '#7f7f7f', \"red\"]\n",
    "agent_color = \"#4392F1\"\n",
    "size = 200\n",
    "\n",
    "empty_color = '#D6D6D6'\n",
    "wall_color = '#5C946E'\n",
    "feel_empty_color = '#FAE2DB'\n",
    "feel_wall_color = '#535865'\n",
    "bump_color = \"#F93943\"  # \"#BB342F\"  # \"#F62DAE\"\n",
    "agent_color = \"#1976D2\"\n",
    "colors = [empty_color, wall_color, feel_empty_color, feel_wall_color, bump_color]\n",
    "#colors = [\"#D6D6D6\", '#5C946E', '#FAE2DB', '#535865', \"#F93943\"]\n"
   ]
  },
  {
   "cell_type": "code",
   "execution_count": 372,
   "id": "69ef56ec-5304-46c1-9e0f-d30bb6265f3b",
   "metadata": {},
   "outputs": [],
   "source": [
    "LEFT = 0\n",
    "DOWN = 1\n",
    "RIGHT = 2\n",
    "UP = 3\n",
    "FEELING_EMPTY = 2\n",
    "FEELING_WALL = 3\n",
    "BUMPING = 4\n",
    "\n",
    "class SmallLoop():\n",
    "    def __init__(self, poX, poY, direction):\n",
    "        self.grid = np.array([\n",
    "            [1, 1, 1, 1, 1, 1, 1, 1, 1, 1],\n",
    "            [1, 0, 0, 0, 1, 1, 0, 0, 1, 1],\n",
    "            [1, 0, 1, 0, 0, 1, 1, 0, 0, 1],\n",
    "            [1, 0, 1, 1, 0, 1, 1, 1, 0, 1],\n",
    "            [1, 0, 0, 0, 0, 1, 1, 1, 0, 1],\n",
    "            [1, 1, 1, 1, 1, 1, 1, 1, 0, 1],\n",
    "            [1, 0, 1, 1, 1, 1, 1, 1, 0, 1],\n",
    "            [1, 0, 0, 1, 1, 1, 1, 1, 0, 1],\n",
    "            [1, 1, 0, 0, 0, 0, 0, 0, 0, 1],\n",
    "            [1, 1, 1, 1, 1, 1, 1, 1, 1, 1]\n",
    "        ])\n",
    "        self.maze = self.grid.copy()\n",
    "        self.poX = poX\n",
    "        self.poY = poY\n",
    "        self.direction = direction\n",
    "        self.cmap = ListedColormap(colors)\n",
    "        self.norm = BoundaryNorm([-0.5, 0.5, 1.5, 2.5, 3.5, 4.5], self.cmap.N)\n",
    "\n",
    "    def outcome(self, action):\n",
    "        # print('before:', self.agent_position.strPosition(), action_dcit[action])\n",
    "        self.maze[:,:] = self.grid\n",
    "        result = 0\n",
    "        \n",
    "        if action == FORWARD:  # move forward\n",
    "            # print('the action is move forward')\n",
    "            # print(str(self.position.pointX)+': '+ str(self.position.pointY)+ ' ' +self.direction, action)\n",
    "        \n",
    "            if self.direction == LEFT:\n",
    "                if self.maze[self.poX][self.poY - 1] == 0:\n",
    "                    self.poY -= 1\n",
    "                else:\n",
    "                    self.maze[self.poX][self.poY - 1] = BUMPING\n",
    "                    result = 1\n",
    "            elif self.direction == DOWN:\n",
    "                if self.maze[self.poX + 1][self.poY] == 0:\n",
    "                    self.poX += 1\n",
    "                else:\n",
    "                    self.maze[self.poX + 1][self.poY] = BUMPING\n",
    "                    result = 1\n",
    "            elif self.direction == RIGHT:\n",
    "                if self.maze[self.poX][self.poY + 1] == 0:\n",
    "                    self.poY += 1\n",
    "                else:\n",
    "                    self.maze[self.poX][self.poY + 1] = BUMPING\n",
    "                    result = 1\n",
    "            elif self.direction == UP:\n",
    "                if self.maze[self.poX - 1][self.poY] == 0:\n",
    "                    self.poX -= 1\n",
    "                else:\n",
    "                    self.maze[self.poX - 1][self.poY] = BUMPING\n",
    "                    result = 1\n",
    "            # print(str(self.position.pointX)+': '+ str(self.position.pointY)+ ' ' +self.direction, action)\n",
    "        elif action == TURN_RIGHT:\n",
    "            if self.direction == LEFT:\n",
    "                self.direction = UP\n",
    "            elif self.direction == DOWN:\n",
    "                self.direction = LEFT\n",
    "            elif self.direction == RIGHT:\n",
    "                self.direction = DOWN\n",
    "            elif self.direction == UP:\n",
    "                self.direction = RIGHT\n",
    "        elif action == TURN_LEFT:\n",
    "            if self.direction == LEFT:\n",
    "                self.direction = DOWN\n",
    "            elif self.direction == DOWN:\n",
    "                self.direction = RIGHT\n",
    "            elif self.direction == RIGHT:\n",
    "                self.direction = UP\n",
    "            elif self.direction == UP:\n",
    "                self.direction = LEFT\n",
    "        elif action == FEEL_FRONT:\n",
    "            if self.direction == LEFT:\n",
    "                if self.maze[self.poX][self.poY - 1] == 0:\n",
    "                    self.maze[self.poX][self.poY - 1] = FEELING_EMPTY\n",
    "                else:\n",
    "                    result = 1\n",
    "                    self.maze[self.poX][self.poY - 1] = FEELING_WALL\n",
    "            elif self.direction == DOWN:\n",
    "                if self.maze[self.poX + 1][self.poY] == 0:\n",
    "                    self.maze[self.poX + 1][self.poY] = FEELING_EMPTY\n",
    "                else:\n",
    "                    result = 1\n",
    "                    self.maze[self.poX + 1][self.poY] = FEELING_WALL\n",
    "            elif self.direction == RIGHT:\n",
    "                if self.maze[self.poX][self.poY + 1] == 0:\n",
    "                    self.maze[self.poX][self.poY + 1] = FEELING_EMPTY\n",
    "                else:\n",
    "                    result = 1\n",
    "                    self.maze[self.poX][self.poY + 1] = FEELING_WALL\n",
    "            elif self.direction == UP:\n",
    "                if self.maze[self.poX - 1][self.poY] == 0:\n",
    "                    self.maze[self.poX - 1][self.poY] = FEELING_EMPTY\n",
    "                else:\n",
    "                    result = 1\n",
    "                    self.maze[self.poX - 1][self.poY] = FEELING_WALL\n",
    "        elif action == FEEL_LEFT:\n",
    "            if self.direction == LEFT:\n",
    "                if self.maze[self.poX + 1][self.poY] == 0:\n",
    "                    self.maze[self.poX + 1][self.poY] = FEELING_EMPTY\n",
    "                else:\n",
    "                    result = 1\n",
    "                    self.maze[self.poX + 1][self.poY] = FEELING_WALL\n",
    "            elif self.direction == DOWN:\n",
    "                if self.maze[self.poX][self.poY + 1] == 0:\n",
    "                    self.maze[self.poX][self.poY + 1] = FEELING_EMPTY\n",
    "                else:\n",
    "                    result = 1\n",
    "                    self.maze[self.poX][self.poY + 1] = FEELING_WALL\n",
    "            elif self.direction == RIGHT:\n",
    "                if self.maze[self.poX - 1][self.poY] == 0:\n",
    "                    self.maze[self.poX - 1][self.poY] = FEELING_EMPTY\n",
    "                else:\n",
    "                    result = 1\n",
    "                    self.maze[self.poX - 1][self.poY] = FEELING_WALL\n",
    "            elif self.direction == UP:\n",
    "                if self.maze[self.poX][self.poY - 1] == 0:\n",
    "                    self.maze[self.poX][self.poY - 1] = FEELING_EMPTY\n",
    "                else:\n",
    "                    result = 1\n",
    "                    self.maze[self.poX][self.poY - 1] = FEELING_WALL\n",
    "        elif action == FEEL_RIGHT:\n",
    "            if self.direction == LEFT:\n",
    "                if self.maze[self.poX - 1][self.poY] == 0:\n",
    "                    self.maze[self.poX - 1][self.poY] = FEELING_EMPTY\n",
    "                else:\n",
    "                    result = 1\n",
    "                    self.maze[self.poX - 1][self.poY] = FEELING_WALL\n",
    "            elif self.direction == DOWN:\n",
    "                if self.maze[self.poX][self.poY - 1] == 0:\n",
    "                    self.maze[self.poX][self.poY - 1] = FEELING_EMPTY\n",
    "                else:\n",
    "                    result = 1\n",
    "                    self.maze[self.poX][self.poY - 1] = FEELING_WALL\n",
    "            elif self.direction == RIGHT:\n",
    "                if self.maze[self.poX + 1][self.poY] == 0:\n",
    "                    self.maze[self.poX + 1][self.poY] = FEELING_EMPTY\n",
    "                else:\n",
    "                    result = 1\n",
    "                    self.maze[self.poX + 1][self.poY] = FEELING_WALL\n",
    "            elif self.direction == UP:\n",
    "                if self.maze[self.poX][self.poY + 1] == 0:\n",
    "                    self.maze[self.poX][self.poY + 1] = FEELING_EMPTY\n",
    "                else:\n",
    "                    result = 1\n",
    "                    self.maze[self.poX][self.poY + 1] = FEELING_WALL\n",
    "        print(f\"Line: {self.poX}, Column: {self.poY}, direction: {self.direction}\")\n",
    "        # return self.position,\n",
    "\n",
    "        return result  \n",
    "    \n",
    "    def display(self):\n",
    "        out.clear_output(wait=True)\n",
    "        with out:\n",
    "            fig, ax = plt.subplots()\n",
    "            # ax.set_xticks([])\n",
    "            # ax.set_yticks([])\n",
    "            # ax.axis('off')\n",
    "            # ax.imshow(self.maze, cmap='Greens', vmin=0, vmax=2)\n",
    "            ax.imshow(self.maze, cmap=self.cmap, norm=self.norm)\n",
    "            if self.direction == LEFT:\n",
    "                # Y is column and X is line\n",
    "                plt.scatter(self.poY, self.poX, s=size, marker='<', c=agent_color)\n",
    "            elif self.direction == DOWN:\n",
    "                plt.scatter(self.poY, self.poX, s=size, marker='v', c=agent_color)\n",
    "            elif self.direction == RIGHT:\n",
    "                plt.scatter(self.poY, self.poX, s=size, marker='>', c=agent_color)\n",
    "            else: # UP\n",
    "                plt.scatter(self.poY, self.poX, s=size, marker='^', c=agent_color)\n",
    "            plt.show()\n",
    "\n",
    "    def save(self, step):\n",
    "        \"\"\"\n",
    "        save the display as png file\n",
    "        \"\"\"\n",
    "        fig, ax = plt.subplots()\n",
    "        ax.set_xticks([])\n",
    "        ax.set_yticks([])\n",
    "        ax.axis('off')\n",
    "        ax.imshow(self.maze, cmap='Greens', vmin=0, vmax=2)\n",
    "        ax.imshow(self.maze, cmap=self.cmap, norm=self.norm)\n",
    "        if self.direction == LEFT:\n",
    "            # Y is column and X is line\n",
    "            plt.scatter(self.poY, self.poX, s=size, marker='<', c=agent_color)\n",
    "        elif self.direction == DOWN:\n",
    "            plt.scatter(self.poY, self.poX, s=size, marker='v', c=agent_color)\n",
    "        elif self.direction == RIGHT:\n",
    "            plt.scatter(self.poY, self.poX, s=size, marker='>', c=agent_color)\n",
    "        else: # UP\n",
    "            plt.scatter(self.poY, self.poX, s=size, marker='^', c=agent_color)\n",
    "\n",
    "        # Add number in plot\n",
    "        ax.text(4, 0, f\"{step:>3}\", fontsize=12, color='White')\n",
    "        plt.savefig(f\"{save_dir}/{step:03}.png\", bbox_inches='tight', pad_inches=0, transparent=True)\n",
    "        plt.close(fig)"
   ]
  },
  {
   "cell_type": "markdown",
   "id": "3711e90f-35d5-4357-9315-a8db5663a003",
   "metadata": {},
   "source": [
    "## Display the environment"
   ]
  },
  {
   "cell_type": "code",
   "execution_count": 373,
   "id": "c6babdbd-17a1-4c18-b3af-2211442a208d",
   "metadata": {},
   "outputs": [],
   "source": [
    "small_loop = SmallLoop(1, 1, 0)"
   ]
  },
  {
   "cell_type": "markdown",
   "id": "a623fba6-f665-4102-862f-3374a0534e85",
   "metadata": {},
   "source": [
    "Create the control buttons"
   ]
  },
  {
   "cell_type": "code",
   "execution_count": 374,
   "id": "d7e285c4-7934-40df-8d74-1459ec1a77b1",
   "metadata": {},
   "outputs": [],
   "source": [
    "def forward(change):\n",
    "    small_loop.outcome(FORWARD)\n",
    "    small_loop.display()\n",
    "\n",
    "def turn_left(change):\n",
    "    small_loop.outcome(TURN_LEFT)\n",
    "    small_loop.display()\n",
    "\n",
    "def turn_right(change):\n",
    "    small_loop.outcome(TURN_RIGHT)\n",
    "    small_loop.display()\n",
    "\n",
    "def feel_left(change):\n",
    "    small_loop.outcome(FEEL_LEFT)\n",
    "    small_loop.display()\n",
    "\n",
    "def feel_right(change):\n",
    "    small_loop.outcome(FEEL_RIGHT)\n",
    "    small_loop.display()\n",
    "\n",
    "def feel_front(change):\n",
    "    small_loop.outcome(FEEL_FRONT)\n",
    "    small_loop.display()\n",
    "\n",
    "# Create Start and Stop buttons\n",
    "forward_button = Button(description=\"Forward\")\n",
    "left_button = Button(description=\"Turn left\")\n",
    "right_button = Button(description=\"Turn right\")\n",
    "feel_left_button = Button(description=\"Feel left\")\n",
    "feel_front_button = Button(description=\"Feel Front\")\n",
    "feel_right_button = Button(description=\"Feel right\")\n",
    "\n",
    "# Bind button clicks to functions\n",
    "forward_button.on_click(forward)\n",
    "left_button.on_click(turn_left)\n",
    "right_button.on_click(turn_right)\n",
    "feel_left_button.on_click(feel_left)\n",
    "feel_right_button.on_click(feel_right)\n",
    "feel_front_button.on_click(feel_front)\n",
    "\n",
    "# Create the control bar\n",
    "buttons = HBox([forward_button, left_button, right_button, feel_front_button, feel_left_button, feel_right_button])"
   ]
  },
  {
   "cell_type": "code",
   "execution_count": 375,
   "id": "9607ce48-e6f6-47b7-a93c-aa1660abba83",
   "metadata": {},
   "outputs": [
    {
     "data": {
      "application/vnd.jupyter.widget-view+json": {
       "model_id": "6e876682e4df4dfd82eb9bc217a1e973",
       "version_major": 2,
       "version_minor": 0
      },
      "text/plain": [
       "Output()"
      ]
     },
     "metadata": {},
     "output_type": "display_data"
    },
    {
     "data": {
      "application/vnd.jupyter.widget-view+json": {
       "model_id": "51e857b6a87f478898c88f414cb15d98",
       "version_major": 2,
       "version_minor": 0
      },
      "text/plain": [
       "HBox(children=(Button(description='Forward', style=ButtonStyle()), Button(description='Turn left', style=Butto…"
      ]
     },
     "metadata": {},
     "output_type": "display_data"
    }
   ],
   "source": [
    "out = Output()\n",
    "small_loop.display()\n",
    "display(out)\n",
    "display(buttons)"
   ]
  },
  {
   "cell_type": "markdown",
   "id": "7953bc26-6557-48f0-9d22-7483878d807f",
   "metadata": {},
   "source": [
    "## Enact actions"
   ]
  },
  {
   "cell_type": "markdown",
   "id": "2482d236-4f74-4875-9389-01c836bef1d8",
   "metadata": {},
   "source": [
    "Use `Ctrl+Enter` to run the cell below and stay on it."
   ]
  },
  {
   "cell_type": "code",
   "execution_count": 11,
   "id": "1bc8bc91-b0c8-412a-98eb-059149e0d0e3",
   "metadata": {},
   "outputs": [
    {
     "name": "stdout",
     "output_type": "stream",
     "text": [
      "Line: 4, Column: 1, direction: 1\n",
      "outcome: 0\n"
     ]
    }
   ],
   "source": [
    "result = small_loop.outcome(FORWARD) # 0\n",
    "small_loop.display()\n",
    "print(f\"outcome: {result}\") "
   ]
  },
  {
   "cell_type": "code",
   "execution_count": 109,
   "id": "e0c09757-0b96-45ac-b6ce-7d7d47c371ee",
   "metadata": {},
   "outputs": [
    {
     "name": "stdout",
     "output_type": "stream",
     "text": [
      "Line: 1, Column: 1, direction: 1\n",
      "outcome: 0\n"
     ]
    }
   ],
   "source": [
    "result = small_loop.outcome(TURN_LEFT) # 1\n",
    "small_loop.display()\n",
    "print(f\"outcome: {result}\") "
   ]
  },
  {
   "cell_type": "code",
   "execution_count": 117,
   "id": "58fde84c-0e37-40e9-ae4a-ef815d92871a",
   "metadata": {},
   "outputs": [
    {
     "name": "stdout",
     "output_type": "stream",
     "text": [
      "Line: 1, Column: 1, direction: 3\n",
      "outcome: 0\n"
     ]
    }
   ],
   "source": [
    "result = small_loop.outcome(TURN_RIGHT) # 2\n",
    "small_loop.display()\n",
    "print(f\"outcome: {result}\") "
   ]
  },
  {
   "cell_type": "code",
   "execution_count": 108,
   "id": "b6294cb4-5849-4eb2-a607-4ba28e34a2b2",
   "metadata": {},
   "outputs": [
    {
     "name": "stdout",
     "output_type": "stream",
     "text": [
      "Line: 1, Column: 1, direction: 0\n",
      "outcome: 1\n"
     ]
    }
   ],
   "source": [
    "result = small_loop.outcome(FEEL_FRONT) # 3\n",
    "small_loop.display()\n",
    "print(f\"outcome: {result}\") "
   ]
  },
  {
   "cell_type": "code",
   "execution_count": 105,
   "id": "ebdf71d6-61b4-4c27-94d4-cf564c027bf2",
   "metadata": {},
   "outputs": [
    {
     "name": "stdout",
     "output_type": "stream",
     "text": [
      "Line: 1, Column: 1, direction: 0\n",
      "outcome: 0\n"
     ]
    }
   ],
   "source": [
    "result = small_loop.outcome(FEEL_LEFT) # 4\n",
    "small_loop.display()\n",
    "print(f\"outcome: {result}\") "
   ]
  },
  {
   "cell_type": "code",
   "execution_count": 107,
   "id": "16267320-baa3-4b33-a083-f51086ad2444",
   "metadata": {},
   "outputs": [
    {
     "name": "stdout",
     "output_type": "stream",
     "text": [
      "Line: 1, Column: 1, direction: 0\n",
      "outcome: 1\n"
     ]
    }
   ],
   "source": [
    "result = small_loop.outcome(FEEL_RIGHT) # 5\n",
    "small_loop.display()\n",
    "print(f\"outcome: {result}\") "
   ]
  }
 ],
 "metadata": {
  "kernelspec": {
   "display_name": "Python 3 (ipykernel)",
   "language": "python",
   "name": "python3"
  },
  "language_info": {
   "codemirror_mode": {
    "name": "ipython",
    "version": 3
   },
   "file_extension": ".py",
   "mimetype": "text/x-python",
   "name": "python",
   "nbconvert_exporter": "python",
   "pygments_lexer": "ipython3",
   "version": "3.9.5"
  }
 },
 "nbformat": 4,
 "nbformat_minor": 5
}
