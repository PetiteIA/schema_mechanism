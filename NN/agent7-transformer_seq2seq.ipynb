{
 "cells": [
  {
   "cell_type": "markdown",
   "id": "763061df-82d1-4195-832d-534ddb711dae",
   "metadata": {},
   "source": [
    "# TRANSFORMER FOR SEQUENCE TO SEQUENCE WITH PADDING"
   ]
  },
  {
   "cell_type": "markdown",
   "id": "75a5f818-142b-4e2e-9e71-bcf99ccaa0ba",
   "metadata": {},
   "source": [
    "Ce notebook montre un transformer pour la génération de séquence à  partr des séquences enregitrées par l'Agent12"
   ]
  },
  {
   "cell_type": "code",
   "execution_count": 2,
   "id": "4aad2bb6-fbd1-4322-9dce-c48ffb25e80f",
   "metadata": {},
   "outputs": [],
   "source": [
    "import torch\n",
    "import torch.nn as nn\n",
    "from torch.utils.data import Dataset, DataLoader\n",
    "from torch.nn.utils.rnn import pad_sequence\n",
    "\n",
    "# --- Configuration ---\n",
    "\n",
    "VOCAB_SIZE = 13  # 10 tokens + <sos>=9, <eos>=11, <pad>=12\n",
    "SOS_TOKEN = 9\n",
    "EOS_TOKEN = 11\n",
    "PAD_TOKEN = 12\n",
    "DEVICE = torch.device('cuda' if torch.cuda.is_available() else 'cpu')"
   ]
  },
  {
   "cell_type": "markdown",
   "id": "9636ab03-423b-4716-8545-66453efe483a",
   "metadata": {},
   "source": [
    "## On crée un dataloader qui se charge d'ajouter les SOS_TOKEN, EOS_TOKEN et PAD_TOKEN"
   ]
  },
  {
   "cell_type": "code",
   "execution_count": 3,
   "id": "44782002-e0fc-4903-ba5d-3f984f6ffc2e",
   "metadata": {},
   "outputs": [],
   "source": [
    "# --- 1. Dataset & DataLoader ---\n",
    "\n",
    "class Seq2SeqDataset(Dataset):\n",
    "    def __init__(self, sequences):\n",
    "        self.data = []\n",
    "        for src, tgt in sequences:\n",
    "            tgt_input = [SOS_TOKEN] + tgt\n",
    "            tgt_output = tgt + [EOS_TOKEN]\n",
    "            self.data.append((torch.tensor(src), torch.tensor(tgt_input), torch.tensor(tgt_output)))\n",
    "\n",
    "    def __len__(self):\n",
    "        return len(self.data)\n",
    "\n",
    "    def __getitem__(self, idx):\n",
    "        return self.data[idx]\n",
    "\n",
    "def collate_fn(batch):\n",
    "    src_batch, tgt_in_batch, tgt_out_batch = zip(*batch)\n",
    "\n",
    "    src_padded = pad_sequence(src_batch, batch_first=True, padding_value=PAD_TOKEN)\n",
    "    tgt_in_padded = pad_sequence(tgt_in_batch, batch_first=True, padding_value=PAD_TOKEN)\n",
    "    tgt_out_padded = pad_sequence(tgt_out_batch, batch_first=True, padding_value=PAD_TOKEN)\n",
    "\n",
    "    return src_padded, tgt_in_padded, tgt_out_padded\n",
    "\n",
    "def get_dataloader(sequences, batch_size=32):\n",
    "    dataset = Seq2SeqDataset(sequences)\n",
    "    return DataLoader(dataset, batch_size=batch_size, shuffle=True, collate_fn=collate_fn)\n"
   ]
  },
  {
   "cell_type": "markdown",
   "id": "7743714f-5304-4762-b5de-09ab55956145",
   "metadata": {},
   "source": [
    "## On crée le modèle"
   ]
  },
  {
   "cell_type": "code",
   "execution_count": 4,
   "id": "a9a71049-facb-4496-898f-ed5f41f89616",
   "metadata": {},
   "outputs": [],
   "source": [
    "# --- 2. Transformer Model ---\n",
    "\n",
    "class SimpleTransformer(nn.Module):\n",
    "    def __init__(self, vocab_size, d_model=64, nhead=4, num_layers=2):\n",
    "        super().__init__()\n",
    "        self.embedding = nn.Embedding(vocab_size, d_model, padding_idx=PAD_TOKEN)\n",
    "        self.pos_encoding = nn.Parameter(torch.randn(512, d_model))  # max sequence length\n",
    "\n",
    "        encoder_layer = nn.TransformerEncoderLayer(d_model=d_model, nhead=nhead)\n",
    "        decoder_layer = nn.TransformerDecoderLayer(d_model=d_model, nhead=nhead)\n",
    "\n",
    "        self.encoder = nn.TransformerEncoder(encoder_layer, num_layers=num_layers)\n",
    "        self.decoder = nn.TransformerDecoder(decoder_layer, num_layers=num_layers)\n",
    "\n",
    "        self.output_linear = nn.Linear(d_model, vocab_size)\n",
    "\n",
    "    def forward(self, src, tgt_in, src_key_padding_mask, tgt_key_padding_mask, tgt_mask):\n",
    "        src_emb = self.embedding(src) + self.pos_encoding[:src.size(1)]\n",
    "        tgt_emb = self.embedding(tgt_in) + self.pos_encoding[:tgt_in.size(1)]\n",
    "\n",
    "        src_emb = src_emb.permute(1, 0, 2)  # (seq, batch, embed)\n",
    "        tgt_emb = tgt_emb.permute(1, 0, 2)\n",
    "\n",
    "        memory = self.encoder(src_emb, src_key_padding_mask=src_key_padding_mask)\n",
    "        out = self.decoder(\n",
    "            tgt_emb,\n",
    "            memory,\n",
    "            tgt_mask=tgt_mask,\n",
    "            tgt_key_padding_mask=tgt_key_padding_mask,\n",
    "            memory_key_padding_mask=src_key_padding_mask\n",
    "        )\n",
    "        out = self.output_linear(out)\n",
    "        return out.permute(1, 0, 2)  # (batch, seq, vocab)\n",
    "\n",
    "    def generate_square_subsequent_mask(self, sz):\n",
    "        mask = torch.triu(torch.ones(sz, sz) * float('-inf'), diagonal=1)\n",
    "        return mask.to(DEVICE)\n"
   ]
  },
  {
   "cell_type": "markdown",
   "id": "8c40e122-cf75-4aca-a179-4b51ae1cac8c",
   "metadata": {},
   "source": [
    "## La fonction d'entrainement"
   ]
  },
  {
   "cell_type": "code",
   "execution_count": 44,
   "id": "75874eeb-4c39-4fae-999d-6a5a2d2090df",
   "metadata": {},
   "outputs": [],
   "source": [
    "def train_model(model, dataloader, num_epochs=10):\n",
    "    model.train()\n",
    "    criterion = nn.CrossEntropyLoss(ignore_index=PAD_TOKEN)\n",
    "    optimizer = torch.optim.Adam(model.parameters(), lr=1e-3)\n",
    "\n",
    "    for epoch in range(num_epochs):\n",
    "        model.train()\n",
    "        total_loss = 0\n",
    "        correct = 0\n",
    "        total = 0\n",
    "\n",
    "        for src, tgt_in, tgt_out in dataloader:\n",
    "            src, tgt_in, tgt_out = src.to(DEVICE), tgt_in.to(DEVICE), tgt_out.to(DEVICE)\n",
    "\n",
    "            src_pad_mask = (src == PAD_TOKEN)\n",
    "            tgt_pad_mask = (tgt_in == PAD_TOKEN)\n",
    "            tgt_mask = model.generate_square_subsequent_mask(tgt_in.size(1))\n",
    "\n",
    "            output = model(src, tgt_in, src_pad_mask, tgt_pad_mask, tgt_mask)\n",
    "\n",
    "            loss = criterion(output.reshape(-1, VOCAB_SIZE), tgt_out.reshape(-1))\n",
    "\n",
    "            optimizer.zero_grad()\n",
    "            loss.backward()\n",
    "            optimizer.step()\n",
    "            total_loss += loss.item()\n",
    "\n",
    "            # Accuracy computation\n",
    "            predicted = output.argmax(dim=-1)  # (batch_size, seq_len)\n",
    "            mask = (tgt_out != PAD_TOKEN)\n",
    "            correct += (predicted == tgt_out).masked_select(mask).sum().item()\n",
    "            total += mask.sum().item()\n",
    "\n",
    "        accuracy = 100 * correct / total if total > 0 else 0\n",
    "        print(f\"Epoch {epoch + 1}, Loss: {total_loss:.4f}, Accuracy: {accuracy:.2f}%\")\n"
   ]
  },
  {
   "cell_type": "markdown",
   "id": "8cbe0c4d-8de0-47dd-a67b-5bae2fdd1e6b",
   "metadata": {},
   "source": [
    "## La fonction de génération"
   ]
  },
  {
   "cell_type": "code",
   "execution_count": 45,
   "id": "9e18f515-e7bd-436f-9832-3b0833e3a0ec",
   "metadata": {},
   "outputs": [],
   "source": [
    "# --- 4. Generation Function ---\n",
    "\n",
    "def generate_sequence(model, input_sequence, max_len=50):\n",
    "    model.eval()\n",
    "    src = torch.tensor([input_sequence], dtype=torch.long).to(DEVICE)\n",
    "    src_pad_mask = (src == PAD_TOKEN)\n",
    "    src_emb = model.embedding(src) + model.pos_encoding[:src.size(1)]\n",
    "    memory = model.encoder(src_emb.permute(1, 0, 2), src_key_padding_mask=src_pad_mask)\n",
    "\n",
    "    generated = [SOS_TOKEN]\n",
    "    for _ in range(max_len):\n",
    "        tgt = torch.tensor([generated], dtype=torch.long).to(DEVICE)\n",
    "        tgt_pad_mask = (tgt == PAD_TOKEN)\n",
    "        tgt_mask = model.generate_square_subsequent_mask(tgt.size(1))\n",
    "\n",
    "        tgt_emb = model.embedding(tgt) + model.pos_encoding[:tgt.size(1)]\n",
    "        out = model.decoder(\n",
    "            tgt_emb.permute(1, 0, 2),\n",
    "            memory,\n",
    "            tgt_mask=tgt_mask,\n",
    "            tgt_key_padding_mask=tgt_pad_mask,\n",
    "            memory_key_padding_mask=src_pad_mask\n",
    "        )\n",
    "        logits = model.output_linear(out[-1])\n",
    "        next_token = torch.argmax(logits, dim=-1).item()\n",
    "        if next_token == EOS_TOKEN:\n",
    "            break\n",
    "        generated.append(next_token)\n",
    "    return generated[1:]  # remove <sos>\n"
   ]
  },
  {
   "cell_type": "markdown",
   "id": "3dc2bf77-0fec-4562-bdfa-9f85dd486e21",
   "metadata": {},
   "source": [
    "# Testons avec les séquences générées par l'agent 12"
   ]
  },
  {
   "cell_type": "code",
   "execution_count": 46,
   "id": "8cfb8458-097d-4815-acdb-e99c364d3adc",
   "metadata": {},
   "outputs": [],
   "source": [
    "# Séquences de longueur totale 2 à 20\n",
    "\n",
    "train_data = [[[0], [1]], [[1], [1]], [[0, 1], [1]], [[0], [1, 1]], [[1], [3]], [[1, 1], [3]], [[1], [1, 3]], [[0, 1], [1, 3]], [[3], [1]], [[1, 3], [1]], [[1], [3, 1]], [[1, 1], [3, 1]], [[1], [4]], [[3, 1], [4]], [[3], [1, 4]], [[1, 3], [1, 4]], [[4], [1]], [[1, 4], [1]], [[1], [4, 1]], [[3, 1], [4, 1]], [[1], [7]], [[4, 1], [7]], [[4], [1, 7]], [[1, 4], [1, 7]], [[7], [1]], [[1, 7], [1]], [[1], [7, 1]], [[4, 1], [7, 1]], [[1], [8]], [[7, 1], [8]], [[7], [1, 8]], [[1, 7], [1, 8]], [[8], [0]], [[1, 8], [0]], [[1], [8, 0]], [[7, 1], [8, 0]], [[0], [2]], [[8, 0], [2]], [[8], [0, 2]], [[1, 8], [0, 2]], [[2], [0]], [[0, 2], [0]], [[0], [2, 0]], [[8, 0], [2, 0]], [[2, 0], [2, 0]], [[2], [0, 2, 0]], [[0, 2], [0, 2, 0]], [[2, 0], [3]], [[0, 2, 0], [3]], [[0], [2, 0, 3]], [[2, 0], [2, 0, 3]], [[3], [3]], [[2, 0, 3], [3]], [[2, 0], [3, 3]], [[0, 2, 0], [3, 3]], [[3], [4]], [[3, 3], [4]], [[3], [3, 4]], [[2, 0, 3], [3, 4]], [[4], [3]], [[3, 4], [3]], [[3], [4, 3]], [[3, 3], [4, 3]], [[3], [7]], [[4, 3], [7]], [[4], [3, 7]], [[3, 4], [3, 7]], [[7], [3]], [[3, 7], [3]], [[3], [7, 3]], [[4, 3], [7, 3]], [[3], [8]], [[7, 3], [8]], [[7], [3, 8]], [[3, 7], [3, 8]], [[3, 8], [0, 2]], [[3], [8, 0, 2]], [[7, 3], [8, 0, 2]], [[8, 0, 2], [0, 2, 0]], [[8], [0, 2, 0, 2, 0]], [[3, 8], [0, 2, 0, 2, 0]], [[0, 2, 0, 2, 0], [3]], [[0, 2], [0, 2, 0, 3]], [[8, 0, 2], [0, 2, 0, 3]], [[3], [10]], [[0, 2, 0, 3], [10]], [[0, 2, 0], [3, 10]], [[0, 2, 0, 2, 0], [3, 10]], [[10], [1]], [[3, 10], [1]], [[3], [10, 1]], [[0, 2, 0, 3], [10, 1]], [[1], [10]], [[10, 1], [10]], [[10], [1, 10]], [[3, 10], [1, 10]], [[10], [2]], [[1, 10], [2]], [[1], [10, 2]], [[10, 1], [10, 2]], [[10, 2], [0, 2, 0]], [[10], [2, 0, 2, 0]], [[1, 10], [2, 0, 2, 0]], [[0, 2, 0], [2, 0, 3]], [[2, 0, 2, 0], [2, 0, 3]], [[2], [0, 2, 0, 2, 0, 3]], [[10, 2], [0, 2, 0, 2, 0, 3]], [[2, 0, 3], [5]], [[0, 2, 0, 2, 0, 3], [5]], [[0, 2, 0], [2, 0, 3, 5]], [[2, 0, 2, 0], [2, 0, 3, 5]], [[5], [1]], [[2, 0, 3, 5], [1]], [[2, 0, 3], [5, 1]], [[0, 2, 0, 2, 0, 3], [5, 1]], [[5, 1], [3]], [[5], [1, 3]], [[2, 0, 3, 5], [1, 3]], [[1, 3], [3]], [[1], [3, 3]], [[5, 1], [3, 3]], [[3], [5]], [[3, 3], [5]], [[3], [3, 5]], [[1, 3], [3, 5]], [[5], [3]], [[3, 5], [3]], [[3], [5, 3]], [[3, 3], [5, 3]], [[3], [6]], [[5, 3], [6]], [[5], [3, 6]], [[3, 5], [3, 6]], [[6], [1]], [[3, 6], [1]], [[3], [6, 1]], [[5, 3], [6, 1]], [[1], [5]], [[6, 1], [5]], [[6], [1, 5]], [[3, 6], [1, 5]], [[5], [5]], [[1, 5], [5]], [[1], [5, 5]], [[6, 1], [5, 5]], [[5], [6]], [[5, 5], [6]], [[5], [5, 6]], [[1, 5], [5, 6]], [[6], [3]], [[5, 6], [3]], [[5], [6, 3]], [[5, 5], [6, 3]], [[6, 3], [3]], [[6], [3, 3]], [[5, 6], [3, 3]], [[6, 3], [3, 5]], [[5], [8]], [[3, 5], [8]], [[3], [5, 8]], [[3, 3], [5, 8]], [[8], [1]], [[5, 8], [1]], [[5], [8, 1]], [[3, 5], [8, 1]], [[8, 1], [7]], [[8], [1, 7]], [[5, 8], [1, 7]], [[7], [4]], [[1, 7], [4]], [[1], [7, 4]], [[8, 1], [7, 4]], [[4], [4]], [[7, 4], [4]], [[7], [4, 4]], [[1, 7], [4, 4]], [[4], [7]], [[4, 4], [7]], [[4], [4, 7]], [[7, 4], [4, 7]], [[7], [7]], [[4, 7], [7]], [[4], [7, 7]], [[4, 4], [7, 7]], [[7], [8]], [[7, 7], [8]], [[7], [7, 8]], [[4, 7], [7, 8]], [[7, 8], [0, 2, 0, 2, 0]], [[7], [8, 0, 2, 0, 2, 0]], [[7, 7], [8, 0, 2, 0, 2, 0]], [[8, 0, 2, 0, 2, 0], [3]], [[8], [0, 2, 0, 2, 0, 3]], [[7, 8], [0, 2, 0, 2, 0, 3]], [[0, 2, 0, 2, 0, 3], [7]], [[0, 2, 0, 2, 0], [3, 7]], [[8, 0, 2, 0, 2, 0], [3, 7]], [[0], [3]], [[0, 2], [0, 3]], [[8], [0, 2, 0, 3]], [[7], [8, 0, 2, 0, 3]], [[3, 7], [8, 0, 2, 0, 3]], [[3], [7, 8, 0, 2, 0, 3]], [[0, 2, 0, 2, 0, 3], [7, 8, 0, 2, 0, 3]], [[8], [0, 3]], [[7], [8, 0, 3]], [[8, 0, 2, 0, 3], [7, 8, 0, 3]], [[7, 8, 0, 2, 0, 3], [7, 8, 0, 3]], [[7], [8, 0, 2, 0, 3, 7, 8, 0, 3]], [[3, 7], [8, 0, 2, 0, 3, 7, 8, 0, 3]], [[7, 8, 0, 3], [6]], [[8, 0, 2, 0, 3, 7, 8, 0, 3], [6]], [[8, 0, 2, 0, 3], [7, 8, 0, 3, 6]], [[7, 8, 0, 2, 0, 3], [7, 8, 0, 3, 6]], [[6], [5]], [[7, 8, 0, 3, 6], [5]], [[7, 8, 0, 3], [6, 5]], [[8, 0, 2, 0, 3, 7, 8, 0, 3], [6, 5]], [[5], [10]], [[6, 5], [10]], [[6], [5, 10]], [[7, 8, 0, 3, 6], [5, 10]], [[2], [0, 3]], [[10], [2, 0, 3]], [[5, 10], [2, 0, 3]], [[5], [10, 2, 0, 3]], [[6, 5], [10, 2, 0, 3]], [[2, 0, 3], [7, 8, 0, 2, 0, 3]], [[10, 2, 0, 3], [7, 8, 0, 2, 0, 3]], [[10], [2, 0, 3, 7, 8, 0, 2, 0, 3]], [[5, 10], [2, 0, 3, 7, 8, 0, 2, 0, 3]], [[0, 2], [0, 2]], [[8], [0, 2, 0, 2]], [[7], [8, 0, 2, 0, 2]], [[7, 8, 0, 2, 0, 3], [7, 8, 0, 2, 0, 2]], [[2, 0, 3, 7, 8, 0, 2, 0, 3], [7, 8, 0, 2, 0, 2]], [[2, 0, 3], [7, 8, 0, 2, 0, 3, 7, 8, 0, 2, 0, 2]], [[10, 2, 0, 3], [7, 8, 0, 2, 0, 3, 7, 8, 0, 2, 0, 2]], [[7, 8, 0, 2, 0, 2], [0, 3]], [[7, 8, 0, 2, 0, 3, 7, 8, 0, 2, 0, 2], [0, 3]], [[7, 8, 0, 2, 0, 3], [7, 8, 0, 2, 0, 2, 0, 3]], [[2, 0, 3, 7, 8, 0, 2, 0, 3], [7, 8, 0, 2, 0, 2, 0, 3]], [[0, 3], [7, 8, 0, 2, 0, 2]], [[7, 8, 0, 2, 0, 2, 0, 3], [7, 8, 0, 2, 0, 2]], [[7, 8, 0, 2, 0, 2], [0, 3, 7, 8, 0, 2, 0, 2]], [[0, 3, 7, 8, 0, 2, 0, 2], [0, 3]], [[0, 3], [7, 8, 0, 2, 0, 2, 0, 3]], [[7, 8, 0, 2, 0, 2, 0, 3], [7, 8, 0, 2, 0, 2, 0, 3]]]"
   ]
  },
  {
   "cell_type": "code",
   "execution_count": 47,
   "id": "79cc054f-e825-424a-99bd-51086aaf03be",
   "metadata": {},
   "outputs": [],
   "source": [
    "# Séquences de longuer totale 8 à 20\n",
    "\n",
    "train_data = [[[10, 2], [0, 2, 0, 2, 0, 3]], [[2, 0, 2, 0], [2, 0, 3, 5]], [[0, 2, 0, 2, 0, 3], [5, 1]], [[7, 7], [8, 0, 2, 0, 2, 0]], [[7, 8], [0, 2, 0, 2, 0, 3]], [[8, 0, 2, 0, 2, 0], [3, 7]], [[0, 2, 0, 2, 0, 3], [7, 8, 0, 2, 0, 3]], [[8, 0, 2, 0, 3], [7, 8, 0, 3]], [[7, 8, 0, 2, 0, 3], [7, 8, 0, 3]], [[7], [8, 0, 2, 0, 3, 7, 8, 0, 3]], [[3, 7], [8, 0, 2, 0, 3, 7, 8, 0, 3]], [[8, 0, 2, 0, 3, 7, 8, 0, 3], [6]], [[8, 0, 2, 0, 3], [7, 8, 0, 3, 6]], [[7, 8, 0, 2, 0, 3], [7, 8, 0, 3, 6]], [[8, 0, 2, 0, 3, 7, 8, 0, 3], [6, 5]], [[2, 0, 3], [7, 8, 0, 2, 0, 3]], [[10, 2, 0, 3], [7, 8, 0, 2, 0, 3]], [[10], [2, 0, 3, 7, 8, 0, 2, 0, 3]], [[5, 10], [2, 0, 3, 7, 8, 0, 2, 0, 3]], [[7, 8, 0, 2, 0, 3], [7, 8, 0, 2, 0, 2]], [[2, 0, 3, 7, 8, 0, 2, 0, 3], [7, 8, 0, 2, 0, 2]], [[2, 0, 3], [7, 8, 0, 2, 0, 3, 7, 8, 0, 2, 0, 2]], [[10, 2, 0, 3], [7, 8, 0, 2, 0, 3, 7, 8, 0, 2, 0, 2]], [[7, 8, 0, 2, 0, 2], [0, 3]], [[7, 8, 0, 2, 0, 3, 7, 8, 0, 2, 0, 2], [0, 3]], [[7, 8, 0, 2, 0, 3], [7, 8, 0, 2, 0, 2, 0, 3]], [[2, 0, 3, 7, 8, 0, 2, 0, 3], [7, 8, 0, 2, 0, 2, 0, 3]], [[0, 3], [7, 8, 0, 2, 0, 2]], [[7, 8, 0, 2, 0, 2, 0, 3], [7, 8, 0, 2, 0, 2]], [[7, 8, 0, 2, 0, 2], [0, 3, 7, 8, 0, 2, 0, 2]], [[0, 3, 7, 8, 0, 2, 0, 2], [0, 3]], [[0, 3], [7, 8, 0, 2, 0, 2, 0, 3]], [[7, 8, 0, 2, 0, 2, 0, 3], [7, 8, 0, 2, 0, 2, 0, 3]]]"
   ]
  },
  {
   "cell_type": "code",
   "execution_count": 48,
   "id": "1c4a8df7-425e-4fa2-a2d6-d792ae566150",
   "metadata": {},
   "outputs": [],
   "source": [
    "# Séquences de longuer totale 10 à 20\n",
    "\n",
    "train_data = [[[0, 2, 0, 2, 0, 3], [7, 8, 0, 2, 0, 3]], [[7, 8, 0, 2, 0, 3], [7, 8, 0, 3]], [[7], [8, 0, 2, 0, 3, 7, 8, 0, 3]], [[3, 7], [8, 0, 2, 0, 3, 7, 8, 0, 3]], [[8, 0, 2, 0, 3, 7, 8, 0, 3], [6]], [[8, 0, 2, 0, 3], [7, 8, 0, 3, 6]], [[7, 8, 0, 2, 0, 3], [7, 8, 0, 3, 6]], [[8, 0, 2, 0, 3, 7, 8, 0, 3], [6, 5]], [[10, 2, 0, 3], [7, 8, 0, 2, 0, 3]], [[10], [2, 0, 3, 7, 8, 0, 2, 0, 3]], [[5, 10], [2, 0, 3, 7, 8, 0, 2, 0, 3]], [[7, 8, 0, 2, 0, 3], [7, 8, 0, 2, 0, 2]], [[2, 0, 3, 7, 8, 0, 2, 0, 3], [7, 8, 0, 2, 0, 2]], [[2, 0, 3], [7, 8, 0, 2, 0, 3, 7, 8, 0, 2, 0, 2]], [[10, 2, 0, 3], [7, 8, 0, 2, 0, 3, 7, 8, 0, 2, 0, 2]], [[7, 8, 0, 2, 0, 3, 7, 8, 0, 2, 0, 2], [0, 3]], [[7, 8, 0, 2, 0, 3], [7, 8, 0, 2, 0, 2, 0, 3]], [[2, 0, 3, 7, 8, 0, 2, 0, 3], [7, 8, 0, 2, 0, 2, 0, 3]], [[7, 8, 0, 2, 0, 2, 0, 3], [7, 8, 0, 2, 0, 2]], [[7, 8, 0, 2, 0, 2], [0, 3, 7, 8, 0, 2, 0, 2]], [[0, 3, 7, 8, 0, 2, 0, 2], [0, 3]], [[0, 3], [7, 8, 0, 2, 0, 2, 0, 3]], [[7, 8, 0, 2, 0, 2, 0, 3], [7, 8, 0, 2, 0, 2, 0, 3]]]"
   ]
  },
  {
   "cell_type": "code",
   "execution_count": 49,
   "id": "ac0da68d-74dd-4473-8230-d7965a292e5e",
   "metadata": {},
   "outputs": [],
   "source": [
    "torch.manual_seed(0)\n",
    "\n",
    "dataloader = get_dataloader(train_data, batch_size=32)\n",
    "model = SimpleTransformer(VOCAB_SIZE, d_model=16).to(DEVICE)\n"
   ]
  },
  {
   "cell_type": "code",
   "execution_count": 39,
   "id": "a936677b-7348-4f76-bb05-2a1a546d36ce",
   "metadata": {},
   "outputs": [
    {
     "name": "stdout",
     "output_type": "stream",
     "text": [
      "Epoch 1, Loss: 0.3832, Accuracy: 93.68%\n",
      "Epoch 2, Loss: 0.6144, Accuracy: 81.03%\n",
      "Epoch 3, Loss: 0.4844, Accuracy: 88.51%\n",
      "Epoch 4, Loss: 0.4765, Accuracy: 86.78%\n",
      "Epoch 5, Loss: 0.4319, Accuracy: 90.23%\n",
      "Epoch 6, Loss: 0.4515, Accuracy: 90.23%\n",
      "Epoch 7, Loss: 0.4427, Accuracy: 89.08%\n",
      "Epoch 8, Loss: 0.4215, Accuracy: 89.66%\n",
      "Epoch 9, Loss: 0.4253, Accuracy: 87.93%\n",
      "Epoch 10, Loss: 0.4059, Accuracy: 89.66%\n",
      "Epoch 11, Loss: 0.4072, Accuracy: 91.95%\n",
      "Epoch 12, Loss: 0.4119, Accuracy: 90.80%\n",
      "Epoch 13, Loss: 0.3713, Accuracy: 92.53%\n",
      "Epoch 14, Loss: 0.3461, Accuracy: 93.68%\n",
      "Epoch 15, Loss: 0.3678, Accuracy: 91.95%\n",
      "Epoch 16, Loss: 0.3438, Accuracy: 95.40%\n",
      "Epoch 17, Loss: 0.3618, Accuracy: 92.53%\n",
      "Epoch 18, Loss: 0.3456, Accuracy: 91.95%\n",
      "Epoch 19, Loss: 0.3347, Accuracy: 92.53%\n",
      "Epoch 20, Loss: 0.3423, Accuracy: 93.10%\n",
      "Epoch 21, Loss: 0.3149, Accuracy: 93.10%\n",
      "Epoch 22, Loss: 0.3011, Accuracy: 93.68%\n",
      "Epoch 23, Loss: 0.3213, Accuracy: 92.53%\n",
      "Epoch 24, Loss: 0.3155, Accuracy: 93.68%\n",
      "Epoch 25, Loss: 0.2960, Accuracy: 91.95%\n",
      "Epoch 26, Loss: 0.2950, Accuracy: 92.53%\n",
      "Epoch 27, Loss: 0.2811, Accuracy: 94.83%\n",
      "Epoch 28, Loss: 0.3063, Accuracy: 93.68%\n",
      "Epoch 29, Loss: 0.3103, Accuracy: 94.25%\n",
      "Epoch 30, Loss: 0.2797, Accuracy: 94.25%\n",
      "Epoch 31, Loss: 0.2753, Accuracy: 93.10%\n",
      "Epoch 32, Loss: 0.2784, Accuracy: 93.68%\n",
      "Epoch 33, Loss: 0.2907, Accuracy: 91.95%\n",
      "Epoch 34, Loss: 0.3064, Accuracy: 90.80%\n",
      "Epoch 35, Loss: 0.2545, Accuracy: 93.68%\n",
      "Epoch 36, Loss: 0.2511, Accuracy: 94.25%\n",
      "Epoch 37, Loss: 0.2314, Accuracy: 94.83%\n",
      "Epoch 38, Loss: 0.2362, Accuracy: 95.40%\n",
      "Epoch 39, Loss: 0.2611, Accuracy: 93.68%\n",
      "Epoch 40, Loss: 0.2346, Accuracy: 95.40%\n",
      "Epoch 41, Loss: 0.2296, Accuracy: 95.98%\n",
      "Epoch 42, Loss: 0.2423, Accuracy: 93.68%\n",
      "Epoch 43, Loss: 0.2548, Accuracy: 91.95%\n",
      "Epoch 44, Loss: 0.2410, Accuracy: 94.83%\n",
      "Epoch 45, Loss: 0.2285, Accuracy: 94.25%\n",
      "Epoch 46, Loss: 0.2221, Accuracy: 94.83%\n",
      "Epoch 47, Loss: 0.2232, Accuracy: 95.40%\n",
      "Epoch 48, Loss: 0.2142, Accuracy: 94.83%\n",
      "Epoch 49, Loss: 0.2171, Accuracy: 95.98%\n",
      "Epoch 50, Loss: 0.2175, Accuracy: 93.68%\n"
     ]
    }
   ],
   "source": [
    "train_model(model, dataloader, num_epochs=50)"
   ]
  },
  {
   "cell_type": "code",
   "execution_count": 24,
   "id": "3e3ca0d0-6f40-4123-9a93-e8a0ddd85e9e",
   "metadata": {},
   "outputs": [
    {
     "name": "stdout",
     "output_type": "stream",
     "text": [
      "[0] -> [7, 8, 0, 2, 0, 2]\n",
      "[1] -> [2, 0, 3, 7, 8, 0, 2, 0, 3]\n",
      "[2] -> [2, 0, 3, 7, 8, 0, 2, 0, 3]\n",
      "[3] -> [8, 0, 2, 0, 3, 7, 8, 0, 3]\n",
      "[7] -> [8, 0, 2, 0, 2, 0]\n",
      "[10] -> [2, 0, 3, 7, 8, 0, 2, 0, 3]\n",
      "[2, 0] -> [7, 8, 0, 2, 0, 3]\n",
      "[7, 8] -> [0, 2, 0, 2, 0, 2]\n",
      "[8, 0, 2, 0, 2, 0, 3] -> [7, 8, 0, 2, 0, 3]\n"
     ]
    }
   ],
   "source": [
    "# Génération\n",
    "tests = [[0], [1], [2], [3], [7], [10], [2, 0],[7, 8], [8, 0, 2, 0, 2, 0, 3]]\n",
    "\n",
    "for seq in tests:\n",
    "    generated = generate_sequence(model, seq)\n",
    "    print(seq, \"->\", generated)\n"
   ]
  },
  {
   "cell_type": "markdown",
   "id": "e795dd0f-dd39-44cc-b4f7-a8cc45b0ac09",
   "metadata": {},
   "source": [
    "# On visualise l'embedding"
   ]
  },
  {
   "cell_type": "code",
   "execution_count": 40,
   "id": "58def669-4cc8-4e18-b6cc-a986bca45466",
   "metadata": {},
   "outputs": [],
   "source": [
    "import matplotlib.pyplot as plt\n",
    "from mpl_toolkits.mplot3d import Axes3D\n",
    "import plotly.graph_objects as go\n",
    "\n",
    "# Liste de formes de marqueurs disponibles dans Plotly\n",
    "marker_symbols = ['diamond', 'diamond', 'square', 'square', 'square', 'square','square', 'square', 'circle', 'cross', 'circle', 'cross', 'cross']\n",
    "# Couleurs (différentes pour chaque token)\n",
    "marker_colors = ['#D6D6D6', '#F93943', '#FAE2DB', '#535865', '#FAE2DB', '#535865', '#FAE2DB', '#535865', '#D6D6D6', '#D6D6D6', '#D6D6D6', '#D6D6D6', '#D6D6D6']\n",
    "tags = ['forward', 'bump', 'front', 'front', 'left', 'left','right', 'right', 'left', '', 'right', '', 'pad']\n",
    "\n",
    "def plotly_embedding(embedding_weights, all_labels, all_tokens):\n",
    "    # Extraire les vecteurs d'embedding\n",
    "    # embedding_weights = agent._lstm.embedding.weight.data        \n",
    "    # Récupérer les coordonnées\n",
    "    x = embedding_weights[:, 0].detach().numpy()\n",
    "    y = embedding_weights[:, 1].detach().numpy()\n",
    "    z = embedding_weights[:, 2].detach().numpy()\n",
    "    #labels = [f\"Token {i}\" for i in range(agent._lstm.len_vocab)]\n",
    "    # Créer une figure Plotly\n",
    "    fig = go.Figure()\n",
    "    \n",
    "    for i, t in enumerate(all_tokens): # 12):\n",
    "        # Exclude SOS and EOS tokens\n",
    "        if t in [SOS_TOKEN, EOS_TOKEN]:\n",
    "            continue\n",
    "        fig.add_trace(go.Scatter3d(\n",
    "            x=[x[i]],\n",
    "            y=[y[i]],\n",
    "            z=[z[i]],\n",
    "            mode='markers+text',\n",
    "            name=all_labels[i],\n",
    "            marker=dict(\n",
    "                size=10,\n",
    "                color=marker_colors[t],\n",
    "                symbol=marker_symbols[t],\n",
    "                line=dict(width=1, color='black')\n",
    "            ),\n",
    "            text= tags[t],\n",
    "            textposition='top center'\n",
    "        ))    \n",
    "    fig.update_layout(\n",
    "        # title='Visualisation 3D des embeddings',\n",
    "        width=900,\n",
    "        height=700,\n",
    "        scene=dict(\n",
    "            xaxis_title='X',\n",
    "            yaxis_title='Y',\n",
    "            zaxis_title='Z'\n",
    "        )\n",
    "    )  \n",
    "    # Affichage interactif\n",
    "    fig.show(config={\"toImageButtonOptions\": {\"format\": \"svg\"}}) # Spécifie le format de sauvegarde associé au bouton \"download\" "
   ]
  },
  {
   "cell_type": "code",
   "execution_count": 41,
   "id": "f4e40fb7-d138-460b-8724-466ca196ded5",
   "metadata": {},
   "outputs": [],
   "source": [
    "# Projection par la methode des Feature Agglomeration\n",
    "\n",
    "def project_embeddings_to_3D(model, embedding_weight, group_axes):\n",
    "    \"\"\"\n",
    "    Renvoie un tenseur (vocab_size, 3) correspondant aux embeddings de tokens projetés dans ℝ³.\n",
    "    \"\"\"\n",
    "    projections = []\n",
    "    for group in group_axes.values():\n",
    "        group_embedding = embedding_weight[group].mean(dim=0)\n",
    "        projections.append(group_embedding)\n",
    "    projection_matrix = torch.stack(projections)  # shape (n_axes, d_model)\n",
    "\n",
    "    projected = torch.matmul(embedding_weight, projection_matrix.T) \n",
    "\n",
    "    return projected\n"
   ]
  },
  {
   "cell_type": "code",
   "execution_count": 43,
   "id": "b256cd90-be48-4815-89a0-716a034a695d",
   "metadata": {},
   "outputs": [
    {
     "data": {
      "application/vnd.plotly.v1+json": {
       "config": {
        "plotlyServerURL": "https://plot.ly",
        "toImageButtonOptions": {
         "format": "svg"
        }
       },
       "data": [
        {
         "marker": {
          "color": "#D6D6D6",
          "line": {
           "color": "black",
           "width": 1
          },
          "size": 10,
          "symbol": "diamond"
         },
         "mode": "markers+text",
         "name": "0 forward",
         "text": "forward",
         "textposition": "top center",
         "type": "scatter3d",
         "x": [
          4.253663539886475
         ],
         "y": [
          -1.9900543689727783
         ],
         "z": [
          0.46711623668670654
         ]
        },
        {
         "marker": {
          "color": "#F93943",
          "line": {
           "color": "black",
           "width": 1
          },
          "size": 10,
          "symbol": "diamond"
         },
         "mode": "markers+text",
         "name": "1 bump",
         "text": "bump",
         "textposition": "top center",
         "type": "scatter3d",
         "x": [
          6.115781307220459
         ],
         "y": [
          -4.310489654541016
         ],
         "z": [
          3.851154088973999
         ]
        },
        {
         "marker": {
          "color": "#FAE2DB",
          "line": {
           "color": "black",
           "width": 1
          },
          "size": 10,
          "symbol": "square"
         },
         "mode": "markers+text",
         "name": "2 front_empty",
         "text": "front",
         "textposition": "top center",
         "type": "scatter3d",
         "x": [
          3.2681121826171875
         ],
         "y": [
          0.16711676120758057
         ],
         "z": [
          -1.9301177263259888
         ]
        },
        {
         "marker": {
          "color": "#535865",
          "line": {
           "color": "black",
           "width": 1
          },
          "size": 10,
          "symbol": "square"
         },
         "mode": "markers+text",
         "name": "3 front_wall",
         "text": "front",
         "textposition": "top center",
         "type": "scatter3d",
         "x": [
          4.367923736572266
         ],
         "y": [
          -0.9575651288032532
         ],
         "z": [
          1.2996950149536133
         ]
        },
        {
         "marker": {
          "color": "#FAE2DB",
          "line": {
           "color": "black",
           "width": 1
          },
          "size": 10,
          "symbol": "square"
         },
         "mode": "markers+text",
         "name": "4 left_empty",
         "text": "left",
         "textposition": "top center",
         "type": "scatter3d",
         "x": [
          -1.4876435995101929
         ],
         "y": [
          5.554553031921387
         ],
         "z": [
          -3.616258382797241
         ]
        },
        {
         "marker": {
          "color": "#535865",
          "line": {
           "color": "black",
           "width": 1
          },
          "size": 10,
          "symbol": "square"
         },
         "mode": "markers+text",
         "name": "5 left_wall",
         "text": "left",
         "textposition": "top center",
         "type": "scatter3d",
         "x": [
          -2.220747232437134
         ],
         "y": [
          5.917129039764404
         ],
         "z": [
          -2.8946614265441895
         ]
        },
        {
         "marker": {
          "color": "#FAE2DB",
          "line": {
           "color": "black",
           "width": 1
          },
          "size": 10,
          "symbol": "square"
         },
         "mode": "markers+text",
         "name": "6 right_empty",
         "text": "right",
         "textposition": "top center",
         "type": "scatter3d",
         "x": [
          -0.210396409034729
         ],
         "y": [
          -4.341494560241699
         ],
         "z": [
          6.660684108734131
         ]
        },
        {
         "marker": {
          "color": "#535865",
          "line": {
           "color": "black",
           "width": 1
          },
          "size": 10,
          "symbol": "square"
         },
         "mode": "markers+text",
         "name": "7 right_wall",
         "text": "right",
         "textposition": "top center",
         "type": "scatter3d",
         "x": [
          2.3018956184387207
         ],
         "y": [
          -2.733727216720581
         ],
         "z": [
          4.71195650100708
         ]
        },
        {
         "marker": {
          "color": "#D6D6D6",
          "line": {
           "color": "black",
           "width": 1
          },
          "size": 10,
          "symbol": "circle"
         },
         "mode": "markers+text",
         "name": "8 turn_left",
         "text": "left",
         "textposition": "top center",
         "type": "scatter3d",
         "x": [
          -1.6098535060882568
         ],
         "y": [
          5.205131530761719
         ],
         "z": [
          -1.9233921766281128
         ]
        },
        {
         "marker": {
          "color": "#D6D6D6",
          "line": {
           "color": "black",
           "width": 1
          },
          "size": 10,
          "symbol": "circle"
         },
         "mode": "markers+text",
         "name": "10 turn_right",
         "text": "right",
         "textposition": "top center",
         "type": "scatter3d",
         "x": [
          -0.008255094289779663
         ],
         "y": [
          2.9144489765167236
         ],
         "z": [
          -1.9558888673782349
         ]
        }
       ],
       "layout": {
        "height": 700,
        "scene": {
         "aspectmode": "auto",
         "aspectratio": {
          "x": 0.8703070207437994,
          "y": 1.0709676215682995,
          "z": 1.0728800554825892
         },
         "camera": {
          "center": {
           "x": 0,
           "y": 0,
           "z": 0
          },
          "eye": {
           "x": 0.016855932488459124,
           "y": 0.01571450401966912,
           "z": 0.015020991073407501
          },
          "projection": {
           "type": "perspective"
          },
          "up": {
           "x": 0,
           "y": 0,
           "z": 1
          }
         },
         "xaxis": {
          "title": {
           "text": "X"
          },
          "type": "linear"
         },
         "yaxis": {
          "title": {
           "text": "Y"
          },
          "type": "linear"
         },
         "zaxis": {
          "title": {
           "text": "Z"
          },
          "type": "linear"
         }
        },
        "template": {
         "data": {
          "bar": [
           {
            "error_x": {
             "color": "#2a3f5f"
            },
            "error_y": {
             "color": "#2a3f5f"
            },
            "marker": {
             "line": {
              "color": "#E5ECF6",
              "width": 0.5
             },
             "pattern": {
              "fillmode": "overlay",
              "size": 10,
              "solidity": 0.2
             }
            },
            "type": "bar"
           }
          ],
          "barpolar": [
           {
            "marker": {
             "line": {
              "color": "#E5ECF6",
              "width": 0.5
             },
             "pattern": {
              "fillmode": "overlay",
              "size": 10,
              "solidity": 0.2
             }
            },
            "type": "barpolar"
           }
          ],
          "carpet": [
           {
            "aaxis": {
             "endlinecolor": "#2a3f5f",
             "gridcolor": "white",
             "linecolor": "white",
             "minorgridcolor": "white",
             "startlinecolor": "#2a3f5f"
            },
            "baxis": {
             "endlinecolor": "#2a3f5f",
             "gridcolor": "white",
             "linecolor": "white",
             "minorgridcolor": "white",
             "startlinecolor": "#2a3f5f"
            },
            "type": "carpet"
           }
          ],
          "choropleth": [
           {
            "colorbar": {
             "outlinewidth": 0,
             "ticks": ""
            },
            "type": "choropleth"
           }
          ],
          "contour": [
           {
            "colorbar": {
             "outlinewidth": 0,
             "ticks": ""
            },
            "colorscale": [
             [
              0,
              "#0d0887"
             ],
             [
              0.1111111111111111,
              "#46039f"
             ],
             [
              0.2222222222222222,
              "#7201a8"
             ],
             [
              0.3333333333333333,
              "#9c179e"
             ],
             [
              0.4444444444444444,
              "#bd3786"
             ],
             [
              0.5555555555555556,
              "#d8576b"
             ],
             [
              0.6666666666666666,
              "#ed7953"
             ],
             [
              0.7777777777777778,
              "#fb9f3a"
             ],
             [
              0.8888888888888888,
              "#fdca26"
             ],
             [
              1,
              "#f0f921"
             ]
            ],
            "type": "contour"
           }
          ],
          "contourcarpet": [
           {
            "colorbar": {
             "outlinewidth": 0,
             "ticks": ""
            },
            "type": "contourcarpet"
           }
          ],
          "heatmap": [
           {
            "colorbar": {
             "outlinewidth": 0,
             "ticks": ""
            },
            "colorscale": [
             [
              0,
              "#0d0887"
             ],
             [
              0.1111111111111111,
              "#46039f"
             ],
             [
              0.2222222222222222,
              "#7201a8"
             ],
             [
              0.3333333333333333,
              "#9c179e"
             ],
             [
              0.4444444444444444,
              "#bd3786"
             ],
             [
              0.5555555555555556,
              "#d8576b"
             ],
             [
              0.6666666666666666,
              "#ed7953"
             ],
             [
              0.7777777777777778,
              "#fb9f3a"
             ],
             [
              0.8888888888888888,
              "#fdca26"
             ],
             [
              1,
              "#f0f921"
             ]
            ],
            "type": "heatmap"
           }
          ],
          "heatmapgl": [
           {
            "colorbar": {
             "outlinewidth": 0,
             "ticks": ""
            },
            "colorscale": [
             [
              0,
              "#0d0887"
             ],
             [
              0.1111111111111111,
              "#46039f"
             ],
             [
              0.2222222222222222,
              "#7201a8"
             ],
             [
              0.3333333333333333,
              "#9c179e"
             ],
             [
              0.4444444444444444,
              "#bd3786"
             ],
             [
              0.5555555555555556,
              "#d8576b"
             ],
             [
              0.6666666666666666,
              "#ed7953"
             ],
             [
              0.7777777777777778,
              "#fb9f3a"
             ],
             [
              0.8888888888888888,
              "#fdca26"
             ],
             [
              1,
              "#f0f921"
             ]
            ],
            "type": "heatmapgl"
           }
          ],
          "histogram": [
           {
            "marker": {
             "pattern": {
              "fillmode": "overlay",
              "size": 10,
              "solidity": 0.2
             }
            },
            "type": "histogram"
           }
          ],
          "histogram2d": [
           {
            "colorbar": {
             "outlinewidth": 0,
             "ticks": ""
            },
            "colorscale": [
             [
              0,
              "#0d0887"
             ],
             [
              0.1111111111111111,
              "#46039f"
             ],
             [
              0.2222222222222222,
              "#7201a8"
             ],
             [
              0.3333333333333333,
              "#9c179e"
             ],
             [
              0.4444444444444444,
              "#bd3786"
             ],
             [
              0.5555555555555556,
              "#d8576b"
             ],
             [
              0.6666666666666666,
              "#ed7953"
             ],
             [
              0.7777777777777778,
              "#fb9f3a"
             ],
             [
              0.8888888888888888,
              "#fdca26"
             ],
             [
              1,
              "#f0f921"
             ]
            ],
            "type": "histogram2d"
           }
          ],
          "histogram2dcontour": [
           {
            "colorbar": {
             "outlinewidth": 0,
             "ticks": ""
            },
            "colorscale": [
             [
              0,
              "#0d0887"
             ],
             [
              0.1111111111111111,
              "#46039f"
             ],
             [
              0.2222222222222222,
              "#7201a8"
             ],
             [
              0.3333333333333333,
              "#9c179e"
             ],
             [
              0.4444444444444444,
              "#bd3786"
             ],
             [
              0.5555555555555556,
              "#d8576b"
             ],
             [
              0.6666666666666666,
              "#ed7953"
             ],
             [
              0.7777777777777778,
              "#fb9f3a"
             ],
             [
              0.8888888888888888,
              "#fdca26"
             ],
             [
              1,
              "#f0f921"
             ]
            ],
            "type": "histogram2dcontour"
           }
          ],
          "mesh3d": [
           {
            "colorbar": {
             "outlinewidth": 0,
             "ticks": ""
            },
            "type": "mesh3d"
           }
          ],
          "parcoords": [
           {
            "line": {
             "colorbar": {
              "outlinewidth": 0,
              "ticks": ""
             }
            },
            "type": "parcoords"
           }
          ],
          "pie": [
           {
            "automargin": true,
            "type": "pie"
           }
          ],
          "scatter": [
           {
            "fillpattern": {
             "fillmode": "overlay",
             "size": 10,
             "solidity": 0.2
            },
            "type": "scatter"
           }
          ],
          "scatter3d": [
           {
            "line": {
             "colorbar": {
              "outlinewidth": 0,
              "ticks": ""
             }
            },
            "marker": {
             "colorbar": {
              "outlinewidth": 0,
              "ticks": ""
             }
            },
            "type": "scatter3d"
           }
          ],
          "scattercarpet": [
           {
            "marker": {
             "colorbar": {
              "outlinewidth": 0,
              "ticks": ""
             }
            },
            "type": "scattercarpet"
           }
          ],
          "scattergeo": [
           {
            "marker": {
             "colorbar": {
              "outlinewidth": 0,
              "ticks": ""
             }
            },
            "type": "scattergeo"
           }
          ],
          "scattergl": [
           {
            "marker": {
             "colorbar": {
              "outlinewidth": 0,
              "ticks": ""
             }
            },
            "type": "scattergl"
           }
          ],
          "scattermapbox": [
           {
            "marker": {
             "colorbar": {
              "outlinewidth": 0,
              "ticks": ""
             }
            },
            "type": "scattermapbox"
           }
          ],
          "scatterpolar": [
           {
            "marker": {
             "colorbar": {
              "outlinewidth": 0,
              "ticks": ""
             }
            },
            "type": "scatterpolar"
           }
          ],
          "scatterpolargl": [
           {
            "marker": {
             "colorbar": {
              "outlinewidth": 0,
              "ticks": ""
             }
            },
            "type": "scatterpolargl"
           }
          ],
          "scatterternary": [
           {
            "marker": {
             "colorbar": {
              "outlinewidth": 0,
              "ticks": ""
             }
            },
            "type": "scatterternary"
           }
          ],
          "surface": [
           {
            "colorbar": {
             "outlinewidth": 0,
             "ticks": ""
            },
            "colorscale": [
             [
              0,
              "#0d0887"
             ],
             [
              0.1111111111111111,
              "#46039f"
             ],
             [
              0.2222222222222222,
              "#7201a8"
             ],
             [
              0.3333333333333333,
              "#9c179e"
             ],
             [
              0.4444444444444444,
              "#bd3786"
             ],
             [
              0.5555555555555556,
              "#d8576b"
             ],
             [
              0.6666666666666666,
              "#ed7953"
             ],
             [
              0.7777777777777778,
              "#fb9f3a"
             ],
             [
              0.8888888888888888,
              "#fdca26"
             ],
             [
              1,
              "#f0f921"
             ]
            ],
            "type": "surface"
           }
          ],
          "table": [
           {
            "cells": {
             "fill": {
              "color": "#EBF0F8"
             },
             "line": {
              "color": "white"
             }
            },
            "header": {
             "fill": {
              "color": "#C8D4E3"
             },
             "line": {
              "color": "white"
             }
            },
            "type": "table"
           }
          ]
         },
         "layout": {
          "annotationdefaults": {
           "arrowcolor": "#2a3f5f",
           "arrowhead": 0,
           "arrowwidth": 1
          },
          "autotypenumbers": "strict",
          "coloraxis": {
           "colorbar": {
            "outlinewidth": 0,
            "ticks": ""
           }
          },
          "colorscale": {
           "diverging": [
            [
             0,
             "#8e0152"
            ],
            [
             0.1,
             "#c51b7d"
            ],
            [
             0.2,
             "#de77ae"
            ],
            [
             0.3,
             "#f1b6da"
            ],
            [
             0.4,
             "#fde0ef"
            ],
            [
             0.5,
             "#f7f7f7"
            ],
            [
             0.6,
             "#e6f5d0"
            ],
            [
             0.7,
             "#b8e186"
            ],
            [
             0.8,
             "#7fbc41"
            ],
            [
             0.9,
             "#4d9221"
            ],
            [
             1,
             "#276419"
            ]
           ],
           "sequential": [
            [
             0,
             "#0d0887"
            ],
            [
             0.1111111111111111,
             "#46039f"
            ],
            [
             0.2222222222222222,
             "#7201a8"
            ],
            [
             0.3333333333333333,
             "#9c179e"
            ],
            [
             0.4444444444444444,
             "#bd3786"
            ],
            [
             0.5555555555555556,
             "#d8576b"
            ],
            [
             0.6666666666666666,
             "#ed7953"
            ],
            [
             0.7777777777777778,
             "#fb9f3a"
            ],
            [
             0.8888888888888888,
             "#fdca26"
            ],
            [
             1,
             "#f0f921"
            ]
           ],
           "sequentialminus": [
            [
             0,
             "#0d0887"
            ],
            [
             0.1111111111111111,
             "#46039f"
            ],
            [
             0.2222222222222222,
             "#7201a8"
            ],
            [
             0.3333333333333333,
             "#9c179e"
            ],
            [
             0.4444444444444444,
             "#bd3786"
            ],
            [
             0.5555555555555556,
             "#d8576b"
            ],
            [
             0.6666666666666666,
             "#ed7953"
            ],
            [
             0.7777777777777778,
             "#fb9f3a"
            ],
            [
             0.8888888888888888,
             "#fdca26"
            ],
            [
             1,
             "#f0f921"
            ]
           ]
          },
          "colorway": [
           "#636efa",
           "#EF553B",
           "#00cc96",
           "#ab63fa",
           "#FFA15A",
           "#19d3f3",
           "#FF6692",
           "#B6E880",
           "#FF97FF",
           "#FECB52"
          ],
          "font": {
           "color": "#2a3f5f"
          },
          "geo": {
           "bgcolor": "white",
           "lakecolor": "white",
           "landcolor": "#E5ECF6",
           "showlakes": true,
           "showland": true,
           "subunitcolor": "white"
          },
          "hoverlabel": {
           "align": "left"
          },
          "hovermode": "closest",
          "mapbox": {
           "style": "light"
          },
          "paper_bgcolor": "white",
          "plot_bgcolor": "#E5ECF6",
          "polar": {
           "angularaxis": {
            "gridcolor": "white",
            "linecolor": "white",
            "ticks": ""
           },
           "bgcolor": "#E5ECF6",
           "radialaxis": {
            "gridcolor": "white",
            "linecolor": "white",
            "ticks": ""
           }
          },
          "scene": {
           "xaxis": {
            "backgroundcolor": "#E5ECF6",
            "gridcolor": "white",
            "gridwidth": 2,
            "linecolor": "white",
            "showbackground": true,
            "ticks": "",
            "zerolinecolor": "white"
           },
           "yaxis": {
            "backgroundcolor": "#E5ECF6",
            "gridcolor": "white",
            "gridwidth": 2,
            "linecolor": "white",
            "showbackground": true,
            "ticks": "",
            "zerolinecolor": "white"
           },
           "zaxis": {
            "backgroundcolor": "#E5ECF6",
            "gridcolor": "white",
            "gridwidth": 2,
            "linecolor": "white",
            "showbackground": true,
            "ticks": "",
            "zerolinecolor": "white"
           }
          },
          "shapedefaults": {
           "line": {
            "color": "#2a3f5f"
           }
          },
          "ternary": {
           "aaxis": {
            "gridcolor": "white",
            "linecolor": "white",
            "ticks": ""
           },
           "baxis": {
            "gridcolor": "white",
            "linecolor": "white",
            "ticks": ""
           },
           "bgcolor": "#E5ECF6",
           "caxis": {
            "gridcolor": "white",
            "linecolor": "white",
            "ticks": ""
           }
          },
          "title": {
           "x": 0.05
          },
          "xaxis": {
           "automargin": true,
           "gridcolor": "white",
           "linecolor": "white",
           "ticks": "",
           "title": {
            "standoff": 15
           },
           "zerolinecolor": "white",
           "zerolinewidth": 2
          },
          "yaxis": {
           "automargin": true,
           "gridcolor": "white",
           "linecolor": "white",
           "ticks": "",
           "title": {
            "standoff": 15
           },
           "zerolinecolor": "white",
           "zerolinewidth": 2
          }
         }
        },
        "width": 900
       }
      },
      "image/png": "[encoded data removed]",
      "text/html": [
       "<div>                            <div id=\"9d43ad43-766d-4d95-9057-d4d14d086446\" class=\"plotly-graph-div\" style=\"height:700px; width:900px;\"></div>            <script type=\"text/javascript\">                require([\"plotly\"], function(Plotly) {                    window.PLOTLYENV=window.PLOTLYENV || {};                                    if (document.getElementById(\"9d43ad43-766d-4d95-9057-d4d14d086446\")) {                    Plotly.newPlot(                        \"9d43ad43-766d-4d95-9057-d4d14d086446\",                        [{\"marker\":{\"color\":\"#D6D6D6\",\"line\":{\"color\":\"black\",\"width\":1},\"size\":10,\"symbol\":\"diamond\"},\"mode\":\"markers+text\",\"name\":\"0 forward\",\"text\":\"forward\",\"textposition\":\"top center\",\"x\":[4.253663539886475],\"y\":[-1.9900543689727783],\"z\":[0.46711623668670654],\"type\":\"scatter3d\"},{\"marker\":{\"color\":\"#F93943\",\"line\":{\"color\":\"black\",\"width\":1},\"size\":10,\"symbol\":\"diamond\"},\"mode\":\"markers+text\",\"name\":\"1 bump\",\"text\":\"bump\",\"textposition\":\"top center\",\"x\":[6.115781307220459],\"y\":[-4.310489654541016],\"z\":[3.851154088973999],\"type\":\"scatter3d\"},{\"marker\":{\"color\":\"#FAE2DB\",\"line\":{\"color\":\"black\",\"width\":1},\"size\":10,\"symbol\":\"square\"},\"mode\":\"markers+text\",\"name\":\"2 front_empty\",\"text\":\"front\",\"textposition\":\"top center\",\"x\":[3.2681121826171875],\"y\":[0.16711676120758057],\"z\":[-1.9301177263259888],\"type\":\"scatter3d\"},{\"marker\":{\"color\":\"#535865\",\"line\":{\"color\":\"black\",\"width\":1},\"size\":10,\"symbol\":\"square\"},\"mode\":\"markers+text\",\"name\":\"3 front_wall\",\"text\":\"front\",\"textposition\":\"top center\",\"x\":[4.367923736572266],\"y\":[-0.9575651288032532],\"z\":[1.2996950149536133],\"type\":\"scatter3d\"},{\"marker\":{\"color\":\"#FAE2DB\",\"line\":{\"color\":\"black\",\"width\":1},\"size\":10,\"symbol\":\"square\"},\"mode\":\"markers+text\",\"name\":\"4 left_empty\",\"text\":\"left\",\"textposition\":\"top center\",\"x\":[-1.4876435995101929],\"y\":[5.554553031921387],\"z\":[-3.616258382797241],\"type\":\"scatter3d\"},{\"marker\":{\"color\":\"#535865\",\"line\":{\"color\":\"black\",\"width\":1},\"size\":10,\"symbol\":\"square\"},\"mode\":\"markers+text\",\"name\":\"5 left_wall\",\"text\":\"left\",\"textposition\":\"top center\",\"x\":[-2.220747232437134],\"y\":[5.917129039764404],\"z\":[-2.8946614265441895],\"type\":\"scatter3d\"},{\"marker\":{\"color\":\"#FAE2DB\",\"line\":{\"color\":\"black\",\"width\":1},\"size\":10,\"symbol\":\"square\"},\"mode\":\"markers+text\",\"name\":\"6 right_empty\",\"text\":\"right\",\"textposition\":\"top center\",\"x\":[-0.210396409034729],\"y\":[-4.341494560241699],\"z\":[6.660684108734131],\"type\":\"scatter3d\"},{\"marker\":{\"color\":\"#535865\",\"line\":{\"color\":\"black\",\"width\":1},\"size\":10,\"symbol\":\"square\"},\"mode\":\"markers+text\",\"name\":\"7 right_wall\",\"text\":\"right\",\"textposition\":\"top center\",\"x\":[2.3018956184387207],\"y\":[-2.733727216720581],\"z\":[4.71195650100708],\"type\":\"scatter3d\"},{\"marker\":{\"color\":\"#D6D6D6\",\"line\":{\"color\":\"black\",\"width\":1},\"size\":10,\"symbol\":\"circle\"},\"mode\":\"markers+text\",\"name\":\"8 turn_left\",\"text\":\"left\",\"textposition\":\"top center\",\"x\":[-1.6098535060882568],\"y\":[5.205131530761719],\"z\":[-1.9233921766281128],\"type\":\"scatter3d\"},{\"marker\":{\"color\":\"#D6D6D6\",\"line\":{\"color\":\"black\",\"width\":1},\"size\":10,\"symbol\":\"circle\"},\"mode\":\"markers+text\",\"name\":\"10 turn_right\",\"text\":\"right\",\"textposition\":\"top center\",\"x\":[-0.008255094289779663],\"y\":[2.9144489765167236],\"z\":[-1.9558888673782349],\"type\":\"scatter3d\"}],                        {\"template\":{\"data\":{\"histogram2dcontour\":[{\"type\":\"histogram2dcontour\",\"colorbar\":{\"outlinewidth\":0,\"ticks\":\"\"},\"colorscale\":[[0.0,\"#0d0887\"],[0.1111111111111111,\"#46039f\"],[0.2222222222222222,\"#7201a8\"],[0.3333333333333333,\"#9c179e\"],[0.4444444444444444,\"#bd3786\"],[0.5555555555555556,\"#d8576b\"],[0.6666666666666666,\"#ed7953\"],[0.7777777777777778,\"#fb9f3a\"],[0.8888888888888888,\"#fdca26\"],[1.0,\"#f0f921\"]]}],\"choropleth\":[{\"type\":\"choropleth\",\"colorbar\":{\"outlinewidth\":0,\"ticks\":\"\"}}],\"histogram2d\":[{\"type\":\"histogram2d\",\"colorbar\":{\"outlinewidth\":0,\"ticks\":\"\"},\"colorscale\":[[0.0,\"#0d0887\"],[0.1111111111111111,\"#46039f\"],[0.2222222222222222,\"#7201a8\"],[0.3333333333333333,\"#9c179e\"],[0.4444444444444444,\"#bd3786\"],[0.5555555555555556,\"#d8576b\"],[0.6666666666666666,\"#ed7953\"],[0.7777777777777778,\"#fb9f3a\"],[0.8888888888888888,\"#fdca26\"],[1.0,\"#f0f921\"]]}],\"heatmap\":[{\"type\":\"heatmap\",\"colorbar\":{\"outlinewidth\":0,\"ticks\":\"\"},\"colorscale\":[[0.0,\"#0d0887\"],[0.1111111111111111,\"#46039f\"],[0.2222222222222222,\"#7201a8\"],[0.3333333333333333,\"#9c179e\"],[0.4444444444444444,\"#bd3786\"],[0.5555555555555556,\"#d8576b\"],[0.6666666666666666,\"#ed7953\"],[0.7777777777777778,\"#fb9f3a\"],[0.8888888888888888,\"#fdca26\"],[1.0,\"#f0f921\"]]}],\"heatmapgl\":[{\"type\":\"heatmapgl\",\"colorbar\":{\"outlinewidth\":0,\"ticks\":\"\"},\"colorscale\":[[0.0,\"#0d0887\"],[0.1111111111111111,\"#46039f\"],[0.2222222222222222,\"#7201a8\"],[0.3333333333333333,\"#9c179e\"],[0.4444444444444444,\"#bd3786\"],[0.5555555555555556,\"#d8576b\"],[0.6666666666666666,\"#ed7953\"],[0.7777777777777778,\"#fb9f3a\"],[0.8888888888888888,\"#fdca26\"],[1.0,\"#f0f921\"]]}],\"contourcarpet\":[{\"type\":\"contourcarpet\",\"colorbar\":{\"outlinewidth\":0,\"ticks\":\"\"}}],\"contour\":[{\"type\":\"contour\",\"colorbar\":{\"outlinewidth\":0,\"ticks\":\"\"},\"colorscale\":[[0.0,\"#0d0887\"],[0.1111111111111111,\"#46039f\"],[0.2222222222222222,\"#7201a8\"],[0.3333333333333333,\"#9c179e\"],[0.4444444444444444,\"#bd3786\"],[0.5555555555555556,\"#d8576b\"],[0.6666666666666666,\"#ed7953\"],[0.7777777777777778,\"#fb9f3a\"],[0.8888888888888888,\"#fdca26\"],[1.0,\"#f0f921\"]]}],\"surface\":[{\"type\":\"surface\",\"colorbar\":{\"outlinewidth\":0,\"ticks\":\"\"},\"colorscale\":[[0.0,\"#0d0887\"],[0.1111111111111111,\"#46039f\"],[0.2222222222222222,\"#7201a8\"],[0.3333333333333333,\"#9c179e\"],[0.4444444444444444,\"#bd3786\"],[0.5555555555555556,\"#d8576b\"],[0.6666666666666666,\"#ed7953\"],[0.7777777777777778,\"#fb9f3a\"],[0.8888888888888888,\"#fdca26\"],[1.0,\"#f0f921\"]]}],\"mesh3d\":[{\"type\":\"mesh3d\",\"colorbar\":{\"outlinewidth\":0,\"ticks\":\"\"}}],\"scatter\":[{\"fillpattern\":{\"fillmode\":\"overlay\",\"size\":10,\"solidity\":0.2},\"type\":\"scatter\"}],\"parcoords\":[{\"type\":\"parcoords\",\"line\":{\"colorbar\":{\"outlinewidth\":0,\"ticks\":\"\"}}}],\"scatterpolargl\":[{\"type\":\"scatterpolargl\",\"marker\":{\"colorbar\":{\"outlinewidth\":0,\"ticks\":\"\"}}}],\"bar\":[{\"error_x\":{\"color\":\"#2a3f5f\"},\"error_y\":{\"color\":\"#2a3f5f\"},\"marker\":{\"line\":{\"color\":\"#E5ECF6\",\"width\":0.5},\"pattern\":{\"fillmode\":\"overlay\",\"size\":10,\"solidity\":0.2}},\"type\":\"bar\"}],\"scattergeo\":[{\"type\":\"scattergeo\",\"marker\":{\"colorbar\":{\"outlinewidth\":0,\"ticks\":\"\"}}}],\"scatterpolar\":[{\"type\":\"scatterpolar\",\"marker\":{\"colorbar\":{\"outlinewidth\":0,\"ticks\":\"\"}}}],\"histogram\":[{\"marker\":{\"pattern\":{\"fillmode\":\"overlay\",\"size\":10,\"solidity\":0.2}},\"type\":\"histogram\"}],\"scattergl\":[{\"type\":\"scattergl\",\"marker\":{\"colorbar\":{\"outlinewidth\":0,\"ticks\":\"\"}}}],\"scatter3d\":[{\"type\":\"scatter3d\",\"line\":{\"colorbar\":{\"outlinewidth\":0,\"ticks\":\"\"}},\"marker\":{\"colorbar\":{\"outlinewidth\":0,\"ticks\":\"\"}}}],\"scattermapbox\":[{\"type\":\"scattermapbox\",\"marker\":{\"colorbar\":{\"outlinewidth\":0,\"ticks\":\"\"}}}],\"scatterternary\":[{\"type\":\"scatterternary\",\"marker\":{\"colorbar\":{\"outlinewidth\":0,\"ticks\":\"\"}}}],\"scattercarpet\":[{\"type\":\"scattercarpet\",\"marker\":{\"colorbar\":{\"outlinewidth\":0,\"ticks\":\"\"}}}],\"carpet\":[{\"aaxis\":{\"endlinecolor\":\"#2a3f5f\",\"gridcolor\":\"white\",\"linecolor\":\"white\",\"minorgridcolor\":\"white\",\"startlinecolor\":\"#2a3f5f\"},\"baxis\":{\"endlinecolor\":\"#2a3f5f\",\"gridcolor\":\"white\",\"linecolor\":\"white\",\"minorgridcolor\":\"white\",\"startlinecolor\":\"#2a3f5f\"},\"type\":\"carpet\"}],\"table\":[{\"cells\":{\"fill\":{\"color\":\"#EBF0F8\"},\"line\":{\"color\":\"white\"}},\"header\":{\"fill\":{\"color\":\"#C8D4E3\"},\"line\":{\"color\":\"white\"}},\"type\":\"table\"}],\"barpolar\":[{\"marker\":{\"line\":{\"color\":\"#E5ECF6\",\"width\":0.5},\"pattern\":{\"fillmode\":\"overlay\",\"size\":10,\"solidity\":0.2}},\"type\":\"barpolar\"}],\"pie\":[{\"automargin\":true,\"type\":\"pie\"}]},\"layout\":{\"autotypenumbers\":\"strict\",\"colorway\":[\"#636efa\",\"#EF553B\",\"#00cc96\",\"#ab63fa\",\"#FFA15A\",\"#19d3f3\",\"#FF6692\",\"#B6E880\",\"#FF97FF\",\"#FECB52\"],\"font\":{\"color\":\"#2a3f5f\"},\"hovermode\":\"closest\",\"hoverlabel\":{\"align\":\"left\"},\"paper_bgcolor\":\"white\",\"plot_bgcolor\":\"#E5ECF6\",\"polar\":{\"bgcolor\":\"#E5ECF6\",\"angularaxis\":{\"gridcolor\":\"white\",\"linecolor\":\"white\",\"ticks\":\"\"},\"radialaxis\":{\"gridcolor\":\"white\",\"linecolor\":\"white\",\"ticks\":\"\"}},\"ternary\":{\"bgcolor\":\"#E5ECF6\",\"aaxis\":{\"gridcolor\":\"white\",\"linecolor\":\"white\",\"ticks\":\"\"},\"baxis\":{\"gridcolor\":\"white\",\"linecolor\":\"white\",\"ticks\":\"\"},\"caxis\":{\"gridcolor\":\"white\",\"linecolor\":\"white\",\"ticks\":\"\"}},\"coloraxis\":{\"colorbar\":{\"outlinewidth\":0,\"ticks\":\"\"}},\"colorscale\":{\"sequential\":[[0.0,\"#0d0887\"],[0.1111111111111111,\"#46039f\"],[0.2222222222222222,\"#7201a8\"],[0.3333333333333333,\"#9c179e\"],[0.4444444444444444,\"#bd3786\"],[0.5555555555555556,\"#d8576b\"],[0.6666666666666666,\"#ed7953\"],[0.7777777777777778,\"#fb9f3a\"],[0.8888888888888888,\"#fdca26\"],[1.0,\"#f0f921\"]],\"sequentialminus\":[[0.0,\"#0d0887\"],[0.1111111111111111,\"#46039f\"],[0.2222222222222222,\"#7201a8\"],[0.3333333333333333,\"#9c179e\"],[0.4444444444444444,\"#bd3786\"],[0.5555555555555556,\"#d8576b\"],[0.6666666666666666,\"#ed7953\"],[0.7777777777777778,\"#fb9f3a\"],[0.8888888888888888,\"#fdca26\"],[1.0,\"#f0f921\"]],\"diverging\":[[0,\"#8e0152\"],[0.1,\"#c51b7d\"],[0.2,\"#de77ae\"],[0.3,\"#f1b6da\"],[0.4,\"#fde0ef\"],[0.5,\"#f7f7f7\"],[0.6,\"#e6f5d0\"],[0.7,\"#b8e186\"],[0.8,\"#7fbc41\"],[0.9,\"#4d9221\"],[1,\"#276419\"]]},\"xaxis\":{\"gridcolor\":\"white\",\"linecolor\":\"white\",\"ticks\":\"\",\"title\":{\"standoff\":15},\"zerolinecolor\":\"white\",\"automargin\":true,\"zerolinewidth\":2},\"yaxis\":{\"gridcolor\":\"white\",\"linecolor\":\"white\",\"ticks\":\"\",\"title\":{\"standoff\":15},\"zerolinecolor\":\"white\",\"automargin\":true,\"zerolinewidth\":2},\"scene\":{\"xaxis\":{\"backgroundcolor\":\"#E5ECF6\",\"gridcolor\":\"white\",\"linecolor\":\"white\",\"showbackground\":true,\"ticks\":\"\",\"zerolinecolor\":\"white\",\"gridwidth\":2},\"yaxis\":{\"backgroundcolor\":\"#E5ECF6\",\"gridcolor\":\"white\",\"linecolor\":\"white\",\"showbackground\":true,\"ticks\":\"\",\"zerolinecolor\":\"white\",\"gridwidth\":2},\"zaxis\":{\"backgroundcolor\":\"#E5ECF6\",\"gridcolor\":\"white\",\"linecolor\":\"white\",\"showbackground\":true,\"ticks\":\"\",\"zerolinecolor\":\"white\",\"gridwidth\":2}},\"shapedefaults\":{\"line\":{\"color\":\"#2a3f5f\"}},\"annotationdefaults\":{\"arrowcolor\":\"#2a3f5f\",\"arrowhead\":0,\"arrowwidth\":1},\"geo\":{\"bgcolor\":\"white\",\"landcolor\":\"#E5ECF6\",\"subunitcolor\":\"white\",\"showland\":true,\"showlakes\":true,\"lakecolor\":\"white\"},\"title\":{\"x\":0.05},\"mapbox\":{\"style\":\"light\"}}},\"width\":900,\"height\":700,\"scene\":{\"xaxis\":{\"title\":{\"text\":\"X\"}},\"yaxis\":{\"title\":{\"text\":\"Y\"}},\"zaxis\":{\"title\":{\"text\":\"Z\"}}}},                        {\"toImageButtonOptions\": {\"format\": \"svg\"}, \"responsive\": true}                    ).then(function(){\n",
       "                            \n",
       "var gd = document.getElementById('9d43ad43-766d-4d95-9057-d4d14d086446');\n",
       "var x = new MutationObserver(function (mutations, observer) {{\n",
       "        var display = window.getComputedStyle(gd).display;\n",
       "        if (!display || display === 'none') {{\n",
       "            console.log([gd, 'removed!']);\n",
       "            Plotly.purge(gd);\n",
       "            observer.disconnect();\n",
       "        }}\n",
       "}});\n",
       "\n",
       "// Listen for the removal of the full notebook cells\n",
       "var notebookContainer = gd.closest('#notebook-container');\n",
       "if (notebookContainer) {{\n",
       "    x.observe(notebookContainer, {childList: true});\n",
       "}}\n",
       "\n",
       "// Listen for the clearing of the current output cell\n",
       "var outputEl = gd.closest('.output');\n",
       "if (outputEl) {{\n",
       "    x.observe(outputEl, {childList: true});\n",
       "}}\n",
       "\n",
       "                        })                };                });            </script>        </div>"
      ]
     },
     "metadata": {},
     "output_type": "display_data"
    }
   ],
   "source": [
    "group_axes = {\n",
    "    \"direction_forward\": [0, 1, 2, 3],      # Tokens : forward, front_empty, front_wall\n",
    "    \"direction_left\": [4, 5, 8],      # left_empty, left_wall, turn_left, turn_left (duplicated)\n",
    "    \"direction_right\": [6, 7, 10],   # right_empty, right_wall, turn_right, turn_right\n",
    "    # \"move\": [0, 8, 10],             # forward, turn_left, turn_right\n",
    "    # \"feel_wall\": [3, 5, 7],         # bump, front_wall, left_wall, right_wall\n",
    "    # \"feel_empty\": [2, 4, 6],\n",
    "}\n",
    "token_labels = ['0 forward', '1 bump', '2 front_empty', '3 front_wall', '4 left_empty', '5 left_wall','6 right_empty', '7 right_wall', '8 turn_left', '9 sos', '10 turn_right', '11 eos', '12 pad']\n",
    "all_tokens = [0, 1, 2, 3, 4, 5, 6, 7, 8, 10]\n",
    "\n",
    "embedding_weight = model.embedding.weight\n",
    "projected = project_embeddings_to_3D(model, embedding_weight, group_axes)\n",
    "plotly_embedding(projected, [token_labels[i] for i in all_tokens], all_tokens)"
   ]
  },
  {
   "cell_type": "markdown",
   "id": "5414d8a1-8fc6-4528-a811-7092b6c9c932",
   "metadata": {},
   "source": [
    "Sous certains angles de projection, on voit des regroupements intéressants des tokens par coté (Figure 1) ou par type de sensation (Figure 2)"
   ]
  },
  {
   "cell_type": "markdown",
   "id": "4264ecfe-3134-44f9-bd34-0122bffdc425",
   "metadata": {},
   "source": [
    "![Figure 1](img/7-embedding_lateralisation.svg)\n",
    "\n",
    "_Figure 1: Projection qui met en évidence les regroupements par coté (\"left\", \"front\", \"right\")_"
   ]
  },
  {
   "cell_type": "markdown",
   "id": "0e7fb34d-afad-4466-b522-a34d88123be3",
   "metadata": {},
   "source": [
    "![Figure 1](img/7-embedding_feel.svg)\n",
    "\n",
    "_Figure 2: Projection qui met en évidence les regroupements par type de sensation (\"empty\" ou \"wall\")_"
   ]
  },
  {
   "cell_type": "markdown",
   "id": "7b5dfeab-d0cc-435a-a10b-c865df946719",
   "metadata": {},
   "source": [
    "## Visualisation de la sortie encodeur"
   ]
  },
  {
   "cell_type": "code",
   "execution_count": 29,
   "id": "1eeb44ff-d809-4d19-9f98-d532d763d4f9",
   "metadata": {},
   "outputs": [],
   "source": [
    "def visualize_encoder_outputs(model, sequences, labels=None):\n",
    "    \"\"\"\n",
    "    Visualise les représentations finales de l'encodeur pour un ensemble de séquences.\n",
    "    Chaque token est affiché individuellement.\n",
    "\n",
    "    Args:\n",
    "        model: Le modèle entraîné.\n",
    "        sequences: Liste de séquences source (liste de listes de tokens).\n",
    "        labels: Optionnel — liste de chaînes pour légender les points.\n",
    "\n",
    "    Returns:\n",
    "        - embeddings: Tensor contenant les représentations des tokens.\n",
    "        - all_labels: Liste de chaînes servant à légender chaque point.\n",
    "        - all_token_values: Liste des valeurs de chaque token (entier ou string) dans le même ordre.\n",
    "    \"\"\"\n",
    "    model.eval()\n",
    "    all_embeddings = []\n",
    "    all_labels = []\n",
    "    all_token_values = []\n",
    "\n",
    "    with torch.no_grad():\n",
    "        for idx, seq in enumerate(sequences):\n",
    "            src = torch.tensor([seq], dtype=torch.long).to(DEVICE)\n",
    "            src_pad_mask = (src == PAD_TOKEN)\n",
    "\n",
    "            src_emb = model.embedding(src) + model.pos_encoding[:src.size(1)]\n",
    "            src_emb = src_emb.permute(1, 0, 2)  # (seq_len, batch, dim)\n",
    "            memory = model.encoder(src_emb, src_key_padding_mask=src_pad_mask)  # (seq_len, batch, dim)\n",
    "\n",
    "            memory = memory.squeeze(1).cpu()  # (seq_len, dim)\n",
    "            all_embeddings.extend(memory)\n",
    "\n",
    "            all_token_values.extend(seq)  # Ajout des tokens eux-mêmes\n",
    "\n",
    "            if labels:\n",
    "                all_labels.extend([f\"{labels[idx]}_{i}\" for i in range(len(seq))])\n",
    "            else:\n",
    "                all_labels.extend([f\"{idx}_{i}\" for i in range(len(seq))])\n",
    "                \n",
    "    return torch.stack(all_embeddings), all_labels, all_token_values\n"
   ]
  },
  {
   "cell_type": "code",
   "execution_count": 30,
   "id": "ce5d1590-b3e3-4760-8eb3-fa08f6c3bd59",
   "metadata": {},
   "outputs": [
    {
     "name": "stdout",
     "output_type": "stream",
     "text": [
      "78\n"
     ]
    },
    {
     "data": {
      "application/vnd.plotly.v1+json": {
       "config": {
        "plotlyServerURL": "https://plot.ly",
        "toImageButtonOptions": {
         "format": "svg"
        }
       },
       "data": [
        {
         "marker": {
          "color": "#D6D6D6",
          "line": {
           "color": "black",
           "width": 1
          },
          "size": 10,
          "symbol": "circle"
         },
         "mode": "markers+text",
         "name": "802020_0",
         "text": "left",
         "textposition": "top center",
         "type": "scatter3d",
         "x": [
          10.11942195892334
         ],
         "y": [
          12.784141540527344
         ],
         "z": [
          10.11942195892334
         ]
        },
        {
         "marker": {
          "color": "#D6D6D6",
          "line": {
           "color": "black",
           "width": 1
          },
          "size": 10,
          "symbol": "diamond"
         },
         "mode": "markers+text",
         "name": "802020_1",
         "text": "forward",
         "textposition": "top center",
         "type": "scatter3d",
         "x": [
          7.3901262283325195
         ],
         "y": [
          15.031513214111328
         ],
         "z": [
          7.390126705169678
         ]
        },
        {
         "marker": {
          "color": "#FAE2DB",
          "line": {
           "color": "black",
           "width": 1
          },
          "size": 10,
          "symbol": "square"
         },
         "mode": "markers+text",
         "name": "802020_2",
         "text": "front",
         "textposition": "top center",
         "type": "scatter3d",
         "x": [
          11.528030395507812
         ],
         "y": [
          9.219722747802734
         ],
         "z": [
          11.528030395507812
         ]
        },
        {
         "marker": {
          "color": "#D6D6D6",
          "line": {
           "color": "black",
           "width": 1
          },
          "size": 10,
          "symbol": "diamond"
         },
         "mode": "markers+text",
         "name": "802020_3",
         "text": "forward",
         "textposition": "top center",
         "type": "scatter3d",
         "x": [
          6.412934303283691
         ],
         "y": [
          14.921026229858398
         ],
         "z": [
          6.41293478012085
         ]
        },
        {
         "marker": {
          "color": "#FAE2DB",
          "line": {
           "color": "black",
           "width": 1
          },
          "size": 10,
          "symbol": "square"
         },
         "mode": "markers+text",
         "name": "802020_4",
         "text": "front",
         "textposition": "top center",
         "type": "scatter3d",
         "x": [
          6.820259094238281
         ],
         "y": [
          -2.0913703441619873
         ],
         "z": [
          6.820258617401123
         ]
        },
        {
         "marker": {
          "color": "#D6D6D6",
          "line": {
           "color": "black",
           "width": 1
          },
          "size": 10,
          "symbol": "diamond"
         },
         "mode": "markers+text",
         "name": "802020_5",
         "text": "forward",
         "textposition": "top center",
         "type": "scatter3d",
         "x": [
          6.109432697296143
         ],
         "y": [
          14.913623809814453
         ],
         "z": [
          6.109432697296143
         ]
        },
        {
         "marker": {
          "color": "#D6D6D6",
          "line": {
           "color": "black",
           "width": 1
          },
          "size": 10,
          "symbol": "circle"
         },
         "mode": "markers+text",
         "name": "802020_0",
         "text": "left",
         "textposition": "top center",
         "type": "scatter3d",
         "x": [
          10.11942195892334
         ],
         "y": [
          12.784141540527344
         ],
         "z": [
          10.11942195892334
         ]
        },
        {
         "marker": {
          "color": "#D6D6D6",
          "line": {
           "color": "black",
           "width": 1
          },
          "size": 10,
          "symbol": "diamond"
         },
         "mode": "markers+text",
         "name": "802020_1",
         "text": "forward",
         "textposition": "top center",
         "type": "scatter3d",
         "visible": true,
         "x": [
          7.3901262283325195
         ],
         "y": [
          15.031513214111328
         ],
         "z": [
          7.390126705169678
         ]
        },
        {
         "marker": {
          "color": "#FAE2DB",
          "line": {
           "color": "black",
           "width": 1
          },
          "size": 10,
          "symbol": "square"
         },
         "mode": "markers+text",
         "name": "802020_2",
         "text": "front",
         "textposition": "top center",
         "type": "scatter3d",
         "visible": true,
         "x": [
          11.528030395507812
         ],
         "y": [
          9.219722747802734
         ],
         "z": [
          11.528030395507812
         ]
        },
        {
         "marker": {
          "color": "#D6D6D6",
          "line": {
           "color": "black",
           "width": 1
          },
          "size": 10,
          "symbol": "diamond"
         },
         "mode": "markers+text",
         "name": "802020_3",
         "text": "forward",
         "textposition": "top center",
         "type": "scatter3d",
         "visible": true,
         "x": [
          6.412934303283691
         ],
         "y": [
          14.921026229858398
         ],
         "z": [
          6.41293478012085
         ]
        },
        {
         "marker": {
          "color": "#FAE2DB",
          "line": {
           "color": "black",
           "width": 1
          },
          "size": 10,
          "symbol": "square"
         },
         "mode": "markers+text",
         "name": "802020_4",
         "text": "front",
         "textposition": "top center",
         "type": "scatter3d",
         "visible": true,
         "x": [
          6.820259094238281
         ],
         "y": [
          -2.0913703441619873
         ],
         "z": [
          6.820258617401123
         ]
        },
        {
         "marker": {
          "color": "#D6D6D6",
          "line": {
           "color": "black",
           "width": 1
          },
          "size": 10,
          "symbol": "diamond"
         },
         "mode": "markers+text",
         "name": "802020_5",
         "text": "forward",
         "textposition": "top center",
         "type": "scatter3d",
         "visible": true,
         "x": [
          6.109432697296143
         ],
         "y": [
          14.913623809814453
         ],
         "z": [
          6.109432697296143
         ]
        },
        {
         "marker": {
          "color": "#D6D6D6",
          "line": {
           "color": "black",
           "width": 1
          },
          "size": 10,
          "symbol": "diamond"
         },
         "mode": "markers+text",
         "name": "020203_0",
         "text": "forward",
         "textposition": "top center",
         "type": "scatter3d",
         "visible": true,
         "x": [
          2.8119699954986572
         ],
         "y": [
          12.501977920532227
         ],
         "z": [
          2.8119699954986572
         ]
        },
        {
         "marker": {
          "color": "#FAE2DB",
          "line": {
           "color": "black",
           "width": 1
          },
          "size": 10,
          "symbol": "square"
         },
         "mode": "markers+text",
         "name": "020203_1",
         "text": "front",
         "textposition": "top center",
         "type": "scatter3d",
         "visible": true,
         "x": [
          1.2597088813781738
         ],
         "y": [
          -0.5227546691894531
         ],
         "z": [
          1.2597088813781738
         ]
        },
        {
         "marker": {
          "color": "#D6D6D6",
          "line": {
           "color": "black",
           "width": 1
          },
          "size": 10,
          "symbol": "diamond"
         },
         "mode": "markers+text",
         "name": "020203_2",
         "text": "forward",
         "textposition": "top center",
         "type": "scatter3d",
         "visible": true,
         "x": [
          6.234827995300293
         ],
         "y": [
          14.783515930175781
         ],
         "z": [
          6.234828948974609
         ]
        },
        {
         "marker": {
          "color": "#FAE2DB",
          "line": {
           "color": "black",
           "width": 1
          },
          "size": 10,
          "symbol": "square"
         },
         "mode": "markers+text",
         "name": "020203_3",
         "text": "front",
         "textposition": "top center",
         "type": "scatter3d",
         "visible": true,
         "x": [
          7.018516540527344
         ],
         "y": [
          14.960359573364258
         ],
         "z": [
          7.018516540527344
         ]
        },
        {
         "marker": {
          "color": "#D6D6D6",
          "line": {
           "color": "black",
           "width": 1
          },
          "size": 10,
          "symbol": "diamond"
         },
         "mode": "markers+text",
         "name": "020203_4",
         "text": "forward",
         "textposition": "top center",
         "type": "scatter3d",
         "visible": true,
         "x": [
          6.270743370056152
         ],
         "y": [
          15.021820068359375
         ],
         "z": [
          6.2707438468933105
         ]
        },
        {
         "marker": {
          "color": "#535865",
          "line": {
           "color": "black",
           "width": 1
          },
          "size": 10,
          "symbol": "square"
         },
         "mode": "markers+text",
         "name": "020203_5",
         "text": "front",
         "textposition": "top center",
         "type": "scatter3d",
         "visible": true,
         "x": [
          -0.04440951347351074
         ],
         "y": [
          11.980644226074219
         ],
         "z": [
          -0.04440951347351074
         ]
        },
        {
         "marker": {
          "color": "#D6D6D6",
          "line": {
           "color": "black",
           "width": 1
          },
          "size": 10,
          "symbol": "diamond"
         },
         "mode": "markers+text",
         "name": "020203_0",
         "text": "forward",
         "textposition": "top center",
         "type": "scatter3d",
         "visible": true,
         "x": [
          2.8119699954986572
         ],
         "y": [
          12.501977920532227
         ],
         "z": [
          2.8119699954986572
         ]
        },
        {
         "marker": {
          "color": "#FAE2DB",
          "line": {
           "color": "black",
           "width": 1
          },
          "size": 10,
          "symbol": "square"
         },
         "mode": "markers+text",
         "name": "020203_1",
         "text": "front",
         "textposition": "top center",
         "type": "scatter3d",
         "visible": true,
         "x": [
          1.2597088813781738
         ],
         "y": [
          -0.5227546691894531
         ],
         "z": [
          1.2597088813781738
         ]
        },
        {
         "marker": {
          "color": "#D6D6D6",
          "line": {
           "color": "black",
           "width": 1
          },
          "size": 10,
          "symbol": "diamond"
         },
         "mode": "markers+text",
         "name": "020203_2",
         "text": "forward",
         "textposition": "top center",
         "type": "scatter3d",
         "visible": true,
         "x": [
          6.234827995300293
         ],
         "y": [
          14.783515930175781
         ],
         "z": [
          6.234828948974609
         ]
        },
        {
         "marker": {
          "color": "#FAE2DB",
          "line": {
           "color": "black",
           "width": 1
          },
          "size": 10,
          "symbol": "square"
         },
         "mode": "markers+text",
         "name": "020203_3",
         "text": "front",
         "textposition": "top center",
         "type": "scatter3d",
         "visible": true,
         "x": [
          7.018516540527344
         ],
         "y": [
          14.960359573364258
         ],
         "z": [
          7.018516540527344
         ]
        },
        {
         "marker": {
          "color": "#D6D6D6",
          "line": {
           "color": "black",
           "width": 1
          },
          "size": 10,
          "symbol": "diamond"
         },
         "mode": "markers+text",
         "name": "020203_4",
         "text": "forward",
         "textposition": "top center",
         "type": "scatter3d",
         "visible": true,
         "x": [
          6.270743370056152
         ],
         "y": [
          15.021820068359375
         ],
         "z": [
          6.2707438468933105
         ]
        },
        {
         "marker": {
          "color": "#535865",
          "line": {
           "color": "black",
           "width": 1
          },
          "size": 10,
          "symbol": "square"
         },
         "mode": "markers+text",
         "name": "020203_5",
         "text": "front",
         "textposition": "top center",
         "type": "scatter3d",
         "visible": true,
         "x": [
          -0.04440951347351074
         ],
         "y": [
          11.980644226074219
         ],
         "z": [
          -0.04440951347351074
         ]
        },
        {
         "marker": {
          "color": "#D6D6D6",
          "line": {
           "color": "black",
           "width": 1
          },
          "size": 10,
          "symbol": "diamond"
         },
         "mode": "markers+text",
         "name": "0203101_0",
         "text": "forward",
         "textposition": "top center",
         "type": "scatter3d",
         "visible": true,
         "x": [
          0.796730637550354
         ],
         "y": [
          10.762185096740723
         ],
         "z": [
          0.796730637550354
         ]
        },
        {
         "marker": {
          "color": "#FAE2DB",
          "line": {
           "color": "black",
           "width": 1
          },
          "size": 10,
          "symbol": "square"
         },
         "mode": "markers+text",
         "name": "0203101_1",
         "text": "front",
         "textposition": "top center",
         "type": "scatter3d",
         "visible": true,
         "x": [
          -0.5690923929214478
         ],
         "y": [
          -1.4763116836547852
         ],
         "z": [
          -0.5690925121307373
         ]
        },
        {
         "marker": {
          "color": "#D6D6D6",
          "line": {
           "color": "black",
           "width": 1
          },
          "size": 10,
          "symbol": "diamond"
         },
         "mode": "markers+text",
         "name": "0203101_2",
         "text": "forward",
         "textposition": "top center",
         "type": "scatter3d",
         "visible": true,
         "x": [
          5.835518836975098
         ],
         "y": [
          14.673748016357422
         ],
         "z": [
          5.835518836975098
         ]
        },
        {
         "marker": {
          "color": "#535865",
          "line": {
           "color": "black",
           "width": 1
          },
          "size": 10,
          "symbol": "square"
         },
         "mode": "markers+text",
         "name": "0203101_3",
         "text": "front",
         "textposition": "top center",
         "type": "scatter3d",
         "visible": true,
         "x": [
          -1.5427980422973633
         ],
         "y": [
          10.24203109741211
         ],
         "z": [
          -1.5427979230880737
         ]
        },
        {
         "marker": {
          "color": "#D6D6D6",
          "line": {
           "color": "black",
           "width": 1
          },
          "size": 10,
          "symbol": "circle"
         },
         "mode": "markers+text",
         "name": "0203101_4",
         "text": "right",
         "textposition": "top center",
         "type": "scatter3d",
         "visible": true,
         "x": [
          3.8225796222686768
         ],
         "y": [
          -4.368084907531738
         ],
         "z": [
          3.822579860687256
         ]
        },
        {
         "marker": {
          "color": "#F93943",
          "line": {
           "color": "black",
           "width": 1
          },
          "size": 10,
          "symbol": "diamond"
         },
         "mode": "markers+text",
         "name": "0203101_5",
         "text": "bump",
         "textposition": "top center",
         "type": "scatter3d",
         "visible": true,
         "x": [
          -4.443366050720215
         ],
         "y": [
          2.32889461517334
         ],
         "z": [
          -4.443366050720215
         ]
        },
        {
         "marker": {
          "color": "#F93943",
          "line": {
           "color": "black",
           "width": 1
          },
          "size": 10,
          "symbol": "diamond"
         },
         "mode": "markers+text",
         "name": "1102020_0",
         "text": "bump",
         "textposition": "top center",
         "type": "scatter3d",
         "visible": true,
         "x": [
          -1.865144968032837
         ],
         "y": [
          -8.802132606506348
         ],
         "z": [
          -1.865144968032837
         ]
        },
        {
         "marker": {
          "color": "#D6D6D6",
          "line": {
           "color": "black",
           "width": 1
          },
          "size": 10,
          "symbol": "circle"
         },
         "mode": "markers+text",
         "name": "1102020_1",
         "text": "right",
         "textposition": "top center",
         "type": "scatter3d",
         "visible": true,
         "x": [
          4.8879876136779785
         ],
         "y": [
          -5.7743682861328125
         ],
         "z": [
          4.8879876136779785
         ]
        },
        {
         "marker": {
          "color": "#FAE2DB",
          "line": {
           "color": "black",
           "width": 1
          },
          "size": 10,
          "symbol": "square"
         },
         "mode": "markers+text",
         "name": "1102020_2",
         "text": "front",
         "textposition": "top center",
         "type": "scatter3d",
         "visible": true,
         "x": [
          11.305625915527344
         ],
         "y": [
          6.78627872467041
         ],
         "z": [
          11.305625915527344
         ]
        },
        {
         "marker": {
          "color": "#D6D6D6",
          "line": {
           "color": "black",
           "width": 1
          },
          "size": 10,
          "symbol": "diamond"
         },
         "mode": "markers+text",
         "name": "1102020_3",
         "text": "forward",
         "textposition": "top center",
         "type": "scatter3d",
         "visible": true,
         "x": [
          5.894469261169434
         ],
         "y": [
          14.81007194519043
         ],
         "z": [
          5.894469261169434
         ]
        },
        {
         "marker": {
          "color": "#FAE2DB",
          "line": {
           "color": "black",
           "width": 1
          },
          "size": 10,
          "symbol": "square"
         },
         "mode": "markers+text",
         "name": "1102020_4",
         "text": "front",
         "textposition": "top center",
         "type": "scatter3d",
         "visible": true,
         "x": [
          4.552741050720215
         ],
         "y": [
          -4.023111343383789
         ],
         "z": [
          4.552741050720215
         ]
        },
        {
         "marker": {
          "color": "#D6D6D6",
          "line": {
           "color": "black",
           "width": 1
          },
          "size": 10,
          "symbol": "diamond"
         },
         "mode": "markers+text",
         "name": "1102020_5",
         "text": "forward",
         "textposition": "top center",
         "type": "scatter3d",
         "visible": true,
         "x": [
          4.41322135925293
         ],
         "y": [
          14.239705085754395
         ],
         "z": [
          4.41322135925293
         ]
        },
        {
         "marker": {
          "color": "#D6D6D6",
          "line": {
           "color": "black",
           "width": 1
          },
          "size": 10,
          "symbol": "diamond"
         },
         "mode": "markers+text",
         "name": "020203_0",
         "text": "forward",
         "textposition": "top center",
         "type": "scatter3d",
         "visible": true,
         "x": [
          2.8119699954986572
         ],
         "y": [
          12.501977920532227
         ],
         "z": [
          2.8119699954986572
         ]
        },
        {
         "marker": {
          "color": "#FAE2DB",
          "line": {
           "color": "black",
           "width": 1
          },
          "size": 10,
          "symbol": "square"
         },
         "mode": "markers+text",
         "name": "020203_1",
         "text": "front",
         "textposition": "top center",
         "type": "scatter3d",
         "visible": true,
         "x": [
          1.2597088813781738
         ],
         "y": [
          -0.5227546691894531
         ],
         "z": [
          1.2597088813781738
         ]
        },
        {
         "marker": {
          "color": "#D6D6D6",
          "line": {
           "color": "black",
           "width": 1
          },
          "size": 10,
          "symbol": "diamond"
         },
         "mode": "markers+text",
         "name": "020203_2",
         "text": "forward",
         "textposition": "top center",
         "type": "scatter3d",
         "visible": true,
         "x": [
          6.234827995300293
         ],
         "y": [
          14.783515930175781
         ],
         "z": [
          6.234828948974609
         ]
        },
        {
         "marker": {
          "color": "#FAE2DB",
          "line": {
           "color": "black",
           "width": 1
          },
          "size": 10,
          "symbol": "square"
         },
         "mode": "markers+text",
         "name": "020203_3",
         "text": "front",
         "textposition": "top center",
         "type": "scatter3d",
         "visible": true,
         "x": [
          7.018516540527344
         ],
         "y": [
          14.960359573364258
         ],
         "z": [
          7.018516540527344
         ]
        },
        {
         "marker": {
          "color": "#D6D6D6",
          "line": {
           "color": "black",
           "width": 1
          },
          "size": 10,
          "symbol": "diamond"
         },
         "mode": "markers+text",
         "name": "020203_4",
         "text": "forward",
         "textposition": "top center",
         "type": "scatter3d",
         "visible": true,
         "x": [
          6.270743370056152
         ],
         "y": [
          15.021820068359375
         ],
         "z": [
          6.2707438468933105
         ]
        },
        {
         "marker": {
          "color": "#535865",
          "line": {
           "color": "black",
           "width": 1
          },
          "size": 10,
          "symbol": "square"
         },
         "mode": "markers+text",
         "name": "020203_5",
         "text": "front",
         "textposition": "top center",
         "type": "scatter3d",
         "visible": true,
         "x": [
          -0.04440951347351074
         ],
         "y": [
          11.980644226074219
         ],
         "z": [
          -0.04440951347351074
         ]
        },
        {
         "marker": {
          "color": "#FAE2DB",
          "line": {
           "color": "black",
           "width": 1
          },
          "size": 10,
          "symbol": "square"
         },
         "mode": "markers+text",
         "name": "203513_0",
         "text": "front",
         "textposition": "top center",
         "type": "scatter3d",
         "visible": true,
         "x": [
          2.363835573196411
         ],
         "y": [
          -8.294962882995605
         ],
         "z": [
          2.363835573196411
         ]
        },
        {
         "marker": {
          "color": "#D6D6D6",
          "line": {
           "color": "black",
           "width": 1
          },
          "size": 10,
          "symbol": "diamond"
         },
         "mode": "markers+text",
         "name": "203513_1",
         "text": "forward",
         "textposition": "top center",
         "type": "scatter3d",
         "visible": true,
         "x": [
          6.703494071960449
         ],
         "y": [
          15.073741912841797
         ],
         "z": [
          6.703494071960449
         ]
        },
        {
         "marker": {
          "color": "#535865",
          "line": {
           "color": "black",
           "width": 1
          },
          "size": 10,
          "symbol": "square"
         },
         "mode": "markers+text",
         "name": "203513_2",
         "text": "front",
         "textposition": "top center",
         "type": "scatter3d",
         "visible": true,
         "x": [
          2.073242425918579
         ],
         "y": [
          13.036810874938965
         ],
         "z": [
          2.073242425918579
         ]
        },
        {
         "marker": {
          "color": "#535865",
          "line": {
           "color": "black",
           "width": 1
          },
          "size": 10,
          "symbol": "square"
         },
         "mode": "markers+text",
         "name": "203513_3",
         "text": "left",
         "textposition": "top center",
         "type": "scatter3d",
         "visible": true,
         "x": [
          5.07131814956665
         ],
         "y": [
          14.579329490661621
         ],
         "z": [
          5.07131814956665
         ]
        },
        {
         "marker": {
          "color": "#F93943",
          "line": {
           "color": "black",
           "width": 1
          },
          "size": 10,
          "symbol": "diamond"
         },
         "mode": "markers+text",
         "name": "203513_4",
         "text": "bump",
         "textposition": "top center",
         "type": "scatter3d",
         "visible": true,
         "x": [
          3.2181968688964844
         ],
         "y": [
          -0.5835248231887817
         ],
         "z": [
          3.2181971073150635
         ]
        },
        {
         "marker": {
          "color": "#535865",
          "line": {
           "color": "black",
           "width": 1
          },
          "size": 10,
          "symbol": "square"
         },
         "mode": "markers+text",
         "name": "203513_5",
         "text": "front",
         "textposition": "top center",
         "type": "scatter3d",
         "visible": true,
         "x": [
          1.17015540599823
         ],
         "y": [
          12.934088706970215
         ],
         "z": [
          1.17015540599823
         ]
        },
        {
         "marker": {
          "color": "#535865",
          "line": {
           "color": "black",
           "width": 1
          },
          "size": 10,
          "symbol": "square"
         },
         "mode": "markers+text",
         "name": "780203_0",
         "text": "right",
         "textposition": "top center",
         "type": "scatter3d",
         "visible": true,
         "x": [
          -6.373746871948242
         ],
         "y": [
          -5.216182708740234
         ],
         "z": [
          -6.373746871948242
         ]
        },
        {
         "marker": {
          "color": "#D6D6D6",
          "line": {
           "color": "black",
           "width": 1
          },
          "size": 10,
          "symbol": "circle"
         },
         "mode": "markers+text",
         "name": "780203_1",
         "text": "left",
         "textposition": "top center",
         "type": "scatter3d",
         "visible": true,
         "x": [
          2.9505536556243896
         ],
         "y": [
          9.847588539123535
         ],
         "z": [
          2.9505536556243896
         ]
        },
        {
         "marker": {
          "color": "#D6D6D6",
          "line": {
           "color": "black",
           "width": 1
          },
          "size": 10,
          "symbol": "diamond"
         },
         "mode": "markers+text",
         "name": "780203_2",
         "text": "forward",
         "textposition": "top center",
         "type": "scatter3d",
         "visible": true,
         "x": [
          6.266745567321777
         ],
         "y": [
          14.828338623046875
         ],
         "z": [
          6.266745567321777
         ]
        },
        {
         "marker": {
          "color": "#FAE2DB",
          "line": {
           "color": "black",
           "width": 1
          },
          "size": 10,
          "symbol": "square"
         },
         "mode": "markers+text",
         "name": "780203_3",
         "text": "front",
         "textposition": "top center",
         "type": "scatter3d",
         "visible": true,
         "x": [
          6.813333034515381
         ],
         "y": [
          14.924190521240234
         ],
         "z": [
          6.813333034515381
         ]
        },
        {
         "marker": {
          "color": "#D6D6D6",
          "line": {
           "color": "black",
           "width": 1
          },
          "size": 10,
          "symbol": "diamond"
         },
         "mode": "markers+text",
         "name": "780203_4",
         "text": "forward",
         "textposition": "top center",
         "type": "scatter3d",
         "visible": true,
         "x": [
          6.116804122924805
         ],
         "y": [
          15.034858703613281
         ],
         "z": [
          6.116804122924805
         ]
        },
        {
         "marker": {
          "color": "#535865",
          "line": {
           "color": "black",
           "width": 1
          },
          "size": 10,
          "symbol": "square"
         },
         "mode": "markers+text",
         "name": "780203_5",
         "text": "front",
         "textposition": "top center",
         "type": "scatter3d",
         "visible": true,
         "x": [
          0.2791658639907837
         ],
         "y": [
          12.259048461914062
         ],
         "z": [
          0.2791656255722046
         ]
        },
        {
         "marker": {
          "color": "#535865",
          "line": {
           "color": "black",
           "width": 1
          },
          "size": 10,
          "symbol": "square"
         },
         "mode": "markers+text",
         "name": "780365_0",
         "text": "right",
         "textposition": "top center",
         "type": "scatter3d",
         "visible": true,
         "x": [
          -5.850915431976318
         ],
         "y": [
          -5.494353771209717
         ],
         "z": [
          -5.850915431976318
         ]
        },
        {
         "marker": {
          "color": "#D6D6D6",
          "line": {
           "color": "black",
           "width": 1
          },
          "size": 10,
          "symbol": "circle"
         },
         "mode": "markers+text",
         "name": "780365_1",
         "text": "left",
         "textposition": "top center",
         "type": "scatter3d",
         "visible": true,
         "x": [
          2.816676139831543
         ],
         "y": [
          10.424274444580078
         ],
         "z": [
          2.816676139831543
         ]
        },
        {
         "marker": {
          "color": "#D6D6D6",
          "line": {
           "color": "black",
           "width": 1
          },
          "size": 10,
          "symbol": "diamond"
         },
         "mode": "markers+text",
         "name": "780365_2",
         "text": "forward",
         "textposition": "top center",
         "type": "scatter3d",
         "visible": true,
         "x": [
          6.104973793029785
         ],
         "y": [
          14.764151573181152
         ],
         "z": [
          6.104973793029785
         ]
        },
        {
         "marker": {
          "color": "#535865",
          "line": {
           "color": "black",
           "width": 1
          },
          "size": 10,
          "symbol": "square"
         },
         "mode": "markers+text",
         "name": "780365_3",
         "text": "front",
         "textposition": "top center",
         "type": "scatter3d",
         "visible": true,
         "x": [
          0.08747673034667969
         ],
         "y": [
          11.902968406677246
         ],
         "z": [
          0.08747684955596924
         ]
        },
        {
         "marker": {
          "color": "#FAE2DB",
          "line": {
           "color": "black",
           "width": 1
          },
          "size": 10,
          "symbol": "square"
         },
         "mode": "markers+text",
         "name": "780365_4",
         "text": "right",
         "textposition": "top center",
         "type": "scatter3d",
         "visible": true,
         "x": [
          -2.720931053161621
         ],
         "y": [
          0.9778823852539062
         ],
         "z": [
          -2.720931053161621
         ]
        },
        {
         "marker": {
          "color": "#535865",
          "line": {
           "color": "black",
           "width": 1
          },
          "size": 10,
          "symbol": "square"
         },
         "mode": "markers+text",
         "name": "780365_5",
         "text": "left",
         "textposition": "top center",
         "type": "scatter3d",
         "visible": true,
         "x": [
          2.407055377960205
         ],
         "y": [
          12.813164710998535
         ],
         "z": [
          2.407055377960205
         ]
        },
        {
         "marker": {
          "color": "#535865",
          "line": {
           "color": "black",
           "width": 1
          },
          "size": 10,
          "symbol": "square"
         },
         "mode": "markers+text",
         "name": "780365_0",
         "text": "right",
         "textposition": "top center",
         "type": "scatter3d",
         "visible": true,
         "x": [
          -5.850915431976318
         ],
         "y": [
          -5.494353771209717
         ],
         "z": [
          -5.850915431976318
         ]
        },
        {
         "marker": {
          "color": "#D6D6D6",
          "line": {
           "color": "black",
           "width": 1
          },
          "size": 10,
          "symbol": "circle"
         },
         "mode": "markers+text",
         "name": "780365_1",
         "text": "left",
         "textposition": "top center",
         "type": "scatter3d",
         "visible": true,
         "x": [
          2.816676139831543
         ],
         "y": [
          10.424274444580078
         ],
         "z": [
          2.816676139831543
         ]
        },
        {
         "marker": {
          "color": "#D6D6D6",
          "line": {
           "color": "black",
           "width": 1
          },
          "size": 10,
          "symbol": "diamond"
         },
         "mode": "markers+text",
         "name": "780365_2",
         "text": "forward",
         "textposition": "top center",
         "type": "scatter3d",
         "visible": true,
         "x": [
          6.104973793029785
         ],
         "y": [
          14.764151573181152
         ],
         "z": [
          6.104973793029785
         ]
        },
        {
         "marker": {
          "color": "#535865",
          "line": {
           "color": "black",
           "width": 1
          },
          "size": 10,
          "symbol": "square"
         },
         "mode": "markers+text",
         "name": "780365_3",
         "text": "front",
         "textposition": "top center",
         "type": "scatter3d",
         "visible": true,
         "x": [
          0.08747673034667969
         ],
         "y": [
          11.902968406677246
         ],
         "z": [
          0.08747684955596924
         ]
        },
        {
         "marker": {
          "color": "#FAE2DB",
          "line": {
           "color": "black",
           "width": 1
          },
          "size": 10,
          "symbol": "square"
         },
         "mode": "markers+text",
         "name": "780365_4",
         "text": "right",
         "textposition": "top center",
         "type": "scatter3d",
         "visible": true,
         "x": [
          -2.720931053161621
         ],
         "y": [
          0.9778823852539062
         ],
         "z": [
          -2.720931053161621
         ]
        },
        {
         "marker": {
          "color": "#535865",
          "line": {
           "color": "black",
           "width": 1
          },
          "size": 10,
          "symbol": "square"
         },
         "mode": "markers+text",
         "name": "780365_5",
         "text": "left",
         "textposition": "top center",
         "type": "scatter3d",
         "visible": true,
         "x": [
          2.407055377960205
         ],
         "y": [
          12.813164710998535
         ],
         "z": [
          2.407055377960205
         ]
        },
        {
         "marker": {
          "color": "#FAE2DB",
          "line": {
           "color": "black",
           "width": 1
          },
          "size": 10,
          "symbol": "square"
         },
         "mode": "markers+text",
         "name": "6510203_0",
         "text": "right",
         "textposition": "top center",
         "type": "scatter3d",
         "visible": true,
         "x": [
          -0.16604319214820862
         ],
         "y": [
          -7.638950347900391
         ],
         "z": [
          -0.16604307293891907
         ]
        },
        {
         "marker": {
          "color": "#535865",
          "line": {
           "color": "black",
           "width": 1
          },
          "size": 10,
          "symbol": "square"
         },
         "mode": "markers+text",
         "name": "6510203_1",
         "text": "left",
         "textposition": "top center",
         "type": "scatter3d",
         "visible": true,
         "x": [
          5.213535308837891
         ],
         "y": [
          12.856666564941406
         ],
         "z": [
          5.213535308837891
         ]
        },
        {
         "marker": {
          "color": "#D6D6D6",
          "line": {
           "color": "black",
           "width": 1
          },
          "size": 10,
          "symbol": "circle"
         },
         "mode": "markers+text",
         "name": "6510203_2",
         "text": "right",
         "textposition": "top center",
         "type": "scatter3d",
         "visible": true,
         "x": [
          8.049434661865234
         ],
         "y": [
          8.904455184936523
         ],
         "z": [
          8.04943561553955
         ]
        },
        {
         "marker": {
          "color": "#FAE2DB",
          "line": {
           "color": "black",
           "width": 1
          },
          "size": 10,
          "symbol": "square"
         },
         "mode": "markers+text",
         "name": "6510203_3",
         "text": "front",
         "textposition": "top center",
         "type": "scatter3d",
         "visible": true,
         "x": [
          8.546122550964355
         ],
         "y": [
          13.993476867675781
         ],
         "z": [
          8.546122550964355
         ]
        },
        {
         "marker": {
          "color": "#D6D6D6",
          "line": {
           "color": "black",
           "width": 1
          },
          "size": 10,
          "symbol": "diamond"
         },
         "mode": "markers+text",
         "name": "6510203_4",
         "text": "forward",
         "textposition": "top center",
         "type": "scatter3d",
         "visible": true,
         "x": [
          6.89540433883667
         ],
         "y": [
          14.962645530700684
         ],
         "z": [
          6.895404815673828
         ]
        },
        {
         "marker": {
          "color": "#535865",
          "line": {
           "color": "black",
           "width": 1
          },
          "size": 10,
          "symbol": "square"
         },
         "mode": "markers+text",
         "name": "6510203_5",
         "text": "front",
         "textposition": "top center",
         "type": "scatter3d",
         "visible": true,
         "x": [
          1.3910572528839111
         ],
         "y": [
          13.090860366821289
         ],
         "z": [
          1.3910572528839111
         ]
        },
        {
         "marker": {
          "color": "#535865",
          "line": {
           "color": "black",
           "width": 1
          },
          "size": 10,
          "symbol": "square"
         },
         "mode": "markers+text",
         "name": "780202_0",
         "text": "right",
         "textposition": "top center",
         "type": "scatter3d",
         "visible": true,
         "x": [
          -6.256614685058594
         ],
         "y": [
          -5.652953624725342
         ],
         "z": [
          -6.256614685058594
         ]
        },
        {
         "marker": {
          "color": "#D6D6D6",
          "line": {
           "color": "black",
           "width": 1
          },
          "size": 10,
          "symbol": "circle"
         },
         "mode": "markers+text",
         "name": "780202_1",
         "text": "left",
         "textposition": "top center",
         "type": "scatter3d",
         "visible": true,
         "x": [
          1.6024091243743896
         ],
         "y": [
          8.238446235656738
         ],
         "z": [
          1.6024091243743896
         ]
        },
        {
         "marker": {
          "color": "#D6D6D6",
          "line": {
           "color": "black",
           "width": 1
          },
          "size": 10,
          "symbol": "diamond"
         },
         "mode": "markers+text",
         "name": "780202_2",
         "text": "forward",
         "textposition": "top center",
         "type": "scatter3d",
         "visible": true,
         "x": [
          6.006826400756836
         ],
         "y": [
          14.79924201965332
         ],
         "z": [
          6.006826400756836
         ]
        },
        {
         "marker": {
          "color": "#FAE2DB",
          "line": {
           "color": "black",
           "width": 1
          },
          "size": 10,
          "symbol": "square"
         },
         "mode": "markers+text",
         "name": "780202_3",
         "text": "front",
         "textposition": "top center",
         "type": "scatter3d",
         "visible": true,
         "x": [
          6.293341159820557
         ],
         "y": [
          14.764598846435547
         ],
         "z": [
          6.293341159820557
         ]
        },
        {
         "marker": {
          "color": "#D6D6D6",
          "line": {
           "color": "black",
           "width": 1
          },
          "size": 10,
          "symbol": "diamond"
         },
         "mode": "markers+text",
         "name": "780202_4",
         "text": "forward",
         "textposition": "top center",
         "type": "scatter3d",
         "visible": true,
         "x": [
          5.62081241607666
         ],
         "y": [
          14.898456573486328
         ],
         "z": [
          5.62081241607666
         ]
        },
        {
         "marker": {
          "color": "#FAE2DB",
          "line": {
           "color": "black",
           "width": 1
          },
          "size": 10,
          "symbol": "square"
         },
         "mode": "markers+text",
         "name": "780202_5",
         "text": "front",
         "textposition": "top center",
         "type": "scatter3d",
         "visible": true,
         "x": [
          -4.0458526611328125
         ],
         "y": [
          -1.4089539051055908
         ],
         "z": [
          -4.0458526611328125
         ]
        }
       ],
       "layout": {
        "height": 700,
        "scene": {
         "aspectmode": "auto",
         "aspectratio": {
          "x": 0.9084735494868157,
          "y": 1.2116450868331234,
          "z": 0.9084735494868157
         },
         "camera": {
          "center": {
           "x": 0,
           "y": 0,
           "z": 0
          },
          "eye": {
           "x": -1.5264501060679145,
           "y": 0.31730582259772766,
           "z": 1.3240554116687389
          },
          "projection": {
           "type": "perspective"
          },
          "up": {
           "x": 0,
           "y": 0,
           "z": 1
          }
         },
         "xaxis": {
          "title": {
           "text": "X"
          },
          "type": "linear"
         },
         "yaxis": {
          "title": {
           "text": "Y"
          },
          "type": "linear"
         },
         "zaxis": {
          "title": {
           "text": "Z"
          },
          "type": "linear"
         }
        },
        "template": {
         "data": {
          "bar": [
           {
            "error_x": {
             "color": "#2a3f5f"
            },
            "error_y": {
             "color": "#2a3f5f"
            },
            "marker": {
             "line": {
              "color": "#E5ECF6",
              "width": 0.5
             },
             "pattern": {
              "fillmode": "overlay",
              "size": 10,
              "solidity": 0.2
             }
            },
            "type": "bar"
           }
          ],
          "barpolar": [
           {
            "marker": {
             "line": {
              "color": "#E5ECF6",
              "width": 0.5
             },
             "pattern": {
              "fillmode": "overlay",
              "size": 10,
              "solidity": 0.2
             }
            },
            "type": "barpolar"
           }
          ],
          "carpet": [
           {
            "aaxis": {
             "endlinecolor": "#2a3f5f",
             "gridcolor": "white",
             "linecolor": "white",
             "minorgridcolor": "white",
             "startlinecolor": "#2a3f5f"
            },
            "baxis": {
             "endlinecolor": "#2a3f5f",
             "gridcolor": "white",
             "linecolor": "white",
             "minorgridcolor": "white",
             "startlinecolor": "#2a3f5f"
            },
            "type": "carpet"
           }
          ],
          "choropleth": [
           {
            "colorbar": {
             "outlinewidth": 0,
             "ticks": ""
            },
            "type": "choropleth"
           }
          ],
          "contour": [
           {
            "colorbar": {
             "outlinewidth": 0,
             "ticks": ""
            },
            "colorscale": [
             [
              0,
              "#0d0887"
             ],
             [
              0.1111111111111111,
              "#46039f"
             ],
             [
              0.2222222222222222,
              "#7201a8"
             ],
             [
              0.3333333333333333,
              "#9c179e"
             ],
             [
              0.4444444444444444,
              "#bd3786"
             ],
             [
              0.5555555555555556,
              "#d8576b"
             ],
             [
              0.6666666666666666,
              "#ed7953"
             ],
             [
              0.7777777777777778,
              "#fb9f3a"
             ],
             [
              0.8888888888888888,
              "#fdca26"
             ],
             [
              1,
              "#f0f921"
             ]
            ],
            "type": "contour"
           }
          ],
          "contourcarpet": [
           {
            "colorbar": {
             "outlinewidth": 0,
             "ticks": ""
            },
            "type": "contourcarpet"
           }
          ],
          "heatmap": [
           {
            "colorbar": {
             "outlinewidth": 0,
             "ticks": ""
            },
            "colorscale": [
             [
              0,
              "#0d0887"
             ],
             [
              0.1111111111111111,
              "#46039f"
             ],
             [
              0.2222222222222222,
              "#7201a8"
             ],
             [
              0.3333333333333333,
              "#9c179e"
             ],
             [
              0.4444444444444444,
              "#bd3786"
             ],
             [
              0.5555555555555556,
              "#d8576b"
             ],
             [
              0.6666666666666666,
              "#ed7953"
             ],
             [
              0.7777777777777778,
              "#fb9f3a"
             ],
             [
              0.8888888888888888,
              "#fdca26"
             ],
             [
              1,
              "#f0f921"
             ]
            ],
            "type": "heatmap"
           }
          ],
          "heatmapgl": [
           {
            "colorbar": {
             "outlinewidth": 0,
             "ticks": ""
            },
            "colorscale": [
             [
              0,
              "#0d0887"
             ],
             [
              0.1111111111111111,
              "#46039f"
             ],
             [
              0.2222222222222222,
              "#7201a8"
             ],
             [
              0.3333333333333333,
              "#9c179e"
             ],
             [
              0.4444444444444444,
              "#bd3786"
             ],
             [
              0.5555555555555556,
              "#d8576b"
             ],
             [
              0.6666666666666666,
              "#ed7953"
             ],
             [
              0.7777777777777778,
              "#fb9f3a"
             ],
             [
              0.8888888888888888,
              "#fdca26"
             ],
             [
              1,
              "#f0f921"
             ]
            ],
            "type": "heatmapgl"
           }
          ],
          "histogram": [
           {
            "marker": {
             "pattern": {
              "fillmode": "overlay",
              "size": 10,
              "solidity": 0.2
             }
            },
            "type": "histogram"
           }
          ],
          "histogram2d": [
           {
            "colorbar": {
             "outlinewidth": 0,
             "ticks": ""
            },
            "colorscale": [
             [
              0,
              "#0d0887"
             ],
             [
              0.1111111111111111,
              "#46039f"
             ],
             [
              0.2222222222222222,
              "#7201a8"
             ],
             [
              0.3333333333333333,
              "#9c179e"
             ],
             [
              0.4444444444444444,
              "#bd3786"
             ],
             [
              0.5555555555555556,
              "#d8576b"
             ],
             [
              0.6666666666666666,
              "#ed7953"
             ],
             [
              0.7777777777777778,
              "#fb9f3a"
             ],
             [
              0.8888888888888888,
              "#fdca26"
             ],
             [
              1,
              "#f0f921"
             ]
            ],
            "type": "histogram2d"
           }
          ],
          "histogram2dcontour": [
           {
            "colorbar": {
             "outlinewidth": 0,
             "ticks": ""
            },
            "colorscale": [
             [
              0,
              "#0d0887"
             ],
             [
              0.1111111111111111,
              "#46039f"
             ],
             [
              0.2222222222222222,
              "#7201a8"
             ],
             [
              0.3333333333333333,
              "#9c179e"
             ],
             [
              0.4444444444444444,
              "#bd3786"
             ],
             [
              0.5555555555555556,
              "#d8576b"
             ],
             [
              0.6666666666666666,
              "#ed7953"
             ],
             [
              0.7777777777777778,
              "#fb9f3a"
             ],
             [
              0.8888888888888888,
              "#fdca26"
             ],
             [
              1,
              "#f0f921"
             ]
            ],
            "type": "histogram2dcontour"
           }
          ],
          "mesh3d": [
           {
            "colorbar": {
             "outlinewidth": 0,
             "ticks": ""
            },
            "type": "mesh3d"
           }
          ],
          "parcoords": [
           {
            "line": {
             "colorbar": {
              "outlinewidth": 0,
              "ticks": ""
             }
            },
            "type": "parcoords"
           }
          ],
          "pie": [
           {
            "automargin": true,
            "type": "pie"
           }
          ],
          "scatter": [
           {
            "fillpattern": {
             "fillmode": "overlay",
             "size": 10,
             "solidity": 0.2
            },
            "type": "scatter"
           }
          ],
          "scatter3d": [
           {
            "line": {
             "colorbar": {
              "outlinewidth": 0,
              "ticks": ""
             }
            },
            "marker": {
             "colorbar": {
              "outlinewidth": 0,
              "ticks": ""
             }
            },
            "type": "scatter3d"
           }
          ],
          "scattercarpet": [
           {
            "marker": {
             "colorbar": {
              "outlinewidth": 0,
              "ticks": ""
             }
            },
            "type": "scattercarpet"
           }
          ],
          "scattergeo": [
           {
            "marker": {
             "colorbar": {
              "outlinewidth": 0,
              "ticks": ""
             }
            },
            "type": "scattergeo"
           }
          ],
          "scattergl": [
           {
            "marker": {
             "colorbar": {
              "outlinewidth": 0,
              "ticks": ""
             }
            },
            "type": "scattergl"
           }
          ],
          "scattermapbox": [
           {
            "marker": {
             "colorbar": {
              "outlinewidth": 0,
              "ticks": ""
             }
            },
            "type": "scattermapbox"
           }
          ],
          "scatterpolar": [
           {
            "marker": {
             "colorbar": {
              "outlinewidth": 0,
              "ticks": ""
             }
            },
            "type": "scatterpolar"
           }
          ],
          "scatterpolargl": [
           {
            "marker": {
             "colorbar": {
              "outlinewidth": 0,
              "ticks": ""
             }
            },
            "type": "scatterpolargl"
           }
          ],
          "scatterternary": [
           {
            "marker": {
             "colorbar": {
              "outlinewidth": 0,
              "ticks": ""
             }
            },
            "type": "scatterternary"
           }
          ],
          "surface": [
           {
            "colorbar": {
             "outlinewidth": 0,
             "ticks": ""
            },
            "colorscale": [
             [
              0,
              "#0d0887"
             ],
             [
              0.1111111111111111,
              "#46039f"
             ],
             [
              0.2222222222222222,
              "#7201a8"
             ],
             [
              0.3333333333333333,
              "#9c179e"
             ],
             [
              0.4444444444444444,
              "#bd3786"
             ],
             [
              0.5555555555555556,
              "#d8576b"
             ],
             [
              0.6666666666666666,
              "#ed7953"
             ],
             [
              0.7777777777777778,
              "#fb9f3a"
             ],
             [
              0.8888888888888888,
              "#fdca26"
             ],
             [
              1,
              "#f0f921"
             ]
            ],
            "type": "surface"
           }
          ],
          "table": [
           {
            "cells": {
             "fill": {
              "color": "#EBF0F8"
             },
             "line": {
              "color": "white"
             }
            },
            "header": {
             "fill": {
              "color": "#C8D4E3"
             },
             "line": {
              "color": "white"
             }
            },
            "type": "table"
           }
          ]
         },
         "layout": {
          "annotationdefaults": {
           "arrowcolor": "#2a3f5f",
           "arrowhead": 0,
           "arrowwidth": 1
          },
          "autotypenumbers": "strict",
          "coloraxis": {
           "colorbar": {
            "outlinewidth": 0,
            "ticks": ""
           }
          },
          "colorscale": {
           "diverging": [
            [
             0,
             "#8e0152"
            ],
            [
             0.1,
             "#c51b7d"
            ],
            [
             0.2,
             "#de77ae"
            ],
            [
             0.3,
             "#f1b6da"
            ],
            [
             0.4,
             "#fde0ef"
            ],
            [
             0.5,
             "#f7f7f7"
            ],
            [
             0.6,
             "#e6f5d0"
            ],
            [
             0.7,
             "#b8e186"
            ],
            [
             0.8,
             "#7fbc41"
            ],
            [
             0.9,
             "#4d9221"
            ],
            [
             1,
             "#276419"
            ]
           ],
           "sequential": [
            [
             0,
             "#0d0887"
            ],
            [
             0.1111111111111111,
             "#46039f"
            ],
            [
             0.2222222222222222,
             "#7201a8"
            ],
            [
             0.3333333333333333,
             "#9c179e"
            ],
            [
             0.4444444444444444,
             "#bd3786"
            ],
            [
             0.5555555555555556,
             "#d8576b"
            ],
            [
             0.6666666666666666,
             "#ed7953"
            ],
            [
             0.7777777777777778,
             "#fb9f3a"
            ],
            [
             0.8888888888888888,
             "#fdca26"
            ],
            [
             1,
             "#f0f921"
            ]
           ],
           "sequentialminus": [
            [
             0,
             "#0d0887"
            ],
            [
             0.1111111111111111,
             "#46039f"
            ],
            [
             0.2222222222222222,
             "#7201a8"
            ],
            [
             0.3333333333333333,
             "#9c179e"
            ],
            [
             0.4444444444444444,
             "#bd3786"
            ],
            [
             0.5555555555555556,
             "#d8576b"
            ],
            [
             0.6666666666666666,
             "#ed7953"
            ],
            [
             0.7777777777777778,
             "#fb9f3a"
            ],
            [
             0.8888888888888888,
             "#fdca26"
            ],
            [
             1,
             "#f0f921"
            ]
           ]
          },
          "colorway": [
           "#636efa",
           "#EF553B",
           "#00cc96",
           "#ab63fa",
           "#FFA15A",
           "#19d3f3",
           "#FF6692",
           "#B6E880",
           "#FF97FF",
           "#FECB52"
          ],
          "font": {
           "color": "#2a3f5f"
          },
          "geo": {
           "bgcolor": "white",
           "lakecolor": "white",
           "landcolor": "#E5ECF6",
           "showlakes": true,
           "showland": true,
           "subunitcolor": "white"
          },
          "hoverlabel": {
           "align": "left"
          },
          "hovermode": "closest",
          "mapbox": {
           "style": "light"
          },
          "paper_bgcolor": "white",
          "plot_bgcolor": "#E5ECF6",
          "polar": {
           "angularaxis": {
            "gridcolor": "white",
            "linecolor": "white",
            "ticks": ""
           },
           "bgcolor": "#E5ECF6",
           "radialaxis": {
            "gridcolor": "white",
            "linecolor": "white",
            "ticks": ""
           }
          },
          "scene": {
           "xaxis": {
            "backgroundcolor": "#E5ECF6",
            "gridcolor": "white",
            "gridwidth": 2,
            "linecolor": "white",
            "showbackground": true,
            "ticks": "",
            "zerolinecolor": "white"
           },
           "yaxis": {
            "backgroundcolor": "#E5ECF6",
            "gridcolor": "white",
            "gridwidth": 2,
            "linecolor": "white",
            "showbackground": true,
            "ticks": "",
            "zerolinecolor": "white"
           },
           "zaxis": {
            "backgroundcolor": "#E5ECF6",
            "gridcolor": "white",
            "gridwidth": 2,
            "linecolor": "white",
            "showbackground": true,
            "ticks": "",
            "zerolinecolor": "white"
           }
          },
          "shapedefaults": {
           "line": {
            "color": "#2a3f5f"
           }
          },
          "ternary": {
           "aaxis": {
            "gridcolor": "white",
            "linecolor": "white",
            "ticks": ""
           },
           "baxis": {
            "gridcolor": "white",
            "linecolor": "white",
            "ticks": ""
           },
           "bgcolor": "#E5ECF6",
           "caxis": {
            "gridcolor": "white",
            "linecolor": "white",
            "ticks": ""
           }
          },
          "title": {
           "x": 0.05
          },
          "xaxis": {
           "automargin": true,
           "gridcolor": "white",
           "linecolor": "white",
           "ticks": "",
           "title": {
            "standoff": 15
           },
           "zerolinecolor": "white",
           "zerolinewidth": 2
          },
          "yaxis": {
           "automargin": true,
           "gridcolor": "white",
           "linecolor": "white",
           "ticks": "",
           "title": {
            "standoff": 15
           },
           "zerolinecolor": "white",
           "zerolinewidth": 2
          }
         }
        },
        "width": 900
       }
      },
      "image/png": "[encoded data removed]",
      "text/html": [
       "<div>                            <div id=\"990c649d-d24a-4be9-b839-fd2cd4936920\" class=\"plotly-graph-div\" style=\"height:700px; width:900px;\"></div>            <script type=\"text/javascript\">                require([\"plotly\"], function(Plotly) {                    window.PLOTLYENV=window.PLOTLYENV || {};                                    if (document.getElementById(\"990c649d-d24a-4be9-b839-fd2cd4936920\")) {                    Plotly.newPlot(                        \"990c649d-d24a-4be9-b839-fd2cd4936920\",                        [{\"marker\":{\"color\":\"#D6D6D6\",\"line\":{\"color\":\"black\",\"width\":1},\"size\":10,\"symbol\":\"circle\"},\"mode\":\"markers+text\",\"name\":\"802020_0\",\"text\":\"left\",\"textposition\":\"top center\",\"x\":[10.11942195892334],\"y\":[12.784141540527344],\"z\":[10.11942195892334],\"type\":\"scatter3d\"},{\"marker\":{\"color\":\"#D6D6D6\",\"line\":{\"color\":\"black\",\"width\":1},\"size\":10,\"symbol\":\"diamond\"},\"mode\":\"markers+text\",\"name\":\"802020_1\",\"text\":\"forward\",\"textposition\":\"top center\",\"x\":[7.3901262283325195],\"y\":[15.031513214111328],\"z\":[7.390126705169678],\"type\":\"scatter3d\"},{\"marker\":{\"color\":\"#FAE2DB\",\"line\":{\"color\":\"black\",\"width\":1},\"size\":10,\"symbol\":\"square\"},\"mode\":\"markers+text\",\"name\":\"802020_2\",\"text\":\"front\",\"textposition\":\"top center\",\"x\":[11.528030395507812],\"y\":[9.219722747802734],\"z\":[11.528030395507812],\"type\":\"scatter3d\"},{\"marker\":{\"color\":\"#D6D6D6\",\"line\":{\"color\":\"black\",\"width\":1},\"size\":10,\"symbol\":\"diamond\"},\"mode\":\"markers+text\",\"name\":\"802020_3\",\"text\":\"forward\",\"textposition\":\"top center\",\"x\":[6.412934303283691],\"y\":[14.921026229858398],\"z\":[6.41293478012085],\"type\":\"scatter3d\"},{\"marker\":{\"color\":\"#FAE2DB\",\"line\":{\"color\":\"black\",\"width\":1},\"size\":10,\"symbol\":\"square\"},\"mode\":\"markers+text\",\"name\":\"802020_4\",\"text\":\"front\",\"textposition\":\"top center\",\"x\":[6.820259094238281],\"y\":[-2.0913703441619873],\"z\":[6.820258617401123],\"type\":\"scatter3d\"},{\"marker\":{\"color\":\"#D6D6D6\",\"line\":{\"color\":\"black\",\"width\":1},\"size\":10,\"symbol\":\"diamond\"},\"mode\":\"markers+text\",\"name\":\"802020_5\",\"text\":\"forward\",\"textposition\":\"top center\",\"x\":[6.109432697296143],\"y\":[14.913623809814453],\"z\":[6.109432697296143],\"type\":\"scatter3d\"},{\"marker\":{\"color\":\"#D6D6D6\",\"line\":{\"color\":\"black\",\"width\":1},\"size\":10,\"symbol\":\"circle\"},\"mode\":\"markers+text\",\"name\":\"802020_0\",\"text\":\"left\",\"textposition\":\"top center\",\"x\":[10.11942195892334],\"y\":[12.784141540527344],\"z\":[10.11942195892334],\"type\":\"scatter3d\"},{\"marker\":{\"color\":\"#D6D6D6\",\"line\":{\"color\":\"black\",\"width\":1},\"size\":10,\"symbol\":\"diamond\"},\"mode\":\"markers+text\",\"name\":\"802020_1\",\"text\":\"forward\",\"textposition\":\"top center\",\"x\":[7.3901262283325195],\"y\":[15.031513214111328],\"z\":[7.390126705169678],\"type\":\"scatter3d\"},{\"marker\":{\"color\":\"#FAE2DB\",\"line\":{\"color\":\"black\",\"width\":1},\"size\":10,\"symbol\":\"square\"},\"mode\":\"markers+text\",\"name\":\"802020_2\",\"text\":\"front\",\"textposition\":\"top center\",\"x\":[11.528030395507812],\"y\":[9.219722747802734],\"z\":[11.528030395507812],\"type\":\"scatter3d\"},{\"marker\":{\"color\":\"#D6D6D6\",\"line\":{\"color\":\"black\",\"width\":1},\"size\":10,\"symbol\":\"diamond\"},\"mode\":\"markers+text\",\"name\":\"802020_3\",\"text\":\"forward\",\"textposition\":\"top center\",\"x\":[6.412934303283691],\"y\":[14.921026229858398],\"z\":[6.41293478012085],\"type\":\"scatter3d\"},{\"marker\":{\"color\":\"#FAE2DB\",\"line\":{\"color\":\"black\",\"width\":1},\"size\":10,\"symbol\":\"square\"},\"mode\":\"markers+text\",\"name\":\"802020_4\",\"text\":\"front\",\"textposition\":\"top center\",\"x\":[6.820259094238281],\"y\":[-2.0913703441619873],\"z\":[6.820258617401123],\"type\":\"scatter3d\"},{\"marker\":{\"color\":\"#D6D6D6\",\"line\":{\"color\":\"black\",\"width\":1},\"size\":10,\"symbol\":\"diamond\"},\"mode\":\"markers+text\",\"name\":\"802020_5\",\"text\":\"forward\",\"textposition\":\"top center\",\"x\":[6.109432697296143],\"y\":[14.913623809814453],\"z\":[6.109432697296143],\"type\":\"scatter3d\"},{\"marker\":{\"color\":\"#D6D6D6\",\"line\":{\"color\":\"black\",\"width\":1},\"size\":10,\"symbol\":\"diamond\"},\"mode\":\"markers+text\",\"name\":\"020203_0\",\"text\":\"forward\",\"textposition\":\"top center\",\"x\":[2.8119699954986572],\"y\":[12.501977920532227],\"z\":[2.8119699954986572],\"type\":\"scatter3d\"},{\"marker\":{\"color\":\"#FAE2DB\",\"line\":{\"color\":\"black\",\"width\":1},\"size\":10,\"symbol\":\"square\"},\"mode\":\"markers+text\",\"name\":\"020203_1\",\"text\":\"front\",\"textposition\":\"top center\",\"x\":[1.2597088813781738],\"y\":[-0.5227546691894531],\"z\":[1.2597088813781738],\"type\":\"scatter3d\"},{\"marker\":{\"color\":\"#D6D6D6\",\"line\":{\"color\":\"black\",\"width\":1},\"size\":10,\"symbol\":\"diamond\"},\"mode\":\"markers+text\",\"name\":\"020203_2\",\"text\":\"forward\",\"textposition\":\"top center\",\"x\":[6.234827995300293],\"y\":[14.783515930175781],\"z\":[6.234828948974609],\"type\":\"scatter3d\"},{\"marker\":{\"color\":\"#FAE2DB\",\"line\":{\"color\":\"black\",\"width\":1},\"size\":10,\"symbol\":\"square\"},\"mode\":\"markers+text\",\"name\":\"020203_3\",\"text\":\"front\",\"textposition\":\"top center\",\"x\":[7.018516540527344],\"y\":[14.960359573364258],\"z\":[7.018516540527344],\"type\":\"scatter3d\"},{\"marker\":{\"color\":\"#D6D6D6\",\"line\":{\"color\":\"black\",\"width\":1},\"size\":10,\"symbol\":\"diamond\"},\"mode\":\"markers+text\",\"name\":\"020203_4\",\"text\":\"forward\",\"textposition\":\"top center\",\"x\":[6.270743370056152],\"y\":[15.021820068359375],\"z\":[6.2707438468933105],\"type\":\"scatter3d\"},{\"marker\":{\"color\":\"#535865\",\"line\":{\"color\":\"black\",\"width\":1},\"size\":10,\"symbol\":\"square\"},\"mode\":\"markers+text\",\"name\":\"020203_5\",\"text\":\"front\",\"textposition\":\"top center\",\"x\":[-0.04440951347351074],\"y\":[11.980644226074219],\"z\":[-0.04440951347351074],\"type\":\"scatter3d\"},{\"marker\":{\"color\":\"#D6D6D6\",\"line\":{\"color\":\"black\",\"width\":1},\"size\":10,\"symbol\":\"diamond\"},\"mode\":\"markers+text\",\"name\":\"020203_0\",\"text\":\"forward\",\"textposition\":\"top center\",\"x\":[2.8119699954986572],\"y\":[12.501977920532227],\"z\":[2.8119699954986572],\"type\":\"scatter3d\"},{\"marker\":{\"color\":\"#FAE2DB\",\"line\":{\"color\":\"black\",\"width\":1},\"size\":10,\"symbol\":\"square\"},\"mode\":\"markers+text\",\"name\":\"020203_1\",\"text\":\"front\",\"textposition\":\"top center\",\"x\":[1.2597088813781738],\"y\":[-0.5227546691894531],\"z\":[1.2597088813781738],\"type\":\"scatter3d\"},{\"marker\":{\"color\":\"#D6D6D6\",\"line\":{\"color\":\"black\",\"width\":1},\"size\":10,\"symbol\":\"diamond\"},\"mode\":\"markers+text\",\"name\":\"020203_2\",\"text\":\"forward\",\"textposition\":\"top center\",\"x\":[6.234827995300293],\"y\":[14.783515930175781],\"z\":[6.234828948974609],\"type\":\"scatter3d\"},{\"marker\":{\"color\":\"#FAE2DB\",\"line\":{\"color\":\"black\",\"width\":1},\"size\":10,\"symbol\":\"square\"},\"mode\":\"markers+text\",\"name\":\"020203_3\",\"text\":\"front\",\"textposition\":\"top center\",\"x\":[7.018516540527344],\"y\":[14.960359573364258],\"z\":[7.018516540527344],\"type\":\"scatter3d\"},{\"marker\":{\"color\":\"#D6D6D6\",\"line\":{\"color\":\"black\",\"width\":1},\"size\":10,\"symbol\":\"diamond\"},\"mode\":\"markers+text\",\"name\":\"020203_4\",\"text\":\"forward\",\"textposition\":\"top center\",\"x\":[6.270743370056152],\"y\":[15.021820068359375],\"z\":[6.2707438468933105],\"type\":\"scatter3d\"},{\"marker\":{\"color\":\"#535865\",\"line\":{\"color\":\"black\",\"width\":1},\"size\":10,\"symbol\":\"square\"},\"mode\":\"markers+text\",\"name\":\"020203_5\",\"text\":\"front\",\"textposition\":\"top center\",\"x\":[-0.04440951347351074],\"y\":[11.980644226074219],\"z\":[-0.04440951347351074],\"type\":\"scatter3d\"},{\"marker\":{\"color\":\"#D6D6D6\",\"line\":{\"color\":\"black\",\"width\":1},\"size\":10,\"symbol\":\"diamond\"},\"mode\":\"markers+text\",\"name\":\"0203101_0\",\"text\":\"forward\",\"textposition\":\"top center\",\"x\":[0.796730637550354],\"y\":[10.762185096740723],\"z\":[0.796730637550354],\"type\":\"scatter3d\"},{\"marker\":{\"color\":\"#FAE2DB\",\"line\":{\"color\":\"black\",\"width\":1},\"size\":10,\"symbol\":\"square\"},\"mode\":\"markers+text\",\"name\":\"0203101_1\",\"text\":\"front\",\"textposition\":\"top center\",\"x\":[-0.5690923929214478],\"y\":[-1.4763116836547852],\"z\":[-0.5690925121307373],\"type\":\"scatter3d\"},{\"marker\":{\"color\":\"#D6D6D6\",\"line\":{\"color\":\"black\",\"width\":1},\"size\":10,\"symbol\":\"diamond\"},\"mode\":\"markers+text\",\"name\":\"0203101_2\",\"text\":\"forward\",\"textposition\":\"top center\",\"x\":[5.835518836975098],\"y\":[14.673748016357422],\"z\":[5.835518836975098],\"type\":\"scatter3d\"},{\"marker\":{\"color\":\"#535865\",\"line\":{\"color\":\"black\",\"width\":1},\"size\":10,\"symbol\":\"square\"},\"mode\":\"markers+text\",\"name\":\"0203101_3\",\"text\":\"front\",\"textposition\":\"top center\",\"x\":[-1.5427980422973633],\"y\":[10.24203109741211],\"z\":[-1.5427979230880737],\"type\":\"scatter3d\"},{\"marker\":{\"color\":\"#D6D6D6\",\"line\":{\"color\":\"black\",\"width\":1},\"size\":10,\"symbol\":\"circle\"},\"mode\":\"markers+text\",\"name\":\"0203101_4\",\"text\":\"right\",\"textposition\":\"top center\",\"x\":[3.8225796222686768],\"y\":[-4.368084907531738],\"z\":[3.822579860687256],\"type\":\"scatter3d\"},{\"marker\":{\"color\":\"#F93943\",\"line\":{\"color\":\"black\",\"width\":1},\"size\":10,\"symbol\":\"diamond\"},\"mode\":\"markers+text\",\"name\":\"0203101_5\",\"text\":\"bump\",\"textposition\":\"top center\",\"x\":[-4.443366050720215],\"y\":[2.32889461517334],\"z\":[-4.443366050720215],\"type\":\"scatter3d\"},{\"marker\":{\"color\":\"#F93943\",\"line\":{\"color\":\"black\",\"width\":1},\"size\":10,\"symbol\":\"diamond\"},\"mode\":\"markers+text\",\"name\":\"1102020_0\",\"text\":\"bump\",\"textposition\":\"top center\",\"x\":[-1.865144968032837],\"y\":[-8.802132606506348],\"z\":[-1.865144968032837],\"type\":\"scatter3d\"},{\"marker\":{\"color\":\"#D6D6D6\",\"line\":{\"color\":\"black\",\"width\":1},\"size\":10,\"symbol\":\"circle\"},\"mode\":\"markers+text\",\"name\":\"1102020_1\",\"text\":\"right\",\"textposition\":\"top center\",\"x\":[4.8879876136779785],\"y\":[-5.7743682861328125],\"z\":[4.8879876136779785],\"type\":\"scatter3d\"},{\"marker\":{\"color\":\"#FAE2DB\",\"line\":{\"color\":\"black\",\"width\":1},\"size\":10,\"symbol\":\"square\"},\"mode\":\"markers+text\",\"name\":\"1102020_2\",\"text\":\"front\",\"textposition\":\"top center\",\"x\":[11.305625915527344],\"y\":[6.78627872467041],\"z\":[11.305625915527344],\"type\":\"scatter3d\"},{\"marker\":{\"color\":\"#D6D6D6\",\"line\":{\"color\":\"black\",\"width\":1},\"size\":10,\"symbol\":\"diamond\"},\"mode\":\"markers+text\",\"name\":\"1102020_3\",\"text\":\"forward\",\"textposition\":\"top center\",\"x\":[5.894469261169434],\"y\":[14.81007194519043],\"z\":[5.894469261169434],\"type\":\"scatter3d\"},{\"marker\":{\"color\":\"#FAE2DB\",\"line\":{\"color\":\"black\",\"width\":1},\"size\":10,\"symbol\":\"square\"},\"mode\":\"markers+text\",\"name\":\"1102020_4\",\"text\":\"front\",\"textposition\":\"top center\",\"x\":[4.552741050720215],\"y\":[-4.023111343383789],\"z\":[4.552741050720215],\"type\":\"scatter3d\"},{\"marker\":{\"color\":\"#D6D6D6\",\"line\":{\"color\":\"black\",\"width\":1},\"size\":10,\"symbol\":\"diamond\"},\"mode\":\"markers+text\",\"name\":\"1102020_5\",\"text\":\"forward\",\"textposition\":\"top center\",\"x\":[4.41322135925293],\"y\":[14.239705085754395],\"z\":[4.41322135925293],\"type\":\"scatter3d\"},{\"marker\":{\"color\":\"#D6D6D6\",\"line\":{\"color\":\"black\",\"width\":1},\"size\":10,\"symbol\":\"diamond\"},\"mode\":\"markers+text\",\"name\":\"020203_0\",\"text\":\"forward\",\"textposition\":\"top center\",\"x\":[2.8119699954986572],\"y\":[12.501977920532227],\"z\":[2.8119699954986572],\"type\":\"scatter3d\"},{\"marker\":{\"color\":\"#FAE2DB\",\"line\":{\"color\":\"black\",\"width\":1},\"size\":10,\"symbol\":\"square\"},\"mode\":\"markers+text\",\"name\":\"020203_1\",\"text\":\"front\",\"textposition\":\"top center\",\"x\":[1.2597088813781738],\"y\":[-0.5227546691894531],\"z\":[1.2597088813781738],\"type\":\"scatter3d\"},{\"marker\":{\"color\":\"#D6D6D6\",\"line\":{\"color\":\"black\",\"width\":1},\"size\":10,\"symbol\":\"diamond\"},\"mode\":\"markers+text\",\"name\":\"020203_2\",\"text\":\"forward\",\"textposition\":\"top center\",\"x\":[6.234827995300293],\"y\":[14.783515930175781],\"z\":[6.234828948974609],\"type\":\"scatter3d\"},{\"marker\":{\"color\":\"#FAE2DB\",\"line\":{\"color\":\"black\",\"width\":1},\"size\":10,\"symbol\":\"square\"},\"mode\":\"markers+text\",\"name\":\"020203_3\",\"text\":\"front\",\"textposition\":\"top center\",\"x\":[7.018516540527344],\"y\":[14.960359573364258],\"z\":[7.018516540527344],\"type\":\"scatter3d\"},{\"marker\":{\"color\":\"#D6D6D6\",\"line\":{\"color\":\"black\",\"width\":1},\"size\":10,\"symbol\":\"diamond\"},\"mode\":\"markers+text\",\"name\":\"020203_4\",\"text\":\"forward\",\"textposition\":\"top center\",\"x\":[6.270743370056152],\"y\":[15.021820068359375],\"z\":[6.2707438468933105],\"type\":\"scatter3d\"},{\"marker\":{\"color\":\"#535865\",\"line\":{\"color\":\"black\",\"width\":1},\"size\":10,\"symbol\":\"square\"},\"mode\":\"markers+text\",\"name\":\"020203_5\",\"text\":\"front\",\"textposition\":\"top center\",\"x\":[-0.04440951347351074],\"y\":[11.980644226074219],\"z\":[-0.04440951347351074],\"type\":\"scatter3d\"},{\"marker\":{\"color\":\"#FAE2DB\",\"line\":{\"color\":\"black\",\"width\":1},\"size\":10,\"symbol\":\"square\"},\"mode\":\"markers+text\",\"name\":\"203513_0\",\"text\":\"front\",\"textposition\":\"top center\",\"x\":[2.363835573196411],\"y\":[-8.294962882995605],\"z\":[2.363835573196411],\"type\":\"scatter3d\"},{\"marker\":{\"color\":\"#D6D6D6\",\"line\":{\"color\":\"black\",\"width\":1},\"size\":10,\"symbol\":\"diamond\"},\"mode\":\"markers+text\",\"name\":\"203513_1\",\"text\":\"forward\",\"textposition\":\"top center\",\"x\":[6.703494071960449],\"y\":[15.073741912841797],\"z\":[6.703494071960449],\"type\":\"scatter3d\"},{\"marker\":{\"color\":\"#535865\",\"line\":{\"color\":\"black\",\"width\":1},\"size\":10,\"symbol\":\"square\"},\"mode\":\"markers+text\",\"name\":\"203513_2\",\"text\":\"front\",\"textposition\":\"top center\",\"x\":[2.073242425918579],\"y\":[13.036810874938965],\"z\":[2.073242425918579],\"type\":\"scatter3d\"},{\"marker\":{\"color\":\"#535865\",\"line\":{\"color\":\"black\",\"width\":1},\"size\":10,\"symbol\":\"square\"},\"mode\":\"markers+text\",\"name\":\"203513_3\",\"text\":\"left\",\"textposition\":\"top center\",\"x\":[5.07131814956665],\"y\":[14.579329490661621],\"z\":[5.07131814956665],\"type\":\"scatter3d\"},{\"marker\":{\"color\":\"#F93943\",\"line\":{\"color\":\"black\",\"width\":1},\"size\":10,\"symbol\":\"diamond\"},\"mode\":\"markers+text\",\"name\":\"203513_4\",\"text\":\"bump\",\"textposition\":\"top center\",\"x\":[3.2181968688964844],\"y\":[-0.5835248231887817],\"z\":[3.2181971073150635],\"type\":\"scatter3d\"},{\"marker\":{\"color\":\"#535865\",\"line\":{\"color\":\"black\",\"width\":1},\"size\":10,\"symbol\":\"square\"},\"mode\":\"markers+text\",\"name\":\"203513_5\",\"text\":\"front\",\"textposition\":\"top center\",\"x\":[1.17015540599823],\"y\":[12.934088706970215],\"z\":[1.17015540599823],\"type\":\"scatter3d\"},{\"marker\":{\"color\":\"#535865\",\"line\":{\"color\":\"black\",\"width\":1},\"size\":10,\"symbol\":\"square\"},\"mode\":\"markers+text\",\"name\":\"780203_0\",\"text\":\"right\",\"textposition\":\"top center\",\"x\":[-6.373746871948242],\"y\":[-5.216182708740234],\"z\":[-6.373746871948242],\"type\":\"scatter3d\"},{\"marker\":{\"color\":\"#D6D6D6\",\"line\":{\"color\":\"black\",\"width\":1},\"size\":10,\"symbol\":\"circle\"},\"mode\":\"markers+text\",\"name\":\"780203_1\",\"text\":\"left\",\"textposition\":\"top center\",\"x\":[2.9505536556243896],\"y\":[9.847588539123535],\"z\":[2.9505536556243896],\"type\":\"scatter3d\"},{\"marker\":{\"color\":\"#D6D6D6\",\"line\":{\"color\":\"black\",\"width\":1},\"size\":10,\"symbol\":\"diamond\"},\"mode\":\"markers+text\",\"name\":\"780203_2\",\"text\":\"forward\",\"textposition\":\"top center\",\"x\":[6.266745567321777],\"y\":[14.828338623046875],\"z\":[6.266745567321777],\"type\":\"scatter3d\"},{\"marker\":{\"color\":\"#FAE2DB\",\"line\":{\"color\":\"black\",\"width\":1},\"size\":10,\"symbol\":\"square\"},\"mode\":\"markers+text\",\"name\":\"780203_3\",\"text\":\"front\",\"textposition\":\"top center\",\"x\":[6.813333034515381],\"y\":[14.924190521240234],\"z\":[6.813333034515381],\"type\":\"scatter3d\"},{\"marker\":{\"color\":\"#D6D6D6\",\"line\":{\"color\":\"black\",\"width\":1},\"size\":10,\"symbol\":\"diamond\"},\"mode\":\"markers+text\",\"name\":\"780203_4\",\"text\":\"forward\",\"textposition\":\"top center\",\"x\":[6.116804122924805],\"y\":[15.034858703613281],\"z\":[6.116804122924805],\"type\":\"scatter3d\"},{\"marker\":{\"color\":\"#535865\",\"line\":{\"color\":\"black\",\"width\":1},\"size\":10,\"symbol\":\"square\"},\"mode\":\"markers+text\",\"name\":\"780203_5\",\"text\":\"front\",\"textposition\":\"top center\",\"x\":[0.2791658639907837],\"y\":[12.259048461914062],\"z\":[0.2791656255722046],\"type\":\"scatter3d\"},{\"marker\":{\"color\":\"#535865\",\"line\":{\"color\":\"black\",\"width\":1},\"size\":10,\"symbol\":\"square\"},\"mode\":\"markers+text\",\"name\":\"780365_0\",\"text\":\"right\",\"textposition\":\"top center\",\"x\":[-5.850915431976318],\"y\":[-5.494353771209717],\"z\":[-5.850915431976318],\"type\":\"scatter3d\"},{\"marker\":{\"color\":\"#D6D6D6\",\"line\":{\"color\":\"black\",\"width\":1},\"size\":10,\"symbol\":\"circle\"},\"mode\":\"markers+text\",\"name\":\"780365_1\",\"text\":\"left\",\"textposition\":\"top center\",\"x\":[2.816676139831543],\"y\":[10.424274444580078],\"z\":[2.816676139831543],\"type\":\"scatter3d\"},{\"marker\":{\"color\":\"#D6D6D6\",\"line\":{\"color\":\"black\",\"width\":1},\"size\":10,\"symbol\":\"diamond\"},\"mode\":\"markers+text\",\"name\":\"780365_2\",\"text\":\"forward\",\"textposition\":\"top center\",\"x\":[6.104973793029785],\"y\":[14.764151573181152],\"z\":[6.104973793029785],\"type\":\"scatter3d\"},{\"marker\":{\"color\":\"#535865\",\"line\":{\"color\":\"black\",\"width\":1},\"size\":10,\"symbol\":\"square\"},\"mode\":\"markers+text\",\"name\":\"780365_3\",\"text\":\"front\",\"textposition\":\"top center\",\"x\":[0.08747673034667969],\"y\":[11.902968406677246],\"z\":[0.08747684955596924],\"type\":\"scatter3d\"},{\"marker\":{\"color\":\"#FAE2DB\",\"line\":{\"color\":\"black\",\"width\":1},\"size\":10,\"symbol\":\"square\"},\"mode\":\"markers+text\",\"name\":\"780365_4\",\"text\":\"right\",\"textposition\":\"top center\",\"x\":[-2.720931053161621],\"y\":[0.9778823852539062],\"z\":[-2.720931053161621],\"type\":\"scatter3d\"},{\"marker\":{\"color\":\"#535865\",\"line\":{\"color\":\"black\",\"width\":1},\"size\":10,\"symbol\":\"square\"},\"mode\":\"markers+text\",\"name\":\"780365_5\",\"text\":\"left\",\"textposition\":\"top center\",\"x\":[2.407055377960205],\"y\":[12.813164710998535],\"z\":[2.407055377960205],\"type\":\"scatter3d\"},{\"marker\":{\"color\":\"#535865\",\"line\":{\"color\":\"black\",\"width\":1},\"size\":10,\"symbol\":\"square\"},\"mode\":\"markers+text\",\"name\":\"780365_0\",\"text\":\"right\",\"textposition\":\"top center\",\"x\":[-5.850915431976318],\"y\":[-5.494353771209717],\"z\":[-5.850915431976318],\"type\":\"scatter3d\"},{\"marker\":{\"color\":\"#D6D6D6\",\"line\":{\"color\":\"black\",\"width\":1},\"size\":10,\"symbol\":\"circle\"},\"mode\":\"markers+text\",\"name\":\"780365_1\",\"text\":\"left\",\"textposition\":\"top center\",\"x\":[2.816676139831543],\"y\":[10.424274444580078],\"z\":[2.816676139831543],\"type\":\"scatter3d\"},{\"marker\":{\"color\":\"#D6D6D6\",\"line\":{\"color\":\"black\",\"width\":1},\"size\":10,\"symbol\":\"diamond\"},\"mode\":\"markers+text\",\"name\":\"780365_2\",\"text\":\"forward\",\"textposition\":\"top center\",\"x\":[6.104973793029785],\"y\":[14.764151573181152],\"z\":[6.104973793029785],\"type\":\"scatter3d\"},{\"marker\":{\"color\":\"#535865\",\"line\":{\"color\":\"black\",\"width\":1},\"size\":10,\"symbol\":\"square\"},\"mode\":\"markers+text\",\"name\":\"780365_3\",\"text\":\"front\",\"textposition\":\"top center\",\"x\":[0.08747673034667969],\"y\":[11.902968406677246],\"z\":[0.08747684955596924],\"type\":\"scatter3d\"},{\"marker\":{\"color\":\"#FAE2DB\",\"line\":{\"color\":\"black\",\"width\":1},\"size\":10,\"symbol\":\"square\"},\"mode\":\"markers+text\",\"name\":\"780365_4\",\"text\":\"right\",\"textposition\":\"top center\",\"x\":[-2.720931053161621],\"y\":[0.9778823852539062],\"z\":[-2.720931053161621],\"type\":\"scatter3d\"},{\"marker\":{\"color\":\"#535865\",\"line\":{\"color\":\"black\",\"width\":1},\"size\":10,\"symbol\":\"square\"},\"mode\":\"markers+text\",\"name\":\"780365_5\",\"text\":\"left\",\"textposition\":\"top center\",\"x\":[2.407055377960205],\"y\":[12.813164710998535],\"z\":[2.407055377960205],\"type\":\"scatter3d\"},{\"marker\":{\"color\":\"#FAE2DB\",\"line\":{\"color\":\"black\",\"width\":1},\"size\":10,\"symbol\":\"square\"},\"mode\":\"markers+text\",\"name\":\"6510203_0\",\"text\":\"right\",\"textposition\":\"top center\",\"x\":[-0.16604319214820862],\"y\":[-7.638950347900391],\"z\":[-0.16604307293891907],\"type\":\"scatter3d\"},{\"marker\":{\"color\":\"#535865\",\"line\":{\"color\":\"black\",\"width\":1},\"size\":10,\"symbol\":\"square\"},\"mode\":\"markers+text\",\"name\":\"6510203_1\",\"text\":\"left\",\"textposition\":\"top center\",\"x\":[5.213535308837891],\"y\":[12.856666564941406],\"z\":[5.213535308837891],\"type\":\"scatter3d\"},{\"marker\":{\"color\":\"#D6D6D6\",\"line\":{\"color\":\"black\",\"width\":1},\"size\":10,\"symbol\":\"circle\"},\"mode\":\"markers+text\",\"name\":\"6510203_2\",\"text\":\"right\",\"textposition\":\"top center\",\"x\":[8.049434661865234],\"y\":[8.904455184936523],\"z\":[8.04943561553955],\"type\":\"scatter3d\"},{\"marker\":{\"color\":\"#FAE2DB\",\"line\":{\"color\":\"black\",\"width\":1},\"size\":10,\"symbol\":\"square\"},\"mode\":\"markers+text\",\"name\":\"6510203_3\",\"text\":\"front\",\"textposition\":\"top center\",\"x\":[8.546122550964355],\"y\":[13.993476867675781],\"z\":[8.546122550964355],\"type\":\"scatter3d\"},{\"marker\":{\"color\":\"#D6D6D6\",\"line\":{\"color\":\"black\",\"width\":1},\"size\":10,\"symbol\":\"diamond\"},\"mode\":\"markers+text\",\"name\":\"6510203_4\",\"text\":\"forward\",\"textposition\":\"top center\",\"x\":[6.89540433883667],\"y\":[14.962645530700684],\"z\":[6.895404815673828],\"type\":\"scatter3d\"},{\"marker\":{\"color\":\"#535865\",\"line\":{\"color\":\"black\",\"width\":1},\"size\":10,\"symbol\":\"square\"},\"mode\":\"markers+text\",\"name\":\"6510203_5\",\"text\":\"front\",\"textposition\":\"top center\",\"x\":[1.3910572528839111],\"y\":[13.090860366821289],\"z\":[1.3910572528839111],\"type\":\"scatter3d\"},{\"marker\":{\"color\":\"#535865\",\"line\":{\"color\":\"black\",\"width\":1},\"size\":10,\"symbol\":\"square\"},\"mode\":\"markers+text\",\"name\":\"780202_0\",\"text\":\"right\",\"textposition\":\"top center\",\"x\":[-6.256614685058594],\"y\":[-5.652953624725342],\"z\":[-6.256614685058594],\"type\":\"scatter3d\"},{\"marker\":{\"color\":\"#D6D6D6\",\"line\":{\"color\":\"black\",\"width\":1},\"size\":10,\"symbol\":\"circle\"},\"mode\":\"markers+text\",\"name\":\"780202_1\",\"text\":\"left\",\"textposition\":\"top center\",\"x\":[1.6024091243743896],\"y\":[8.238446235656738],\"z\":[1.6024091243743896],\"type\":\"scatter3d\"},{\"marker\":{\"color\":\"#D6D6D6\",\"line\":{\"color\":\"black\",\"width\":1},\"size\":10,\"symbol\":\"diamond\"},\"mode\":\"markers+text\",\"name\":\"780202_2\",\"text\":\"forward\",\"textposition\":\"top center\",\"x\":[6.006826400756836],\"y\":[14.79924201965332],\"z\":[6.006826400756836],\"type\":\"scatter3d\"},{\"marker\":{\"color\":\"#FAE2DB\",\"line\":{\"color\":\"black\",\"width\":1},\"size\":10,\"symbol\":\"square\"},\"mode\":\"markers+text\",\"name\":\"780202_3\",\"text\":\"front\",\"textposition\":\"top center\",\"x\":[6.293341159820557],\"y\":[14.764598846435547],\"z\":[6.293341159820557],\"type\":\"scatter3d\"},{\"marker\":{\"color\":\"#D6D6D6\",\"line\":{\"color\":\"black\",\"width\":1},\"size\":10,\"symbol\":\"diamond\"},\"mode\":\"markers+text\",\"name\":\"780202_4\",\"text\":\"forward\",\"textposition\":\"top center\",\"x\":[5.62081241607666],\"y\":[14.898456573486328],\"z\":[5.62081241607666],\"type\":\"scatter3d\"},{\"marker\":{\"color\":\"#FAE2DB\",\"line\":{\"color\":\"black\",\"width\":1},\"size\":10,\"symbol\":\"square\"},\"mode\":\"markers+text\",\"name\":\"780202_5\",\"text\":\"front\",\"textposition\":\"top center\",\"x\":[-4.0458526611328125],\"y\":[-1.4089539051055908],\"z\":[-4.0458526611328125],\"type\":\"scatter3d\"}],                        {\"template\":{\"data\":{\"histogram2dcontour\":[{\"type\":\"histogram2dcontour\",\"colorbar\":{\"outlinewidth\":0,\"ticks\":\"\"},\"colorscale\":[[0.0,\"#0d0887\"],[0.1111111111111111,\"#46039f\"],[0.2222222222222222,\"#7201a8\"],[0.3333333333333333,\"#9c179e\"],[0.4444444444444444,\"#bd3786\"],[0.5555555555555556,\"#d8576b\"],[0.6666666666666666,\"#ed7953\"],[0.7777777777777778,\"#fb9f3a\"],[0.8888888888888888,\"#fdca26\"],[1.0,\"#f0f921\"]]}],\"choropleth\":[{\"type\":\"choropleth\",\"colorbar\":{\"outlinewidth\":0,\"ticks\":\"\"}}],\"histogram2d\":[{\"type\":\"histogram2d\",\"colorbar\":{\"outlinewidth\":0,\"ticks\":\"\"},\"colorscale\":[[0.0,\"#0d0887\"],[0.1111111111111111,\"#46039f\"],[0.2222222222222222,\"#7201a8\"],[0.3333333333333333,\"#9c179e\"],[0.4444444444444444,\"#bd3786\"],[0.5555555555555556,\"#d8576b\"],[0.6666666666666666,\"#ed7953\"],[0.7777777777777778,\"#fb9f3a\"],[0.8888888888888888,\"#fdca26\"],[1.0,\"#f0f921\"]]}],\"heatmap\":[{\"type\":\"heatmap\",\"colorbar\":{\"outlinewidth\":0,\"ticks\":\"\"},\"colorscale\":[[0.0,\"#0d0887\"],[0.1111111111111111,\"#46039f\"],[0.2222222222222222,\"#7201a8\"],[0.3333333333333333,\"#9c179e\"],[0.4444444444444444,\"#bd3786\"],[0.5555555555555556,\"#d8576b\"],[0.6666666666666666,\"#ed7953\"],[0.7777777777777778,\"#fb9f3a\"],[0.8888888888888888,\"#fdca26\"],[1.0,\"#f0f921\"]]}],\"heatmapgl\":[{\"type\":\"heatmapgl\",\"colorbar\":{\"outlinewidth\":0,\"ticks\":\"\"},\"colorscale\":[[0.0,\"#0d0887\"],[0.1111111111111111,\"#46039f\"],[0.2222222222222222,\"#7201a8\"],[0.3333333333333333,\"#9c179e\"],[0.4444444444444444,\"#bd3786\"],[0.5555555555555556,\"#d8576b\"],[0.6666666666666666,\"#ed7953\"],[0.7777777777777778,\"#fb9f3a\"],[0.8888888888888888,\"#fdca26\"],[1.0,\"#f0f921\"]]}],\"contourcarpet\":[{\"type\":\"contourcarpet\",\"colorbar\":{\"outlinewidth\":0,\"ticks\":\"\"}}],\"contour\":[{\"type\":\"contour\",\"colorbar\":{\"outlinewidth\":0,\"ticks\":\"\"},\"colorscale\":[[0.0,\"#0d0887\"],[0.1111111111111111,\"#46039f\"],[0.2222222222222222,\"#7201a8\"],[0.3333333333333333,\"#9c179e\"],[0.4444444444444444,\"#bd3786\"],[0.5555555555555556,\"#d8576b\"],[0.6666666666666666,\"#ed7953\"],[0.7777777777777778,\"#fb9f3a\"],[0.8888888888888888,\"#fdca26\"],[1.0,\"#f0f921\"]]}],\"surface\":[{\"type\":\"surface\",\"colorbar\":{\"outlinewidth\":0,\"ticks\":\"\"},\"colorscale\":[[0.0,\"#0d0887\"],[0.1111111111111111,\"#46039f\"],[0.2222222222222222,\"#7201a8\"],[0.3333333333333333,\"#9c179e\"],[0.4444444444444444,\"#bd3786\"],[0.5555555555555556,\"#d8576b\"],[0.6666666666666666,\"#ed7953\"],[0.7777777777777778,\"#fb9f3a\"],[0.8888888888888888,\"#fdca26\"],[1.0,\"#f0f921\"]]}],\"mesh3d\":[{\"type\":\"mesh3d\",\"colorbar\":{\"outlinewidth\":0,\"ticks\":\"\"}}],\"scatter\":[{\"fillpattern\":{\"fillmode\":\"overlay\",\"size\":10,\"solidity\":0.2},\"type\":\"scatter\"}],\"parcoords\":[{\"type\":\"parcoords\",\"line\":{\"colorbar\":{\"outlinewidth\":0,\"ticks\":\"\"}}}],\"scatterpolargl\":[{\"type\":\"scatterpolargl\",\"marker\":{\"colorbar\":{\"outlinewidth\":0,\"ticks\":\"\"}}}],\"bar\":[{\"error_x\":{\"color\":\"#2a3f5f\"},\"error_y\":{\"color\":\"#2a3f5f\"},\"marker\":{\"line\":{\"color\":\"#E5ECF6\",\"width\":0.5},\"pattern\":{\"fillmode\":\"overlay\",\"size\":10,\"solidity\":0.2}},\"type\":\"bar\"}],\"scattergeo\":[{\"type\":\"scattergeo\",\"marker\":{\"colorbar\":{\"outlinewidth\":0,\"ticks\":\"\"}}}],\"scatterpolar\":[{\"type\":\"scatterpolar\",\"marker\":{\"colorbar\":{\"outlinewidth\":0,\"ticks\":\"\"}}}],\"histogram\":[{\"marker\":{\"pattern\":{\"fillmode\":\"overlay\",\"size\":10,\"solidity\":0.2}},\"type\":\"histogram\"}],\"scattergl\":[{\"type\":\"scattergl\",\"marker\":{\"colorbar\":{\"outlinewidth\":0,\"ticks\":\"\"}}}],\"scatter3d\":[{\"type\":\"scatter3d\",\"line\":{\"colorbar\":{\"outlinewidth\":0,\"ticks\":\"\"}},\"marker\":{\"colorbar\":{\"outlinewidth\":0,\"ticks\":\"\"}}}],\"scattermapbox\":[{\"type\":\"scattermapbox\",\"marker\":{\"colorbar\":{\"outlinewidth\":0,\"ticks\":\"\"}}}],\"scatterternary\":[{\"type\":\"scatterternary\",\"marker\":{\"colorbar\":{\"outlinewidth\":0,\"ticks\":\"\"}}}],\"scattercarpet\":[{\"type\":\"scattercarpet\",\"marker\":{\"colorbar\":{\"outlinewidth\":0,\"ticks\":\"\"}}}],\"carpet\":[{\"aaxis\":{\"endlinecolor\":\"#2a3f5f\",\"gridcolor\":\"white\",\"linecolor\":\"white\",\"minorgridcolor\":\"white\",\"startlinecolor\":\"#2a3f5f\"},\"baxis\":{\"endlinecolor\":\"#2a3f5f\",\"gridcolor\":\"white\",\"linecolor\":\"white\",\"minorgridcolor\":\"white\",\"startlinecolor\":\"#2a3f5f\"},\"type\":\"carpet\"}],\"table\":[{\"cells\":{\"fill\":{\"color\":\"#EBF0F8\"},\"line\":{\"color\":\"white\"}},\"header\":{\"fill\":{\"color\":\"#C8D4E3\"},\"line\":{\"color\":\"white\"}},\"type\":\"table\"}],\"barpolar\":[{\"marker\":{\"line\":{\"color\":\"#E5ECF6\",\"width\":0.5},\"pattern\":{\"fillmode\":\"overlay\",\"size\":10,\"solidity\":0.2}},\"type\":\"barpolar\"}],\"pie\":[{\"automargin\":true,\"type\":\"pie\"}]},\"layout\":{\"autotypenumbers\":\"strict\",\"colorway\":[\"#636efa\",\"#EF553B\",\"#00cc96\",\"#ab63fa\",\"#FFA15A\",\"#19d3f3\",\"#FF6692\",\"#B6E880\",\"#FF97FF\",\"#FECB52\"],\"font\":{\"color\":\"#2a3f5f\"},\"hovermode\":\"closest\",\"hoverlabel\":{\"align\":\"left\"},\"paper_bgcolor\":\"white\",\"plot_bgcolor\":\"#E5ECF6\",\"polar\":{\"bgcolor\":\"#E5ECF6\",\"angularaxis\":{\"gridcolor\":\"white\",\"linecolor\":\"white\",\"ticks\":\"\"},\"radialaxis\":{\"gridcolor\":\"white\",\"linecolor\":\"white\",\"ticks\":\"\"}},\"ternary\":{\"bgcolor\":\"#E5ECF6\",\"aaxis\":{\"gridcolor\":\"white\",\"linecolor\":\"white\",\"ticks\":\"\"},\"baxis\":{\"gridcolor\":\"white\",\"linecolor\":\"white\",\"ticks\":\"\"},\"caxis\":{\"gridcolor\":\"white\",\"linecolor\":\"white\",\"ticks\":\"\"}},\"coloraxis\":{\"colorbar\":{\"outlinewidth\":0,\"ticks\":\"\"}},\"colorscale\":{\"sequential\":[[0.0,\"#0d0887\"],[0.1111111111111111,\"#46039f\"],[0.2222222222222222,\"#7201a8\"],[0.3333333333333333,\"#9c179e\"],[0.4444444444444444,\"#bd3786\"],[0.5555555555555556,\"#d8576b\"],[0.6666666666666666,\"#ed7953\"],[0.7777777777777778,\"#fb9f3a\"],[0.8888888888888888,\"#fdca26\"],[1.0,\"#f0f921\"]],\"sequentialminus\":[[0.0,\"#0d0887\"],[0.1111111111111111,\"#46039f\"],[0.2222222222222222,\"#7201a8\"],[0.3333333333333333,\"#9c179e\"],[0.4444444444444444,\"#bd3786\"],[0.5555555555555556,\"#d8576b\"],[0.6666666666666666,\"#ed7953\"],[0.7777777777777778,\"#fb9f3a\"],[0.8888888888888888,\"#fdca26\"],[1.0,\"#f0f921\"]],\"diverging\":[[0,\"#8e0152\"],[0.1,\"#c51b7d\"],[0.2,\"#de77ae\"],[0.3,\"#f1b6da\"],[0.4,\"#fde0ef\"],[0.5,\"#f7f7f7\"],[0.6,\"#e6f5d0\"],[0.7,\"#b8e186\"],[0.8,\"#7fbc41\"],[0.9,\"#4d9221\"],[1,\"#276419\"]]},\"xaxis\":{\"gridcolor\":\"white\",\"linecolor\":\"white\",\"ticks\":\"\",\"title\":{\"standoff\":15},\"zerolinecolor\":\"white\",\"automargin\":true,\"zerolinewidth\":2},\"yaxis\":{\"gridcolor\":\"white\",\"linecolor\":\"white\",\"ticks\":\"\",\"title\":{\"standoff\":15},\"zerolinecolor\":\"white\",\"automargin\":true,\"zerolinewidth\":2},\"scene\":{\"xaxis\":{\"backgroundcolor\":\"#E5ECF6\",\"gridcolor\":\"white\",\"linecolor\":\"white\",\"showbackground\":true,\"ticks\":\"\",\"zerolinecolor\":\"white\",\"gridwidth\":2},\"yaxis\":{\"backgroundcolor\":\"#E5ECF6\",\"gridcolor\":\"white\",\"linecolor\":\"white\",\"showbackground\":true,\"ticks\":\"\",\"zerolinecolor\":\"white\",\"gridwidth\":2},\"zaxis\":{\"backgroundcolor\":\"#E5ECF6\",\"gridcolor\":\"white\",\"linecolor\":\"white\",\"showbackground\":true,\"ticks\":\"\",\"zerolinecolor\":\"white\",\"gridwidth\":2}},\"shapedefaults\":{\"line\":{\"color\":\"#2a3f5f\"}},\"annotationdefaults\":{\"arrowcolor\":\"#2a3f5f\",\"arrowhead\":0,\"arrowwidth\":1},\"geo\":{\"bgcolor\":\"white\",\"landcolor\":\"#E5ECF6\",\"subunitcolor\":\"white\",\"showland\":true,\"showlakes\":true,\"lakecolor\":\"white\"},\"title\":{\"x\":0.05},\"mapbox\":{\"style\":\"light\"}}},\"width\":900,\"height\":700,\"scene\":{\"xaxis\":{\"title\":{\"text\":\"X\"}},\"yaxis\":{\"title\":{\"text\":\"Y\"}},\"zaxis\":{\"title\":{\"text\":\"Z\"}}}},                        {\"toImageButtonOptions\": {\"format\": \"svg\"}, \"responsive\": true}                    ).then(function(){\n",
       "                            \n",
       "var gd = document.getElementById('990c649d-d24a-4be9-b839-fd2cd4936920');\n",
       "var x = new MutationObserver(function (mutations, observer) {{\n",
       "        var display = window.getComputedStyle(gd).display;\n",
       "        if (!display || display === 'none') {{\n",
       "            console.log([gd, 'removed!']);\n",
       "            Plotly.purge(gd);\n",
       "            observer.disconnect();\n",
       "        }}\n",
       "}});\n",
       "\n",
       "// Listen for the removal of the full notebook cells\n",
       "var notebookContainer = gd.closest('#notebook-container');\n",
       "if (notebookContainer) {{\n",
       "    x.observe(notebookContainer, {childList: true});\n",
       "}}\n",
       "\n",
       "// Listen for the clearing of the current output cell\n",
       "var outputEl = gd.closest('.output');\n",
       "if (outputEl) {{\n",
       "    x.observe(outputEl, {childList: true});\n",
       "}}\n",
       "\n",
       "                        })                };                });            </script>        </div>"
      ]
     },
     "metadata": {},
     "output_type": "display_data"
    }
   ],
   "source": [
    "sequences = [[8, 0, 2, 0, 2, 0], [8, 0, 2, 0, 2, 0], [0, 2, 0, 2, 0, 3], [0, 2, 0, 2, 0, 3], [0, 2, 0, 3, 10, 1], [1, 10, 2, 0, 2, 0], [0, 2, 0, 2, 0, 3], [2, 0, 3, 5, 1, 3], [7, 8, 0, 2, 0, 3], [7, 8, 0, 3, 6, 5], [7, 8, 0, 3, 6, 5], [6, 5, 10, 2, 0, 3], [7, 8, 0, 2, 0, 2]]\n",
    "\n",
    "label_seq = [''.join(str(nombre) for nombre in sous_liste) for sous_liste in sequences]\n",
    "embedding_weights, all_labels, all_tokens = visualize_encoder_outputs(model, sequences, label_seq)\n",
    "print(len(embedding_weights[:, 0].detach().numpy()))\n",
    "projected = project_embeddings_to_3D(model, embedding_weights, group_axes)\n",
    "plotly_embedding(projected, all_labels, all_tokens)"
   ]
  },
  {
   "cell_type": "markdown",
   "id": "9f85126e-731c-46aa-8c1c-de4da72b1272",
   "metadata": {},
   "source": [
    "On voit la position des tokens de chaque séquence. \n"
   ]
  },
  {
   "cell_type": "markdown",
   "id": "4ce2c3e9-b284-41be-a5ec-03f5abc62750",
   "metadata": {},
   "source": [
    "## Visualisation de la sortie decodeur"
   ]
  },
  {
   "cell_type": "code",
   "execution_count": 31,
   "id": "14baa9d8-bae8-4e03-bef8-5398fd29c42f",
   "metadata": {},
   "outputs": [],
   "source": [
    "def visualize_decoder_outputs(model, src_sequences, tgt_sequences, labels=None):\n",
    "    \"\"\"\n",
    "    Visualise les représentations finales du décodeur pour un ensemble de séquences.\n",
    "    Chaque token cible est affiché individuellement (après passage par le décodeur).\n",
    "\n",
    "    Args:\n",
    "        model: Le modèle entraîné.\n",
    "        src_sequences: Liste de séquences source (liste de listes de tokens).\n",
    "        tgt_sequences: Liste de séquences cible (mêmes dimensions que src_sequences).\n",
    "        labels: Optionnel — liste de chaînes pour légender les points.\n",
    "    \n",
    "    Returns:\n",
    "        torch.Tensor: embeddings du décodeur (tokens concaténés), shape (N, d_model)\n",
    "    \"\"\"\n",
    "    model.eval()\n",
    "    all_embeddings = []\n",
    "    all_labels = []\n",
    "    all_tokens = []\n",
    "    \n",
    "    with torch.no_grad():\n",
    "        for idx, (src_seq, tgt_seq) in enumerate(zip(src_sequences, tgt_sequences)):\n",
    "            # Ajouter <sos> au début de la séquence cible\n",
    "            tgt_input = [SOS_TOKEN] + tgt_seq\n",
    "            \n",
    "            # Convertir en tenseurs\n",
    "            src = torch.tensor([src_seq], dtype=torch.long).to(DEVICE)\n",
    "            tgt = torch.tensor([[SOS_TOKEN] + tgt_seq], dtype=torch.long).to(DEVICE)\n",
    "\n",
    "            # Masques\n",
    "            src_pad_mask = (src == PAD_TOKEN)\n",
    "            tgt_pad_mask = (tgt == PAD_TOKEN)\n",
    "            tgt_seq_mask = model.generate_square_subsequent_mask(tgt.size(1)).to(DEVICE)\n",
    "\n",
    "            # Embeddings\n",
    "            src_emb = model.embedding(src) + model.pos_encoding[:src.size(1)]\n",
    "            tgt_emb = model.embedding(tgt) + model.pos_encoding[:tgt.size(1)]\n",
    "\n",
    "            # Transformer expects (seq_len, batch, dim)\n",
    "            src_emb = src_emb.permute(1, 0, 2)\n",
    "            tgt_emb = tgt_emb.permute(1, 0, 2)\n",
    "\n",
    "            # Encoder output\n",
    "            memory = model.encoder(src_emb, src_key_padding_mask=src_pad_mask)\n",
    "\n",
    "            # Decoder output\n",
    "            decoder_output = model.decoder(\n",
    "                tgt_emb,\n",
    "                memory,\n",
    "                tgt_mask=tgt_seq_mask,\n",
    "                tgt_key_padding_mask=tgt_pad_mask,\n",
    "                memory_key_padding_mask=src_pad_mask\n",
    "            )  # (tgt_seq_len, batch, d_model)\n",
    "\n",
    "            decoder_output = decoder_output.permute(1, 0, 2).squeeze(0)  # (seq_len, d_model)\n",
    "\n",
    "            all_embeddings.extend(decoder_output.cpu())\n",
    "            all_tokens.extend(tgt_input)  # correspond aux tokens réellement encodés\n",
    "            if labels:\n",
    "                all_labels.extend([f\"{labels[idx]}_{i}\" for i in range(len(tgt_seq)+1)])  # +1 pour <sos>\n",
    "            else:\n",
    "                all_labels.extend([f\"{idx}_{i}\" for i in range(len(tgt_seq)+1)])\n",
    "\n",
    "    return torch.stack(all_embeddings), all_labels, all_tokens\n"
   ]
  },
  {
   "cell_type": "code",
   "execution_count": 33,
   "id": "e1d060d1-2e8f-4413-8a60-3dc7aaeb4c53",
   "metadata": {},
   "outputs": [
    {
     "data": {
      "application/vnd.plotly.v1+json": {
       "config": {
        "plotlyServerURL": "https://plot.ly",
        "toImageButtonOptions": {
         "format": "svg"
        }
       },
       "data": [
        {
         "marker": {
          "color": "#535865",
          "line": {
           "color": "black",
           "width": 1
          },
          "size": 10,
          "symbol": "square"
         },
         "mode": "markers+text",
         "name": "203780203_1",
         "text": "right",
         "textposition": "top center",
         "type": "scatter3d",
         "x": [
          5.829061508178711
         ],
         "y": [
          6.811515808105469
         ],
         "z": [
          -1.3153260946273804
         ]
        },
        {
         "marker": {
          "color": "#D6D6D6",
          "line": {
           "color": "black",
           "width": 1
          },
          "size": 10,
          "symbol": "circle"
         },
         "mode": "markers+text",
         "name": "203780203_2",
         "text": "left",
         "textposition": "top center",
         "type": "scatter3d",
         "x": [
          7.041428565979004
         ],
         "y": [
          6.700042247772217
         ],
         "z": [
          4.04899787902832
         ]
        },
        {
         "marker": {
          "color": "#D6D6D6",
          "line": {
           "color": "black",
           "width": 1
          },
          "size": 10,
          "symbol": "diamond"
         },
         "mode": "markers+text",
         "name": "203780203_3",
         "text": "forward",
         "textposition": "top center",
         "type": "scatter3d",
         "x": [
          6.122348785400391
         ],
         "y": [
          6.889871597290039
         ],
         "z": [
          9.373027801513672
         ]
        },
        {
         "marker": {
          "color": "#FAE2DB",
          "line": {
           "color": "black",
           "width": 1
          },
          "size": 10,
          "symbol": "square"
         },
         "mode": "markers+text",
         "name": "203780203_4",
         "text": "front",
         "textposition": "top center",
         "type": "scatter3d",
         "x": [
          6.0283918380737305
         ],
         "y": [
          6.260146617889404
         ],
         "z": [
          3.461430788040161
         ]
        },
        {
         "marker": {
          "color": "#D6D6D6",
          "line": {
           "color": "black",
           "width": 1
          },
          "size": 10,
          "symbol": "diamond"
         },
         "mode": "markers+text",
         "name": "203780203_5",
         "text": "forward",
         "textposition": "top center",
         "type": "scatter3d",
         "x": [
          5.07688045501709
         ],
         "y": [
          6.299546241760254
         ],
         "z": [
          9.669698715209961
         ]
        },
        {
         "marker": {
          "color": "#FAE2DB",
          "line": {
           "color": "black",
           "width": 1
          },
          "size": 10,
          "symbol": "square"
         },
         "mode": "markers+text",
         "name": "203780203_6",
         "text": "front",
         "textposition": "top center",
         "type": "scatter3d",
         "x": [
          2.4618332386016846
         ],
         "y": [
          3.7485861778259277
         ],
         "z": [
          3.54341721534729
         ]
        },
        {
         "marker": {
          "color": "#535865",
          "line": {
           "color": "black",
           "width": 1
          },
          "size": 10,
          "symbol": "square"
         },
         "mode": "markers+text",
         "name": "203_1",
         "text": "right",
         "textposition": "top center",
         "type": "scatter3d",
         "x": [
          4.852938652038574
         ],
         "y": [
          6.481432914733887
         ],
         "z": [
          -2.3282580375671387
         ]
        },
        {
         "marker": {
          "color": "#D6D6D6",
          "line": {
           "color": "black",
           "width": 1
          },
          "size": 10,
          "symbol": "circle"
         },
         "mode": "markers+text",
         "name": "203_2",
         "text": "left",
         "textposition": "top center",
         "type": "scatter3d",
         "x": [
          7.3788251876831055
         ],
         "y": [
          6.645407199859619
         ],
         "z": [
          4.256202220916748
         ]
        },
        {
         "marker": {
          "color": "#D6D6D6",
          "line": {
           "color": "black",
           "width": 1
          },
          "size": 10,
          "symbol": "diamond"
         },
         "mode": "markers+text",
         "name": "203_3",
         "text": "forward",
         "textposition": "top center",
         "type": "scatter3d",
         "x": [
          3.695878028869629
         ],
         "y": [
          5.298240661621094
         ],
         "z": [
          7.953392028808594
         ]
        },
        {
         "marker": {
          "color": "#FAE2DB",
          "line": {
           "color": "black",
           "width": 1
          },
          "size": 10,
          "symbol": "square"
         },
         "mode": "markers+text",
         "name": "203_4",
         "text": "front",
         "textposition": "top center",
         "type": "scatter3d",
         "x": [
          6.514040946960449
         ],
         "y": [
          6.613178253173828
         ],
         "z": [
          3.312793731689453
         ]
        },
        {
         "marker": {
          "color": "#D6D6D6",
          "line": {
           "color": "black",
           "width": 1
          },
          "size": 10,
          "symbol": "diamond"
         },
         "mode": "markers+text",
         "name": "203_5",
         "text": "forward",
         "textposition": "top center",
         "type": "scatter3d",
         "x": [
          -3.7753729820251465
         ],
         "y": [
          -1.4661338329315186
         ],
         "z": [
          1.249366044998169
         ]
        },
        {
         "marker": {
          "color": "#535865",
          "line": {
           "color": "black",
           "width": 1
          },
          "size": 10,
          "symbol": "square"
         },
         "mode": "markers+text",
         "name": "203_6",
         "text": "front",
         "textposition": "top center",
         "type": "scatter3d",
         "x": [
          1.4379544258117676
         ],
         "y": [
          -2.6720268726348877
         ],
         "z": [
          4.459975242614746
         ]
        },
        {
         "marker": {
          "color": "#535865",
          "line": {
           "color": "black",
           "width": 1
          },
          "size": 10,
          "symbol": "square"
         },
         "mode": "markers+text",
         "name": "203_7",
         "text": "right",
         "textposition": "top center",
         "type": "scatter3d",
         "x": [
          4.5897955894470215
         ],
         "y": [
          4.7980828285217285
         ],
         "z": [
          -2.4638307094573975
         ]
        },
        {
         "marker": {
          "color": "#D6D6D6",
          "line": {
           "color": "black",
           "width": 1
          },
          "size": 10,
          "symbol": "circle"
         },
         "mode": "markers+text",
         "name": "203_8",
         "text": "left",
         "textposition": "top center",
         "type": "scatter3d",
         "x": [
          5.544070243835449
         ],
         "y": [
          6.2168450355529785
         ],
         "z": [
          2.5467402935028076
         ]
        },
        {
         "marker": {
          "color": "#D6D6D6",
          "line": {
           "color": "black",
           "width": 1
          },
          "size": 10,
          "symbol": "diamond"
         },
         "mode": "markers+text",
         "name": "203_9",
         "text": "forward",
         "textposition": "top center",
         "type": "scatter3d",
         "x": [
          5.5949811935424805
         ],
         "y": [
          6.645148277282715
         ],
         "z": [
          9.431530952453613
         ]
        },
        {
         "marker": {
          "color": "#FAE2DB",
          "line": {
           "color": "black",
           "width": 1
          },
          "size": 10,
          "symbol": "square"
         },
         "mode": "markers+text",
         "name": "203_10",
         "text": "front",
         "textposition": "top center",
         "type": "scatter3d",
         "x": [
          5.285243034362793
         ],
         "y": [
          6.002948760986328
         ],
         "z": [
          3.9492220878601074
         ]
        },
        {
         "marker": {
          "color": "#D6D6D6",
          "line": {
           "color": "black",
           "width": 1
          },
          "size": 10,
          "symbol": "diamond"
         },
         "mode": "markers+text",
         "name": "203_11",
         "text": "forward",
         "textposition": "top center",
         "type": "scatter3d",
         "x": [
          5.618851661682129
         ],
         "y": [
          6.290582180023193
         ],
         "z": [
          9.830342292785645
         ]
        },
        {
         "marker": {
          "color": "#FAE2DB",
          "line": {
           "color": "black",
           "width": 1
          },
          "size": 10,
          "symbol": "square"
         },
         "mode": "markers+text",
         "name": "203_12",
         "text": "front",
         "textposition": "top center",
         "type": "scatter3d",
         "x": [
          -2.1361513137817383
         ],
         "y": [
          -0.7504686117172241
         ],
         "z": [
          1.4014770984649658
         ]
        },
        {
         "marker": {
          "color": "#535865",
          "line": {
           "color": "black",
           "width": 1
          },
          "size": 10,
          "symbol": "square"
         },
         "mode": "markers+text",
         "name": "10203_1",
         "text": "right",
         "textposition": "top center",
         "type": "scatter3d",
         "x": [
          4.840054512023926
         ],
         "y": [
          6.703150749206543
         ],
         "z": [
          -2.3519058227539062
         ]
        },
        {
         "marker": {
          "color": "#D6D6D6",
          "line": {
           "color": "black",
           "width": 1
          },
          "size": 10,
          "symbol": "circle"
         },
         "mode": "markers+text",
         "name": "10203_2",
         "text": "left",
         "textposition": "top center",
         "type": "scatter3d",
         "x": [
          7.760677337646484
         ],
         "y": [
          7.218855857849121
         ],
         "z": [
          4.622300624847412
         ]
        },
        {
         "marker": {
          "color": "#D6D6D6",
          "line": {
           "color": "black",
           "width": 1
          },
          "size": 10,
          "symbol": "diamond"
         },
         "mode": "markers+text",
         "name": "10203_3",
         "text": "forward",
         "textposition": "top center",
         "type": "scatter3d",
         "x": [
          3.6394433975219727
         ],
         "y": [
          5.495262145996094
         ],
         "z": [
          7.779664993286133
         ]
        },
        {
         "marker": {
          "color": "#FAE2DB",
          "line": {
           "color": "black",
           "width": 1
          },
          "size": 10,
          "symbol": "square"
         },
         "mode": "markers+text",
         "name": "10203_4",
         "text": "front",
         "textposition": "top center",
         "type": "scatter3d",
         "x": [
          6.672549247741699
         ],
         "y": [
          6.8705902099609375
         ],
         "z": [
          3.504269599914551
         ]
        },
        {
         "marker": {
          "color": "#D6D6D6",
          "line": {
           "color": "black",
           "width": 1
          },
          "size": 10,
          "symbol": "diamond"
         },
         "mode": "markers+text",
         "name": "10203_5",
         "text": "forward",
         "textposition": "top center",
         "type": "scatter3d",
         "x": [
          -3.564134120941162
         ],
         "y": [
          -1.120229721069336
         ],
         "z": [
          1.7717851400375366
         ]
        },
        {
         "marker": {
          "color": "#535865",
          "line": {
           "color": "black",
           "width": 1
          },
          "size": 10,
          "symbol": "square"
         },
         "mode": "markers+text",
         "name": "10203_6",
         "text": "front",
         "textposition": "top center",
         "type": "scatter3d",
         "x": [
          1.769926905632019
         ],
         "y": [
          -2.295461654663086
         ],
         "z": [
          4.804882049560547
         ]
        },
        {
         "marker": {
          "color": "#535865",
          "line": {
           "color": "black",
           "width": 1
          },
          "size": 10,
          "symbol": "square"
         },
         "mode": "markers+text",
         "name": "10203_7",
         "text": "right",
         "textposition": "top center",
         "type": "scatter3d",
         "x": [
          4.704522609710693
         ],
         "y": [
          5.371389389038086
         ],
         "z": [
          -2.488847255706787
         ]
        },
        {
         "marker": {
          "color": "#D6D6D6",
          "line": {
           "color": "black",
           "width": 1
          },
          "size": 10,
          "symbol": "circle"
         },
         "mode": "markers+text",
         "name": "10203_8",
         "text": "left",
         "textposition": "top center",
         "type": "scatter3d",
         "x": [
          5.671462059020996
         ],
         "y": [
          6.489798069000244
         ],
         "z": [
          2.7438392639160156
         ]
        },
        {
         "marker": {
          "color": "#D6D6D6",
          "line": {
           "color": "black",
           "width": 1
          },
          "size": 10,
          "symbol": "diamond"
         },
         "mode": "markers+text",
         "name": "10203_9",
         "text": "forward",
         "textposition": "top center",
         "type": "scatter3d",
         "x": [
          5.768130302429199
         ],
         "y": [
          6.825963973999023
         ],
         "z": [
          9.473095893859863
         ]
        },
        {
         "marker": {
          "color": "#FAE2DB",
          "line": {
           "color": "black",
           "width": 1
          },
          "size": 10,
          "symbol": "square"
         },
         "mode": "markers+text",
         "name": "10203_10",
         "text": "front",
         "textposition": "top center",
         "type": "scatter3d",
         "x": [
          5.527193069458008
         ],
         "y": [
          6.268722057342529
         ],
         "z": [
          4.061774253845215
         ]
        },
        {
         "marker": {
          "color": "#D6D6D6",
          "line": {
           "color": "black",
           "width": 1
          },
          "size": 10,
          "symbol": "diamond"
         },
         "mode": "markers+text",
         "name": "10203_11",
         "text": "forward",
         "textposition": "top center",
         "type": "scatter3d",
         "x": [
          5.732102394104004
         ],
         "y": [
          6.707590103149414
         ],
         "z": [
          9.736270904541016
         ]
        },
        {
         "marker": {
          "color": "#FAE2DB",
          "line": {
           "color": "black",
           "width": 1
          },
          "size": 10,
          "symbol": "square"
         },
         "mode": "markers+text",
         "name": "10203_12",
         "text": "front",
         "textposition": "top center",
         "type": "scatter3d",
         "x": [
          -1.8329691886901855
         ],
         "y": [
          -0.12456214427947998
         ],
         "z": [
          1.6683213710784912
         ]
        }
       ],
       "layout": {
        "height": 700,
        "scene": {
         "aspectmode": "auto",
         "aspectratio": {
          "x": 1.0298303761395617,
          "y": 0.8829652437730162,
          "z": 1.0997417014404667
         },
         "camera": {
          "center": {
           "x": 0,
           "y": 0,
           "z": 0
          },
          "eye": {
           "x": 1.2236562714527763,
           "y": -1.5052909162710608,
           "z": 0.867402227766025
          },
          "projection": {
           "type": "perspective"
          },
          "up": {
           "x": 0,
           "y": 0,
           "z": 1
          }
         },
         "xaxis": {
          "title": {
           "text": "X"
          },
          "type": "linear"
         },
         "yaxis": {
          "title": {
           "text": "Y"
          },
          "type": "linear"
         },
         "zaxis": {
          "title": {
           "text": "Z"
          },
          "type": "linear"
         }
        },
        "template": {
         "data": {
          "bar": [
           {
            "error_x": {
             "color": "#2a3f5f"
            },
            "error_y": {
             "color": "#2a3f5f"
            },
            "marker": {
             "line": {
              "color": "#E5ECF6",
              "width": 0.5
             },
             "pattern": {
              "fillmode": "overlay",
              "size": 10,
              "solidity": 0.2
             }
            },
            "type": "bar"
           }
          ],
          "barpolar": [
           {
            "marker": {
             "line": {
              "color": "#E5ECF6",
              "width": 0.5
             },
             "pattern": {
              "fillmode": "overlay",
              "size": 10,
              "solidity": 0.2
             }
            },
            "type": "barpolar"
           }
          ],
          "carpet": [
           {
            "aaxis": {
             "endlinecolor": "#2a3f5f",
             "gridcolor": "white",
             "linecolor": "white",
             "minorgridcolor": "white",
             "startlinecolor": "#2a3f5f"
            },
            "baxis": {
             "endlinecolor": "#2a3f5f",
             "gridcolor": "white",
             "linecolor": "white",
             "minorgridcolor": "white",
             "startlinecolor": "#2a3f5f"
            },
            "type": "carpet"
           }
          ],
          "choropleth": [
           {
            "colorbar": {
             "outlinewidth": 0,
             "ticks": ""
            },
            "type": "choropleth"
           }
          ],
          "contour": [
           {
            "colorbar": {
             "outlinewidth": 0,
             "ticks": ""
            },
            "colorscale": [
             [
              0,
              "#0d0887"
             ],
             [
              0.1111111111111111,
              "#46039f"
             ],
             [
              0.2222222222222222,
              "#7201a8"
             ],
             [
              0.3333333333333333,
              "#9c179e"
             ],
             [
              0.4444444444444444,
              "#bd3786"
             ],
             [
              0.5555555555555556,
              "#d8576b"
             ],
             [
              0.6666666666666666,
              "#ed7953"
             ],
             [
              0.7777777777777778,
              "#fb9f3a"
             ],
             [
              0.8888888888888888,
              "#fdca26"
             ],
             [
              1,
              "#f0f921"
             ]
            ],
            "type": "contour"
           }
          ],
          "contourcarpet": [
           {
            "colorbar": {
             "outlinewidth": 0,
             "ticks": ""
            },
            "type": "contourcarpet"
           }
          ],
          "heatmap": [
           {
            "colorbar": {
             "outlinewidth": 0,
             "ticks": ""
            },
            "colorscale": [
             [
              0,
              "#0d0887"
             ],
             [
              0.1111111111111111,
              "#46039f"
             ],
             [
              0.2222222222222222,
              "#7201a8"
             ],
             [
              0.3333333333333333,
              "#9c179e"
             ],
             [
              0.4444444444444444,
              "#bd3786"
             ],
             [
              0.5555555555555556,
              "#d8576b"
             ],
             [
              0.6666666666666666,
              "#ed7953"
             ],
             [
              0.7777777777777778,
              "#fb9f3a"
             ],
             [
              0.8888888888888888,
              "#fdca26"
             ],
             [
              1,
              "#f0f921"
             ]
            ],
            "type": "heatmap"
           }
          ],
          "heatmapgl": [
           {
            "colorbar": {
             "outlinewidth": 0,
             "ticks": ""
            },
            "colorscale": [
             [
              0,
              "#0d0887"
             ],
             [
              0.1111111111111111,
              "#46039f"
             ],
             [
              0.2222222222222222,
              "#7201a8"
             ],
             [
              0.3333333333333333,
              "#9c179e"
             ],
             [
              0.4444444444444444,
              "#bd3786"
             ],
             [
              0.5555555555555556,
              "#d8576b"
             ],
             [
              0.6666666666666666,
              "#ed7953"
             ],
             [
              0.7777777777777778,
              "#fb9f3a"
             ],
             [
              0.8888888888888888,
              "#fdca26"
             ],
             [
              1,
              "#f0f921"
             ]
            ],
            "type": "heatmapgl"
           }
          ],
          "histogram": [
           {
            "marker": {
             "pattern": {
              "fillmode": "overlay",
              "size": 10,
              "solidity": 0.2
             }
            },
            "type": "histogram"
           }
          ],
          "histogram2d": [
           {
            "colorbar": {
             "outlinewidth": 0,
             "ticks": ""
            },
            "colorscale": [
             [
              0,
              "#0d0887"
             ],
             [
              0.1111111111111111,
              "#46039f"
             ],
             [
              0.2222222222222222,
              "#7201a8"
             ],
             [
              0.3333333333333333,
              "#9c179e"
             ],
             [
              0.4444444444444444,
              "#bd3786"
             ],
             [
              0.5555555555555556,
              "#d8576b"
             ],
             [
              0.6666666666666666,
              "#ed7953"
             ],
             [
              0.7777777777777778,
              "#fb9f3a"
             ],
             [
              0.8888888888888888,
              "#fdca26"
             ],
             [
              1,
              "#f0f921"
             ]
            ],
            "type": "histogram2d"
           }
          ],
          "histogram2dcontour": [
           {
            "colorbar": {
             "outlinewidth": 0,
             "ticks": ""
            },
            "colorscale": [
             [
              0,
              "#0d0887"
             ],
             [
              0.1111111111111111,
              "#46039f"
             ],
             [
              0.2222222222222222,
              "#7201a8"
             ],
             [
              0.3333333333333333,
              "#9c179e"
             ],
             [
              0.4444444444444444,
              "#bd3786"
             ],
             [
              0.5555555555555556,
              "#d8576b"
             ],
             [
              0.6666666666666666,
              "#ed7953"
             ],
             [
              0.7777777777777778,
              "#fb9f3a"
             ],
             [
              0.8888888888888888,
              "#fdca26"
             ],
             [
              1,
              "#f0f921"
             ]
            ],
            "type": "histogram2dcontour"
           }
          ],
          "mesh3d": [
           {
            "colorbar": {
             "outlinewidth": 0,
             "ticks": ""
            },
            "type": "mesh3d"
           }
          ],
          "parcoords": [
           {
            "line": {
             "colorbar": {
              "outlinewidth": 0,
              "ticks": ""
             }
            },
            "type": "parcoords"
           }
          ],
          "pie": [
           {
            "automargin": true,
            "type": "pie"
           }
          ],
          "scatter": [
           {
            "fillpattern": {
             "fillmode": "overlay",
             "size": 10,
             "solidity": 0.2
            },
            "type": "scatter"
           }
          ],
          "scatter3d": [
           {
            "line": {
             "colorbar": {
              "outlinewidth": 0,
              "ticks": ""
             }
            },
            "marker": {
             "colorbar": {
              "outlinewidth": 0,
              "ticks": ""
             }
            },
            "type": "scatter3d"
           }
          ],
          "scattercarpet": [
           {
            "marker": {
             "colorbar": {
              "outlinewidth": 0,
              "ticks": ""
             }
            },
            "type": "scattercarpet"
           }
          ],
          "scattergeo": [
           {
            "marker": {
             "colorbar": {
              "outlinewidth": 0,
              "ticks": ""
             }
            },
            "type": "scattergeo"
           }
          ],
          "scattergl": [
           {
            "marker": {
             "colorbar": {
              "outlinewidth": 0,
              "ticks": ""
             }
            },
            "type": "scattergl"
           }
          ],
          "scattermapbox": [
           {
            "marker": {
             "colorbar": {
              "outlinewidth": 0,
              "ticks": ""
             }
            },
            "type": "scattermapbox"
           }
          ],
          "scatterpolar": [
           {
            "marker": {
             "colorbar": {
              "outlinewidth": 0,
              "ticks": ""
             }
            },
            "type": "scatterpolar"
           }
          ],
          "scatterpolargl": [
           {
            "marker": {
             "colorbar": {
              "outlinewidth": 0,
              "ticks": ""
             }
            },
            "type": "scatterpolargl"
           }
          ],
          "scatterternary": [
           {
            "marker": {
             "colorbar": {
              "outlinewidth": 0,
              "ticks": ""
             }
            },
            "type": "scatterternary"
           }
          ],
          "surface": [
           {
            "colorbar": {
             "outlinewidth": 0,
             "ticks": ""
            },
            "colorscale": [
             [
              0,
              "#0d0887"
             ],
             [
              0.1111111111111111,
              "#46039f"
             ],
             [
              0.2222222222222222,
              "#7201a8"
             ],
             [
              0.3333333333333333,
              "#9c179e"
             ],
             [
              0.4444444444444444,
              "#bd3786"
             ],
             [
              0.5555555555555556,
              "#d8576b"
             ],
             [
              0.6666666666666666,
              "#ed7953"
             ],
             [
              0.7777777777777778,
              "#fb9f3a"
             ],
             [
              0.8888888888888888,
              "#fdca26"
             ],
             [
              1,
              "#f0f921"
             ]
            ],
            "type": "surface"
           }
          ],
          "table": [
           {
            "cells": {
             "fill": {
              "color": "#EBF0F8"
             },
             "line": {
              "color": "white"
             }
            },
            "header": {
             "fill": {
              "color": "#C8D4E3"
             },
             "line": {
              "color": "white"
             }
            },
            "type": "table"
           }
          ]
         },
         "layout": {
          "annotationdefaults": {
           "arrowcolor": "#2a3f5f",
           "arrowhead": 0,
           "arrowwidth": 1
          },
          "autotypenumbers": "strict",
          "coloraxis": {
           "colorbar": {
            "outlinewidth": 0,
            "ticks": ""
           }
          },
          "colorscale": {
           "diverging": [
            [
             0,
             "#8e0152"
            ],
            [
             0.1,
             "#c51b7d"
            ],
            [
             0.2,
             "#de77ae"
            ],
            [
             0.3,
             "#f1b6da"
            ],
            [
             0.4,
             "#fde0ef"
            ],
            [
             0.5,
             "#f7f7f7"
            ],
            [
             0.6,
             "#e6f5d0"
            ],
            [
             0.7,
             "#b8e186"
            ],
            [
             0.8,
             "#7fbc41"
            ],
            [
             0.9,
             "#4d9221"
            ],
            [
             1,
             "#276419"
            ]
           ],
           "sequential": [
            [
             0,
             "#0d0887"
            ],
            [
             0.1111111111111111,
             "#46039f"
            ],
            [
             0.2222222222222222,
             "#7201a8"
            ],
            [
             0.3333333333333333,
             "#9c179e"
            ],
            [
             0.4444444444444444,
             "#bd3786"
            ],
            [
             0.5555555555555556,
             "#d8576b"
            ],
            [
             0.6666666666666666,
             "#ed7953"
            ],
            [
             0.7777777777777778,
             "#fb9f3a"
            ],
            [
             0.8888888888888888,
             "#fdca26"
            ],
            [
             1,
             "#f0f921"
            ]
           ],
           "sequentialminus": [
            [
             0,
             "#0d0887"
            ],
            [
             0.1111111111111111,
             "#46039f"
            ],
            [
             0.2222222222222222,
             "#7201a8"
            ],
            [
             0.3333333333333333,
             "#9c179e"
            ],
            [
             0.4444444444444444,
             "#bd3786"
            ],
            [
             0.5555555555555556,
             "#d8576b"
            ],
            [
             0.6666666666666666,
             "#ed7953"
            ],
            [
             0.7777777777777778,
             "#fb9f3a"
            ],
            [
             0.8888888888888888,
             "#fdca26"
            ],
            [
             1,
             "#f0f921"
            ]
           ]
          },
          "colorway": [
           "#636efa",
           "#EF553B",
           "#00cc96",
           "#ab63fa",
           "#FFA15A",
           "#19d3f3",
           "#FF6692",
           "#B6E880",
           "#FF97FF",
           "#FECB52"
          ],
          "font": {
           "color": "#2a3f5f"
          },
          "geo": {
           "bgcolor": "white",
           "lakecolor": "white",
           "landcolor": "#E5ECF6",
           "showlakes": true,
           "showland": true,
           "subunitcolor": "white"
          },
          "hoverlabel": {
           "align": "left"
          },
          "hovermode": "closest",
          "mapbox": {
           "style": "light"
          },
          "paper_bgcolor": "white",
          "plot_bgcolor": "#E5ECF6",
          "polar": {
           "angularaxis": {
            "gridcolor": "white",
            "linecolor": "white",
            "ticks": ""
           },
           "bgcolor": "#E5ECF6",
           "radialaxis": {
            "gridcolor": "white",
            "linecolor": "white",
            "ticks": ""
           }
          },
          "scene": {
           "xaxis": {
            "backgroundcolor": "#E5ECF6",
            "gridcolor": "white",
            "gridwidth": 2,
            "linecolor": "white",
            "showbackground": true,
            "ticks": "",
            "zerolinecolor": "white"
           },
           "yaxis": {
            "backgroundcolor": "#E5ECF6",
            "gridcolor": "white",
            "gridwidth": 2,
            "linecolor": "white",
            "showbackground": true,
            "ticks": "",
            "zerolinecolor": "white"
           },
           "zaxis": {
            "backgroundcolor": "#E5ECF6",
            "gridcolor": "white",
            "gridwidth": 2,
            "linecolor": "white",
            "showbackground": true,
            "ticks": "",
            "zerolinecolor": "white"
           }
          },
          "shapedefaults": {
           "line": {
            "color": "#2a3f5f"
           }
          },
          "ternary": {
           "aaxis": {
            "gridcolor": "white",
            "linecolor": "white",
            "ticks": ""
           },
           "baxis": {
            "gridcolor": "white",
            "linecolor": "white",
            "ticks": ""
           },
           "bgcolor": "#E5ECF6",
           "caxis": {
            "gridcolor": "white",
            "linecolor": "white",
            "ticks": ""
           }
          },
          "title": {
           "x": 0.05
          },
          "xaxis": {
           "automargin": true,
           "gridcolor": "white",
           "linecolor": "white",
           "ticks": "",
           "title": {
            "standoff": 15
           },
           "zerolinecolor": "white",
           "zerolinewidth": 2
          },
          "yaxis": {
           "automargin": true,
           "gridcolor": "white",
           "linecolor": "white",
           "ticks": "",
           "title": {
            "standoff": 15
           },
           "zerolinecolor": "white",
           "zerolinewidth": 2
          }
         }
        },
        "width": 900
       }
      },
      "image/png": "[encoded data removed]",
      "text/html": [
       "<div>                            <div id=\"cc80e894-0e41-49f5-bbb5-96af7507564e\" class=\"plotly-graph-div\" style=\"height:700px; width:900px;\"></div>            <script type=\"text/javascript\">                require([\"plotly\"], function(Plotly) {                    window.PLOTLYENV=window.PLOTLYENV || {};                                    if (document.getElementById(\"cc80e894-0e41-49f5-bbb5-96af7507564e\")) {                    Plotly.newPlot(                        \"cc80e894-0e41-49f5-bbb5-96af7507564e\",                        [{\"marker\":{\"color\":\"#535865\",\"line\":{\"color\":\"black\",\"width\":1},\"size\":10,\"symbol\":\"square\"},\"mode\":\"markers+text\",\"name\":\"203780203_1\",\"text\":\"right\",\"textposition\":\"top center\",\"x\":[5.829061508178711],\"y\":[6.811515808105469],\"z\":[-1.3153260946273804],\"type\":\"scatter3d\"},{\"marker\":{\"color\":\"#D6D6D6\",\"line\":{\"color\":\"black\",\"width\":1},\"size\":10,\"symbol\":\"circle\"},\"mode\":\"markers+text\",\"name\":\"203780203_2\",\"text\":\"left\",\"textposition\":\"top center\",\"x\":[7.041428565979004],\"y\":[6.700042247772217],\"z\":[4.04899787902832],\"type\":\"scatter3d\"},{\"marker\":{\"color\":\"#D6D6D6\",\"line\":{\"color\":\"black\",\"width\":1},\"size\":10,\"symbol\":\"diamond\"},\"mode\":\"markers+text\",\"name\":\"203780203_3\",\"text\":\"forward\",\"textposition\":\"top center\",\"x\":[6.122348785400391],\"y\":[6.889871597290039],\"z\":[9.373027801513672],\"type\":\"scatter3d\"},{\"marker\":{\"color\":\"#FAE2DB\",\"line\":{\"color\":\"black\",\"width\":1},\"size\":10,\"symbol\":\"square\"},\"mode\":\"markers+text\",\"name\":\"203780203_4\",\"text\":\"front\",\"textposition\":\"top center\",\"x\":[6.0283918380737305],\"y\":[6.260146617889404],\"z\":[3.461430788040161],\"type\":\"scatter3d\"},{\"marker\":{\"color\":\"#D6D6D6\",\"line\":{\"color\":\"black\",\"width\":1},\"size\":10,\"symbol\":\"diamond\"},\"mode\":\"markers+text\",\"name\":\"203780203_5\",\"text\":\"forward\",\"textposition\":\"top center\",\"x\":[5.07688045501709],\"y\":[6.299546241760254],\"z\":[9.669698715209961],\"type\":\"scatter3d\"},{\"marker\":{\"color\":\"#FAE2DB\",\"line\":{\"color\":\"black\",\"width\":1},\"size\":10,\"symbol\":\"square\"},\"mode\":\"markers+text\",\"name\":\"203780203_6\",\"text\":\"front\",\"textposition\":\"top center\",\"x\":[2.4618332386016846],\"y\":[3.7485861778259277],\"z\":[3.54341721534729],\"type\":\"scatter3d\"},{\"marker\":{\"color\":\"#535865\",\"line\":{\"color\":\"black\",\"width\":1},\"size\":10,\"symbol\":\"square\"},\"mode\":\"markers+text\",\"name\":\"203_1\",\"text\":\"right\",\"textposition\":\"top center\",\"x\":[4.852938652038574],\"y\":[6.481432914733887],\"z\":[-2.3282580375671387],\"type\":\"scatter3d\"},{\"marker\":{\"color\":\"#D6D6D6\",\"line\":{\"color\":\"black\",\"width\":1},\"size\":10,\"symbol\":\"circle\"},\"mode\":\"markers+text\",\"name\":\"203_2\",\"text\":\"left\",\"textposition\":\"top center\",\"x\":[7.3788251876831055],\"y\":[6.645407199859619],\"z\":[4.256202220916748],\"type\":\"scatter3d\"},{\"marker\":{\"color\":\"#D6D6D6\",\"line\":{\"color\":\"black\",\"width\":1},\"size\":10,\"symbol\":\"diamond\"},\"mode\":\"markers+text\",\"name\":\"203_3\",\"text\":\"forward\",\"textposition\":\"top center\",\"x\":[3.695878028869629],\"y\":[5.298240661621094],\"z\":[7.953392028808594],\"type\":\"scatter3d\"},{\"marker\":{\"color\":\"#FAE2DB\",\"line\":{\"color\":\"black\",\"width\":1},\"size\":10,\"symbol\":\"square\"},\"mode\":\"markers+text\",\"name\":\"203_4\",\"text\":\"front\",\"textposition\":\"top center\",\"x\":[6.514040946960449],\"y\":[6.613178253173828],\"z\":[3.312793731689453],\"type\":\"scatter3d\"},{\"marker\":{\"color\":\"#D6D6D6\",\"line\":{\"color\":\"black\",\"width\":1},\"size\":10,\"symbol\":\"diamond\"},\"mode\":\"markers+text\",\"name\":\"203_5\",\"text\":\"forward\",\"textposition\":\"top center\",\"x\":[-3.7753729820251465],\"y\":[-1.4661338329315186],\"z\":[1.249366044998169],\"type\":\"scatter3d\"},{\"marker\":{\"color\":\"#535865\",\"line\":{\"color\":\"black\",\"width\":1},\"size\":10,\"symbol\":\"square\"},\"mode\":\"markers+text\",\"name\":\"203_6\",\"text\":\"front\",\"textposition\":\"top center\",\"x\":[1.4379544258117676],\"y\":[-2.6720268726348877],\"z\":[4.459975242614746],\"type\":\"scatter3d\"},{\"marker\":{\"color\":\"#535865\",\"line\":{\"color\":\"black\",\"width\":1},\"size\":10,\"symbol\":\"square\"},\"mode\":\"markers+text\",\"name\":\"203_7\",\"text\":\"right\",\"textposition\":\"top center\",\"x\":[4.5897955894470215],\"y\":[4.7980828285217285],\"z\":[-2.4638307094573975],\"type\":\"scatter3d\"},{\"marker\":{\"color\":\"#D6D6D6\",\"line\":{\"color\":\"black\",\"width\":1},\"size\":10,\"symbol\":\"circle\"},\"mode\":\"markers+text\",\"name\":\"203_8\",\"text\":\"left\",\"textposition\":\"top center\",\"x\":[5.544070243835449],\"y\":[6.2168450355529785],\"z\":[2.5467402935028076],\"type\":\"scatter3d\"},{\"marker\":{\"color\":\"#D6D6D6\",\"line\":{\"color\":\"black\",\"width\":1},\"size\":10,\"symbol\":\"diamond\"},\"mode\":\"markers+text\",\"name\":\"203_9\",\"text\":\"forward\",\"textposition\":\"top center\",\"x\":[5.5949811935424805],\"y\":[6.645148277282715],\"z\":[9.431530952453613],\"type\":\"scatter3d\"},{\"marker\":{\"color\":\"#FAE2DB\",\"line\":{\"color\":\"black\",\"width\":1},\"size\":10,\"symbol\":\"square\"},\"mode\":\"markers+text\",\"name\":\"203_10\",\"text\":\"front\",\"textposition\":\"top center\",\"x\":[5.285243034362793],\"y\":[6.002948760986328],\"z\":[3.9492220878601074],\"type\":\"scatter3d\"},{\"marker\":{\"color\":\"#D6D6D6\",\"line\":{\"color\":\"black\",\"width\":1},\"size\":10,\"symbol\":\"diamond\"},\"mode\":\"markers+text\",\"name\":\"203_11\",\"text\":\"forward\",\"textposition\":\"top center\",\"x\":[5.618851661682129],\"y\":[6.290582180023193],\"z\":[9.830342292785645],\"type\":\"scatter3d\"},{\"marker\":{\"color\":\"#FAE2DB\",\"line\":{\"color\":\"black\",\"width\":1},\"size\":10,\"symbol\":\"square\"},\"mode\":\"markers+text\",\"name\":\"203_12\",\"text\":\"front\",\"textposition\":\"top center\",\"x\":[-2.1361513137817383],\"y\":[-0.7504686117172241],\"z\":[1.4014770984649658],\"type\":\"scatter3d\"},{\"marker\":{\"color\":\"#535865\",\"line\":{\"color\":\"black\",\"width\":1},\"size\":10,\"symbol\":\"square\"},\"mode\":\"markers+text\",\"name\":\"10203_1\",\"text\":\"right\",\"textposition\":\"top center\",\"x\":[4.840054512023926],\"y\":[6.703150749206543],\"z\":[-2.3519058227539062],\"type\":\"scatter3d\"},{\"marker\":{\"color\":\"#D6D6D6\",\"line\":{\"color\":\"black\",\"width\":1},\"size\":10,\"symbol\":\"circle\"},\"mode\":\"markers+text\",\"name\":\"10203_2\",\"text\":\"left\",\"textposition\":\"top center\",\"x\":[7.760677337646484],\"y\":[7.218855857849121],\"z\":[4.622300624847412],\"type\":\"scatter3d\"},{\"marker\":{\"color\":\"#D6D6D6\",\"line\":{\"color\":\"black\",\"width\":1},\"size\":10,\"symbol\":\"diamond\"},\"mode\":\"markers+text\",\"name\":\"10203_3\",\"text\":\"forward\",\"textposition\":\"top center\",\"x\":[3.6394433975219727],\"y\":[5.495262145996094],\"z\":[7.779664993286133],\"type\":\"scatter3d\"},{\"marker\":{\"color\":\"#FAE2DB\",\"line\":{\"color\":\"black\",\"width\":1},\"size\":10,\"symbol\":\"square\"},\"mode\":\"markers+text\",\"name\":\"10203_4\",\"text\":\"front\",\"textposition\":\"top center\",\"x\":[6.672549247741699],\"y\":[6.8705902099609375],\"z\":[3.504269599914551],\"type\":\"scatter3d\"},{\"marker\":{\"color\":\"#D6D6D6\",\"line\":{\"color\":\"black\",\"width\":1},\"size\":10,\"symbol\":\"diamond\"},\"mode\":\"markers+text\",\"name\":\"10203_5\",\"text\":\"forward\",\"textposition\":\"top center\",\"x\":[-3.564134120941162],\"y\":[-1.120229721069336],\"z\":[1.7717851400375366],\"type\":\"scatter3d\"},{\"marker\":{\"color\":\"#535865\",\"line\":{\"color\":\"black\",\"width\":1},\"size\":10,\"symbol\":\"square\"},\"mode\":\"markers+text\",\"name\":\"10203_6\",\"text\":\"front\",\"textposition\":\"top center\",\"x\":[1.769926905632019],\"y\":[-2.295461654663086],\"z\":[4.804882049560547],\"type\":\"scatter3d\"},{\"marker\":{\"color\":\"#535865\",\"line\":{\"color\":\"black\",\"width\":1},\"size\":10,\"symbol\":\"square\"},\"mode\":\"markers+text\",\"name\":\"10203_7\",\"text\":\"right\",\"textposition\":\"top center\",\"x\":[4.704522609710693],\"y\":[5.371389389038086],\"z\":[-2.488847255706787],\"type\":\"scatter3d\"},{\"marker\":{\"color\":\"#D6D6D6\",\"line\":{\"color\":\"black\",\"width\":1},\"size\":10,\"symbol\":\"circle\"},\"mode\":\"markers+text\",\"name\":\"10203_8\",\"text\":\"left\",\"textposition\":\"top center\",\"x\":[5.671462059020996],\"y\":[6.489798069000244],\"z\":[2.7438392639160156],\"type\":\"scatter3d\"},{\"marker\":{\"color\":\"#D6D6D6\",\"line\":{\"color\":\"black\",\"width\":1},\"size\":10,\"symbol\":\"diamond\"},\"mode\":\"markers+text\",\"name\":\"10203_9\",\"text\":\"forward\",\"textposition\":\"top center\",\"x\":[5.768130302429199],\"y\":[6.825963973999023],\"z\":[9.473095893859863],\"type\":\"scatter3d\"},{\"marker\":{\"color\":\"#FAE2DB\",\"line\":{\"color\":\"black\",\"width\":1},\"size\":10,\"symbol\":\"square\"},\"mode\":\"markers+text\",\"name\":\"10203_10\",\"text\":\"front\",\"textposition\":\"top center\",\"x\":[5.527193069458008],\"y\":[6.268722057342529],\"z\":[4.061774253845215],\"type\":\"scatter3d\"},{\"marker\":{\"color\":\"#D6D6D6\",\"line\":{\"color\":\"black\",\"width\":1},\"size\":10,\"symbol\":\"diamond\"},\"mode\":\"markers+text\",\"name\":\"10203_11\",\"text\":\"forward\",\"textposition\":\"top center\",\"x\":[5.732102394104004],\"y\":[6.707590103149414],\"z\":[9.736270904541016],\"type\":\"scatter3d\"},{\"marker\":{\"color\":\"#FAE2DB\",\"line\":{\"color\":\"black\",\"width\":1},\"size\":10,\"symbol\":\"square\"},\"mode\":\"markers+text\",\"name\":\"10203_12\",\"text\":\"front\",\"textposition\":\"top center\",\"x\":[-1.8329691886901855],\"y\":[-0.12456214427947998],\"z\":[1.6683213710784912],\"type\":\"scatter3d\"}],                        {\"template\":{\"data\":{\"histogram2dcontour\":[{\"type\":\"histogram2dcontour\",\"colorbar\":{\"outlinewidth\":0,\"ticks\":\"\"},\"colorscale\":[[0.0,\"#0d0887\"],[0.1111111111111111,\"#46039f\"],[0.2222222222222222,\"#7201a8\"],[0.3333333333333333,\"#9c179e\"],[0.4444444444444444,\"#bd3786\"],[0.5555555555555556,\"#d8576b\"],[0.6666666666666666,\"#ed7953\"],[0.7777777777777778,\"#fb9f3a\"],[0.8888888888888888,\"#fdca26\"],[1.0,\"#f0f921\"]]}],\"choropleth\":[{\"type\":\"choropleth\",\"colorbar\":{\"outlinewidth\":0,\"ticks\":\"\"}}],\"histogram2d\":[{\"type\":\"histogram2d\",\"colorbar\":{\"outlinewidth\":0,\"ticks\":\"\"},\"colorscale\":[[0.0,\"#0d0887\"],[0.1111111111111111,\"#46039f\"],[0.2222222222222222,\"#7201a8\"],[0.3333333333333333,\"#9c179e\"],[0.4444444444444444,\"#bd3786\"],[0.5555555555555556,\"#d8576b\"],[0.6666666666666666,\"#ed7953\"],[0.7777777777777778,\"#fb9f3a\"],[0.8888888888888888,\"#fdca26\"],[1.0,\"#f0f921\"]]}],\"heatmap\":[{\"type\":\"heatmap\",\"colorbar\":{\"outlinewidth\":0,\"ticks\":\"\"},\"colorscale\":[[0.0,\"#0d0887\"],[0.1111111111111111,\"#46039f\"],[0.2222222222222222,\"#7201a8\"],[0.3333333333333333,\"#9c179e\"],[0.4444444444444444,\"#bd3786\"],[0.5555555555555556,\"#d8576b\"],[0.6666666666666666,\"#ed7953\"],[0.7777777777777778,\"#fb9f3a\"],[0.8888888888888888,\"#fdca26\"],[1.0,\"#f0f921\"]]}],\"heatmapgl\":[{\"type\":\"heatmapgl\",\"colorbar\":{\"outlinewidth\":0,\"ticks\":\"\"},\"colorscale\":[[0.0,\"#0d0887\"],[0.1111111111111111,\"#46039f\"],[0.2222222222222222,\"#7201a8\"],[0.3333333333333333,\"#9c179e\"],[0.4444444444444444,\"#bd3786\"],[0.5555555555555556,\"#d8576b\"],[0.6666666666666666,\"#ed7953\"],[0.7777777777777778,\"#fb9f3a\"],[0.8888888888888888,\"#fdca26\"],[1.0,\"#f0f921\"]]}],\"contourcarpet\":[{\"type\":\"contourcarpet\",\"colorbar\":{\"outlinewidth\":0,\"ticks\":\"\"}}],\"contour\":[{\"type\":\"contour\",\"colorbar\":{\"outlinewidth\":0,\"ticks\":\"\"},\"colorscale\":[[0.0,\"#0d0887\"],[0.1111111111111111,\"#46039f\"],[0.2222222222222222,\"#7201a8\"],[0.3333333333333333,\"#9c179e\"],[0.4444444444444444,\"#bd3786\"],[0.5555555555555556,\"#d8576b\"],[0.6666666666666666,\"#ed7953\"],[0.7777777777777778,\"#fb9f3a\"],[0.8888888888888888,\"#fdca26\"],[1.0,\"#f0f921\"]]}],\"surface\":[{\"type\":\"surface\",\"colorbar\":{\"outlinewidth\":0,\"ticks\":\"\"},\"colorscale\":[[0.0,\"#0d0887\"],[0.1111111111111111,\"#46039f\"],[0.2222222222222222,\"#7201a8\"],[0.3333333333333333,\"#9c179e\"],[0.4444444444444444,\"#bd3786\"],[0.5555555555555556,\"#d8576b\"],[0.6666666666666666,\"#ed7953\"],[0.7777777777777778,\"#fb9f3a\"],[0.8888888888888888,\"#fdca26\"],[1.0,\"#f0f921\"]]}],\"mesh3d\":[{\"type\":\"mesh3d\",\"colorbar\":{\"outlinewidth\":0,\"ticks\":\"\"}}],\"scatter\":[{\"fillpattern\":{\"fillmode\":\"overlay\",\"size\":10,\"solidity\":0.2},\"type\":\"scatter\"}],\"parcoords\":[{\"type\":\"parcoords\",\"line\":{\"colorbar\":{\"outlinewidth\":0,\"ticks\":\"\"}}}],\"scatterpolargl\":[{\"type\":\"scatterpolargl\",\"marker\":{\"colorbar\":{\"outlinewidth\":0,\"ticks\":\"\"}}}],\"bar\":[{\"error_x\":{\"color\":\"#2a3f5f\"},\"error_y\":{\"color\":\"#2a3f5f\"},\"marker\":{\"line\":{\"color\":\"#E5ECF6\",\"width\":0.5},\"pattern\":{\"fillmode\":\"overlay\",\"size\":10,\"solidity\":0.2}},\"type\":\"bar\"}],\"scattergeo\":[{\"type\":\"scattergeo\",\"marker\":{\"colorbar\":{\"outlinewidth\":0,\"ticks\":\"\"}}}],\"scatterpolar\":[{\"type\":\"scatterpolar\",\"marker\":{\"colorbar\":{\"outlinewidth\":0,\"ticks\":\"\"}}}],\"histogram\":[{\"marker\":{\"pattern\":{\"fillmode\":\"overlay\",\"size\":10,\"solidity\":0.2}},\"type\":\"histogram\"}],\"scattergl\":[{\"type\":\"scattergl\",\"marker\":{\"colorbar\":{\"outlinewidth\":0,\"ticks\":\"\"}}}],\"scatter3d\":[{\"type\":\"scatter3d\",\"line\":{\"colorbar\":{\"outlinewidth\":0,\"ticks\":\"\"}},\"marker\":{\"colorbar\":{\"outlinewidth\":0,\"ticks\":\"\"}}}],\"scattermapbox\":[{\"type\":\"scattermapbox\",\"marker\":{\"colorbar\":{\"outlinewidth\":0,\"ticks\":\"\"}}}],\"scatterternary\":[{\"type\":\"scatterternary\",\"marker\":{\"colorbar\":{\"outlinewidth\":0,\"ticks\":\"\"}}}],\"scattercarpet\":[{\"type\":\"scattercarpet\",\"marker\":{\"colorbar\":{\"outlinewidth\":0,\"ticks\":\"\"}}}],\"carpet\":[{\"aaxis\":{\"endlinecolor\":\"#2a3f5f\",\"gridcolor\":\"white\",\"linecolor\":\"white\",\"minorgridcolor\":\"white\",\"startlinecolor\":\"#2a3f5f\"},\"baxis\":{\"endlinecolor\":\"#2a3f5f\",\"gridcolor\":\"white\",\"linecolor\":\"white\",\"minorgridcolor\":\"white\",\"startlinecolor\":\"#2a3f5f\"},\"type\":\"carpet\"}],\"table\":[{\"cells\":{\"fill\":{\"color\":\"#EBF0F8\"},\"line\":{\"color\":\"white\"}},\"header\":{\"fill\":{\"color\":\"#C8D4E3\"},\"line\":{\"color\":\"white\"}},\"type\":\"table\"}],\"barpolar\":[{\"marker\":{\"line\":{\"color\":\"#E5ECF6\",\"width\":0.5},\"pattern\":{\"fillmode\":\"overlay\",\"size\":10,\"solidity\":0.2}},\"type\":\"barpolar\"}],\"pie\":[{\"automargin\":true,\"type\":\"pie\"}]},\"layout\":{\"autotypenumbers\":\"strict\",\"colorway\":[\"#636efa\",\"#EF553B\",\"#00cc96\",\"#ab63fa\",\"#FFA15A\",\"#19d3f3\",\"#FF6692\",\"#B6E880\",\"#FF97FF\",\"#FECB52\"],\"font\":{\"color\":\"#2a3f5f\"},\"hovermode\":\"closest\",\"hoverlabel\":{\"align\":\"left\"},\"paper_bgcolor\":\"white\",\"plot_bgcolor\":\"#E5ECF6\",\"polar\":{\"bgcolor\":\"#E5ECF6\",\"angularaxis\":{\"gridcolor\":\"white\",\"linecolor\":\"white\",\"ticks\":\"\"},\"radialaxis\":{\"gridcolor\":\"white\",\"linecolor\":\"white\",\"ticks\":\"\"}},\"ternary\":{\"bgcolor\":\"#E5ECF6\",\"aaxis\":{\"gridcolor\":\"white\",\"linecolor\":\"white\",\"ticks\":\"\"},\"baxis\":{\"gridcolor\":\"white\",\"linecolor\":\"white\",\"ticks\":\"\"},\"caxis\":{\"gridcolor\":\"white\",\"linecolor\":\"white\",\"ticks\":\"\"}},\"coloraxis\":{\"colorbar\":{\"outlinewidth\":0,\"ticks\":\"\"}},\"colorscale\":{\"sequential\":[[0.0,\"#0d0887\"],[0.1111111111111111,\"#46039f\"],[0.2222222222222222,\"#7201a8\"],[0.3333333333333333,\"#9c179e\"],[0.4444444444444444,\"#bd3786\"],[0.5555555555555556,\"#d8576b\"],[0.6666666666666666,\"#ed7953\"],[0.7777777777777778,\"#fb9f3a\"],[0.8888888888888888,\"#fdca26\"],[1.0,\"#f0f921\"]],\"sequentialminus\":[[0.0,\"#0d0887\"],[0.1111111111111111,\"#46039f\"],[0.2222222222222222,\"#7201a8\"],[0.3333333333333333,\"#9c179e\"],[0.4444444444444444,\"#bd3786\"],[0.5555555555555556,\"#d8576b\"],[0.6666666666666666,\"#ed7953\"],[0.7777777777777778,\"#fb9f3a\"],[0.8888888888888888,\"#fdca26\"],[1.0,\"#f0f921\"]],\"diverging\":[[0,\"#8e0152\"],[0.1,\"#c51b7d\"],[0.2,\"#de77ae\"],[0.3,\"#f1b6da\"],[0.4,\"#fde0ef\"],[0.5,\"#f7f7f7\"],[0.6,\"#e6f5d0\"],[0.7,\"#b8e186\"],[0.8,\"#7fbc41\"],[0.9,\"#4d9221\"],[1,\"#276419\"]]},\"xaxis\":{\"gridcolor\":\"white\",\"linecolor\":\"white\",\"ticks\":\"\",\"title\":{\"standoff\":15},\"zerolinecolor\":\"white\",\"automargin\":true,\"zerolinewidth\":2},\"yaxis\":{\"gridcolor\":\"white\",\"linecolor\":\"white\",\"ticks\":\"\",\"title\":{\"standoff\":15},\"zerolinecolor\":\"white\",\"automargin\":true,\"zerolinewidth\":2},\"scene\":{\"xaxis\":{\"backgroundcolor\":\"#E5ECF6\",\"gridcolor\":\"white\",\"linecolor\":\"white\",\"showbackground\":true,\"ticks\":\"\",\"zerolinecolor\":\"white\",\"gridwidth\":2},\"yaxis\":{\"backgroundcolor\":\"#E5ECF6\",\"gridcolor\":\"white\",\"linecolor\":\"white\",\"showbackground\":true,\"ticks\":\"\",\"zerolinecolor\":\"white\",\"gridwidth\":2},\"zaxis\":{\"backgroundcolor\":\"#E5ECF6\",\"gridcolor\":\"white\",\"linecolor\":\"white\",\"showbackground\":true,\"ticks\":\"\",\"zerolinecolor\":\"white\",\"gridwidth\":2}},\"shapedefaults\":{\"line\":{\"color\":\"#2a3f5f\"}},\"annotationdefaults\":{\"arrowcolor\":\"#2a3f5f\",\"arrowhead\":0,\"arrowwidth\":1},\"geo\":{\"bgcolor\":\"white\",\"landcolor\":\"#E5ECF6\",\"subunitcolor\":\"white\",\"showland\":true,\"showlakes\":true,\"lakecolor\":\"white\"},\"title\":{\"x\":0.05},\"mapbox\":{\"style\":\"light\"}}},\"width\":900,\"height\":700,\"scene\":{\"xaxis\":{\"title\":{\"text\":\"X\"}},\"yaxis\":{\"title\":{\"text\":\"Y\"}},\"zaxis\":{\"title\":{\"text\":\"Z\"}}}},                        {\"toImageButtonOptions\": {\"format\": \"svg\"}, \"responsive\": true}                    ).then(function(){\n",
       "                            \n",
       "var gd = document.getElementById('cc80e894-0e41-49f5-bbb5-96af7507564e');\n",
       "var x = new MutationObserver(function (mutations, observer) {{\n",
       "        var display = window.getComputedStyle(gd).display;\n",
       "        if (!display || display === 'none') {{\n",
       "            console.log([gd, 'removed!']);\n",
       "            Plotly.purge(gd);\n",
       "            observer.disconnect();\n",
       "        }}\n",
       "}});\n",
       "\n",
       "// Listen for the removal of the full notebook cells\n",
       "var notebookContainer = gd.closest('#notebook-container');\n",
       "if (notebookContainer) {{\n",
       "    x.observe(notebookContainer, {childList: true});\n",
       "}}\n",
       "\n",
       "// Listen for the clearing of the current output cell\n",
       "var outputEl = gd.closest('.output');\n",
       "if (outputEl) {{\n",
       "    x.observe(outputEl, {childList: true});\n",
       "}}\n",
       "\n",
       "                        })                };                });            </script>        </div>"
      ]
     },
     "metadata": {},
     "output_type": "display_data"
    }
   ],
   "source": [
    "group_axes = {\n",
    "    \"direction_forward\": [0, 1, 2, 3],      # Tokens : forward, front_empty, front_wall\n",
    "    \"direction_left\": [4, 5, 8],      # left_empty, left_wall, turn_left, turn_left (duplicated)\n",
    "    \"direction_right\": [6, 7, 10],   # right_empty, right_wall, turn_right, turn_right\n",
    "    \"move\": [0, 8, 10],             # forward, turn_left, turn_right\n",
    "    \"feel_wall\": [3, 5, 7],         # bump, front_wall, left_wall, right_wall\n",
    "    \"feel_empty\": [2, 4, 6],\n",
    "}\n",
    "# sequences = [[2, 0, 3, 7, 8, 0, 2, 0, 3], [2, 0, 3]]\n",
    "# tgt_sequences = [[7, 8, 0, 2, 0, 2], [7, 8, 0, 2, 0, 3, 7, 8, 0, 2, 0, 2]]\n",
    "sequences = [[2, 0, 3, 7, 8, 0, 2, 0, 3], [2, 0, 3], [10, 2, 0, 3]]\n",
    "tgt_sequences = [[7, 8, 0, 2, 0, 2], [7, 8, 0, 2, 0, 3, 7, 8, 0, 2, 0, 2], [7, 8, 0, 2, 0, 3, 7, 8, 0, 2, 0, 2]]\n",
    "# sequences = [[0, 2, 0, 2, 0, 3], [7, 8, 0, 2, 0, 3], [2, 0, 3, 7, 8, 0, 2, 0, 3], [2, 0, 3], [10, 2, 0, 3], [7, 8, 0, 2, 0, 3, 7, 8, 0, 2, 0, 2], [7, 8, 0, 2, 0, 3], [2, 0, 3, 7, 8, 0, 2, 0, 3]]\n",
    "# tgt_sequences = [[7, 8, 0, 2, 0, 3], [7, 8, 0, 2, 0, 2], [7, 8, 0, 2, 0, 2], [7, 8, 0, 2, 0, 3, 7, 8, 0, 2, 0, 2], [7, 8, 0, 2, 0, 3, 7, 8, 0, 2, 0, 2], [0, 3], [7, 8, 0, 2, 0, 2, 0, 3], [7, 8, 0, 2, 0, 2, 0, 3]]\n",
    "# sequences = [[0, 2, 0, 2, 0, 3], [7, 8, 0, 2, 0, 3], [7], [3, 7], [8, 0, 2, 0, 3, 7, 8, 0, 3], [8, 0, 2, 0, 3], [7, 8, 0, 2, 0, 3], [8, 0, 2, 0, 3, 7, 8, 0, 3], [10, 2, 0, 3], [10], [5, 10], [7, 8, 0, 2, 0, 3], [2, 0, 3, 7, 8, 0, 2, 0, 3], [2, 0, 3], [10, 2, 0, 3], [7, 8, 0, 2, 0, 3, 7, 8, 0, 2, 0, 2], [7, 8, 0, 2, 0, 3], [2, 0, 3, 7, 8, 0, 2, 0, 3]]\n",
    "# tgt_sequences = [[7, 8, 0, 2, 0, 3], [7, 8, 0, 3], [8, 0, 2, 0, 3, 7, 8, 0, 3], [8, 0, 2, 0, 3, 7, 8, 0, 3], [6], [7, 8, 0, 3, 6], [7, 8, 0, 3, 6], [6, 5], [7, 8, 0, 2, 0, 3], [2, 0, 3, 7, 8, 0, 2, 0, 3], [2, 0, 3, 7, 8, 0, 2, 0, 3], [7, 8, 0, 2, 0, 2], [7, 8, 0, 2, 0, 2], [7, 8, 0, 2, 0, 3, 7, 8, 0, 2, 0, 2], [7, 8, 0, 2, 0, 3, 7, 8, 0, 2, 0, 2], [0, 3], [7, 8, 0, 2, 0, 2, 0, 3], [7, 8, 0, 2, 0, 2, 0, 3]]\n",
    "\n",
    "label_seq = [''.join(str(nombre) for nombre in sous_liste) for sous_liste in sequences]\n",
    "\n",
    "embedding_weight, all_labels, all_tokens = visualize_decoder_outputs(model, sequences, tgt_sequences, label_seq)\n",
    "projected = project_embeddings_to_3D(model, embedding_weight, group_axes)\n",
    "plotly_embedding(projected, all_labels, all_tokens)"
   ]
  },
  {
   "cell_type": "markdown",
   "id": "8bd46317-cea5-4d46-b51e-6b76b27bd8dc",
   "metadata": {},
   "source": [
    "Pour chaque séquence d'entrée , on voit la position des différents tokens générés. \n",
    "\n",
    "Les tokens \"turn left\" et \"feel empty\" sont regroupés peut etre parce qu'ils sont souvent suivis par \"forward\"."
   ]
  },
  {
   "cell_type": "markdown",
   "id": "e8d0da3f-2368-4464-ae1b-f3ef6b7c4295",
   "metadata": {},
   "source": [
    "![Decoder output](img/decoder_output.svg)\n",
    "\n",
    "_Figure 1: decodeur output._ \n",
    "\n",
    "Les interacitons `feel front empty` et `turn left` sont regroupées probablement parce qu'elle jouent le meme role dans le foit qu'elles sont suvies par `move forward`\n",
    "\n",
    "Il y a deux cluseters d'interactions `forward`:  à gauche celles qui ne mènent pas à un angle, et gauche celles qui mènent à un angle dans le même séquence et qui sont suivies par `feel front wall` et `feel right wall`."
   ]
  },
  {
   "cell_type": "markdown",
   "id": "87a2a806-474f-457c-a64e-0a8d369df8cb",
   "metadata": {},
   "source": [
    "# Analyse\n",
    "\n",
    "Il serait intéressant d'utiliser des techniques de \"subspace clustering\" https://chatgpt.com/share/681bba44-200c-8012-bf8f-5f1ca85077f5"
   ]
  },
  {
   "cell_type": "code",
   "execution_count": null,
   "id": "5c4c3699-4042-4d8d-b174-05312efbf120",
   "metadata": {},
   "outputs": [],
   "source": []
  }
 ],
 "metadata": {
  "kernelspec": {
   "display_name": "Python 3 (ipykernel)",
   "language": "python",
   "name": "python3"
  },
  "language_info": {
   "codemirror_mode": {
    "name": "ipython",
    "version": 3
   },
   "file_extension": ".py",
   "mimetype": "text/x-python",
   "name": "python",
   "nbconvert_exporter": "python",
   "pygments_lexer": "ipython3",
   "version": "3.9.5"
  }
 },
 "nbformat": 4,
 "nbformat_minor": 5
}
