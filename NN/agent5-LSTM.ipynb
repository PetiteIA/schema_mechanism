{
 "cells": [
  {
   "cell_type": "markdown",
   "id": "23f34084-d4b8-4160-89ad-a927a0919615",
   "metadata": {},
   "source": [
    "[![Open In Colab](https://colab.research.google.com/assets/colab-badge.svg)](https://colab.research.google.com/github/PetiteIA/schema_mechanism/blob/master/notebooks/agent5-DNN.ipynb)"
   ]
  },
  {
   "cell_type": "markdown",
   "id": "0bec58b3-e210-4a78-9610-f6615254de29",
   "metadata": {},
   "source": [
    "# UTILISATION D'UNE LSTM POUR GENERER UNE SEQUENCE DE DEUX INTERACTIONS"
   ]
  },
  {
   "cell_type": "markdown",
   "id": "4f079acd-1557-4e30-bf85-7432f730d1dc",
   "metadata": {},
   "source": [
    "Ce notrebook présente notre troisième agent dotté d'un LSTM. \n",
    "Nous définissons l'embedding des interaction dans la class Interaction: une dimension pour l'action et une dimension pour l'outcome.\n"
   ]
  },
  {
   "cell_type": "markdown",
   "id": "64a16db8-1bd6-4e82-9cf6-2b37d996ffe8",
   "metadata": {},
   "source": [
    "# La classe Interaction"
   ]
  },
  {
   "cell_type": "markdown",
   "id": "44155c4a-d038-40b3-be33-e8cf77c5f976",
   "metadata": {},
   "source": [
    "On définit l'embedding de chaque interaction."
   ]
  },
  {
   "cell_type": "code",
   "execution_count": 53,
   "id": "e96c3637-4161-49aa-9f1d-0d3342de92d4",
   "metadata": {},
   "outputs": [],
   "source": [
    "BASE_ACTION = 2 \n",
    "class Interaction:\n",
    "    \"\"\"An interaction is a tuple (action, outcome) with a valence\"\"\"\n",
    "    def __init__(self, action, outcome, valence):\n",
    "        self.action = action\n",
    "        self.outcome = outcome\n",
    "        self.valence = valence\n",
    "\n",
    "    def key(self):\n",
    "        \"\"\" The key to find this interaction in the dictinary. \"\"\"\n",
    "        return self.action * BASE_ACTION + self.outcome \n",
    "        # return f\"{self.action}{self.outcome}\"\n",
    "\n",
    "    def __str__(self):\n",
    "        \"\"\" Print interaction in the form '<action><outcome:<valence>' for debug.\"\"\"\n",
    "        return f\"{self.action}{self.outcome}:{self.valence}\"\n",
    "\n",
    "    def __eq__(self, other):\n",
    "        \"\"\" Interactions are equal if they have the same key \"\"\"\n",
    "        return self.key() == other.key()\n",
    "\n",
    "    def embedding(self):\n",
    "        \"\"\"return a list used as the embedding of this interaction\"\"\"\n",
    "        return [self.action, self.outcome]"
   ]
  },
  {
   "cell_type": "markdown",
   "id": "2419c260-d706-48a5-9b20-c1eab5f6d1ee",
   "metadata": {},
   "source": [
    "On définit les actions et les outcome chacun dans l'intervalle [0, 1] car c'est sans doute préférable quand on les utilise comme embedding"
   ]
  },
  {
   "cell_type": "code",
   "execution_count": 338,
   "id": "030c5a8f-d671-444a-9e15-bff7f84974d3",
   "metadata": {},
   "outputs": [],
   "source": [
    "ACTION0 = 0\n",
    "ACTION1 = 1\n",
    "OUTCOME0 = 0\n",
    "OUTCOME1 = 1"
   ]
  },
  {
   "cell_type": "markdown",
   "id": "bfc0841b-61bd-4809-b733-812bbfb9cec6",
   "metadata": {},
   "source": [
    "# L'environnement"
   ]
  },
  {
   "cell_type": "markdown",
   "id": "81c0fd77-e435-4791-adbf-0e41255e931f",
   "metadata": {},
   "source": [
    "L'agent a deux actions possibles: aller à droite ou aller à gauche.\n",
    "\n",
    "L'environnement renvoie 1 la première fois que l'agent se cogne dans le mur qui est vert clair, et le mur devient vert foncé. \n",
    "Tant que le mur est vert foncé, l'environnement renvoie 0 jusqu'a ce que le l'agent s'éloigne et le mur redevient vert clair. "
   ]
  },
  {
   "cell_type": "code",
   "execution_count": 433,
   "id": "84bad631-aa81-4c22-b335-f7ab8e668408",
   "metadata": {
    "jupyter": {
     "source_hidden": true
    }
   },
   "outputs": [],
   "source": [
    "import numpy as np\n",
    "import matplotlib.pyplot as plt\n",
    "from ipywidgets import Output\n",
    "from IPython.display import display\n",
    "\n",
    "GREEN = 1\n",
    "DARK = 2\n",
    "\n",
    "class Environment6:\n",
    "    \"\"\" The grid \"\"\"\n",
    "    def __init__(self):\n",
    "        \"\"\" Initialize the grid \"\"\"\n",
    "        self.grid = np.array([[1, 0, 0, 1]])\n",
    "        self.position = 1\n",
    "\n",
    "    def outcome(self, _action):\n",
    "        \"\"\"Take the action and generate the next outcome \"\"\"\n",
    "        if _action == ACTION0:\n",
    "            # Move left\n",
    "            if self.position > 1:\n",
    "                # No bump\n",
    "                self.position -= 1\n",
    "                self.grid[0, 3] = GREEN\n",
    "                _outcome = OUTCOME0\n",
    "            elif self.grid[0, 0] == GREEN:\n",
    "                # First bump\n",
    "                _outcome = OUTCOME1\n",
    "                self.grid[0, 0] = DARK\n",
    "            else:\n",
    "                # Subsequent bumps\n",
    "                _outcome = OUTCOME0\n",
    "        else:\n",
    "            # Move right\n",
    "            if self.position < 2:\n",
    "                # No bump\n",
    "                self.position += 1\n",
    "                self.grid[0, 0] = GREEN\n",
    "                _outcome = OUTCOME0\n",
    "            elif self.grid[0, 3] == GREEN:\n",
    "                # First bump\n",
    "                _outcome = OUTCOME1\n",
    "                self.grid[0, 3] = DARK\n",
    "            else:\n",
    "                # Subsequent bumps\n",
    "                _outcome = OUTCOME0\n",
    "        return _outcome\n",
    "        \n",
    "    def display(self):\n",
    "        \"\"\"Display the grid\"\"\"\n",
    "        out.clear_output(wait=True)\n",
    "        with out:\n",
    "            fig, ax = plt.subplots()\n",
    "            # Hide the ticks\n",
    "            ax.set_xticks([])\n",
    "            ax.set_yticks([])\n",
    "            # Display the grid\n",
    "            ax.imshow(self.grid, cmap='Greens', vmin=0, vmax=2)\n",
    "            plt.scatter(self.position, 0, s=1000)\n",
    "            plt.show()"
   ]
  },
  {
   "cell_type": "markdown",
   "id": "310417af-f0ed-44c2-b99c-9e374bd9eabf",
   "metadata": {},
   "source": [
    "# AGENT LSTM"
   ]
  },
  {
   "cell_type": "markdown",
   "id": "ef084288-168a-4a54-9934-5adf87e16a05",
   "metadata": {},
   "source": [
    "Implémentons l'Agent3 qui va prédire la probabilité des prochains tokens d'une séquence"
   ]
  },
  {
   "cell_type": "markdown",
   "id": "b87058ae-6a93-4936-9c25-ed71fc92a189",
   "metadata": {},
   "source": [
    "## Créons le modèle de LSTM"
   ]
  },
  {
   "cell_type": "markdown",
   "id": "172732f1-0462-427b-ac80-bb4469e23302",
   "metadata": {},
   "source": [
    "Le modèle a deux entrées: previous_interaction, last_interaction. "
   ]
  },
  {
   "cell_type": "code",
   "execution_count": 697,
   "id": "74196251-d38e-43bd-beba-3c97dc76f6c0",
   "metadata": {},
   "outputs": [],
   "source": [
    "import torch\n",
    "import torch.nn as nn\n",
    "\n",
    "class LSTM(nn.Module):\n",
    "    def __init__(self):\n",
    "        super(LSTM, self).__init__()\n",
    "        self.len_vocab = 4\n",
    "        self.num_layers = 1\n",
    "        self.hidden_size = 64\n",
    "\n",
    "        embedding_dim = 2  # self.len_vocab \n",
    "        # Create an embedding layer to convert token indices to dense vectors\n",
    "        # self.embedding = nn.Embedding(self.len_vocab, embedding_dim )\n",
    "        \n",
    "        # Define the LSTM layer\n",
    "        self.lstm = nn.LSTM(input_size=embedding_dim, hidden_size=self.hidden_size, num_layers=self.num_layers, batch_first=True) # , dropout=0.5)\n",
    "        \n",
    "        # Define the output fully connected layer\n",
    "        self.fc_out = nn.Linear(self.hidden_size, self.len_vocab)\n",
    "\n",
    "        self._optimizer = torch.optim.Adam(self.parameters(), lr=0.001, weight_decay=0.0001)\n",
    "        self._loss_func = nn.CrossEntropyLoss()\n",
    "\n",
    "        # Initialize the weights\n",
    "        # Embedding\n",
    "        # nn.init.constant_(self.embedding.weight, 0.5)  # Exemple : tous les poids à 0.5\n",
    "        # Initialisation manuelle des poids et biais du LSTM\n",
    "        for name, param in self.lstm.named_parameters():\n",
    "            if 'weight_ih' in name:\n",
    "                nn.init.xavier_uniform_(param)  # ou utilisez .copy_() pour valeurs fixes\n",
    "            elif 'weight_hh' in name:\n",
    "                nn.init.orthogonal_(param)\n",
    "            elif 'bias' in name:\n",
    "                nn.init.constant_(param, 0.0)\n",
    "        # Initialisation du fully connected\n",
    "        #nn.init.zeros_(self.fc_out.weight)\n",
    "        nn.init.constant_(self.fc_out.weight, 0.5)\n",
    "        nn.init.constant_(self.fc_out.bias, 0.1)\n",
    "    \n",
    "    def forward(self, input_seq, hidden_in, mem_in):\n",
    "        # Convert token indices to dense vectors\n",
    "        # input_embs = self.embedding(input_seq)\n",
    "        input_embs = input_seq.type(torch.float32)\n",
    "\n",
    "        # Pass the embeddings through the LSTM layer\n",
    "        output, (hidden_out, mem_out) = self.lstm(input_embs, (hidden_in, mem_in))\n",
    "                \n",
    "        # Pass the LSTM output through the fully connected layer to get the final output\n",
    "        return self.fc_out(output), hidden_out, mem_out\n",
    "\n",
    "    def fit(self, inputs, targets):\n",
    "\n",
    "        input_tensor = torch.tensor(inputs) # , dtype=torch.int)\n",
    "        # print(\"input tensor\", input_tensor)\n",
    "        labels = torch.tensor(targets)\n",
    "        # print(\"label tensor\", labels)\n",
    "        \n",
    "        # Loop through each epoch\n",
    "        for epoch in range(20):    \n",
    "            # Set model to training mode\n",
    "            self.train()\n",
    "            train_acc = 0\n",
    "    \n",
    "            # Initialize hidden and memory states\n",
    "            hidden = torch.zeros(self.num_layers, input_tensor.shape[0], self.hidden_size, device=\"cpu\")\n",
    "            memory = torch.zeros(self.num_layers, input_tensor.shape[0], self.hidden_size, device=\"cpu\")\n",
    "    \n",
    "            # Forward pass through the model\n",
    "            pred, hidden, memory = self(input_tensor, hidden, memory)\n",
    "\n",
    "            # Calculate the loss\n",
    "            loss = self._loss_func(pred[:, -1, :], labels)\n",
    "        \n",
    "            # Backpropagation and optimization\n",
    "            self._optimizer.zero_grad()\n",
    "            loss.backward()\n",
    "            self._optimizer.step()\n",
    "    \n",
    "            # Append training loss to logger\n",
    "            # training_loss_logger.append(loss.item())\n",
    "    \n",
    "            # Calculate training accuracy\n",
    "            train_acc += (pred[:, -1, :].argmax(1) == labels).sum()\n",
    "        print(f\"acc : {train_acc/len(labels):.3f} = {train_acc}/{len(labels)} for epoch {epoch}\")\n",
    "\n",
    "    def predict(self, sequence):\n",
    "        # Construct the context sequence\n",
    "        sequence = torch.tensor(sequence, dtype=torch.int)\n",
    "\n",
    "        h = torch.zeros(self.num_layers, sequence.shape[0], self.hidden_size, device=\"cpu\")\n",
    "        cell = torch.zeros(self.num_layers, sequence.shape[0], self.hidden_size, device=\"cpu\")\n",
    "        \n",
    "        with torch.no_grad():  # Pas de calcul de gradients en mode prédiction\n",
    "            logits, _, _ = self(sequence, h, cell)\n",
    "        ## probabilities = nn.functional.softmax(logits[0, -1, :], dim=0).tolist()\n",
    "        # Compute the probability of each outcome for each action\n",
    "        pairwise_logits = logits[0, -1, :].reshape(-1, 2)\n",
    "        probabilities = nn.functional.softmax(pairwise_logits, dim=1).flatten().tolist()\n",
    "        # print(\"probabilities\", probabilities)\n",
    "        return probabilities\n",
    "    "
   ]
  },
  {
   "cell_type": "markdown",
   "id": "f7c09ae4-2781-4b91-9a87-9ef7b73b8b83",
   "metadata": {},
   "source": [
    "# Définisson l'agent"
   ]
  },
  {
   "cell_type": "code",
   "execution_count": 698,
   "id": "f804222b-c3e5-4228-9ba0-ce6fc57b5d4c",
   "metadata": {},
   "outputs": [],
   "source": [
    "import torch.optim as optim\n",
    "import pandas as pd\n",
    "\n",
    "class Agent:\n",
    "    \"\"\"Creating our agent\"\"\"\n",
    "    def __init__(self, _interactions):\n",
    "        \"\"\" Initialize the dictionary of interactions\"\"\"\n",
    "        # Initialise le réseau de neurone\n",
    "        self._model = LSTM()\n",
    "        \n",
    "        self._interactions = {interaction.key(): interaction for interaction in _interactions}\n",
    "        self._intended_interaction = list(self._interactions.values())[0]\n",
    "        self._last_interaction = None\n",
    "        self._previous_interaction = None\n",
    "        self._penultimate_interaction = None\n",
    "        # Le dataframe pour mémoriser les séquences d'interactions\n",
    "        self.sequences_df = pd.DataFrame({\n",
    "            'i1': pd.Series(dtype='int'),\n",
    "            'i2': pd.Series(dtype='int'),\n",
    "            'i3': pd.Series(dtype='int'),\n",
    "            'action': pd.Series(dtype='int'),\n",
    "            'valence': pd.Series(dtype='int'),\n",
    "            'count': pd.Series(dtype='int'),\n",
    "            'proclivity': pd.Series(dtype='int'),\n",
    "        })\n",
    "    \n",
    "    def action(self, _outcome):\n",
    "        \"\"\" Tracing the previous cycle \"\"\"\n",
    "        self._penultimate_interaction = self._previous_interaction \n",
    "        self._previous_interaction = self._last_interaction\n",
    "        self._last_interaction = self._interactions[self._intended_interaction.action * BASE_ACTION + _outcome ]\n",
    "        print(f\"Action: {self._intended_interaction.action}, Prediction: {self._intended_interaction.outcome}, \"\n",
    "              f\"Outcome: {_outcome}, Prediction_correct: {self._intended_interaction.outcome == _outcome}, \"\n",
    "              f\"Valence: {self._last_interaction.valence})\")\n",
    "\n",
    "        \"\"\" Computing the next interaction to try to enact \"\"\"\n",
    "        # Enregistre les séquences dans sequences_df et entraine le LSTM\n",
    "        self.learn()       \n",
    "\n",
    "        # Prédit les probabilités des prochaines interactions\n",
    "        expected_df = self.create_expected_df(self._previous_interaction, self._last_interaction)\n",
    "\n",
    "        self.add_next_intention(self._last_interaction, expected_df)\n",
    "        print(expected_df)\n",
    "\n",
    "        # Sélectionne l'intended interaction\n",
    "        self._intended_interaction = self.decide(expected_df)        \n",
    "\n",
    "        # Return the action\n",
    "        return self._intended_interaction.action\n",
    "\n",
    "    def learn(self):\n",
    "        \"\"\"Record sequences\"\"\"\n",
    "        if self._previous_interaction is not None and self._last_interaction is not None and self._penultimate_interaction is not None:\n",
    "            # Record or increment the last sequence\n",
    "            condition = ((self.sequences_df['i1'] == self._penultimate_interaction.key()) & \n",
    "                        (self.sequences_df['i2'] == self._previous_interaction.key()) & \n",
    "                        (self.sequences_df['i3'] == self._last_interaction.key()))\n",
    "            if self.sequences_df[condition].empty:\n",
    "                new_sequence = pd.DataFrame({\n",
    "                    'i1': [self._penultimate_interaction.key()], \n",
    "                    'i2': [self._previous_interaction.key()], \n",
    "                    'i3': [self._last_interaction.key()], \n",
    "                    'action': [self._last_interaction.action], \n",
    "                    'valence': [self._last_interaction.valence],\n",
    "                    'count': [1], \n",
    "                    'proclivity': [0]\n",
    "                })\n",
    "                self.sequences_df = pd.concat([self.sequences_df, new_sequence], ignore_index=True)\n",
    "            else:\n",
    "                # On incrémente le compte (pas utilisé pour l'instant)\n",
    "                self.sequences_df.loc[condition, 'count'] += 1\n",
    "            # Entraine le réseau de neurone avec les séquences enregistrées dans sequences_df\n",
    "            sequence_keys = self.sequences_df[['i1', 'i2']].values.tolist()\n",
    "            x = [[self._interactions[s[0]].embedding(), self._interactions[s[1]].embedding()] for s in sequence_keys]\n",
    "            y = self.sequences_df['i3'].tolist()\n",
    "            self._model.fit(x, y)\n",
    "\n",
    "    def create_expected_df(self, previous_interaction, last_interaction):\n",
    "        \"\"\"Create the dataframe of expected valence per interaction\"\"\"\n",
    "        if previous_interaction is not None and last_interaction is not None:\n",
    "            probabilities = self._model.predict([[previous_interaction.embedding(), last_interaction.embedding()]])       \n",
    "        else: \n",
    "            probabilities = [0.5] * len(self._interactions) # Assume all interactions are equiprobable\n",
    "        # Le dataframe qui donne les expected valence pour chaque interaction\n",
    "        expected_df = pd.DataFrame({\n",
    "            'interaction': [i.key() for i in self._interactions.values()],\n",
    "            'action': [i.action for i in self._interactions.values()],\n",
    "            'outcome': [i.outcome for i in self._interactions.values()],\n",
    "            'valence': [i.valence for i in self._interactions.values()],\n",
    "            'probability': probabilities})\n",
    "        expected_df['expected_valence'] = expected_df['valence'] * expected_df['probability']\n",
    "        return expected_df\n",
    "\n",
    "    def add_next_intention(self, last_interaction, expected_df):\n",
    "        \"\"\"Add the next best action and expected valence\"\"\"\n",
    "        if last_interaction is not None:\n",
    "            expected_df['next_action'] =  np.zeros(len(self._interactions), dtype='int')\n",
    "            expected_df['next_expected_valence'] = pd.Series(dtype='float')\n",
    "            for row in expected_df.itertuples(index=True):\n",
    "                # Crée un expected_df2 sur la base de last_action et de chaque interaction anticipée\n",
    "                expected_df2 = self.create_expected_df(last_interaction, self._interactions[row.interaction])\n",
    "                expected_df2 = expected_df2.groupby('action').agg({'expected_valence': 'sum'}).reset_index()\n",
    "                # Ajoute la meilleure action suivante et son expected_valence dans expected_df\n",
    "                idxmax = expected_df2['expected_valence'].idxmax()\n",
    "                expected_df.loc[row.Index, 'next_action'] = expected_df2['action'].iloc[idxmax]\n",
    "                expected_df.loc[row.Index, 'next_expected_valence'] = expected_df2['expected_valence'].iloc[idxmax]\n",
    "    \n",
    "    def decide(self, expected_df):\n",
    "        \"\"\"Decide the intended interaction based on the dataframe of expected valences\"\"\"\n",
    "        # On aggrege par action en sommant l'expected valence\n",
    "        action_expectation_df = expected_df.groupby('action').agg({'expected_valence': 'sum'}).reset_index()\n",
    "        # On trie les actions par expected valence décroissante\n",
    "        action_expectation_df = action_expectation_df.sort_values(by=['expected_valence'], ascending=[False]).reset_index(drop=True)\n",
    "        print(action_expectation_df)\n",
    "\n",
    "        # Si la plus grande expected valence est négative\n",
    "        if action_expectation_df.loc[0, 'expected_valence'] < 0:\n",
    "            # On cherche une interaction qui mène à une next_expected valence elevée\n",
    "            next_expected_df = expected_df[(expected_df['probability'] > 0.8) & (expected_df['next_expected_valence'] > 0.8)]\n",
    "            if not next_expected_df.empty:\n",
    "                intended_interaction = next_expected_df['interaction'].iloc[0]\n",
    "                print(f\"Intend interaction {intended_interaction} because anticipation\")\n",
    "                return self._interactions[intended_interaction]\n",
    "        \n",
    "        # On sélectionne l'action qui a l'expected valence la plus élevée \n",
    "        intended_action = action_expectation_df.loc[0, 'action']\n",
    "        # Trouve l'outcome le plus probable pour l'action sélectionnée\n",
    "        outcome_df = expected_df[expected_df['action'] == intended_action]\n",
    "        intended_outcome = outcome_df.loc[outcome_df['probability'].idxmax(), 'outcome']\n",
    "        # On construit l'intended interaction \n",
    "        return self._interactions[intended_action * BASE_ACTION + intended_outcome]\n"
   ]
  },
  {
   "cell_type": "markdown",
   "id": "a07b3f5c-f48c-45ad-bf1d-4a703bac64af",
   "metadata": {},
   "source": [
    "# Testons l'agent dans Environment6"
   ]
  },
  {
   "cell_type": "code",
   "execution_count": 700,
   "id": "27ea6056-d93d-4790-a53c-4cbc90861135",
   "metadata": {},
   "outputs": [],
   "source": [
    "torch.manual_seed(0)\n",
    "\n",
    "interactions = [\n",
    "    Interaction(ACTION0,OUTCOME0,-1),\n",
    "    Interaction(ACTION0,OUTCOME1,1),\n",
    "    Interaction(ACTION1,OUTCOME0,-1),\n",
    "    Interaction(ACTION1,OUTCOME1,1),\n",
    "]\n",
    "\n",
    "a = Agent(interactions)\n",
    "e = Environment6()\n",
    "\n",
    "# Output widget for displaying the plot\n",
    "out = Output()\n",
    "\n",
    "# Run the interaction loop\n",
    "step = 0\n",
    "outcome = 0"
   ]
  },
  {
   "cell_type": "code",
   "execution_count": 795,
   "id": "120667c5-b435-4149-a6b2-7f86b56f9bc7",
   "metadata": {},
   "outputs": [
    {
     "name": "stdout",
     "output_type": "stream",
     "text": [
      "Step 94\n"
     ]
    },
    {
     "data": {
      "application/vnd.jupyter.widget-view+json": {
       "model_id": "c96ac48c594c488fbd7bbb7df893d650",
       "version_major": 2,
       "version_minor": 0
      },
      "text/plain": [
       "Output(outputs=({'output_type': 'display_data', 'data': {'text/plain': '<Figure size 640x480 with 1 Axes>', 'i…"
      ]
     },
     "metadata": {},
     "output_type": "display_data"
    },
    {
     "name": "stdout",
     "output_type": "stream",
     "text": [
      "Action: 1, Prediction: 1, Outcome: 1, Prediction_correct: True, Valence: 1)\n",
      "acc : 0.556 = 10/18 for epoch 19\n",
      "   interaction  action  outcome  valence  probability  expected_valence  \\\n",
      "0            0       0        0       -1     0.999924         -0.999924   \n",
      "1            1       0        1        1     0.000076          0.000076   \n",
      "2            2       1        0       -1     0.999938         -0.999938   \n",
      "3            3       1        1        1     0.000062          0.000062   \n",
      "\n",
      "   next_action  next_expected_valence  \n",
      "0            0               0.998556  \n",
      "1            0               0.960102  \n",
      "2            0              -0.970976  \n",
      "3            0              -0.998560  \n",
      "   action  expected_valence\n",
      "0       0         -0.999848\n",
      "1       1         -0.999875\n"
     ]
    }
   ],
   "source": [
    "print(f\"Step {step}\")\n",
    "step += 1\n",
    "e.display()\n",
    "display(out)\n",
    "action = a.action(outcome)\n",
    "outcome = e.outcome(action)\n",
    "# a.sequences_df"
   ]
  },
  {
   "cell_type": "markdown",
   "id": "34348862-b266-4517-abce-0f7d31062508",
   "metadata": {},
   "source": [
    "A partir du Step 32, le mécanisme de décision se base sur la next_expecte_valence."
   ]
  },
  {
   "cell_type": "code",
   "execution_count": null,
   "id": "8ae66437-afb3-472d-b046-1a498e6dee84",
   "metadata": {},
   "outputs": [],
   "source": []
  }
 ],
 "metadata": {
  "kernelspec": {
   "display_name": "Python 3 (ipykernel)",
   "language": "python",
   "name": "python3"
  },
  "language_info": {
   "codemirror_mode": {
    "name": "ipython",
    "version": 3
   },
   "file_extension": ".py",
   "mimetype": "text/x-python",
   "name": "python",
   "nbconvert_exporter": "python",
   "pygments_lexer": "ipython3",
   "version": "3.9.5"
  }
 },
 "nbformat": 4,
 "nbformat_minor": 5
}
